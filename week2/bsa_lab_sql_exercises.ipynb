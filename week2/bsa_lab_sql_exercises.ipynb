{
  "nbformat": 4,
  "nbformat_minor": 0,
  "metadata": {
    "kernelspec": {
      "display_name": "Python 3",
      "language": "python",
      "name": "python3"
    },
    "language_info": {
      "codemirror_mode": {
        "name": "ipython",
        "version": 3
      },
      "file_extension": ".py",
      "mimetype": "text/x-python",
      "name": "python",
      "nbconvert_exporter": "python",
      "pygments_lexer": "ipython3",
      "version": "3.6.7"
    },
    "colab": {
      "name": "bsa_lab_week_2_exercises.ipynb",
      "provenance": [],
      "collapsed_sections": [
        "as0Jh2YK8WTF",
        "v1dXQKXu8WTv",
        "sWTpFjoG8WUy",
        "t5oNolyg8WVB"
      ]
    }
  },
  "cells": [
    {
      "cell_type": "markdown",
      "metadata": {
        "id": "view-in-github"
      },
      "source": [
        "<a href=\"https://colab.research.google.com/github/michalis0/BigScaleAnalytics/blob/master/week2/bsa_lab_week_2_exercises.ipynb\" target=\"_parent\"><img src=\"https://colab.research.google.com/assets/colab-badge.svg\" alt=\"Open In Colab\"/></a>"
      ]
    },
    {
      "cell_type": "markdown",
      "metadata": {
        "id": "Ow3xcCbn8WSO"
      },
      "source": [
        "# BSA Lab Week 2 - SQL in Python"
      ]
    },
    {
      "cell_type": "markdown",
      "metadata": {
        "id": "9dC2Lz6Ei3YG"
      },
      "source": [
        "There is an iPython extension that allows us to use SQL from a notebook by means of so-called \"magic\" commands (%...). You can choose from several SQL engines (PostgreSQL, MySQL, etc.). For these exercises, we will use SQLite. Rather than a full-fledged client-server database engine, SQLite can be embedded onto any program."
      ]
    },
    {
      "cell_type": "code",
      "metadata": {
        "id": "swXpAOS-8WSS"
      },
      "source": [
        "%load_ext sql\n",
        "%sql sqlite://\n",
        "\n",
        "import pandas as pd"
      ],
      "execution_count": null,
      "outputs": []
    },
    {
      "cell_type": "markdown",
      "metadata": {
        "id": "H2Ea0LTO8WSe"
      },
      "source": [
        "## <font color = 'green'>World Cup Data</font>"
      ]
    },
    {
      "cell_type": "markdown",
      "metadata": {
        "id": "GzlvcSS1mydC"
      },
      "source": [
        "This dataset consists of two CSV files, `Players.csv` and `Teams.csv`, which have already been joined into a third one for your convenience (`PlayersExt.csv`). We are loading them directly from the GitHub repository, and then persisting the tables to our SQL database so that we can run SQL queries (as opposed to using pandas, for example)."
      ]
    },
    {
      "cell_type": "code",
      "metadata": {
        "id": "8xH-QufV8WSh"
      },
      "source": [
        "# Load Players\n",
        "players_url = \"https://raw.githubusercontent.com/michalis0/BigScaleAnalytics/master/week2/data/Players.csv\"\n",
        "Players = pd.read_csv(players_url, index_col=0, encoding=\"utf-8\")\n",
        "%sql drop table if exists Players;\n",
        "%sql persist Players\n",
        "\n",
        "# Load Teams\n",
        "teams_url = \"https://raw.githubusercontent.com/michalis0/BigScaleAnalytics/master/week2/data/Teams.csv\"\n",
        "Teams = pd.read_csv(teams_url, index_col=0, encoding=\"utf-8\")\n",
        "%sql drop table if exists Teams;\n",
        "%sql persist Teams\n",
        "\n",
        "# Load joined tables\n",
        "playersext_url = \"https://raw.githubusercontent.com/michalis0/BigScaleAnalytics/master/week2/data/PlayersExt.csv\"\n",
        "PlayersExt = pd.read_csv(playersext_url, index_col=0, encoding=\"utf-8\")\n",
        "%sql drop table if exists PlayersExt;\n",
        "%sql persist PlayersExt"
      ],
      "execution_count": null,
      "outputs": []
    },
    {
      "cell_type": "markdown",
      "metadata": {
        "id": "meZCn5os8WSu"
      },
      "source": [
        "### Preview\r\n",
        "\r\n",
        "Let's run our first SQL queries in order to see what the table attributes and values look like. Here are a couple of things to note about the queries:\r\n",
        "\r\n",
        "* As you can see, any text following the `%%sql` command is interpreted as query language.\r\n",
        "* For the SQL keywords (SELECT, FROM, GROUP BY, etc.), it doesn't matter whether you use lowercase or uppercase.\r\n",
        "* When you need to use quotes, both single quotes (' ') and double quotes (\" \") can be used.\r\n",
        "* You can also spread your statements across several lines for better readability."
      ]
    },
    {
      "cell_type": "code",
      "metadata": {
        "id": "meh70hNH8WSx"
      },
      "source": [
        "%%sql\n",
        "SELECT * FROM Players LIMIT 5"
      ],
      "execution_count": null,
      "outputs": []
    },
    {
      "cell_type": "code",
      "metadata": {
        "id": "flnoKz4U8WS6"
      },
      "source": [
        "%%sql\n",
        "select * from Teams limit 5"
      ],
      "execution_count": null,
      "outputs": []
    },
    {
      "cell_type": "code",
      "metadata": {
        "id": "YgN5Fr2w8WTA"
      },
      "source": [
        "%%sql\n",
        "select *\n",
        "from PlayersExt\n",
        "limit 5"
      ],
      "execution_count": null,
      "outputs": []
    },
    {
      "cell_type": "markdown",
      "metadata": {
        "id": "as0Jh2YK8WTF"
      },
      "source": [
        "### Basic Queries\r\n",
        "\r\n",
        "The first two questions are already solved for you, so that you have concrete examples of queries. Try to solve the remaining four!"
      ]
    },
    {
      "cell_type": "markdown",
      "metadata": {
        "collapsed": true,
        "id": "C4zdhp2c8WTG"
      },
      "source": [
        "*1)  Which player on a team ending with \"ia\" played less than 200 minutes and made more than 100 passes? Return the player's surname and team.*\n",
        "\n",
        "**Hint**: To check if attribute A contains a (sub)string S, use the LIKE keyword (e.g. `A like '%S%'`). The % sign indicates a wildcard."
      ]
    },
    {
      "cell_type": "code",
      "metadata": {
        "id": "6K_kIn3b8WTK"
      },
      "source": [
        "%%sql\n",
        "select surname, team\n",
        "from Players\n",
        "where Players.team like '%ia'\n",
        "  and Players.minutes < 200 \n",
        "  and Players.passes > 100"
      ],
      "execution_count": null,
      "outputs": []
    },
    {
      "cell_type": "markdown",
      "metadata": {
        "collapsed": true,
        "id": "4gNjdG4H8WTR"
      },
      "source": [
        "*2) Find all players who made more than 20 shots. Return all player information in descending order of shots made.*\n",
        "\n",
        "**Hint**: Sorting results is done via the ORDER BY keyword. The default order is ascending (ASC). If you want descending order, use DESC (e.g. `ORDER BY column_1, column_2 DESC`)."
      ]
    },
    {
      "cell_type": "code",
      "metadata": {
        "id": "wmYeLAw68WTU"
      },
      "source": [
        "%%sql\n",
        "select *\n",
        "from Players\n",
        "where shots > 20\n",
        "order by shots desc"
      ],
      "execution_count": null,
      "outputs": []
    },
    {
      "cell_type": "markdown",
      "metadata": {
        "collapsed": true,
        "id": "aLralf658WTb"
      },
      "source": [
        "*3) Find the goalkeepers of teams that played more than four games. List the surname of the goalkeeper, the team, and the number of minutes the goalkeeper played.*\n",
        "\n",
        "**Hint**: Use the `PlayersExt` table."
      ]
    },
    {
      "cell_type": "code",
      "metadata": {
        "id": "AMRLCwdh8WTc"
      },
      "source": [
        "%%sql\n",
        "YOUR QUERY HERE"
      ],
      "execution_count": null,
      "outputs": []
    },
    {
      "cell_type": "markdown",
      "metadata": {
        "collapsed": true,
        "id": "vRT0J7sY8WTh"
      },
      "source": [
        "*4) How many players on a team with a ranking lower than 10 played more than 350 minutes? Return a single number in a column named \"superstar\".*\n",
        "\n",
        "**Hint**: To rename a column, use the AS keyword (e.g. `SELECT column_1 AS label`)."
      ]
    },
    {
      "cell_type": "code",
      "metadata": {
        "id": "hSseV7oi8WTi"
      },
      "source": [
        "%%sql\n",
        "YOUR QUERY HERE"
      ],
      "execution_count": null,
      "outputs": []
    },
    {
      "cell_type": "markdown",
      "metadata": {
        "collapsed": true,
        "id": "DZlTul358WTl"
      },
      "source": [
        "*5) What is the average number of passes made by forwards? What about midfielders? Write one query that returns both values with the corresponding position.*\n",
        "\n",
        "**Hint**: Use the GROUP BY keyword. GROUP BY statements are often used in conjuction with aggregate functions like AVG(), SUM() or COUNT(). "
      ]
    },
    {
      "cell_type": "code",
      "metadata": {
        "id": "76mZ7BVJ8WTm"
      },
      "source": [
        "%%sql\n",
        "YOUR QUERY HERE"
      ],
      "execution_count": null,
      "outputs": []
    },
    {
      "cell_type": "markdown",
      "metadata": {
        "collapsed": true,
        "id": "pLjyR6wh8WTo"
      },
      "source": [
        "*6) Which team has the highest average number of passes per minute played? Return the team's name and average number of passes per minute.*\n",
        "\n",
        "**Hint #1**: You can compute a team's average number of passes per minute played by dividing the total number of passes by the total number of minutes. To force floating point division, multiply one operand by 1.0.\n",
        "\n",
        "**Hint #2**: Consider using the LIMIT keyword."
      ]
    },
    {
      "cell_type": "code",
      "metadata": {
        "id": "7ApyOn9N8WTq"
      },
      "source": [
        "%%sql\n",
        "YOUR QUERY HERE"
      ],
      "execution_count": null,
      "outputs": []
    },
    {
      "cell_type": "markdown",
      "metadata": {
        "id": "v1dXQKXu8WTv"
      },
      "source": [
        "### Advanced Queries\r\n",
        "\r\n",
        "Now, on to more challenging questions..."
      ]
    },
    {
      "cell_type": "markdown",
      "metadata": {
        "id": "js1aBftZ8WTy"
      },
      "source": [
        "*1) Find all pairs of teams that have the same number of `goalsFor` as well as the same number of `goalsAgainst` as each other. Return the team pairs and their respective numbers of `goalsFor` and `goalsAgainst` (make sure to return each pair only once!).*\n",
        "\n",
        "**Hint**: You basically need to do a \"self join\" of the `Teams` table. For that, you need to join different name aliases of the same table. Check [this page](https://www.w3schools.com/sql/sql_join_self.asp) for help."
      ]
    },
    {
      "cell_type": "code",
      "metadata": {
        "id": "LzpO1c3V8WTz"
      },
      "source": [
        "%%sql\n",
        "YOUR QUERY HERE"
      ],
      "execution_count": null,
      "outputs": []
    },
    {
      "cell_type": "markdown",
      "metadata": {
        "id": "g9QX2Jie8WT4"
      },
      "source": [
        "*2) Find all teams with a ranking below 30 where no player has made more than 150 passes. Return the team's name and ranking.*\n",
        "\n",
        "**Hint #1**: Consider using the HAVING keyword.\n",
        "\n",
        "**Hint #2**: You may also want to look up nested queries."
      ]
    },
    {
      "cell_type": "code",
      "metadata": {
        "id": "xPOBexhd8WT4"
      },
      "source": [
        "%%sql\n",
        "YOUR QUERY HERE"
      ],
      "execution_count": null,
      "outputs": []
    },
    {
      "cell_type": "markdown",
      "metadata": {
        "id": "NbJzKIm98WT7"
      },
      "source": [
        "*3) Which team has the highest ratio of goalsFor to goalsAgainst?*"
      ]
    },
    {
      "cell_type": "code",
      "metadata": {
        "id": "Bi2SUQgM8WT8"
      },
      "source": [
        "%%sql\n",
        "YOUR QUERY HERE"
      ],
      "execution_count": null,
      "outputs": []
    },
    {
      "cell_type": "markdown",
      "metadata": {
        "id": "u_7fplnQ8WT-"
      },
      "source": [
        "*4) Find all teams whose defenders averaged more than 150 passes. Return the team and average number of passes by defenders, in descending order of average passes.*"
      ]
    },
    {
      "cell_type": "code",
      "metadata": {
        "id": "qOapic7E8WT_"
      },
      "source": [
        "%%sql\n",
        "YOUR QUERY HERE"
      ],
      "execution_count": null,
      "outputs": []
    },
    {
      "cell_type": "markdown",
      "metadata": {
        "id": "QWbQ8phy8WUD"
      },
      "source": [
        "## <font color = 'green' italicized text>Titanic Data</font>"
      ]
    },
    {
      "cell_type": "markdown",
      "metadata": {
        "id": "8BLWKSyM2BGf"
      },
      "source": [
        "This dataset contains the list of passengers who were on board the Titanic.\r\n",
        "\r\n",
        "Personal information such as their name, gender and age is shown. We can also see information about their journey (which class they were travelling in, how much they paid, etc.), and whether they survived or not.\r\n",
        "\r\n",
        "Feel free to do these exercises on your own time in order to prepare for part 1 of the personal assignment."
      ]
    },
    {
      "cell_type": "code",
      "metadata": {
        "id": "Fef539uG8WUE"
      },
      "source": [
        "# Load table from CSV file\n",
        "titanic_url = \"https://raw.githubusercontent.com/michalis0/BigScaleAnalytics/master/week2/data/Titanic.csv\"\n",
        "Titanic = pd.read_csv(titanic_url, index_col=0, encoding=\"utf-8\")\n",
        "%sql drop table if exists Titanic;\n",
        "%sql persist Titanic"
      ],
      "execution_count": null,
      "outputs": []
    },
    {
      "cell_type": "markdown",
      "metadata": {
        "id": "tbJ2MgXT8WUG"
      },
      "source": [
        "### Preview"
      ]
    },
    {
      "cell_type": "code",
      "metadata": {
        "id": "GpCKkNZR8WUH"
      },
      "source": [
        "%%sql\n",
        "select * from Titanic limit 5"
      ],
      "execution_count": null,
      "outputs": []
    },
    {
      "cell_type": "markdown",
      "metadata": {
        "id": "i1uXCjq68WUJ"
      },
      "source": [
        "### Basic Queries"
      ]
    },
    {
      "cell_type": "markdown",
      "metadata": {
        "collapsed": true,
        "id": "OZxzuzCw8WUK"
      },
      "source": [
        "*1) How many married women over age 50 embarked in Cherbourg?*\r\n",
        "\r\n",
        "**Hint**: You will need to use wildcards."
      ]
    },
    {
      "cell_type": "code",
      "metadata": {
        "id": "YkqQht348WUL"
      },
      "source": [
        "%%sql\n",
        "YOUR QUERY HERE"
      ],
      "execution_count": null,
      "outputs": []
    },
    {
      "cell_type": "markdown",
      "metadata": {
        "collapsed": true,
        "id": "uSB3G2dg8WUQ"
      },
      "source": [
        "*2) List the average fare paid by passengers in each of the embarkation cities (along with the city), in descending order of average fare.*"
      ]
    },
    {
      "cell_type": "code",
      "metadata": {
        "id": "31-xalVn8WUR"
      },
      "source": [
        "%%sql\n",
        "YOUR QUERY HERE"
      ],
      "execution_count": null,
      "outputs": []
    },
    {
      "cell_type": "markdown",
      "metadata": {
        "collapsed": true,
        "id": "rEL4ECjg8WUV"
      },
      "source": [
        "*3) What is the most common last name among passengers?*"
      ]
    },
    {
      "cell_type": "code",
      "metadata": {
        "id": "T4r9akbA8WUX"
      },
      "source": [
        "%%sql\n",
        "YOUR QUERY HERE"
      ],
      "execution_count": null,
      "outputs": []
    },
    {
      "cell_type": "markdown",
      "metadata": {
        "collapsed": true,
        "id": "OqIfsDiu8WUa"
      },
      "source": [
        "*4) Write 3 queries:*\r\n",
        "\r\n",
        "* *Total number of passengers*\r\n",
        "* *Number of passengers under 30*\r\n",
        "* *Number of passengers 30 or older*\r\n",
        "\r\n",
        "*Why do the second and third numbers not add up to the first?*"
      ]
    },
    {
      "cell_type": "code",
      "metadata": {
        "id": "mc-KOeLo8WUb"
      },
      "source": [
        "%%sql\n",
        "YOUR QUERY HERE"
      ],
      "execution_count": null,
      "outputs": []
    },
    {
      "cell_type": "code",
      "metadata": {
        "id": "n_UtmFrl8WUe"
      },
      "source": [
        "%%sql\n",
        "YOUR QUERY HERE"
      ],
      "execution_count": null,
      "outputs": []
    },
    {
      "cell_type": "code",
      "metadata": {
        "id": "1SUbq9q98WUj"
      },
      "source": [
        "%%sql\n",
        "YOUR QUERY HERE"
      ],
      "execution_count": null,
      "outputs": []
    },
    {
      "cell_type": "markdown",
      "metadata": {
        "collapsed": true,
        "id": "oGoJIsqS8WUm"
      },
      "source": [
        "Blanks in SQL tables are given a special value `null`, and conditions like `A is null` and `A is not null` can be used in WHERE statements to check whether attribute A contains blank values or not. "
      ]
    },
    {
      "cell_type": "markdown",
      "metadata": {
        "id": "ZjyG3fkhBxFW"
      },
      "source": [
        "*5) How many passengers don't have a value for age? Now do your numbers add up?*"
      ]
    },
    {
      "cell_type": "code",
      "metadata": {
        "id": "yvK_LOoJ8WUm"
      },
      "source": [
        "%%sql\n",
        "YOUR QUERY HERE"
      ],
      "execution_count": null,
      "outputs": []
    },
    {
      "cell_type": "markdown",
      "metadata": {
        "collapsed": true,
        "id": "-Xj20xpl8WUq"
      },
      "source": [
        "*6) How many passengers were in each of the following categories, and what was their average fare paid?*\r\n",
        "\r\n",
        "* *Male survivors*\r\n",
        "* *Female survivors*\r\n",
        "* *Male non-survivors*\r\n",
        "* *Female non-survivors*"
      ]
    },
    {
      "cell_type": "code",
      "metadata": {
        "id": "mUnjnnH28WUt"
      },
      "source": [
        "%%sql\n",
        "YOUR QUERY HERE"
      ],
      "execution_count": null,
      "outputs": []
    },
    {
      "cell_type": "markdown",
      "metadata": {
        "id": "sWTpFjoG8WUy"
      },
      "source": [
        "### Advanced Queries"
      ]
    },
    {
      "cell_type": "markdown",
      "metadata": {
        "id": "ND9eL-2M8WUz"
      },
      "source": [
        "*1) Are there any pairs of passengers with the same last name where one is in first class and the other is in third class?*\r\n",
        "\r\n",
        "*If so, return the last name and each person's first name. Label the first name column as \"first\" for the passenger in first class, and \"third\" for the passenger in third class.*"
      ]
    },
    {
      "cell_type": "code",
      "metadata": {
        "id": "5xp2zfy-8WU0"
      },
      "source": [
        "%%sql\n",
        "YOUR QUERY HERE"
      ],
      "execution_count": null,
      "outputs": []
    },
    {
      "cell_type": "markdown",
      "metadata": {
        "id": "08oP8DlB8WU3"
      },
      "source": [
        "*2) Which embarkation cities have more than 40 passengers whose age is missing?*"
      ]
    },
    {
      "cell_type": "code",
      "metadata": {
        "id": "8THmi4gQ8WU4"
      },
      "source": [
        "%%sql\n",
        "YOUR QUERY HERE"
      ],
      "execution_count": null,
      "outputs": []
    },
    {
      "cell_type": "markdown",
      "metadata": {
        "id": "d4tQhkGW8WU7"
      },
      "source": [
        "*3) Find all classes where the average fare paid by passengers in that class was more than twice the overall average or less than half the overall average.*"
      ]
    },
    {
      "cell_type": "code",
      "metadata": {
        "id": "iY4YeOXf8WU7"
      },
      "source": [
        "%%sql\n",
        "YOUR QUERY HERE"
      ],
      "execution_count": null,
      "outputs": []
    },
    {
      "cell_type": "markdown",
      "metadata": {
        "id": "PeGyTGge8WU-"
      },
      "source": [
        "*4) EXTRA DIFFICULT CHALLENGE: List each class and its survival rate, i.e., the fraction of passengers in that class who survived.*"
      ]
    },
    {
      "cell_type": "code",
      "metadata": {
        "id": "24S9LzVw8WU-"
      },
      "source": [
        "%%sql\n",
        "YOUR QUERY HERE"
      ],
      "execution_count": null,
      "outputs": []
    },
    {
      "cell_type": "markdown",
      "metadata": {
        "id": "t5oNolyg8WVB"
      },
      "source": [
        "### Titanic Data Modification\r\n",
        "\r\n",
        "Here again, we are giving you the solution for the first two questions to get you acquainted with the modification syntax.\r\n",
        "\r\n",
        "Note: You may want to reload the CSV frequently to reset the data as you experiment with modifications."
      ]
    },
    {
      "cell_type": "code",
      "metadata": {
        "id": "EjnhXy1k8WVB"
      },
      "source": [
        "# Load table from CSV file\n",
        "titanic_url = \"https://raw.githubusercontent.com/michalis0/BigScaleAnalytics/master/week2/data/Titanic.csv\"\n",
        "Titanic = pd.read_csv(titanic_url, index_col=0, encoding=\"utf-8\")\n",
        "%sql drop table if exists Titanic;\n",
        "%sql persist Titanic"
      ],
      "execution_count": null,
      "outputs": []
    },
    {
      "cell_type": "markdown",
      "metadata": {
        "id": "L-loAKBy8WVE"
      },
      "source": [
        "*1) Subtract 5 from the fare paid by all passengers under the age of 10. Then compute the new average fare similar to question 2 in the previous section.*\n",
        "\n",
        "**Hint #1**: You can put two SQL statements in one cell separated by a semicolon.\n",
        "\n",
        "**Hint #2**: Use the UPDATE and SET keywords to modify a column (see [documentation](https://www.w3schools.com/sql/sql_update.asp))."
      ]
    },
    {
      "cell_type": "code",
      "metadata": {
        "id": "f_NL7NFl8WVF"
      },
      "source": [
        "%%sql\n",
        "update Titanic\n",
        "set fare = fare - 5\n",
        "where age < 10\n",
        ";\n",
        "select embarked, avg(fare) as avg_fare\n",
        "from Titanic\n",
        "group by embarked\n",
        "order by avg_fare desc"
      ],
      "execution_count": null,
      "outputs": []
    },
    {
      "cell_type": "markdown",
      "metadata": {
        "id": "O_nxrddE8WVI"
      },
      "source": [
        "*2) Create a new table called \"Survivors\" containing the first and last names of all passengers who survived. Then count the number of tuples in the new table.*\n",
        "\n",
        "**Hint**: Use the CREATE TABLE keyword."
      ]
    },
    {
      "cell_type": "code",
      "metadata": {
        "id": "zNquUcYX8WVK"
      },
      "source": [
        "%%sql\n",
        "drop table if exists Survivors\n",
        ";\n",
        "create table Survivors as\n",
        "select first, last\n",
        "from Titanic \n",
        "where survived = \"yes\"\n",
        ";\n",
        "select count(*) as count from Survivors"
      ],
      "execution_count": null,
      "outputs": []
    },
    {
      "cell_type": "markdown",
      "metadata": {
        "id": "9UNpd5NI8WVT"
      },
      "source": [
        "*3) In the Titanic table, delete all but the passengers who paid more than 300. Then count the number of tuples in the table.*\n",
        "\n",
        "**Hint**: Use the DELETE FROM keyword."
      ]
    },
    {
      "cell_type": "code",
      "metadata": {
        "id": "2cVPzxEY8WVV"
      },
      "source": [
        "%%sql\r\n",
        "YOUR QUERY HERE"
      ],
      "execution_count": null,
      "outputs": []
    },
    {
      "cell_type": "markdown",
      "metadata": {
        "id": "mNVJ03FM8WVY"
      },
      "source": [
        "*4) In what's left of the table after question 3, insert a new tuple for yourself. You can decide your class, fare, where you embarked, and whether you survived. Then show the whole table.*\n",
        "\n",
        "**Hint**: Use the INSERT INTO keyword."
      ]
    },
    {
      "cell_type": "code",
      "metadata": {
        "id": "REnGeB1r8WVZ"
      },
      "source": [
        "%%sql\r\n",
        "YOUR QUERY HERE"
      ],
      "execution_count": null,
      "outputs": []
    }
  ]
}
{
  "nbformat": 4,
  "nbformat_minor": 0,
  "metadata": {
    "kernelspec": {
      "display_name": "Python 3",
      "language": "python",
      "name": "python3"
    },
    "language_info": {
      "codemirror_mode": {
        "name": "ipython",
        "version": 3
      },
      "file_extension": ".py",
      "mimetype": "text/x-python",
      "name": "python",
      "nbconvert_exporter": "python",
      "pygments_lexer": "ipython3",
      "version": "3.6.7"
    },
    "colab": {
      "name": "bsa_lab_week_2_exercises.ipynb",
      "provenance": [],
      "collapsed_sections": [
        "as0Jh2YK8WTF",
        "v1dXQKXu8WTv",
        "sWTpFjoG8WUy",
        "t5oNolyg8WVB"
      ],
      "include_colab_link": true
    }
  },
  "cells": [
    {
      "cell_type": "markdown",
      "metadata": {
        "id": "view-in-github",
        "colab_type": "text"
      },
      "source": [
        "<a href=\"https://colab.research.google.com/github/michalis0/BigScaleAnalytics/blob/master/week2/bsa_lab_sql_exercises.ipynb\" target=\"_parent\"><img src=\"https://colab.research.google.com/assets/colab-badge.svg\" alt=\"Open In Colab\"/></a>"
      ]
    },
    {
      "cell_type": "markdown",
      "metadata": {
        "id": "Ow3xcCbn8WSO"
      },
      "source": [
        "# BSA Lab Week 2 - SQL in Python"
      ]
    },
    {
      "cell_type": "markdown",
      "metadata": {
        "id": "9dC2Lz6Ei3YG"
      },
      "source": [
        "There is an iPython extension that allows us to use SQL from a notebook by means of so-called \"magic\" commands (%...). You can choose from several SQL engines (PostgreSQL, MySQL, etc.). For these exercises, we will use SQLite. Rather than a full-fledged client-server database engine, SQLite can be embedded onto any program."
      ]
    },
    {
      "cell_type": "code",
      "metadata": {
        "id": "swXpAOS-8WSS",
        "outputId": "91f99f5f-8b74-4d92-f578-15ca7bf5472a",
        "colab": {
          "base_uri": "https://localhost:8080/"
        }
      },
      "source": [
        "%load_ext sql\n",
        "%sql sqlite://\n",
        "\n",
        "import pandas as pd"
      ],
      "execution_count": 28,
      "outputs": [
        {
          "output_type": "stream",
          "name": "stdout",
          "text": [
            "The sql extension is already loaded. To reload it, use:\n",
            "  %reload_ext sql\n"
          ]
        }
      ]
    },
    {
      "cell_type": "markdown",
      "metadata": {
        "id": "H2Ea0LTO8WSe"
      },
      "source": [
        "## <font color = 'green'>World Cup Data</font>"
      ]
    },
    {
      "cell_type": "markdown",
      "metadata": {
        "id": "GzlvcSS1mydC"
      },
      "source": [
        "This dataset consists of two CSV files, `Players.csv` and `Teams.csv`, which have already been joined into a third one for your convenience (`PlayersExt.csv`). We are loading them directly from the GitHub repository, and then persisting the tables to our SQL database so that we can run SQL queries (as opposed to using pandas, for example)."
      ]
    },
    {
      "cell_type": "code",
      "metadata": {
        "id": "8xH-QufV8WSh",
        "outputId": "2e68e47e-4c23-40e7-8df3-ac805169147f",
        "colab": {
          "base_uri": "https://localhost:8080/",
          "height": 203
        }
      },
      "source": [
        "# Load Players\n",
        "players_url = \"https://raw.githubusercontent.com/michalis0/BigScaleAnalytics/master/week2/data/Players.csv\"\n",
        "Players = pd.read_csv(players_url, index_col=0, encoding=\"utf-8\")\n",
        "%sql drop table if exists Players;\n",
        "%sql persist Players\n",
        "\n",
        "# Load Teams\n",
        "teams_url = \"https://raw.githubusercontent.com/michalis0/BigScaleAnalytics/master/week2/data/Teams.csv\"\n",
        "Teams = pd.read_csv(teams_url, index_col=0, encoding=\"utf-8\")\n",
        "%sql drop table if exists Teams;\n",
        "%sql persist Teams\n",
        "\n",
        "# Load joined tables\n",
        "playersext_url = \"https://raw.githubusercontent.com/michalis0/BigScaleAnalytics/master/week2/data/PlayersExt.csv\"\n",
        "PlayersExt = pd.read_csv(playersext_url, index_col=0, encoding=\"utf-8\")\n",
        "%sql drop table if exists PlayersExt;\n",
        "%sql persist PlayersExt"
      ],
      "execution_count": 29,
      "outputs": [
        {
          "output_type": "stream",
          "name": "stdout",
          "text": [
            " * sqlite://\n",
            "Done.\n",
            " * sqlite://\n",
            " * sqlite://\n",
            "Done.\n",
            " * sqlite://\n",
            " * sqlite://\n",
            "Done.\n",
            " * sqlite://\n"
          ]
        },
        {
          "output_type": "execute_result",
          "data": {
            "application/vnd.google.colaboratory.intrinsic+json": {
              "type": "string"
            },
            "text/plain": [
              "'Persisted playersext'"
            ]
          },
          "metadata": {},
          "execution_count": 29
        }
      ]
    },
    {
      "cell_type": "markdown",
      "metadata": {
        "id": "meZCn5os8WSu"
      },
      "source": [
        "### Preview\n",
        "\n",
        "Let's run our first SQL queries in order to see what the table attributes and values look like. Here are a couple of things to note about the queries:\n",
        "\n",
        "* As you can see, any text following the `%%sql` command is interpreted as query language.\n",
        "* For the SQL keywords (SELECT, FROM, GROUP BY, etc.), it doesn't matter whether you use lowercase or uppercase.\n",
        "* When you need to use quotes, both single quotes (' ') and double quotes (\" \") can be used.\n",
        "* You can also spread your statements across several lines for better readability."
      ]
    },
    {
      "cell_type": "code",
      "metadata": {
        "id": "meh70hNH8WSx",
        "outputId": "2bf88162-c843-41ee-bfc5-407ce2c52c1a",
        "colab": {
          "base_uri": "https://localhost:8080/",
          "height": 184
        }
      },
      "source": [
        "%%sql\n",
        "SELECT * FROM Players LIMIT 5"
      ],
      "execution_count": 30,
      "outputs": [
        {
          "output_type": "stream",
          "name": "stdout",
          "text": [
            " * sqlite://\n",
            "Done.\n"
          ]
        },
        {
          "output_type": "execute_result",
          "data": {
            "text/html": [
              "<table>\n",
              "    <thead>\n",
              "        <tr>\n",
              "            <th>surname</th>\n",
              "            <th>team</th>\n",
              "            <th>position</th>\n",
              "            <th>minutes</th>\n",
              "            <th>shots</th>\n",
              "            <th>passes</th>\n",
              "            <th>tackles</th>\n",
              "            <th>saves</th>\n",
              "        </tr>\n",
              "    </thead>\n",
              "    <tbody>\n",
              "        <tr>\n",
              "            <td>Abdoun</td>\n",
              "            <td>Algeria</td>\n",
              "            <td>midfielder</td>\n",
              "            <td>16</td>\n",
              "            <td>0</td>\n",
              "            <td>6</td>\n",
              "            <td>0</td>\n",
              "            <td>0</td>\n",
              "        </tr>\n",
              "        <tr>\n",
              "            <td>Belhadj</td>\n",
              "            <td>Algeria</td>\n",
              "            <td>defender</td>\n",
              "            <td>270</td>\n",
              "            <td>1</td>\n",
              "            <td>146</td>\n",
              "            <td>8</td>\n",
              "            <td>0</td>\n",
              "        </tr>\n",
              "        <tr>\n",
              "            <td>Boudebouz</td>\n",
              "            <td>Algeria</td>\n",
              "            <td>midfielder</td>\n",
              "            <td>74</td>\n",
              "            <td>3</td>\n",
              "            <td>28</td>\n",
              "            <td>1</td>\n",
              "            <td>0</td>\n",
              "        </tr>\n",
              "        <tr>\n",
              "            <td>Bougherra</td>\n",
              "            <td>Algeria</td>\n",
              "            <td>defender</td>\n",
              "            <td>270</td>\n",
              "            <td>1</td>\n",
              "            <td>89</td>\n",
              "            <td>11</td>\n",
              "            <td>0</td>\n",
              "        </tr>\n",
              "        <tr>\n",
              "            <td>Chaouchi</td>\n",
              "            <td>Algeria</td>\n",
              "            <td>goalkeeper</td>\n",
              "            <td>90</td>\n",
              "            <td>0</td>\n",
              "            <td>17</td>\n",
              "            <td>0</td>\n",
              "            <td>2</td>\n",
              "        </tr>\n",
              "    </tbody>\n",
              "</table>"
            ],
            "text/plain": [
              "[('Abdoun', 'Algeria', 'midfielder', 16, 0, 6, 0, 0),\n",
              " ('Belhadj', 'Algeria', 'defender', 270, 1, 146, 8, 0),\n",
              " ('Boudebouz', 'Algeria', 'midfielder', 74, 3, 28, 1, 0),\n",
              " ('Bougherra', 'Algeria', 'defender', 270, 1, 89, 11, 0),\n",
              " ('Chaouchi', 'Algeria', 'goalkeeper', 90, 0, 17, 0, 2)]"
            ]
          },
          "metadata": {},
          "execution_count": 30
        }
      ]
    },
    {
      "cell_type": "code",
      "metadata": {
        "id": "flnoKz4U8WS6",
        "outputId": "a1dfc3d5-8c2b-4be0-baca-32eff19931e6",
        "colab": {
          "base_uri": "https://localhost:8080/",
          "height": 184
        }
      },
      "source": [
        "%%sql\n",
        "select * from Teams limit 5"
      ],
      "execution_count": 31,
      "outputs": [
        {
          "output_type": "stream",
          "name": "stdout",
          "text": [
            " * sqlite://\n",
            "Done.\n"
          ]
        },
        {
          "output_type": "execute_result",
          "data": {
            "text/html": [
              "<table>\n",
              "    <thead>\n",
              "        <tr>\n",
              "            <th>team</th>\n",
              "            <th>ranking</th>\n",
              "            <th>games</th>\n",
              "            <th>wins</th>\n",
              "            <th>draws</th>\n",
              "            <th>losses</th>\n",
              "            <th>goalsFor</th>\n",
              "            <th>goalsAgainst</th>\n",
              "            <th>yellowCards</th>\n",
              "            <th>redCards</th>\n",
              "        </tr>\n",
              "    </thead>\n",
              "    <tbody>\n",
              "        <tr>\n",
              "            <td>Brazil</td>\n",
              "            <td>1</td>\n",
              "            <td>5</td>\n",
              "            <td>3</td>\n",
              "            <td>1</td>\n",
              "            <td>1</td>\n",
              "            <td>9</td>\n",
              "            <td>4</td>\n",
              "            <td>7</td>\n",
              "            <td>2</td>\n",
              "        </tr>\n",
              "        <tr>\n",
              "            <td>Spain</td>\n",
              "            <td>2</td>\n",
              "            <td>6</td>\n",
              "            <td>5</td>\n",
              "            <td>0</td>\n",
              "            <td>1</td>\n",
              "            <td>7</td>\n",
              "            <td>2</td>\n",
              "            <td>3</td>\n",
              "            <td>0</td>\n",
              "        </tr>\n",
              "        <tr>\n",
              "            <td>Portugal</td>\n",
              "            <td>3</td>\n",
              "            <td>4</td>\n",
              "            <td>1</td>\n",
              "            <td>2</td>\n",
              "            <td>1</td>\n",
              "            <td>7</td>\n",
              "            <td>1</td>\n",
              "            <td>8</td>\n",
              "            <td>1</td>\n",
              "        </tr>\n",
              "        <tr>\n",
              "            <td>Netherlands</td>\n",
              "            <td>4</td>\n",
              "            <td>6</td>\n",
              "            <td>6</td>\n",
              "            <td>0</td>\n",
              "            <td>0</td>\n",
              "            <td>12</td>\n",
              "            <td>5</td>\n",
              "            <td>15</td>\n",
              "            <td>0</td>\n",
              "        </tr>\n",
              "        <tr>\n",
              "            <td>Italy</td>\n",
              "            <td>5</td>\n",
              "            <td>3</td>\n",
              "            <td>0</td>\n",
              "            <td>2</td>\n",
              "            <td>1</td>\n",
              "            <td>4</td>\n",
              "            <td>5</td>\n",
              "            <td>5</td>\n",
              "            <td>0</td>\n",
              "        </tr>\n",
              "    </tbody>\n",
              "</table>"
            ],
            "text/plain": [
              "[('Brazil', 1, 5, 3, 1, 1, 9, 4, 7, 2),\n",
              " ('Spain', 2, 6, 5, 0, 1, 7, 2, 3, 0),\n",
              " ('Portugal', 3, 4, 1, 2, 1, 7, 1, 8, 1),\n",
              " ('Netherlands', 4, 6, 6, 0, 0, 12, 5, 15, 0),\n",
              " ('Italy', 5, 3, 0, 2, 1, 4, 5, 5, 0)]"
            ]
          },
          "metadata": {},
          "execution_count": 31
        }
      ]
    },
    {
      "cell_type": "code",
      "metadata": {
        "id": "YgN5Fr2w8WTA",
        "outputId": "0e2d5620-f844-4c33-8bec-28c4cb6aeeae",
        "colab": {
          "base_uri": "https://localhost:8080/",
          "height": 184
        }
      },
      "source": [
        "%%sql\n",
        "select *\n",
        "from PlayersExt\n",
        "limit 5"
      ],
      "execution_count": 32,
      "outputs": [
        {
          "output_type": "stream",
          "name": "stdout",
          "text": [
            " * sqlite://\n",
            "Done.\n"
          ]
        },
        {
          "output_type": "execute_result",
          "data": {
            "text/html": [
              "<table>\n",
              "    <thead>\n",
              "        <tr>\n",
              "            <th>surname</th>\n",
              "            <th>team</th>\n",
              "            <th>ranking</th>\n",
              "            <th>games</th>\n",
              "            <th>wins</th>\n",
              "            <th>draws</th>\n",
              "            <th>losses</th>\n",
              "            <th>goalsFor</th>\n",
              "            <th>goalsAgainst</th>\n",
              "            <th>yellowCards</th>\n",
              "            <th>redCards</th>\n",
              "            <th>position</th>\n",
              "            <th>minutes</th>\n",
              "            <th>shots</th>\n",
              "            <th>passes</th>\n",
              "            <th>tackles</th>\n",
              "            <th>saves</th>\n",
              "        </tr>\n",
              "    </thead>\n",
              "    <tbody>\n",
              "        <tr>\n",
              "            <td>Abdoun</td>\n",
              "            <td>Algeria</td>\n",
              "            <td>30</td>\n",
              "            <td>3</td>\n",
              "            <td>0</td>\n",
              "            <td>1</td>\n",
              "            <td>2</td>\n",
              "            <td>0</td>\n",
              "            <td>2</td>\n",
              "            <td>4</td>\n",
              "            <td>2</td>\n",
              "            <td>midfielder</td>\n",
              "            <td>16</td>\n",
              "            <td>0</td>\n",
              "            <td>6</td>\n",
              "            <td>0</td>\n",
              "            <td>0</td>\n",
              "        </tr>\n",
              "        <tr>\n",
              "            <td>Belhadj</td>\n",
              "            <td>Algeria</td>\n",
              "            <td>30</td>\n",
              "            <td>3</td>\n",
              "            <td>0</td>\n",
              "            <td>1</td>\n",
              "            <td>2</td>\n",
              "            <td>0</td>\n",
              "            <td>2</td>\n",
              "            <td>4</td>\n",
              "            <td>2</td>\n",
              "            <td>defender</td>\n",
              "            <td>270</td>\n",
              "            <td>1</td>\n",
              "            <td>146</td>\n",
              "            <td>8</td>\n",
              "            <td>0</td>\n",
              "        </tr>\n",
              "        <tr>\n",
              "            <td>Boudebouz</td>\n",
              "            <td>Algeria</td>\n",
              "            <td>30</td>\n",
              "            <td>3</td>\n",
              "            <td>0</td>\n",
              "            <td>1</td>\n",
              "            <td>2</td>\n",
              "            <td>0</td>\n",
              "            <td>2</td>\n",
              "            <td>4</td>\n",
              "            <td>2</td>\n",
              "            <td>midfielder</td>\n",
              "            <td>74</td>\n",
              "            <td>3</td>\n",
              "            <td>28</td>\n",
              "            <td>1</td>\n",
              "            <td>0</td>\n",
              "        </tr>\n",
              "        <tr>\n",
              "            <td>Bougherra</td>\n",
              "            <td>Algeria</td>\n",
              "            <td>30</td>\n",
              "            <td>3</td>\n",
              "            <td>0</td>\n",
              "            <td>1</td>\n",
              "            <td>2</td>\n",
              "            <td>0</td>\n",
              "            <td>2</td>\n",
              "            <td>4</td>\n",
              "            <td>2</td>\n",
              "            <td>defender</td>\n",
              "            <td>270</td>\n",
              "            <td>1</td>\n",
              "            <td>89</td>\n",
              "            <td>11</td>\n",
              "            <td>0</td>\n",
              "        </tr>\n",
              "        <tr>\n",
              "            <td>Chaouchi</td>\n",
              "            <td>Algeria</td>\n",
              "            <td>30</td>\n",
              "            <td>3</td>\n",
              "            <td>0</td>\n",
              "            <td>1</td>\n",
              "            <td>2</td>\n",
              "            <td>0</td>\n",
              "            <td>2</td>\n",
              "            <td>4</td>\n",
              "            <td>2</td>\n",
              "            <td>goalkeeper</td>\n",
              "            <td>90</td>\n",
              "            <td>0</td>\n",
              "            <td>17</td>\n",
              "            <td>0</td>\n",
              "            <td>2</td>\n",
              "        </tr>\n",
              "    </tbody>\n",
              "</table>"
            ],
            "text/plain": [
              "[('Abdoun', 'Algeria', 30, 3, 0, 1, 2, 0, 2, 4, 2, 'midfielder', 16, 0, 6, 0, 0),\n",
              " ('Belhadj', 'Algeria', 30, 3, 0, 1, 2, 0, 2, 4, 2, 'defender', 270, 1, 146, 8, 0),\n",
              " ('Boudebouz', 'Algeria', 30, 3, 0, 1, 2, 0, 2, 4, 2, 'midfielder', 74, 3, 28, 1, 0),\n",
              " ('Bougherra', 'Algeria', 30, 3, 0, 1, 2, 0, 2, 4, 2, 'defender', 270, 1, 89, 11, 0),\n",
              " ('Chaouchi', 'Algeria', 30, 3, 0, 1, 2, 0, 2, 4, 2, 'goalkeeper', 90, 0, 17, 0, 2)]"
            ]
          },
          "metadata": {},
          "execution_count": 32
        }
      ]
    },
    {
      "cell_type": "markdown",
      "metadata": {
        "id": "as0Jh2YK8WTF"
      },
      "source": [
        "### Basic Queries\n",
        "\n",
        "The first two questions are already solved for you, so that you have concrete examples of queries. Try to solve the remaining four!"
      ]
    },
    {
      "cell_type": "markdown",
      "metadata": {
        "collapsed": true,
        "id": "C4zdhp2c8WTG"
      },
      "source": [
        "*1)  Which player on a team ending with \"ia\" played less than 200 minutes and made more than 100 passes? Return the player's surname and team.*\n",
        "\n",
        "**Hint**: To check if attribute A contains a (sub)string S, use the LIKE keyword (e.g. `A like '%S%'`). The % sign indicates a wildcard."
      ]
    },
    {
      "cell_type": "code",
      "metadata": {
        "id": "6K_kIn3b8WTK",
        "outputId": "fa0ee5f6-41b9-4102-a766-3495a39e7dc6",
        "colab": {
          "base_uri": "https://localhost:8080/",
          "height": 99
        }
      },
      "source": [
        "%%sql\n",
        "select surname, team\n",
        "from Players\n",
        "where Players.team like '%ia'\n",
        "  and Players.minutes < 200 \n",
        "  and Players.passes > 100"
      ],
      "execution_count": 33,
      "outputs": [
        {
          "output_type": "stream",
          "name": "stdout",
          "text": [
            " * sqlite://\n",
            "Done.\n"
          ]
        },
        {
          "output_type": "execute_result",
          "data": {
            "text/html": [
              "<table>\n",
              "    <thead>\n",
              "        <tr>\n",
              "            <th>surname</th>\n",
              "            <th>team</th>\n",
              "        </tr>\n",
              "    </thead>\n",
              "    <tbody>\n",
              "        <tr>\n",
              "            <td>Kuzmanovic</td>\n",
              "            <td>Serbia</td>\n",
              "        </tr>\n",
              "    </tbody>\n",
              "</table>"
            ],
            "text/plain": [
              "[('Kuzmanovic', 'Serbia')]"
            ]
          },
          "metadata": {},
          "execution_count": 33
        }
      ]
    },
    {
      "cell_type": "markdown",
      "metadata": {
        "collapsed": true,
        "id": "4gNjdG4H8WTR"
      },
      "source": [
        "*2) Find all players who made more than 20 shots. Return all player information in descending order of shots made.*\n",
        "\n",
        "**Hint**: Sorting results is done via the ORDER BY keyword. The default order is ascending (ASC). If you want descending order, use DESC (e.g. `ORDER BY column_1, column_2 DESC`)."
      ]
    },
    {
      "cell_type": "code",
      "metadata": {
        "id": "wmYeLAw68WTU",
        "outputId": "be594b85-2f2c-4b5c-a8ad-18a89e865831",
        "colab": {
          "base_uri": "https://localhost:8080/",
          "height": 142
        }
      },
      "source": [
        "%%sql\n",
        "select *\n",
        "from Players\n",
        "where shots > 20\n",
        "order by shots desc"
      ],
      "execution_count": 34,
      "outputs": [
        {
          "output_type": "stream",
          "name": "stdout",
          "text": [
            " * sqlite://\n",
            "Done.\n"
          ]
        },
        {
          "output_type": "execute_result",
          "data": {
            "text/html": [
              "<table>\n",
              "    <thead>\n",
              "        <tr>\n",
              "            <th>surname</th>\n",
              "            <th>team</th>\n",
              "            <th>position</th>\n",
              "            <th>minutes</th>\n",
              "            <th>shots</th>\n",
              "            <th>passes</th>\n",
              "            <th>tackles</th>\n",
              "            <th>saves</th>\n",
              "        </tr>\n",
              "    </thead>\n",
              "    <tbody>\n",
              "        <tr>\n",
              "            <td>Gyan</td>\n",
              "            <td>Ghana</td>\n",
              "            <td>forward</td>\n",
              "            <td>501</td>\n",
              "            <td>27</td>\n",
              "            <td>151</td>\n",
              "            <td>1</td>\n",
              "            <td>0</td>\n",
              "        </tr>\n",
              "        <tr>\n",
              "            <td>Villa</td>\n",
              "            <td>Spain</td>\n",
              "            <td>forward</td>\n",
              "            <td>529</td>\n",
              "            <td>22</td>\n",
              "            <td>169</td>\n",
              "            <td>2</td>\n",
              "            <td>0</td>\n",
              "        </tr>\n",
              "        <tr>\n",
              "            <td>Messi</td>\n",
              "            <td>Argentina</td>\n",
              "            <td>forward</td>\n",
              "            <td>450</td>\n",
              "            <td>21</td>\n",
              "            <td>321</td>\n",
              "            <td>10</td>\n",
              "            <td>0</td>\n",
              "        </tr>\n",
              "    </tbody>\n",
              "</table>"
            ],
            "text/plain": [
              "[('Gyan', 'Ghana', 'forward', 501, 27, 151, 1, 0),\n",
              " ('Villa', 'Spain', 'forward', 529, 22, 169, 2, 0),\n",
              " ('Messi', 'Argentina', 'forward', 450, 21, 321, 10, 0)]"
            ]
          },
          "metadata": {},
          "execution_count": 34
        }
      ]
    },
    {
      "cell_type": "markdown",
      "metadata": {
        "collapsed": true,
        "id": "aLralf658WTb"
      },
      "source": [
        "*3) Find the goalkeepers of teams that played more than four games. List the surname of the goalkeeper, the team, and the number of minutes the goalkeeper played.*\n",
        "\n",
        "**Hint**: Use the `PlayersExt` table."
      ]
    },
    {
      "cell_type": "code",
      "metadata": {
        "id": "AMRLCwdh8WTc"
      },
      "source": [
        "%%sql\n",
        "YOUR QUERY HERE"
      ],
      "execution_count": null,
      "outputs": []
    },
    {
      "cell_type": "markdown",
      "metadata": {
        "collapsed": true,
        "id": "vRT0J7sY8WTh"
      },
      "source": [
        "*4) How many players on a team with a ranking lower than 10 played more than 350 minutes? Return a single number in a column named \"superstar\".*\n",
        "\n",
        "**Hint**: To rename a column, use the AS keyword (e.g. `SELECT column_1 AS label`)."
      ]
    },
    {
      "cell_type": "code",
      "metadata": {
        "id": "hSseV7oi8WTi"
      },
      "source": [
        "%%sql\n",
        "YOUR QUERY HERE"
      ],
      "execution_count": null,
      "outputs": []
    },
    {
      "cell_type": "markdown",
      "metadata": {
        "collapsed": true,
        "id": "DZlTul358WTl"
      },
      "source": [
        "*5) What is the average number of passes made by forwards? What about midfielders? Write one query that returns both values with the corresponding position.*\n",
        "\n",
        "**Hint**: Use the GROUP BY keyword. GROUP BY statements are often used in conjuction with aggregate functions like AVG(), SUM() or COUNT(). "
      ]
    },
    {
      "cell_type": "code",
      "metadata": {
        "id": "76mZ7BVJ8WTm"
      },
      "source": [
        "%%sql\n",
        "YOUR QUERY HERE"
      ],
      "execution_count": null,
      "outputs": []
    },
    {
      "cell_type": "markdown",
      "metadata": {
        "collapsed": true,
        "id": "pLjyR6wh8WTo"
      },
      "source": [
        "*6) Which team has the highest average number of passes per minute played? Return the team's name and average number of passes per minute.*\n",
        "\n",
        "**Hint #1**: You can compute a team's average number of passes per minute played by dividing the total number of passes by the total number of minutes. To force floating point division, multiply one operand by 1.0.\n",
        "\n",
        "**Hint #2**: Consider using the LIMIT keyword."
      ]
    },
    {
      "cell_type": "code",
      "metadata": {
        "id": "7ApyOn9N8WTq"
      },
      "source": [
        "%%sql\n",
        "YOUR QUERY HERE"
      ],
      "execution_count": null,
      "outputs": []
    },
    {
      "cell_type": "markdown",
      "metadata": {
        "id": "v1dXQKXu8WTv"
      },
      "source": [
        "### Advanced Queries\n",
        "\n",
        "Now, on to more challenging questions..."
      ]
    },
    {
      "cell_type": "markdown",
      "metadata": {
        "id": "js1aBftZ8WTy"
      },
      "source": [
        "*1) Find all pairs of teams that have the same number of `goalsFor` as well as the same number of `goalsAgainst` as each other. Return the team pairs and their respective numbers of `goalsFor` and `goalsAgainst` (make sure to return each pair only once!).*\n",
        "\n",
        "**Hint**: You basically need to do a \"self join\" of the `Teams` table. For that, you need to join different name aliases of the same table. Check [this page](https://www.w3schools.com/sql/sql_join_self.asp) for help."
      ]
    },
    {
      "cell_type": "code",
      "metadata": {
        "id": "LzpO1c3V8WTz"
      },
      "source": [
        "%%sql\n",
        "YOUR QUERY HERE"
      ],
      "execution_count": null,
      "outputs": []
    },
    {
      "cell_type": "markdown",
      "metadata": {
        "id": "g9QX2Jie8WT4"
      },
      "source": [
        "*2) Find all teams with a ranking below 30 where no player has made more than 150 passes. Return the team's name and ranking.*\n",
        "\n",
        "**Hint #1**: Consider using the HAVING keyword.\n",
        "\n",
        "**Hint #2**: You may also want to look up nested queries."
      ]
    },
    {
      "cell_type": "code",
      "metadata": {
        "id": "xPOBexhd8WT4"
      },
      "source": [
        "%%sql\n",
        "YOUR QUERY HERE"
      ],
      "execution_count": null,
      "outputs": []
    },
    {
      "cell_type": "markdown",
      "metadata": {
        "id": "NbJzKIm98WT7"
      },
      "source": [
        "*3) Which team has the highest ratio of goalsFor to goalsAgainst?*"
      ]
    },
    {
      "cell_type": "code",
      "metadata": {
        "id": "Bi2SUQgM8WT8"
      },
      "source": [
        "%%sql\n",
        "YOUR QUERY HERE"
      ],
      "execution_count": null,
      "outputs": []
    },
    {
      "cell_type": "markdown",
      "metadata": {
        "id": "u_7fplnQ8WT-"
      },
      "source": [
        "*4) Find all teams whose defenders averaged more than 150 passes. Return the team and average number of passes by defenders, in descending order of average passes.*"
      ]
    },
    {
      "cell_type": "code",
      "metadata": {
        "id": "qOapic7E8WT_"
      },
      "source": [
        "%%sql\n",
        "YOUR QUERY HERE"
      ],
      "execution_count": null,
      "outputs": []
    },
    {
      "cell_type": "markdown",
      "metadata": {
        "id": "QWbQ8phy8WUD"
      },
      "source": [
        "## <font color = 'green' italicized text>Titanic Data</font>"
      ]
    },
    {
      "cell_type": "markdown",
      "metadata": {
        "id": "8BLWKSyM2BGf"
      },
      "source": [
        "This dataset contains the list of passengers who were on board the Titanic.\n",
        "\n",
        "Personal information such as their name, gender and age is shown. We can also see information about their journey (which class they were travelling in, how much they paid, etc.), and whether they survived or not.\n",
        "\n",
        "Feel free to do these exercises on your own time in order to prepare for part 1 of the personal assignment."
      ]
    },
    {
      "cell_type": "code",
      "metadata": {
        "id": "Fef539uG8WUE",
        "outputId": "ded21ea6-38f8-453a-c68b-e91e9dbd98b8",
        "colab": {
          "base_uri": "https://localhost:8080/",
          "height": 92
        }
      },
      "source": [
        "# Load table from CSV file\n",
        "titanic_url = \"https://raw.githubusercontent.com/michalis0/BigScaleAnalytics/master/week2/data/Titanic.csv\"\n",
        "Titanic = pd.read_csv(titanic_url, index_col=0, encoding=\"utf-8\")\n",
        "%sql drop table if exists Titanic;\n",
        "%sql persist Titanic"
      ],
      "execution_count": 35,
      "outputs": [
        {
          "output_type": "stream",
          "name": "stdout",
          "text": [
            " * sqlite://\n",
            "Done.\n",
            " * sqlite://\n"
          ]
        },
        {
          "output_type": "execute_result",
          "data": {
            "application/vnd.google.colaboratory.intrinsic+json": {
              "type": "string"
            },
            "text/plain": [
              "'Persisted titanic'"
            ]
          },
          "metadata": {},
          "execution_count": 35
        }
      ]
    },
    {
      "cell_type": "markdown",
      "metadata": {
        "id": "tbJ2MgXT8WUG"
      },
      "source": [
        "### Preview"
      ]
    },
    {
      "cell_type": "code",
      "metadata": {
        "id": "GpCKkNZR8WUH",
        "outputId": "14452e61-075f-4e68-f910-9d53a531f756",
        "colab": {
          "base_uri": "https://localhost:8080/",
          "height": 184
        }
      },
      "source": [
        "%%sql\n",
        "select * from Titanic limit 5"
      ],
      "execution_count": 36,
      "outputs": [
        {
          "output_type": "stream",
          "name": "stdout",
          "text": [
            " * sqlite://\n",
            "Done.\n"
          ]
        },
        {
          "output_type": "execute_result",
          "data": {
            "text/html": [
              "<table>\n",
              "    <thead>\n",
              "        <tr>\n",
              "            <th>last</th>\n",
              "            <th>first</th>\n",
              "            <th>gender</th>\n",
              "            <th>age</th>\n",
              "            <th>class</th>\n",
              "            <th>fare</th>\n",
              "            <th>embarked</th>\n",
              "            <th>survived</th>\n",
              "        </tr>\n",
              "    </thead>\n",
              "    <tbody>\n",
              "        <tr>\n",
              "            <td>Braund</td>\n",
              "            <td>Mr. Owen Harris</td>\n",
              "            <td>M</td>\n",
              "            <td>22.0</td>\n",
              "            <td>3</td>\n",
              "            <td>7.25</td>\n",
              "            <td>Southampton</td>\n",
              "            <td>no</td>\n",
              "        </tr>\n",
              "        <tr>\n",
              "            <td>Cumings</td>\n",
              "            <td>Mrs. John Bradley (Florence Briggs Thayer)</td>\n",
              "            <td>F</td>\n",
              "            <td>38.0</td>\n",
              "            <td>1</td>\n",
              "            <td>71.2833</td>\n",
              "            <td>Cherbourg</td>\n",
              "            <td>yes</td>\n",
              "        </tr>\n",
              "        <tr>\n",
              "            <td>Heikkinen</td>\n",
              "            <td>Miss Laina</td>\n",
              "            <td>F</td>\n",
              "            <td>26.0</td>\n",
              "            <td>3</td>\n",
              "            <td>7.925</td>\n",
              "            <td>Southampton</td>\n",
              "            <td>yes</td>\n",
              "        </tr>\n",
              "        <tr>\n",
              "            <td>Futrelle</td>\n",
              "            <td>Mrs. Jacques Heath (Lily May Peel)</td>\n",
              "            <td>F</td>\n",
              "            <td>35.0</td>\n",
              "            <td>1</td>\n",
              "            <td>53.1</td>\n",
              "            <td>Southampton</td>\n",
              "            <td>yes</td>\n",
              "        </tr>\n",
              "        <tr>\n",
              "            <td>Allen</td>\n",
              "            <td>Mr. William Henry</td>\n",
              "            <td>M</td>\n",
              "            <td>35.0</td>\n",
              "            <td>3</td>\n",
              "            <td>8.05</td>\n",
              "            <td>Southampton</td>\n",
              "            <td>no</td>\n",
              "        </tr>\n",
              "    </tbody>\n",
              "</table>"
            ],
            "text/plain": [
              "[('Braund', 'Mr. Owen Harris', 'M', 22.0, 3, 7.25, 'Southampton', 'no'),\n",
              " ('Cumings', 'Mrs. John Bradley (Florence Briggs Thayer)', 'F', 38.0, 1, 71.2833, 'Cherbourg', 'yes'),\n",
              " ('Heikkinen', 'Miss Laina', 'F', 26.0, 3, 7.925, 'Southampton', 'yes'),\n",
              " ('Futrelle', 'Mrs. Jacques Heath (Lily May Peel)', 'F', 35.0, 1, 53.1, 'Southampton', 'yes'),\n",
              " ('Allen', 'Mr. William Henry', 'M', 35.0, 3, 8.05, 'Southampton', 'no')]"
            ]
          },
          "metadata": {},
          "execution_count": 36
        }
      ]
    },
    {
      "cell_type": "markdown",
      "metadata": {
        "id": "i1uXCjq68WUJ"
      },
      "source": [
        "### Basic Queries"
      ]
    },
    {
      "cell_type": "markdown",
      "metadata": {
        "collapsed": true,
        "id": "OZxzuzCw8WUK"
      },
      "source": [
        "*1) How many married women over age 50 embarked in Cherbourg?*\n",
        "\n",
        "**Hint**: You will need to use wildcards."
      ]
    },
    {
      "cell_type": "code",
      "metadata": {
        "id": "YkqQht348WUL"
      },
      "source": [
        "%%sql\n",
        "YOUR QUERY HERE"
      ],
      "execution_count": null,
      "outputs": []
    },
    {
      "cell_type": "markdown",
      "metadata": {
        "collapsed": true,
        "id": "uSB3G2dg8WUQ"
      },
      "source": [
        "*2) List the average fare paid by passengers in each of the embarkation cities (along with the city), in descending order of average fare.*"
      ]
    },
    {
      "cell_type": "code",
      "metadata": {
        "id": "31-xalVn8WUR"
      },
      "source": [
        "%%sql\n",
        "YOUR QUERY HERE"
      ],
      "execution_count": null,
      "outputs": []
    },
    {
      "cell_type": "markdown",
      "metadata": {
        "collapsed": true,
        "id": "rEL4ECjg8WUV"
      },
      "source": [
        "*3) What is the most common last name among passengers?*"
      ]
    },
    {
      "cell_type": "code",
      "metadata": {
        "id": "T4r9akbA8WUX"
      },
      "source": [
        "%%sql\n",
        "YOUR QUERY HERE"
      ],
      "execution_count": null,
      "outputs": []
    },
    {
      "cell_type": "markdown",
      "metadata": {
        "collapsed": true,
        "id": "OqIfsDiu8WUa"
      },
      "source": [
        "*4) Write 3 queries:*\n",
        "\n",
        "* *Total number of passengers*\n",
        "* *Number of passengers under 30*\n",
        "* *Number of passengers 30 or older*\n",
        "\n",
        "*Why do the second and third numbers not add up to the first?*"
      ]
    },
    {
      "cell_type": "code",
      "metadata": {
        "id": "mc-KOeLo8WUb"
      },
      "source": [
        "%%sql\n",
        "YOUR QUERY HERE"
      ],
      "execution_count": null,
      "outputs": []
    },
    {
      "cell_type": "code",
      "metadata": {
        "id": "n_UtmFrl8WUe"
      },
      "source": [
        "%%sql\n",
        "YOUR QUERY HERE"
      ],
      "execution_count": null,
      "outputs": []
    },
    {
      "cell_type": "code",
      "metadata": {
        "id": "1SUbq9q98WUj"
      },
      "source": [
        "%%sql\n",
        "YOUR QUERY HERE"
      ],
      "execution_count": null,
      "outputs": []
    },
    {
      "cell_type": "markdown",
      "metadata": {
        "collapsed": true,
        "id": "oGoJIsqS8WUm"
      },
      "source": [
        "Blanks in SQL tables are given a special value `null`, and conditions like `A is null` and `A is not null` can be used in WHERE statements to check whether attribute A contains blank values or not. "
      ]
    },
    {
      "cell_type": "markdown",
      "metadata": {
        "id": "ZjyG3fkhBxFW"
      },
      "source": [
        "*5) How many passengers don't have a value for age? Now do your numbers add up?*"
      ]
    },
    {
      "cell_type": "code",
      "metadata": {
        "id": "yvK_LOoJ8WUm"
      },
      "source": [
        "%%sql\n",
        "YOUR QUERY HERE"
      ],
      "execution_count": null,
      "outputs": []
    },
    {
      "cell_type": "markdown",
      "metadata": {
        "collapsed": true,
        "id": "-Xj20xpl8WUq"
      },
      "source": [
        "*6) How many passengers were in each of the following categories, and what was their average fare paid?*\n",
        "\n",
        "* *Male survivors*\n",
        "* *Female survivors*\n",
        "* *Male non-survivors*\n",
        "* *Female non-survivors*"
      ]
    },
    {
      "cell_type": "code",
      "metadata": {
        "id": "mUnjnnH28WUt"
      },
      "source": [
        "%%sql\n",
        "YOUR QUERY HERE"
      ],
      "execution_count": null,
      "outputs": []
    },
    {
      "cell_type": "markdown",
      "metadata": {
        "id": "sWTpFjoG8WUy"
      },
      "source": [
        "### Advanced Queries"
      ]
    },
    {
      "cell_type": "markdown",
      "metadata": {
        "id": "ND9eL-2M8WUz"
      },
      "source": [
        "*1) Are there any pairs of passengers with the same last name where one is in first class and the other is in third class?*\n",
        "\n",
        "*If so, return the last name and each person's first name. Label the first name column as \"first\" for the passenger in first class, and \"third\" for the passenger in third class.*"
      ]
    },
    {
      "cell_type": "code",
      "metadata": {
        "id": "5xp2zfy-8WU0"
      },
      "source": [
        "%%sql\n",
        "YOUR QUERY HERE"
      ],
      "execution_count": null,
      "outputs": []
    },
    {
      "cell_type": "markdown",
      "metadata": {
        "id": "08oP8DlB8WU3"
      },
      "source": [
        "*2) Which embarkation cities have more than 40 passengers whose age is missing?*"
      ]
    },
    {
      "cell_type": "code",
      "metadata": {
        "id": "8THmi4gQ8WU4"
      },
      "source": [
        "%%sql\n",
        "YOUR QUERY HERE"
      ],
      "execution_count": null,
      "outputs": []
    },
    {
      "cell_type": "markdown",
      "metadata": {
        "id": "d4tQhkGW8WU7"
      },
      "source": [
        "*3) Find all classes where the average fare paid by passengers in that class was more than twice the overall average or less than half the overall average.*"
      ]
    },
    {
      "cell_type": "code",
      "metadata": {
        "id": "iY4YeOXf8WU7"
      },
      "source": [
        "%%sql\n",
        "YOUR QUERY HERE"
      ],
      "execution_count": null,
      "outputs": []
    },
    {
      "cell_type": "markdown",
      "metadata": {
        "id": "PeGyTGge8WU-"
      },
      "source": [
        "*4) EXTRA DIFFICULT CHALLENGE: List each class and its survival rate, i.e., the fraction of passengers in that class who survived.*"
      ]
    },
    {
      "cell_type": "code",
      "metadata": {
        "id": "24S9LzVw8WU-"
      },
      "source": [
        "%%sql\n",
        "YOUR QUERY HERE"
      ],
      "execution_count": null,
      "outputs": []
    },
    {
      "cell_type": "markdown",
      "metadata": {
        "id": "t5oNolyg8WVB"
      },
      "source": [
        "### Titanic Data Modification\n",
        "\n",
        "Here again, we are giving you the solution for the first two questions to get you acquainted with the modification syntax.\n",
        "\n",
        "Note: You may want to reload the CSV frequently to reset the data as you experiment with modifications."
      ]
    },
    {
      "cell_type": "code",
      "metadata": {
        "id": "EjnhXy1k8WVB"
      },
      "source": [
        "# Load table from CSV file\n",
        "titanic_url = \"https://raw.githubusercontent.com/michalis0/BigScaleAnalytics/master/week2/data/Titanic.csv\"\n",
        "Titanic = pd.read_csv(titanic_url, index_col=0, encoding=\"utf-8\")\n",
        "%sql drop table if exists Titanic;\n",
        "%sql persist Titanic"
      ],
      "execution_count": null,
      "outputs": []
    },
    {
      "cell_type": "markdown",
      "metadata": {
        "id": "L-loAKBy8WVE"
      },
      "source": [
        "*1) Subtract 5 from the fare paid by all passengers under the age of 10. Then compute the new average fare similar to question 2 in the previous section.*\n",
        "\n",
        "**Hint #1**: You can put two SQL statements in one cell separated by a semicolon.\n",
        "\n",
        "**Hint #2**: Use the UPDATE and SET keywords to modify a column (see [documentation](https://www.w3schools.com/sql/sql_update.asp))."
      ]
    },
    {
      "cell_type": "code",
      "metadata": {
        "id": "f_NL7NFl8WVF"
      },
      "source": [
        "%%sql\n",
        "update Titanic\n",
        "set fare = fare - 5\n",
        "where age < 10\n",
        ";\n",
        "select embarked, avg(fare) as avg_fare\n",
        "from Titanic\n",
        "group by embarked\n",
        "order by avg_fare desc"
      ],
      "execution_count": null,
      "outputs": []
    },
    {
      "cell_type": "markdown",
      "metadata": {
        "id": "O_nxrddE8WVI"
      },
      "source": [
        "*2) Create a new table called \"Survivors\" containing the first and last names of all passengers who survived. Then count the number of tuples in the new table.*\n",
        "\n",
        "**Hint**: Use the CREATE TABLE keyword."
      ]
    },
    {
      "cell_type": "code",
      "metadata": {
        "id": "zNquUcYX8WVK"
      },
      "source": [
        "%%sql\n",
        "drop table if exists Survivors\n",
        ";\n",
        "create table Survivors as\n",
        "select first, last\n",
        "from Titanic \n",
        "where survived = \"yes\"\n",
        ";\n",
        "select count(*) as count from Survivors"
      ],
      "execution_count": null,
      "outputs": []
    },
    {
      "cell_type": "markdown",
      "metadata": {
        "id": "9UNpd5NI8WVT"
      },
      "source": [
        "*3) In the Titanic table, delete all but the passengers who paid more than 300. Then count the number of tuples in the table.*\n",
        "\n",
        "**Hint**: Use the DELETE FROM keyword."
      ]
    },
    {
      "cell_type": "code",
      "metadata": {
        "id": "2cVPzxEY8WVV"
      },
      "source": [
        "%%sql\n",
        "YOUR QUERY HERE"
      ],
      "execution_count": null,
      "outputs": []
    },
    {
      "cell_type": "markdown",
      "metadata": {
        "id": "mNVJ03FM8WVY"
      },
      "source": [
        "*4) In what's left of the table after question 3, insert a new tuple for yourself. You can decide your class, fare, where you embarked, and whether you survived. Then show the whole table.*\n",
        "\n",
        "**Hint**: Use the INSERT INTO keyword."
      ]
    },
    {
      "cell_type": "code",
      "metadata": {
        "id": "REnGeB1r8WVZ"
      },
      "source": [
        "%%sql\n",
        "YOUR QUERY HERE"
      ],
      "execution_count": null,
      "outputs": []
    }
  ]
}
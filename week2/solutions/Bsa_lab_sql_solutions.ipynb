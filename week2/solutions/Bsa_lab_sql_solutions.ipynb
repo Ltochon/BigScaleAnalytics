{
  "nbformat": 4,
  "nbformat_minor": 0,
  "metadata": {
    "kernelspec": {
      "display_name": "Python 3",
      "language": "python",
      "name": "python3"
    },
    "language_info": {
      "codemirror_mode": {
        "name": "ipython",
        "version": 3
      },
      "file_extension": ".py",
      "mimetype": "text/x-python",
      "name": "python",
      "nbconvert_exporter": "python",
      "pygments_lexer": "ipython3",
      "version": "3.6.7"
    },
    "colab": {
      "name": "Bsa_lab_sql_solutions.ipynb",
      "provenance": [],
      "collapsed_sections": [
        "as0Jh2YK8WTF",
        "v1dXQKXu8WTv",
        "sWTpFjoG8WUy",
        "t5oNolyg8WVB"
      ],
      "include_colab_link": true
    }
  },
  "cells": [
    {
      "cell_type": "markdown",
      "metadata": {
        "id": "view-in-github",
        "colab_type": "text"
      },
      "source": [
        "<a href=\"https://colab.research.google.com/github/michalis0/BigScaleAnalytics/blob/master/week2/solutions/Bsa_lab_sql_solutions.ipynb\" target=\"_parent\"><img src=\"https://colab.research.google.com/assets/colab-badge.svg\" alt=\"Open In Colab\"/></a>"
      ]
    },
    {
      "cell_type": "markdown",
      "metadata": {
        "id": "Ow3xcCbn8WSO"
      },
      "source": [
        "# BSA Lab Week 2 - SQL in Python"
      ]
    },
    {
      "cell_type": "markdown",
      "metadata": {
        "id": "9dC2Lz6Ei3YG"
      },
      "source": [
        "There is an iPython extension that allows us to use SQL from a notebook by means of so-called \"magic\" commands (%...). You can choose from several SQL engines (PostgreSQL, MySQL, etc.). For these exercises, we will use SQLite. Rather than a full-fledged client-server database engine, SQLite can be embedded onto any program."
      ]
    },
    {
      "cell_type": "code",
      "metadata": {
        "id": "swXpAOS-8WSS"
      },
      "source": [
        "%load_ext sql\n",
        "%sql sqlite://\n",
        "\n",
        "import pandas as pd"
      ],
      "execution_count": null,
      "outputs": []
    },
    {
      "cell_type": "markdown",
      "metadata": {
        "id": "H2Ea0LTO8WSe"
      },
      "source": [
        "## <font color = 'green'>World Cup Data</font>"
      ]
    },
    {
      "cell_type": "markdown",
      "metadata": {
        "id": "GzlvcSS1mydC"
      },
      "source": [
        "This dataset consists of two CSV files, `Players.csv` and `Teams.csv`, which have already been joined into a third one for your convenience (`PlayersExt.csv`). We are loading them directly from the GitHub repository, and then persisting the tables to our SQL database so that we can run SQL queries (as opposed to using pandas, for example)."
      ]
    },
    {
      "cell_type": "code",
      "metadata": {
        "id": "8xH-QufV8WSh",
        "outputId": "57f96715-5b84-4e94-c6ef-7d355af1e67b",
        "colab": {
          "base_uri": "https://localhost:8080/",
          "height": 203
        }
      },
      "source": [
        "# Load Players\n",
        "players_url = \"https://raw.githubusercontent.com/michalis0/BigScaleAnalytics/master/week2/data/Players.csv\"\n",
        "Players = pd.read_csv(players_url, index_col=0, encoding=\"utf-8\")\n",
        "%sql drop table if exists Players;\n",
        "%sql persist Players\n",
        "\n",
        "# Load Teams\n",
        "teams_url = \"https://raw.githubusercontent.com/michalis0/BigScaleAnalytics/master/week2/data/Teams.csv\"\n",
        "Teams = pd.read_csv(teams_url, index_col=0, encoding=\"utf-8\")\n",
        "%sql drop table if exists Teams;\n",
        "%sql persist Teams\n",
        "\n",
        "# Load joined tables\n",
        "playersext_url = \"https://raw.githubusercontent.com/michalis0/BigScaleAnalytics/master/week2/data/PlayersExt.csv\"\n",
        "PlayersExt = pd.read_csv(playersext_url, index_col=0, encoding=\"utf-8\")\n",
        "%sql drop table if exists PlayersExt;\n",
        "%sql persist PlayersExt"
      ],
      "execution_count": null,
      "outputs": [
        {
          "output_type": "stream",
          "name": "stdout",
          "text": [
            " * sqlite://\n",
            "Done.\n",
            " * sqlite://\n",
            " * sqlite://\n",
            "Done.\n",
            " * sqlite://\n",
            " * sqlite://\n",
            "Done.\n",
            " * sqlite://\n"
          ]
        },
        {
          "output_type": "execute_result",
          "data": {
            "application/vnd.google.colaboratory.intrinsic+json": {
              "type": "string"
            },
            "text/plain": [
              "'Persisted playersext'"
            ]
          },
          "metadata": {},
          "execution_count": 2
        }
      ]
    },
    {
      "cell_type": "markdown",
      "metadata": {
        "id": "meZCn5os8WSu"
      },
      "source": [
        "### Basic Queries Quick Recap\n",
        "\n",
        "Let's run our first SQL queries in order to see what the table attributes and values look like. Here are a couple of things to note about the queries:\n",
        "\n",
        "* As you can see, any text following the `%%sql` command is interpreted as query language.\n",
        "* For the SQL keywords (SELECT, FROM, GROUP BY, etc.), it doesn't matter whether you use lowercase or uppercase.\n",
        "* When you need to use quotes, both single quotes (' ') and double quotes (\" \") can be used.\n",
        "* You can also spread your statements across several lines for better readability."
      ]
    },
    {
      "cell_type": "code",
      "metadata": {
        "id": "meh70hNH8WSx",
        "outputId": "90ed73a3-749c-4d7a-930b-962440380e63",
        "colab": {
          "base_uri": "https://localhost:8080/",
          "height": 184
        }
      },
      "source": [
        "%%sql\n",
        "SELECT * FROM Players LIMIT 5"
      ],
      "execution_count": null,
      "outputs": [
        {
          "output_type": "stream",
          "name": "stdout",
          "text": [
            " * sqlite://\n",
            "Done.\n"
          ]
        },
        {
          "output_type": "execute_result",
          "data": {
            "text/html": [
              "<table>\n",
              "    <thead>\n",
              "        <tr>\n",
              "            <th>surname</th>\n",
              "            <th>team</th>\n",
              "            <th>position</th>\n",
              "            <th>minutes</th>\n",
              "            <th>shots</th>\n",
              "            <th>passes</th>\n",
              "            <th>tackles</th>\n",
              "            <th>saves</th>\n",
              "        </tr>\n",
              "    </thead>\n",
              "    <tbody>\n",
              "        <tr>\n",
              "            <td>Abdoun</td>\n",
              "            <td>Algeria</td>\n",
              "            <td>midfielder</td>\n",
              "            <td>16</td>\n",
              "            <td>0</td>\n",
              "            <td>6</td>\n",
              "            <td>0</td>\n",
              "            <td>0</td>\n",
              "        </tr>\n",
              "        <tr>\n",
              "            <td>Belhadj</td>\n",
              "            <td>Algeria</td>\n",
              "            <td>defender</td>\n",
              "            <td>270</td>\n",
              "            <td>1</td>\n",
              "            <td>146</td>\n",
              "            <td>8</td>\n",
              "            <td>0</td>\n",
              "        </tr>\n",
              "        <tr>\n",
              "            <td>Boudebouz</td>\n",
              "            <td>Algeria</td>\n",
              "            <td>midfielder</td>\n",
              "            <td>74</td>\n",
              "            <td>3</td>\n",
              "            <td>28</td>\n",
              "            <td>1</td>\n",
              "            <td>0</td>\n",
              "        </tr>\n",
              "        <tr>\n",
              "            <td>Bougherra</td>\n",
              "            <td>Algeria</td>\n",
              "            <td>defender</td>\n",
              "            <td>270</td>\n",
              "            <td>1</td>\n",
              "            <td>89</td>\n",
              "            <td>11</td>\n",
              "            <td>0</td>\n",
              "        </tr>\n",
              "        <tr>\n",
              "            <td>Chaouchi</td>\n",
              "            <td>Algeria</td>\n",
              "            <td>goalkeeper</td>\n",
              "            <td>90</td>\n",
              "            <td>0</td>\n",
              "            <td>17</td>\n",
              "            <td>0</td>\n",
              "            <td>2</td>\n",
              "        </tr>\n",
              "    </tbody>\n",
              "</table>"
            ],
            "text/plain": [
              "[('Abdoun', 'Algeria', 'midfielder', 16, 0, 6, 0, 0),\n",
              " ('Belhadj', 'Algeria', 'defender', 270, 1, 146, 8, 0),\n",
              " ('Boudebouz', 'Algeria', 'midfielder', 74, 3, 28, 1, 0),\n",
              " ('Bougherra', 'Algeria', 'defender', 270, 1, 89, 11, 0),\n",
              " ('Chaouchi', 'Algeria', 'goalkeeper', 90, 0, 17, 0, 2)]"
            ]
          },
          "metadata": {},
          "execution_count": 3
        }
      ]
    },
    {
      "cell_type": "code",
      "metadata": {
        "id": "flnoKz4U8WS6",
        "outputId": "5388f53a-f734-419b-8c28-6bae60ab96a5",
        "colab": {
          "base_uri": "https://localhost:8080/",
          "height": 184
        }
      },
      "source": [
        "%%sql\n",
        "select * from Teams limit 5"
      ],
      "execution_count": null,
      "outputs": [
        {
          "output_type": "stream",
          "name": "stdout",
          "text": [
            " * sqlite://\n",
            "Done.\n"
          ]
        },
        {
          "output_type": "execute_result",
          "data": {
            "text/html": [
              "<table>\n",
              "    <thead>\n",
              "        <tr>\n",
              "            <th>team</th>\n",
              "            <th>ranking</th>\n",
              "            <th>games</th>\n",
              "            <th>wins</th>\n",
              "            <th>draws</th>\n",
              "            <th>losses</th>\n",
              "            <th>goalsFor</th>\n",
              "            <th>goalsAgainst</th>\n",
              "            <th>yellowCards</th>\n",
              "            <th>redCards</th>\n",
              "        </tr>\n",
              "    </thead>\n",
              "    <tbody>\n",
              "        <tr>\n",
              "            <td>Brazil</td>\n",
              "            <td>1</td>\n",
              "            <td>5</td>\n",
              "            <td>3</td>\n",
              "            <td>1</td>\n",
              "            <td>1</td>\n",
              "            <td>9</td>\n",
              "            <td>4</td>\n",
              "            <td>7</td>\n",
              "            <td>2</td>\n",
              "        </tr>\n",
              "        <tr>\n",
              "            <td>Spain</td>\n",
              "            <td>2</td>\n",
              "            <td>6</td>\n",
              "            <td>5</td>\n",
              "            <td>0</td>\n",
              "            <td>1</td>\n",
              "            <td>7</td>\n",
              "            <td>2</td>\n",
              "            <td>3</td>\n",
              "            <td>0</td>\n",
              "        </tr>\n",
              "        <tr>\n",
              "            <td>Portugal</td>\n",
              "            <td>3</td>\n",
              "            <td>4</td>\n",
              "            <td>1</td>\n",
              "            <td>2</td>\n",
              "            <td>1</td>\n",
              "            <td>7</td>\n",
              "            <td>1</td>\n",
              "            <td>8</td>\n",
              "            <td>1</td>\n",
              "        </tr>\n",
              "        <tr>\n",
              "            <td>Netherlands</td>\n",
              "            <td>4</td>\n",
              "            <td>6</td>\n",
              "            <td>6</td>\n",
              "            <td>0</td>\n",
              "            <td>0</td>\n",
              "            <td>12</td>\n",
              "            <td>5</td>\n",
              "            <td>15</td>\n",
              "            <td>0</td>\n",
              "        </tr>\n",
              "        <tr>\n",
              "            <td>Italy</td>\n",
              "            <td>5</td>\n",
              "            <td>3</td>\n",
              "            <td>0</td>\n",
              "            <td>2</td>\n",
              "            <td>1</td>\n",
              "            <td>4</td>\n",
              "            <td>5</td>\n",
              "            <td>5</td>\n",
              "            <td>0</td>\n",
              "        </tr>\n",
              "    </tbody>\n",
              "</table>"
            ],
            "text/plain": [
              "[('Brazil', 1, 5, 3, 1, 1, 9, 4, 7, 2),\n",
              " ('Spain', 2, 6, 5, 0, 1, 7, 2, 3, 0),\n",
              " ('Portugal', 3, 4, 1, 2, 1, 7, 1, 8, 1),\n",
              " ('Netherlands', 4, 6, 6, 0, 0, 12, 5, 15, 0),\n",
              " ('Italy', 5, 3, 0, 2, 1, 4, 5, 5, 0)]"
            ]
          },
          "metadata": {},
          "execution_count": 4
        }
      ]
    },
    {
      "cell_type": "code",
      "metadata": {
        "id": "YgN5Fr2w8WTA",
        "outputId": "6f2f6786-05e9-494c-c339-0ce92354b8c1",
        "colab": {
          "base_uri": "https://localhost:8080/",
          "height": 184
        }
      },
      "source": [
        "%%sql\n",
        "select *\n",
        "from PlayersExt\n",
        "limit 5"
      ],
      "execution_count": null,
      "outputs": [
        {
          "output_type": "stream",
          "name": "stdout",
          "text": [
            " * sqlite://\n",
            "Done.\n"
          ]
        },
        {
          "output_type": "execute_result",
          "data": {
            "text/html": [
              "<table>\n",
              "    <thead>\n",
              "        <tr>\n",
              "            <th>surname</th>\n",
              "            <th>team</th>\n",
              "            <th>ranking</th>\n",
              "            <th>games</th>\n",
              "            <th>wins</th>\n",
              "            <th>draws</th>\n",
              "            <th>losses</th>\n",
              "            <th>goalsFor</th>\n",
              "            <th>goalsAgainst</th>\n",
              "            <th>yellowCards</th>\n",
              "            <th>redCards</th>\n",
              "            <th>position</th>\n",
              "            <th>minutes</th>\n",
              "            <th>shots</th>\n",
              "            <th>passes</th>\n",
              "            <th>tackles</th>\n",
              "            <th>saves</th>\n",
              "        </tr>\n",
              "    </thead>\n",
              "    <tbody>\n",
              "        <tr>\n",
              "            <td>Abdoun</td>\n",
              "            <td>Algeria</td>\n",
              "            <td>30</td>\n",
              "            <td>3</td>\n",
              "            <td>0</td>\n",
              "            <td>1</td>\n",
              "            <td>2</td>\n",
              "            <td>0</td>\n",
              "            <td>2</td>\n",
              "            <td>4</td>\n",
              "            <td>2</td>\n",
              "            <td>midfielder</td>\n",
              "            <td>16</td>\n",
              "            <td>0</td>\n",
              "            <td>6</td>\n",
              "            <td>0</td>\n",
              "            <td>0</td>\n",
              "        </tr>\n",
              "        <tr>\n",
              "            <td>Belhadj</td>\n",
              "            <td>Algeria</td>\n",
              "            <td>30</td>\n",
              "            <td>3</td>\n",
              "            <td>0</td>\n",
              "            <td>1</td>\n",
              "            <td>2</td>\n",
              "            <td>0</td>\n",
              "            <td>2</td>\n",
              "            <td>4</td>\n",
              "            <td>2</td>\n",
              "            <td>defender</td>\n",
              "            <td>270</td>\n",
              "            <td>1</td>\n",
              "            <td>146</td>\n",
              "            <td>8</td>\n",
              "            <td>0</td>\n",
              "        </tr>\n",
              "        <tr>\n",
              "            <td>Boudebouz</td>\n",
              "            <td>Algeria</td>\n",
              "            <td>30</td>\n",
              "            <td>3</td>\n",
              "            <td>0</td>\n",
              "            <td>1</td>\n",
              "            <td>2</td>\n",
              "            <td>0</td>\n",
              "            <td>2</td>\n",
              "            <td>4</td>\n",
              "            <td>2</td>\n",
              "            <td>midfielder</td>\n",
              "            <td>74</td>\n",
              "            <td>3</td>\n",
              "            <td>28</td>\n",
              "            <td>1</td>\n",
              "            <td>0</td>\n",
              "        </tr>\n",
              "        <tr>\n",
              "            <td>Bougherra</td>\n",
              "            <td>Algeria</td>\n",
              "            <td>30</td>\n",
              "            <td>3</td>\n",
              "            <td>0</td>\n",
              "            <td>1</td>\n",
              "            <td>2</td>\n",
              "            <td>0</td>\n",
              "            <td>2</td>\n",
              "            <td>4</td>\n",
              "            <td>2</td>\n",
              "            <td>defender</td>\n",
              "            <td>270</td>\n",
              "            <td>1</td>\n",
              "            <td>89</td>\n",
              "            <td>11</td>\n",
              "            <td>0</td>\n",
              "        </tr>\n",
              "        <tr>\n",
              "            <td>Chaouchi</td>\n",
              "            <td>Algeria</td>\n",
              "            <td>30</td>\n",
              "            <td>3</td>\n",
              "            <td>0</td>\n",
              "            <td>1</td>\n",
              "            <td>2</td>\n",
              "            <td>0</td>\n",
              "            <td>2</td>\n",
              "            <td>4</td>\n",
              "            <td>2</td>\n",
              "            <td>goalkeeper</td>\n",
              "            <td>90</td>\n",
              "            <td>0</td>\n",
              "            <td>17</td>\n",
              "            <td>0</td>\n",
              "            <td>2</td>\n",
              "        </tr>\n",
              "    </tbody>\n",
              "</table>"
            ],
            "text/plain": [
              "[('Abdoun', 'Algeria', 30, 3, 0, 1, 2, 0, 2, 4, 2, 'midfielder', 16, 0, 6, 0, 0),\n",
              " ('Belhadj', 'Algeria', 30, 3, 0, 1, 2, 0, 2, 4, 2, 'defender', 270, 1, 146, 8, 0),\n",
              " ('Boudebouz', 'Algeria', 30, 3, 0, 1, 2, 0, 2, 4, 2, 'midfielder', 74, 3, 28, 1, 0),\n",
              " ('Bougherra', 'Algeria', 30, 3, 0, 1, 2, 0, 2, 4, 2, 'defender', 270, 1, 89, 11, 0),\n",
              " ('Chaouchi', 'Algeria', 30, 3, 0, 1, 2, 0, 2, 4, 2, 'goalkeeper', 90, 0, 17, 0, 2)]"
            ]
          },
          "metadata": {},
          "execution_count": 5
        }
      ]
    },
    {
      "cell_type": "markdown",
      "source": [
        "Simple query on one table.   \n",
        "Use WHERE for adding one or several conditions.   \n",
        "Use LIKE \"%er%\" to search for words that include the fragment \"er\".   \n",
        "Use ORDER BY to sort."
      ],
      "metadata": {
        "id": "p14UhuHKenPO"
      }
    },
    {
      "cell_type": "code",
      "source": [
        "%%sql\n",
        "SELECT surname, team, minutes, passes\n",
        "FROM Players\n",
        "WHERE team=\"Switzerland\" AND surname LIKE \"%er%\"\n",
        "ORDER BY surname"
      ],
      "metadata": {
        "id": "tYfTNVvmeuVn",
        "outputId": "a385346f-e6e6-4008-d858-6851b0467c61",
        "colab": {
          "base_uri": "https://localhost:8080/",
          "height": 227
        }
      },
      "execution_count": null,
      "outputs": [
        {
          "output_type": "stream",
          "name": "stdout",
          "text": [
            " * sqlite://\n",
            "Done.\n"
          ]
        },
        {
          "output_type": "execute_result",
          "data": {
            "text/html": [
              "<table>\n",
              "    <thead>\n",
              "        <tr>\n",
              "            <th>surname</th>\n",
              "            <th>team</th>\n",
              "            <th>minutes</th>\n",
              "            <th>passes</th>\n",
              "        </tr>\n",
              "    </thead>\n",
              "    <tbody>\n",
              "        <tr>\n",
              "            <td>Derdiyok</td>\n",
              "            <td>Switzerland</td>\n",
              "            <td>191</td>\n",
              "            <td>47</td>\n",
              "        </tr>\n",
              "        <tr>\n",
              "            <td>Fernandes</td>\n",
              "            <td>Switzerland</td>\n",
              "            <td>212</td>\n",
              "            <td>56</td>\n",
              "        </tr>\n",
              "        <tr>\n",
              "            <td>Inler</td>\n",
              "            <td>Switzerland</td>\n",
              "            <td>270</td>\n",
              "            <td>138</td>\n",
              "        </tr>\n",
              "        <tr>\n",
              "            <td>Lichtsteiner</td>\n",
              "            <td>Switzerland</td>\n",
              "            <td>270</td>\n",
              "            <td>80</td>\n",
              "        </tr>\n",
              "        <tr>\n",
              "            <td>Senderos</td>\n",
              "            <td>Switzerland</td>\n",
              "            <td>36</td>\n",
              "            <td>9</td>\n",
              "        </tr>\n",
              "        <tr>\n",
              "            <td>Ziegler</td>\n",
              "            <td>Switzerland</td>\n",
              "            <td>270</td>\n",
              "            <td>71</td>\n",
              "        </tr>\n",
              "        <tr>\n",
              "            <td>von Bergen</td>\n",
              "            <td>Switzerland</td>\n",
              "            <td>234</td>\n",
              "            <td>79</td>\n",
              "        </tr>\n",
              "    </tbody>\n",
              "</table>"
            ],
            "text/plain": [
              "[('Derdiyok', 'Switzerland', 191, 47),\n",
              " ('Fernandes', 'Switzerland', 212, 56),\n",
              " ('Inler', 'Switzerland', 270, 138),\n",
              " ('Lichtsteiner', 'Switzerland', 270, 80),\n",
              " ('Senderos', 'Switzerland', 36, 9),\n",
              " ('Ziegler', 'Switzerland', 270, 71),\n",
              " ('von Bergen', 'Switzerland', 234, 79)]"
            ]
          },
          "metadata": {},
          "execution_count": 6
        }
      ]
    },
    {
      "cell_type": "markdown",
      "source": [
        "Simple aggregation question - using GROUP BY - aggregare results by some criteria.   \n",
        "Use AS to set aliases.   \n",
        "Use WHERE as a condition before GROUP BY and HAVING as a condition after GROUP BY."
      ],
      "metadata": {
        "id": "PG43ghOEgK6S"
      }
    },
    {
      "cell_type": "code",
      "source": [
        "%%sql\n",
        "SELECT team, COUNT(*) AS number_players_listed\n",
        "FROM Players\n",
        "GROUP BY team\n",
        "HAVING number_players_listed<20\n",
        "ORDER BY number_players_listed DESC\n",
        "LIMIT 5"
      ],
      "metadata": {
        "id": "zLlD8CuXgchW",
        "outputId": "74196462-c4be-4a87-d6ad-ea0a518bbeae",
        "colab": {
          "base_uri": "https://localhost:8080/",
          "height": 184
        }
      },
      "execution_count": null,
      "outputs": [
        {
          "output_type": "stream",
          "name": "stdout",
          "text": [
            " * sqlite://\n",
            "Done.\n"
          ]
        },
        {
          "output_type": "execute_result",
          "data": {
            "text/html": [
              "<table>\n",
              "    <thead>\n",
              "        <tr>\n",
              "            <th>team</th>\n",
              "            <th>number_players_listed</th>\n",
              "        </tr>\n",
              "    </thead>\n",
              "    <tbody>\n",
              "        <tr>\n",
              "            <td>Australia</td>\n",
              "            <td>19</td>\n",
              "        </tr>\n",
              "        <tr>\n",
              "            <td>Brazil</td>\n",
              "            <td>19</td>\n",
              "        </tr>\n",
              "        <tr>\n",
              "            <td>Denmark</td>\n",
              "            <td>19</td>\n",
              "        </tr>\n",
              "        <tr>\n",
              "            <td>England</td>\n",
              "            <td>19</td>\n",
              "        </tr>\n",
              "        <tr>\n",
              "            <td>France</td>\n",
              "            <td>19</td>\n",
              "        </tr>\n",
              "    </tbody>\n",
              "</table>"
            ],
            "text/plain": [
              "[('Australia', 19),\n",
              " ('Brazil', 19),\n",
              " ('Denmark', 19),\n",
              " ('England', 19),\n",
              " ('France', 19)]"
            ]
          },
          "metadata": {},
          "execution_count": 7
        }
      ]
    },
    {
      "cell_type": "markdown",
      "source": [
        "Simple join question - using JOIN (default INNER) - when we need information from several tables in the database and we have a common key."
      ],
      "metadata": {
        "id": "1TpNxaDqhTCC"
      }
    },
    {
      "cell_type": "code",
      "source": [
        "%%sql\n",
        "SELECT surname, position, minutes, T.team, ranking, games, wins, draws, losses\n",
        "FROM Players as P\n",
        "JOIN Teams AS T\n",
        "ON P.team=T.team\n",
        "WHERE surname <\"C\"\n",
        "LIMIT 5"
      ],
      "metadata": {
        "id": "ZJuC4UaxhjQL",
        "outputId": "36dcd6c7-2546-4735-e188-12c367555c4d",
        "colab": {
          "base_uri": "https://localhost:8080/",
          "height": 184
        }
      },
      "execution_count": null,
      "outputs": [
        {
          "output_type": "stream",
          "name": "stdout",
          "text": [
            " * sqlite://\n",
            "Done.\n"
          ]
        },
        {
          "output_type": "execute_result",
          "data": {
            "text/html": [
              "<table>\n",
              "    <thead>\n",
              "        <tr>\n",
              "            <th>surname</th>\n",
              "            <th>position</th>\n",
              "            <th>minutes</th>\n",
              "            <th>team</th>\n",
              "            <th>ranking</th>\n",
              "            <th>games</th>\n",
              "            <th>wins</th>\n",
              "            <th>draws</th>\n",
              "            <th>losses</th>\n",
              "        </tr>\n",
              "    </thead>\n",
              "    <tbody>\n",
              "        <tr>\n",
              "            <td>Abdoun</td>\n",
              "            <td>midfielder</td>\n",
              "            <td>16</td>\n",
              "            <td>Algeria</td>\n",
              "            <td>30</td>\n",
              "            <td>3</td>\n",
              "            <td>0</td>\n",
              "            <td>1</td>\n",
              "            <td>2</td>\n",
              "        </tr>\n",
              "        <tr>\n",
              "            <td>Abe</td>\n",
              "            <td>midfielder</td>\n",
              "            <td>351</td>\n",
              "            <td>Japan</td>\n",
              "            <td>45</td>\n",
              "            <td>4</td>\n",
              "            <td>2</td>\n",
              "            <td>1</td>\n",
              "            <td>1</td>\n",
              "        </tr>\n",
              "        <tr>\n",
              "            <td>Abidal</td>\n",
              "            <td>defender</td>\n",
              "            <td>180</td>\n",
              "            <td>France</td>\n",
              "            <td>9</td>\n",
              "            <td>3</td>\n",
              "            <td>0</td>\n",
              "            <td>1</td>\n",
              "            <td>2</td>\n",
              "        </tr>\n",
              "        <tr>\n",
              "            <td>Abou Diaby</td>\n",
              "            <td>midfielder</td>\n",
              "            <td>270</td>\n",
              "            <td>France</td>\n",
              "            <td>9</td>\n",
              "            <td>3</td>\n",
              "            <td>0</td>\n",
              "            <td>1</td>\n",
              "            <td>2</td>\n",
              "        </tr>\n",
              "        <tr>\n",
              "            <td>Aboubakar</td>\n",
              "            <td>forward</td>\n",
              "            <td>46</td>\n",
              "            <td>Cameroon</td>\n",
              "            <td>19</td>\n",
              "            <td>3</td>\n",
              "            <td>0</td>\n",
              "            <td>0</td>\n",
              "            <td>3</td>\n",
              "        </tr>\n",
              "    </tbody>\n",
              "</table>"
            ],
            "text/plain": [
              "[('Abdoun', 'midfielder', 16, 'Algeria', 30, 3, 0, 1, 2),\n",
              " ('Abe', 'midfielder', 351, 'Japan', 45, 4, 2, 1, 1),\n",
              " ('Abidal', 'defender', 180, 'France', 9, 3, 0, 1, 2),\n",
              " ('Abou Diaby', 'midfielder', 270, 'France', 9, 3, 0, 1, 2),\n",
              " ('Aboubakar', 'forward', 46, 'Cameroon', 19, 3, 0, 0, 3)]"
            ]
          },
          "metadata": {},
          "execution_count": 8
        }
      ]
    },
    {
      "cell_type": "markdown",
      "metadata": {
        "id": "as0Jh2YK8WTF"
      },
      "source": [
        "### Basic Exercises\n",
        "\n",
        "The first three questions are already solved for you, so that you have concrete examples of queries. Try to solve the remaining ones!"
      ]
    },
    {
      "cell_type": "markdown",
      "metadata": {
        "collapsed": true,
        "id": "C4zdhp2c8WTG"
      },
      "source": [
        "*1)  Which player on a team ending with \"ia\" played less than 200 minutes and made more than 100 passes? Return the player's surname and team.*\n",
        "\n",
        "**Hint**: To check if attribute A contains a (sub)string S, use the LIKE keyword (e.g. `A like '%S%'`). The % sign indicates a wildcard."
      ]
    },
    {
      "cell_type": "code",
      "metadata": {
        "id": "6K_kIn3b8WTK",
        "outputId": "5137252d-1cd1-446d-ac8f-6d175da1fab9",
        "colab": {
          "base_uri": "https://localhost:8080/",
          "height": 99
        }
      },
      "source": [
        "%%sql\n",
        "select surname, team\n",
        "from Players\n",
        "where Players.team like '%ia'\n",
        "  and Players.minutes < 200 \n",
        "  and Players.passes > 100"
      ],
      "execution_count": null,
      "outputs": [
        {
          "output_type": "stream",
          "name": "stdout",
          "text": [
            " * sqlite://\n",
            "Done.\n"
          ]
        },
        {
          "output_type": "execute_result",
          "data": {
            "text/html": [
              "<table>\n",
              "    <thead>\n",
              "        <tr>\n",
              "            <th>surname</th>\n",
              "            <th>team</th>\n",
              "        </tr>\n",
              "    </thead>\n",
              "    <tbody>\n",
              "        <tr>\n",
              "            <td>Kuzmanovic</td>\n",
              "            <td>Serbia</td>\n",
              "        </tr>\n",
              "    </tbody>\n",
              "</table>"
            ],
            "text/plain": [
              "[('Kuzmanovic', 'Serbia')]"
            ]
          },
          "metadata": {},
          "execution_count": 9
        }
      ]
    },
    {
      "cell_type": "markdown",
      "metadata": {
        "collapsed": true,
        "id": "4gNjdG4H8WTR"
      },
      "source": [
        "*2) Find all players who made more than 20 shots. Return all player information in descending order of shots made.*\n",
        "\n",
        "**Hint**: Sorting results is done via the ORDER BY keyword. The default order is ascending (ASC). If you want descending order, use DESC (e.g. `ORDER BY column_1, column_2 DESC`)."
      ]
    },
    {
      "cell_type": "code",
      "metadata": {
        "id": "wmYeLAw68WTU",
        "outputId": "d3caf862-774b-46c4-ba17-ae1821e5e672",
        "colab": {
          "base_uri": "https://localhost:8080/",
          "height": 142
        }
      },
      "source": [
        "%%sql\n",
        "select *\n",
        "from Players\n",
        "where shots > 20\n",
        "order by shots desc"
      ],
      "execution_count": null,
      "outputs": [
        {
          "output_type": "stream",
          "name": "stdout",
          "text": [
            " * sqlite://\n",
            "Done.\n"
          ]
        },
        {
          "output_type": "execute_result",
          "data": {
            "text/html": [
              "<table>\n",
              "    <thead>\n",
              "        <tr>\n",
              "            <th>surname</th>\n",
              "            <th>team</th>\n",
              "            <th>position</th>\n",
              "            <th>minutes</th>\n",
              "            <th>shots</th>\n",
              "            <th>passes</th>\n",
              "            <th>tackles</th>\n",
              "            <th>saves</th>\n",
              "        </tr>\n",
              "    </thead>\n",
              "    <tbody>\n",
              "        <tr>\n",
              "            <td>Gyan</td>\n",
              "            <td>Ghana</td>\n",
              "            <td>forward</td>\n",
              "            <td>501</td>\n",
              "            <td>27</td>\n",
              "            <td>151</td>\n",
              "            <td>1</td>\n",
              "            <td>0</td>\n",
              "        </tr>\n",
              "        <tr>\n",
              "            <td>Villa</td>\n",
              "            <td>Spain</td>\n",
              "            <td>forward</td>\n",
              "            <td>529</td>\n",
              "            <td>22</td>\n",
              "            <td>169</td>\n",
              "            <td>2</td>\n",
              "            <td>0</td>\n",
              "        </tr>\n",
              "        <tr>\n",
              "            <td>Messi</td>\n",
              "            <td>Argentina</td>\n",
              "            <td>forward</td>\n",
              "            <td>450</td>\n",
              "            <td>21</td>\n",
              "            <td>321</td>\n",
              "            <td>10</td>\n",
              "            <td>0</td>\n",
              "        </tr>\n",
              "    </tbody>\n",
              "</table>"
            ],
            "text/plain": [
              "[('Gyan', 'Ghana', 'forward', 501, 27, 151, 1, 0),\n",
              " ('Villa', 'Spain', 'forward', 529, 22, 169, 2, 0),\n",
              " ('Messi', 'Argentina', 'forward', 450, 21, 321, 10, 0)]"
            ]
          },
          "metadata": {},
          "execution_count": 10
        }
      ]
    },
    {
      "cell_type": "markdown",
      "metadata": {
        "collapsed": true,
        "id": "pLjyR6wh8WTo"
      },
      "source": [
        "*3) Which team has the highest average number of passes per minute played? Return the team's name and average number of passes per minute.*\n",
        "\n",
        "**Hint #1**: You can compute a team's average number of passes per minute played by dividing the total number of passes by the total number of minutes. To force floating point division, multiply one operand by 1.0.\n",
        "\n",
        "**Hint #2**: Consider using the LIMIT keyword."
      ]
    },
    {
      "cell_type": "code",
      "metadata": {
        "id": "7ApyOn9N8WTq",
        "outputId": "0794ce81-c8a5-4db3-fc86-f0199b0c8219",
        "colab": {
          "base_uri": "https://localhost:8080/",
          "height": 99
        }
      },
      "source": [
        "%%sql\n",
        "SELECT *, (1.0 * total_passes / total_minutes) AS avg_ppm\n",
        "FROM (\n",
        "    SELECT team, sum(passes) AS total_passes, sum(minutes) AS total_minutes\n",
        "    FROM PlayersExt\n",
        "    GROUP BY team)\n",
        "ORDER BY avg_ppm DESC\n",
        "LIMIT 1"
      ],
      "execution_count": null,
      "outputs": [
        {
          "output_type": "stream",
          "name": "stdout",
          "text": [
            " * sqlite://\n",
            "Done.\n"
          ]
        },
        {
          "output_type": "execute_result",
          "data": {
            "text/html": [
              "<table>\n",
              "    <thead>\n",
              "        <tr>\n",
              "            <th>team</th>\n",
              "            <th>total_passes</th>\n",
              "            <th>total_minutes</th>\n",
              "            <th>avg_ppm</th>\n",
              "        </tr>\n",
              "    </thead>\n",
              "    <tbody>\n",
              "        <tr>\n",
              "            <td>Spain</td>\n",
              "            <td>3701</td>\n",
              "            <td>5940</td>\n",
              "            <td>0.6230639730639731</td>\n",
              "        </tr>\n",
              "    </tbody>\n",
              "</table>"
            ],
            "text/plain": [
              "[('Spain', 3701, 5940, 0.6230639730639731)]"
            ]
          },
          "metadata": {},
          "execution_count": 45
        }
      ]
    },
    {
      "cell_type": "markdown",
      "metadata": {
        "collapsed": true,
        "id": "aLralf658WTb"
      },
      "source": [
        "*4) Find the goalkeepers of teams that played more than four games. List the surname of the goalkeeper, the team, and the number of minutes the goalkeeper played.*\n",
        "\n",
        "**Hint**: Use the `PlayersExt` table."
      ]
    },
    {
      "cell_type": "code",
      "metadata": {
        "id": "AMRLCwdh8WTc",
        "outputId": "84022e06-5640-41e8-f663-cf4c6333a38e",
        "colab": {
          "base_uri": "https://localhost:8080/",
          "height": 248
        }
      },
      "source": [
        "%%sql\n",
        "select surname, team, minutes\n",
        "from PlayersExt\n",
        "where position like \"goal%\"\n",
        "  and games > 4"
      ],
      "execution_count": null,
      "outputs": [
        {
          "output_type": "stream",
          "name": "stdout",
          "text": [
            " * sqlite://\n",
            "Done.\n"
          ]
        },
        {
          "output_type": "execute_result",
          "data": {
            "text/html": [
              "<table>\n",
              "    <thead>\n",
              "        <tr>\n",
              "            <th>surname</th>\n",
              "            <th>team</th>\n",
              "            <th>minutes</th>\n",
              "        </tr>\n",
              "    </thead>\n",
              "    <tbody>\n",
              "        <tr>\n",
              "            <td>Romero</td>\n",
              "            <td>Argentina</td>\n",
              "            <td>450</td>\n",
              "        </tr>\n",
              "        <tr>\n",
              "            <td>Julio Cesar</td>\n",
              "            <td>Brazil</td>\n",
              "            <td>450</td>\n",
              "        </tr>\n",
              "        <tr>\n",
              "            <td>Neuer</td>\n",
              "            <td>Germany</td>\n",
              "            <td>540</td>\n",
              "        </tr>\n",
              "        <tr>\n",
              "            <td>Kingson</td>\n",
              "            <td>Ghana</td>\n",
              "            <td>510</td>\n",
              "        </tr>\n",
              "        <tr>\n",
              "            <td>Stekelenburg</td>\n",
              "            <td>Netherlands</td>\n",
              "            <td>540</td>\n",
              "        </tr>\n",
              "        <tr>\n",
              "            <td>Villar</td>\n",
              "            <td>Paraguay</td>\n",
              "            <td>480</td>\n",
              "        </tr>\n",
              "        <tr>\n",
              "            <td>Casillas</td>\n",
              "            <td>Spain</td>\n",
              "            <td>540</td>\n",
              "        </tr>\n",
              "        <tr>\n",
              "            <td>Muslera</td>\n",
              "            <td>Uruguay</td>\n",
              "            <td>570</td>\n",
              "        </tr>\n",
              "    </tbody>\n",
              "</table>"
            ],
            "text/plain": [
              "[('Romero', 'Argentina', 450),\n",
              " ('Julio Cesar', 'Brazil', 450),\n",
              " ('Neuer', 'Germany', 540),\n",
              " ('Kingson', 'Ghana', 510),\n",
              " ('Stekelenburg', 'Netherlands', 540),\n",
              " ('Villar', 'Paraguay', 480),\n",
              " ('Casillas', 'Spain', 540),\n",
              " ('Muslera', 'Uruguay', 570)]"
            ]
          },
          "metadata": {},
          "execution_count": 11
        }
      ]
    },
    {
      "cell_type": "markdown",
      "metadata": {
        "collapsed": true,
        "id": "vRT0J7sY8WTh"
      },
      "source": [
        "*5) How many players on a team with a ranking lower than 10 played more than 350 minutes? Return a single number in a column named \"superstar\".*\n",
        "\n",
        "**Hint**: To rename a column, use the AS keyword (e.g. `SELECT column_1 AS label`)."
      ]
    },
    {
      "cell_type": "code",
      "metadata": {
        "id": "hSseV7oi8WTi",
        "outputId": "52de6548-3162-49cf-edae-da3611ca689b",
        "colab": {
          "base_uri": "https://localhost:8080/",
          "height": 99
        }
      },
      "source": [
        "%%sql\n",
        "select count(surname) as superstar\n",
        "from PlayersExt\n",
        "where ranking < 10\n",
        "  and minutes > 350"
      ],
      "execution_count": null,
      "outputs": [
        {
          "output_type": "stream",
          "name": "stdout",
          "text": [
            " * sqlite://\n",
            "Done.\n"
          ]
        },
        {
          "output_type": "execute_result",
          "data": {
            "text/html": [
              "<table>\n",
              "    <thead>\n",
              "        <tr>\n",
              "            <th>superstar</th>\n",
              "        </tr>\n",
              "    </thead>\n",
              "    <tbody>\n",
              "        <tr>\n",
              "            <td>54</td>\n",
              "        </tr>\n",
              "    </tbody>\n",
              "</table>"
            ],
            "text/plain": [
              "[(54,)]"
            ]
          },
          "metadata": {},
          "execution_count": 12
        }
      ]
    },
    {
      "cell_type": "markdown",
      "metadata": {
        "collapsed": true,
        "id": "DZlTul358WTl"
      },
      "source": [
        "*6) What is the average number of passes made by forwards? What about midfielders? Write one query that returns both values with the corresponding position.*\n",
        "\n",
        "**Hint**: Use the GROUP BY keyword. GROUP BY statements are often used in conjuction with aggregate functions like AVG(), SUM() or COUNT(). "
      ]
    },
    {
      "cell_type": "code",
      "metadata": {
        "id": "76mZ7BVJ8WTm",
        "outputId": "8d77e84d-b1ec-46a4-a5c6-4a066dfaa0db",
        "colab": {
          "base_uri": "https://localhost:8080/",
          "height": 120
        }
      },
      "source": [
        "%%sql\n",
        "select position, avg(passes) as \"avg_passes\"\n",
        "from Players\n",
        "where position in (\"forward\", \"midfielder\")\n",
        "group by position"
      ],
      "execution_count": null,
      "outputs": [
        {
          "output_type": "stream",
          "name": "stdout",
          "text": [
            " * sqlite://\n",
            "Done.\n"
          ]
        },
        {
          "output_type": "execute_result",
          "data": {
            "text/html": [
              "<table>\n",
              "    <thead>\n",
              "        <tr>\n",
              "            <th>position</th>\n",
              "            <th>avg_passes</th>\n",
              "        </tr>\n",
              "    </thead>\n",
              "    <tbody>\n",
              "        <tr>\n",
              "            <td>forward</td>\n",
              "            <td>50.82517482517483</td>\n",
              "        </tr>\n",
              "        <tr>\n",
              "            <td>midfielder</td>\n",
              "            <td>95.2719298245614</td>\n",
              "        </tr>\n",
              "    </tbody>\n",
              "</table>"
            ],
            "text/plain": [
              "[('forward', 50.82517482517483), ('midfielder', 95.2719298245614)]"
            ]
          },
          "metadata": {},
          "execution_count": 13
        }
      ]
    },
    {
      "cell_type": "markdown",
      "metadata": {
        "id": "v1dXQKXu8WTv"
      },
      "source": [
        "### Advanced Queries\n",
        "\n",
        "Now, on to more challenging questions..."
      ]
    },
    {
      "cell_type": "markdown",
      "metadata": {
        "id": "js1aBftZ8WTy"
      },
      "source": [
        "*1) Find all pairs of teams that have the same number of `goalsFor` as well as the same number of `goalsAgainst` as each other. Return the team pairs and their respective numbers of `goalsFor` and `goalsAgainst` (make sure to return each pair only once!).*\n",
        "\n",
        "**Hint**: You basically need to do a \"self join\" of the `Teams` table. For that, you need to join different name aliases of the same table. Check [this page](https://www.w3schools.com/sql/sql_join_self.asp) for help."
      ]
    },
    {
      "cell_type": "code",
      "source": [
        "%%sql\n",
        "select *\n",
        "FROM Teams as T1, Teams as T2\n",
        "LIMIT 3"
      ],
      "metadata": {
        "id": "GneYLKpVrwoI",
        "outputId": "e63eecea-727f-4c19-aeab-b3a168b079cc",
        "colab": {
          "base_uri": "https://localhost:8080/",
          "height": 162
        }
      },
      "execution_count": null,
      "outputs": [
        {
          "output_type": "stream",
          "name": "stdout",
          "text": [
            " * sqlite://\n",
            "Done.\n"
          ]
        },
        {
          "output_type": "execute_result",
          "data": {
            "text/html": [
              "<table>\n",
              "    <thead>\n",
              "        <tr>\n",
              "            <th>team</th>\n",
              "            <th>ranking</th>\n",
              "            <th>games</th>\n",
              "            <th>wins</th>\n",
              "            <th>draws</th>\n",
              "            <th>losses</th>\n",
              "            <th>goalsFor</th>\n",
              "            <th>goalsAgainst</th>\n",
              "            <th>yellowCards</th>\n",
              "            <th>redCards</th>\n",
              "            <th>team_1</th>\n",
              "            <th>ranking_1</th>\n",
              "            <th>games_1</th>\n",
              "            <th>wins_1</th>\n",
              "            <th>draws_1</th>\n",
              "            <th>losses_1</th>\n",
              "            <th>goalsFor_1</th>\n",
              "            <th>goalsAgainst_1</th>\n",
              "            <th>yellowCards_1</th>\n",
              "            <th>redCards_1</th>\n",
              "        </tr>\n",
              "    </thead>\n",
              "    <tbody>\n",
              "        <tr>\n",
              "            <td>Brazil</td>\n",
              "            <td>1</td>\n",
              "            <td>5</td>\n",
              "            <td>3</td>\n",
              "            <td>1</td>\n",
              "            <td>1</td>\n",
              "            <td>9</td>\n",
              "            <td>4</td>\n",
              "            <td>7</td>\n",
              "            <td>2</td>\n",
              "            <td>Brazil</td>\n",
              "            <td>1</td>\n",
              "            <td>5</td>\n",
              "            <td>3</td>\n",
              "            <td>1</td>\n",
              "            <td>1</td>\n",
              "            <td>9</td>\n",
              "            <td>4</td>\n",
              "            <td>7</td>\n",
              "            <td>2</td>\n",
              "        </tr>\n",
              "        <tr>\n",
              "            <td>Brazil</td>\n",
              "            <td>1</td>\n",
              "            <td>5</td>\n",
              "            <td>3</td>\n",
              "            <td>1</td>\n",
              "            <td>1</td>\n",
              "            <td>9</td>\n",
              "            <td>4</td>\n",
              "            <td>7</td>\n",
              "            <td>2</td>\n",
              "            <td>Spain</td>\n",
              "            <td>2</td>\n",
              "            <td>6</td>\n",
              "            <td>5</td>\n",
              "            <td>0</td>\n",
              "            <td>1</td>\n",
              "            <td>7</td>\n",
              "            <td>2</td>\n",
              "            <td>3</td>\n",
              "            <td>0</td>\n",
              "        </tr>\n",
              "        <tr>\n",
              "            <td>Brazil</td>\n",
              "            <td>1</td>\n",
              "            <td>5</td>\n",
              "            <td>3</td>\n",
              "            <td>1</td>\n",
              "            <td>1</td>\n",
              "            <td>9</td>\n",
              "            <td>4</td>\n",
              "            <td>7</td>\n",
              "            <td>2</td>\n",
              "            <td>Portugal</td>\n",
              "            <td>3</td>\n",
              "            <td>4</td>\n",
              "            <td>1</td>\n",
              "            <td>2</td>\n",
              "            <td>1</td>\n",
              "            <td>7</td>\n",
              "            <td>1</td>\n",
              "            <td>8</td>\n",
              "            <td>1</td>\n",
              "        </tr>\n",
              "    </tbody>\n",
              "</table>"
            ],
            "text/plain": [
              "[('Brazil', 1, 5, 3, 1, 1, 9, 4, 7, 2, 'Brazil', 1, 5, 3, 1, 1, 9, 4, 7, 2),\n",
              " ('Brazil', 1, 5, 3, 1, 1, 9, 4, 7, 2, 'Spain', 2, 6, 5, 0, 1, 7, 2, 3, 0),\n",
              " ('Brazil', 1, 5, 3, 1, 1, 9, 4, 7, 2, 'Portugal', 3, 4, 1, 2, 1, 7, 1, 8, 1)]"
            ]
          },
          "metadata": {},
          "execution_count": 44
        }
      ]
    },
    {
      "cell_type": "code",
      "metadata": {
        "id": "LzpO1c3V8WTz",
        "outputId": "f087092f-9b7f-4c2b-ab8a-7db48f046277",
        "colab": {
          "base_uri": "https://localhost:8080/",
          "height": 270
        }
      },
      "source": [
        "%%sql\n",
        "select A.team AS team_A, B.team AS team_B, A.goalsFor, A.goalsAgainst\n",
        "from Teams A, Teams B\n",
        "where A.team < B.team \n",
        "  and A.goalsFor = B.goalsFor\n",
        "  and A.goalsAgainst = B.goalsAgainst"
      ],
      "execution_count": null,
      "outputs": [
        {
          "output_type": "stream",
          "name": "stdout",
          "text": [
            " * sqlite://\n",
            "Done.\n"
          ]
        },
        {
          "output_type": "execute_result",
          "data": {
            "text/html": [
              "<table>\n",
              "    <thead>\n",
              "        <tr>\n",
              "            <th>team_A</th>\n",
              "            <th>team_B</th>\n",
              "            <th>goalsFor</th>\n",
              "            <th>goalsAgainst</th>\n",
              "        </tr>\n",
              "    </thead>\n",
              "    <tbody>\n",
              "        <tr>\n",
              "            <td>Italy</td>\n",
              "            <td>Mexico</td>\n",
              "            <td>4</td>\n",
              "            <td>5</td>\n",
              "        </tr>\n",
              "        <tr>\n",
              "            <td>England</td>\n",
              "            <td>Nigeria</td>\n",
              "            <td>3</td>\n",
              "            <td>5</td>\n",
              "        </tr>\n",
              "        <tr>\n",
              "            <td>England</td>\n",
              "            <td>South Africa</td>\n",
              "            <td>3</td>\n",
              "            <td>5</td>\n",
              "        </tr>\n",
              "        <tr>\n",
              "            <td>Chile</td>\n",
              "            <td>England</td>\n",
              "            <td>3</td>\n",
              "            <td>5</td>\n",
              "        </tr>\n",
              "        <tr>\n",
              "            <td>Chile</td>\n",
              "            <td>Nigeria</td>\n",
              "            <td>3</td>\n",
              "            <td>5</td>\n",
              "        </tr>\n",
              "        <tr>\n",
              "            <td>Chile</td>\n",
              "            <td>South Africa</td>\n",
              "            <td>3</td>\n",
              "            <td>5</td>\n",
              "        </tr>\n",
              "        <tr>\n",
              "            <td>Cameroon</td>\n",
              "            <td>Greece</td>\n",
              "            <td>2</td>\n",
              "            <td>5</td>\n",
              "        </tr>\n",
              "        <tr>\n",
              "            <td>Australia</td>\n",
              "            <td>Denmark</td>\n",
              "            <td>3</td>\n",
              "            <td>6</td>\n",
              "        </tr>\n",
              "        <tr>\n",
              "            <td>Nigeria</td>\n",
              "            <td>South Africa</td>\n",
              "            <td>3</td>\n",
              "            <td>5</td>\n",
              "        </tr>\n",
              "    </tbody>\n",
              "</table>"
            ],
            "text/plain": [
              "[('Italy', 'Mexico', 4, 5),\n",
              " ('England', 'Nigeria', 3, 5),\n",
              " ('England', 'South Africa', 3, 5),\n",
              " ('Chile', 'England', 3, 5),\n",
              " ('Chile', 'Nigeria', 3, 5),\n",
              " ('Chile', 'South Africa', 3, 5),\n",
              " ('Cameroon', 'Greece', 2, 5),\n",
              " ('Australia', 'Denmark', 3, 6),\n",
              " ('Nigeria', 'South Africa', 3, 5)]"
            ]
          },
          "metadata": {},
          "execution_count": 43
        }
      ]
    },
    {
      "cell_type": "markdown",
      "metadata": {
        "id": "g9QX2Jie8WT4"
      },
      "source": [
        "*2) Find all teams with a ranking below 30 where no player has made more than 150 passes. Return the team's name and ranking.*\n",
        "\n",
        "**Hint #1**: Consider using the HAVING keyword.\n",
        "\n",
        "**Hint #2**: You may also want to look up nested queries."
      ]
    },
    {
      "cell_type": "code",
      "metadata": {
        "id": "xPOBexhd8WT4",
        "outputId": "54ba52df-47cf-4a5e-adc6-b12ec4762c67",
        "colab": {
          "base_uri": "https://localhost:8080/",
          "height": 142
        }
      },
      "source": [
        "%%sql\n",
        "select team, ranking, max(passes) as max_passes\n",
        "from PlayersExt\n",
        "group by team\n",
        "having ranking < 30\n",
        "  and max_passes <= 150"
      ],
      "execution_count": null,
      "outputs": [
        {
          "output_type": "stream",
          "name": "stdout",
          "text": [
            " * sqlite://\n",
            "Done.\n"
          ]
        },
        {
          "output_type": "execute_result",
          "data": {
            "text/html": [
              "<table>\n",
              "    <thead>\n",
              "        <tr>\n",
              "            <th>team</th>\n",
              "            <th>ranking</th>\n",
              "            <th>max_passes</th>\n",
              "        </tr>\n",
              "    </thead>\n",
              "    <tbody>\n",
              "        <tr>\n",
              "            <td>France</td>\n",
              "            <td>9</td>\n",
              "            <td>125</td>\n",
              "        </tr>\n",
              "        <tr>\n",
              "            <td>Nigeria</td>\n",
              "            <td>21</td>\n",
              "            <td>111</td>\n",
              "        </tr>\n",
              "        <tr>\n",
              "            <td>Switzerland</td>\n",
              "            <td>24</td>\n",
              "            <td>138</td>\n",
              "        </tr>\n",
              "    </tbody>\n",
              "</table>"
            ],
            "text/plain": [
              "[('France', 9, 125), ('Nigeria', 21, 111), ('Switzerland', 24, 138)]"
            ]
          },
          "metadata": {},
          "execution_count": 14
        }
      ]
    },
    {
      "cell_type": "markdown",
      "metadata": {
        "id": "NbJzKIm98WT7"
      },
      "source": [
        "*3) Which team has the highest ratio of goalsFor to goalsAgainst?*"
      ]
    },
    {
      "cell_type": "code",
      "metadata": {
        "id": "Bi2SUQgM8WT8",
        "outputId": "4a058c74-7f4d-4031-8ff4-97cb5fe8cff4",
        "colab": {
          "base_uri": "https://localhost:8080/",
          "height": 99
        }
      },
      "source": [
        "%%sql\n",
        "select team, goalsFor, goalsAgainst, (1.0 * goalsFor / goalsAgainst) as ratio\n",
        "from Teams\n",
        "order by ratio desc\n",
        "limit 1"
      ],
      "execution_count": null,
      "outputs": [
        {
          "output_type": "stream",
          "name": "stdout",
          "text": [
            " * sqlite://\n",
            "Done.\n"
          ]
        },
        {
          "output_type": "execute_result",
          "data": {
            "text/html": [
              "<table>\n",
              "    <thead>\n",
              "        <tr>\n",
              "            <th>team</th>\n",
              "            <th>goalsFor</th>\n",
              "            <th>goalsAgainst</th>\n",
              "            <th>ratio</th>\n",
              "        </tr>\n",
              "    </thead>\n",
              "    <tbody>\n",
              "        <tr>\n",
              "            <td>Portugal</td>\n",
              "            <td>7</td>\n",
              "            <td>1</td>\n",
              "            <td>7.0</td>\n",
              "        </tr>\n",
              "    </tbody>\n",
              "</table>"
            ],
            "text/plain": [
              "[('Portugal', 7, 1, 7.0)]"
            ]
          },
          "metadata": {},
          "execution_count": 15
        }
      ]
    },
    {
      "cell_type": "markdown",
      "metadata": {
        "id": "u_7fplnQ8WT-"
      },
      "source": [
        "*4) Find all teams whose defenders averaged more than 150 passes. Return the team and average number of passes by defenders, in descending order of average passes.*"
      ]
    },
    {
      "cell_type": "code",
      "metadata": {
        "id": "qOapic7E8WT_",
        "outputId": "0e894fb2-8cae-4042-80ed-59947838eb2d",
        "colab": {
          "base_uri": "https://localhost:8080/",
          "height": 184
        }
      },
      "source": [
        "%%sql\n",
        "select team, avg(passes) as avg_passes\n",
        "from PlayersExt\n",
        "where position like \"defender\"\n",
        "group by team\n",
        "having avg_passes > 150\n",
        "order by avg_passes desc"
      ],
      "execution_count": null,
      "outputs": [
        {
          "output_type": "stream",
          "name": "stdout",
          "text": [
            " * sqlite://\n",
            "Done.\n"
          ]
        },
        {
          "output_type": "execute_result",
          "data": {
            "text/html": [
              "<table>\n",
              "    <thead>\n",
              "        <tr>\n",
              "            <th>team</th>\n",
              "            <th>avg_passes</th>\n",
              "        </tr>\n",
              "    </thead>\n",
              "    <tbody>\n",
              "        <tr>\n",
              "            <td>Spain</td>\n",
              "            <td>213.0</td>\n",
              "        </tr>\n",
              "        <tr>\n",
              "            <td>Brazil</td>\n",
              "            <td>190.0</td>\n",
              "        </tr>\n",
              "        <tr>\n",
              "            <td>Germany</td>\n",
              "            <td>189.83333333333334</td>\n",
              "        </tr>\n",
              "        <tr>\n",
              "            <td>Netherlands</td>\n",
              "            <td>182.5</td>\n",
              "        </tr>\n",
              "        <tr>\n",
              "            <td>Mexico</td>\n",
              "            <td>152.14285714285714</td>\n",
              "        </tr>\n",
              "    </tbody>\n",
              "</table>"
            ],
            "text/plain": [
              "[('Spain', 213.0),\n",
              " ('Brazil', 190.0),\n",
              " ('Germany', 189.83333333333334),\n",
              " ('Netherlands', 182.5),\n",
              " ('Mexico', 152.14285714285714)]"
            ]
          },
          "metadata": {},
          "execution_count": 16
        }
      ]
    },
    {
      "cell_type": "markdown",
      "metadata": {
        "id": "QWbQ8phy8WUD"
      },
      "source": [
        "## <font color = 'green' italicized text>Titanic Data (exercises to do at home)</font>"
      ]
    },
    {
      "cell_type": "markdown",
      "metadata": {
        "id": "8BLWKSyM2BGf"
      },
      "source": [
        "This dataset contains the list of passengers who were on board the Titanic.\n",
        "\n",
        "Personal information such as their name, gender and age is shown. We can also see information about their journey (which class they were travelling in, how much they paid, etc.), and whether they survived or not.\n",
        "\n",
        "Feel free to do these exercises on your own time in order to prepare for part 1 of the personal assignment."
      ]
    },
    {
      "cell_type": "code",
      "metadata": {
        "id": "Fef539uG8WUE",
        "outputId": "60cdc53b-a1e3-403b-f6e3-3dd9a1aab5ff",
        "colab": {
          "base_uri": "https://localhost:8080/",
          "height": 92
        }
      },
      "source": [
        "# Load table from CSV file\n",
        "titanic_url = \"https://raw.githubusercontent.com/michalis0/BigScaleAnalytics/master/week2/data/Titanic.csv\"\n",
        "Titanic = pd.read_csv(titanic_url, index_col=0, encoding=\"utf-8\")\n",
        "%sql drop table if exists Titanic;\n",
        "%sql persist Titanic"
      ],
      "execution_count": null,
      "outputs": [
        {
          "output_type": "stream",
          "name": "stdout",
          "text": [
            " * sqlite://\n",
            "Done.\n",
            " * sqlite://\n"
          ]
        },
        {
          "output_type": "execute_result",
          "data": {
            "application/vnd.google.colaboratory.intrinsic+json": {
              "type": "string"
            },
            "text/plain": [
              "'Persisted titanic'"
            ]
          },
          "metadata": {},
          "execution_count": 17
        }
      ]
    },
    {
      "cell_type": "markdown",
      "metadata": {
        "id": "tbJ2MgXT8WUG"
      },
      "source": [
        "### Preview"
      ]
    },
    {
      "cell_type": "code",
      "metadata": {
        "id": "GpCKkNZR8WUH",
        "outputId": "84987edb-2005-4761-a93c-2fd7673c7def",
        "colab": {
          "base_uri": "https://localhost:8080/",
          "height": 184
        }
      },
      "source": [
        "%%sql\n",
        "select * from Titanic limit 5"
      ],
      "execution_count": null,
      "outputs": [
        {
          "output_type": "stream",
          "name": "stdout",
          "text": [
            " * sqlite://\n",
            "Done.\n"
          ]
        },
        {
          "output_type": "execute_result",
          "data": {
            "text/html": [
              "<table>\n",
              "    <thead>\n",
              "        <tr>\n",
              "            <th>last</th>\n",
              "            <th>first</th>\n",
              "            <th>gender</th>\n",
              "            <th>age</th>\n",
              "            <th>class</th>\n",
              "            <th>fare</th>\n",
              "            <th>embarked</th>\n",
              "            <th>survived</th>\n",
              "        </tr>\n",
              "    </thead>\n",
              "    <tbody>\n",
              "        <tr>\n",
              "            <td>Braund</td>\n",
              "            <td>Mr. Owen Harris</td>\n",
              "            <td>M</td>\n",
              "            <td>22.0</td>\n",
              "            <td>3</td>\n",
              "            <td>7.25</td>\n",
              "            <td>Southampton</td>\n",
              "            <td>no</td>\n",
              "        </tr>\n",
              "        <tr>\n",
              "            <td>Cumings</td>\n",
              "            <td>Mrs. John Bradley (Florence Briggs Thayer)</td>\n",
              "            <td>F</td>\n",
              "            <td>38.0</td>\n",
              "            <td>1</td>\n",
              "            <td>71.2833</td>\n",
              "            <td>Cherbourg</td>\n",
              "            <td>yes</td>\n",
              "        </tr>\n",
              "        <tr>\n",
              "            <td>Heikkinen</td>\n",
              "            <td>Miss Laina</td>\n",
              "            <td>F</td>\n",
              "            <td>26.0</td>\n",
              "            <td>3</td>\n",
              "            <td>7.925</td>\n",
              "            <td>Southampton</td>\n",
              "            <td>yes</td>\n",
              "        </tr>\n",
              "        <tr>\n",
              "            <td>Futrelle</td>\n",
              "            <td>Mrs. Jacques Heath (Lily May Peel)</td>\n",
              "            <td>F</td>\n",
              "            <td>35.0</td>\n",
              "            <td>1</td>\n",
              "            <td>53.1</td>\n",
              "            <td>Southampton</td>\n",
              "            <td>yes</td>\n",
              "        </tr>\n",
              "        <tr>\n",
              "            <td>Allen</td>\n",
              "            <td>Mr. William Henry</td>\n",
              "            <td>M</td>\n",
              "            <td>35.0</td>\n",
              "            <td>3</td>\n",
              "            <td>8.05</td>\n",
              "            <td>Southampton</td>\n",
              "            <td>no</td>\n",
              "        </tr>\n",
              "    </tbody>\n",
              "</table>"
            ],
            "text/plain": [
              "[('Braund', 'Mr. Owen Harris', 'M', 22.0, 3, 7.25, 'Southampton', 'no'),\n",
              " ('Cumings', 'Mrs. John Bradley (Florence Briggs Thayer)', 'F', 38.0, 1, 71.2833, 'Cherbourg', 'yes'),\n",
              " ('Heikkinen', 'Miss Laina', 'F', 26.0, 3, 7.925, 'Southampton', 'yes'),\n",
              " ('Futrelle', 'Mrs. Jacques Heath (Lily May Peel)', 'F', 35.0, 1, 53.1, 'Southampton', 'yes'),\n",
              " ('Allen', 'Mr. William Henry', 'M', 35.0, 3, 8.05, 'Southampton', 'no')]"
            ]
          },
          "metadata": {},
          "execution_count": 18
        }
      ]
    },
    {
      "cell_type": "markdown",
      "metadata": {
        "id": "i1uXCjq68WUJ"
      },
      "source": [
        "### Basic Queries"
      ]
    },
    {
      "cell_type": "markdown",
      "metadata": {
        "collapsed": true,
        "id": "OZxzuzCw8WUK"
      },
      "source": [
        "*1) How many married women over age 50 embarked in Cherbourg?*\n",
        "\n",
        "**Hint**: You will need to use wildcards."
      ]
    },
    {
      "cell_type": "code",
      "metadata": {
        "id": "YkqQht348WUL",
        "outputId": "717c0be2-27e2-4ba5-b8c3-96456a3cebb1",
        "colab": {
          "base_uri": "https://localhost:8080/",
          "height": 99
        }
      },
      "source": [
        "%%sql\n",
        "select count(*) as count\n",
        "from Titanic\n",
        "where gender like \"F\"\n",
        "  and embarked like \"Cherbourg\"\n",
        "  and age > 5\n",
        "  and first like \"%(%)%\""
      ],
      "execution_count": null,
      "outputs": [
        {
          "output_type": "stream",
          "name": "stdout",
          "text": [
            " * sqlite://\n",
            "Done.\n"
          ]
        },
        {
          "output_type": "execute_result",
          "data": {
            "text/html": [
              "<table>\n",
              "    <thead>\n",
              "        <tr>\n",
              "            <th>count</th>\n",
              "        </tr>\n",
              "    </thead>\n",
              "    <tbody>\n",
              "        <tr>\n",
              "            <td>24</td>\n",
              "        </tr>\n",
              "    </tbody>\n",
              "</table>"
            ],
            "text/plain": [
              "[(24,)]"
            ]
          },
          "metadata": {},
          "execution_count": 19
        }
      ]
    },
    {
      "cell_type": "markdown",
      "metadata": {
        "collapsed": true,
        "id": "uSB3G2dg8WUQ"
      },
      "source": [
        "*2) List the average fare paid by passengers in each of the embarkation cities (along with the city), in descending order of average fare.*"
      ]
    },
    {
      "cell_type": "code",
      "metadata": {
        "id": "31-xalVn8WUR",
        "outputId": "f29ccd11-5a1f-460f-bc28-b0e5b437258f",
        "colab": {
          "base_uri": "https://localhost:8080/",
          "height": 142
        }
      },
      "source": [
        "%%sql\n",
        "select embarked, avg(fare) as avg_fare\n",
        "from Titanic\n",
        "group by embarked\n",
        "order by avg_fare desc"
      ],
      "execution_count": null,
      "outputs": [
        {
          "output_type": "stream",
          "name": "stdout",
          "text": [
            " * sqlite://\n",
            "Done.\n"
          ]
        },
        {
          "output_type": "execute_result",
          "data": {
            "text/html": [
              "<table>\n",
              "    <thead>\n",
              "        <tr>\n",
              "            <th>embarked</th>\n",
              "            <th>avg_fare</th>\n",
              "        </tr>\n",
              "    </thead>\n",
              "    <tbody>\n",
              "        <tr>\n",
              "            <td>Cherbourg</td>\n",
              "            <td>59.95414404761905</td>\n",
              "        </tr>\n",
              "        <tr>\n",
              "            <td>Southampton</td>\n",
              "            <td>27.243651393188795</td>\n",
              "        </tr>\n",
              "        <tr>\n",
              "            <td>Queenstown</td>\n",
              "            <td>13.276029870129872</td>\n",
              "        </tr>\n",
              "    </tbody>\n",
              "</table>"
            ],
            "text/plain": [
              "[('Cherbourg', 59.95414404761905),\n",
              " ('Southampton', 27.243651393188795),\n",
              " ('Queenstown', 13.276029870129872)]"
            ]
          },
          "metadata": {},
          "execution_count": 20
        }
      ]
    },
    {
      "cell_type": "markdown",
      "metadata": {
        "collapsed": true,
        "id": "rEL4ECjg8WUV"
      },
      "source": [
        "*3) What is the most common last name among passengers?*"
      ]
    },
    {
      "cell_type": "code",
      "metadata": {
        "id": "T4r9akbA8WUX",
        "outputId": "cf64d169-36ec-4a03-9a5d-61c0f8a277cc",
        "colab": {
          "base_uri": "https://localhost:8080/",
          "height": 99
        }
      },
      "source": [
        "%%sql\n",
        "select last, count(last) as occ\n",
        "from Titanic\n",
        "group by last\n",
        "order by occ desc\n",
        "limit 1"
      ],
      "execution_count": null,
      "outputs": [
        {
          "output_type": "stream",
          "name": "stdout",
          "text": [
            " * sqlite://\n",
            "Done.\n"
          ]
        },
        {
          "output_type": "execute_result",
          "data": {
            "text/html": [
              "<table>\n",
              "    <thead>\n",
              "        <tr>\n",
              "            <th>last</th>\n",
              "            <th>occ</th>\n",
              "        </tr>\n",
              "    </thead>\n",
              "    <tbody>\n",
              "        <tr>\n",
              "            <td>Andersson</td>\n",
              "            <td>9</td>\n",
              "        </tr>\n",
              "    </tbody>\n",
              "</table>"
            ],
            "text/plain": [
              "[('Andersson', 9)]"
            ]
          },
          "metadata": {},
          "execution_count": 21
        }
      ]
    },
    {
      "cell_type": "markdown",
      "metadata": {
        "collapsed": true,
        "id": "OqIfsDiu8WUa"
      },
      "source": [
        "*4) Write 3 queries:*\n",
        "\n",
        "* *Total number of passengers*\n",
        "* *Number of passengers under 30*\n",
        "* *Number of passengers 30 or older*\n",
        "\n",
        "*Why do the second and third numbers not add up to the first?*"
      ]
    },
    {
      "cell_type": "code",
      "metadata": {
        "id": "mc-KOeLo8WUb",
        "outputId": "5e9ccdaa-3a16-482c-89d9-803c9f972ddf",
        "colab": {
          "base_uri": "https://localhost:8080/",
          "height": 99
        }
      },
      "source": [
        "%%sql\n",
        "select count(*) from Titanic"
      ],
      "execution_count": null,
      "outputs": [
        {
          "output_type": "stream",
          "name": "stdout",
          "text": [
            " * sqlite://\n",
            "Done.\n"
          ]
        },
        {
          "output_type": "execute_result",
          "data": {
            "text/html": [
              "<table>\n",
              "    <thead>\n",
              "        <tr>\n",
              "            <th>count(*)</th>\n",
              "        </tr>\n",
              "    </thead>\n",
              "    <tbody>\n",
              "        <tr>\n",
              "            <td>891</td>\n",
              "        </tr>\n",
              "    </tbody>\n",
              "</table>"
            ],
            "text/plain": [
              "[(891,)]"
            ]
          },
          "metadata": {},
          "execution_count": 22
        }
      ]
    },
    {
      "cell_type": "code",
      "metadata": {
        "id": "n_UtmFrl8WUe",
        "outputId": "b08b79fb-b03a-426c-e9fa-4c5cc6583722",
        "colab": {
          "base_uri": "https://localhost:8080/",
          "height": 99
        }
      },
      "source": [
        "%%sql\n",
        "select count(*) from Titanic where age < 30"
      ],
      "execution_count": null,
      "outputs": [
        {
          "output_type": "stream",
          "name": "stdout",
          "text": [
            " * sqlite://\n",
            "Done.\n"
          ]
        },
        {
          "output_type": "execute_result",
          "data": {
            "text/html": [
              "<table>\n",
              "    <thead>\n",
              "        <tr>\n",
              "            <th>count(*)</th>\n",
              "        </tr>\n",
              "    </thead>\n",
              "    <tbody>\n",
              "        <tr>\n",
              "            <td>384</td>\n",
              "        </tr>\n",
              "    </tbody>\n",
              "</table>"
            ],
            "text/plain": [
              "[(384,)]"
            ]
          },
          "metadata": {},
          "execution_count": 23
        }
      ]
    },
    {
      "cell_type": "code",
      "metadata": {
        "id": "1SUbq9q98WUj",
        "outputId": "b772d9da-b7d2-4ee7-8535-24e48c213400",
        "colab": {
          "base_uri": "https://localhost:8080/",
          "height": 99
        }
      },
      "source": [
        "%%sql\n",
        "select count(*) from Titanic where age >= 30"
      ],
      "execution_count": null,
      "outputs": [
        {
          "output_type": "stream",
          "name": "stdout",
          "text": [
            " * sqlite://\n",
            "Done.\n"
          ]
        },
        {
          "output_type": "execute_result",
          "data": {
            "text/html": [
              "<table>\n",
              "    <thead>\n",
              "        <tr>\n",
              "            <th>count(*)</th>\n",
              "        </tr>\n",
              "    </thead>\n",
              "    <tbody>\n",
              "        <tr>\n",
              "            <td>330</td>\n",
              "        </tr>\n",
              "    </tbody>\n",
              "</table>"
            ],
            "text/plain": [
              "[(330,)]"
            ]
          },
          "metadata": {},
          "execution_count": 24
        }
      ]
    },
    {
      "cell_type": "markdown",
      "metadata": {
        "collapsed": true,
        "id": "oGoJIsqS8WUm"
      },
      "source": [
        "Blanks in SQL tables are given a special value `null`, and conditions like `A is null` and `A is not null` can be used in WHERE statements to check whether attribute A contains blank values or not. "
      ]
    },
    {
      "cell_type": "markdown",
      "metadata": {
        "id": "ZjyG3fkhBxFW"
      },
      "source": [
        "*5) How many passengers don't have a value for age? Now do your numbers add up?*"
      ]
    },
    {
      "cell_type": "code",
      "metadata": {
        "id": "yvK_LOoJ8WUm",
        "outputId": "74ac5eeb-a7c3-4a55-a817-91f305e540f6",
        "colab": {
          "base_uri": "https://localhost:8080/",
          "height": 99
        }
      },
      "source": [
        "%%sql\n",
        "select count(*) from Titanic where age is null"
      ],
      "execution_count": null,
      "outputs": [
        {
          "output_type": "stream",
          "name": "stdout",
          "text": [
            " * sqlite://\n",
            "Done.\n"
          ]
        },
        {
          "output_type": "execute_result",
          "data": {
            "text/html": [
              "<table>\n",
              "    <thead>\n",
              "        <tr>\n",
              "            <th>count(*)</th>\n",
              "        </tr>\n",
              "    </thead>\n",
              "    <tbody>\n",
              "        <tr>\n",
              "            <td>177</td>\n",
              "        </tr>\n",
              "    </tbody>\n",
              "</table>"
            ],
            "text/plain": [
              "[(177,)]"
            ]
          },
          "metadata": {},
          "execution_count": 25
        }
      ]
    },
    {
      "cell_type": "markdown",
      "metadata": {
        "collapsed": true,
        "id": "-Xj20xpl8WUq"
      },
      "source": [
        "*6) How many passengers were in each of the following categories, and what was their average fare paid?*\n",
        "\n",
        "* *Male survivors*\n",
        "* *Female survivors*\n",
        "* *Male non-survivors*\n",
        "* *Female non-survivors*"
      ]
    },
    {
      "cell_type": "code",
      "metadata": {
        "id": "mUnjnnH28WUt",
        "outputId": "297c82cc-6b42-4f08-c3af-298b824837e2",
        "colab": {
          "base_uri": "https://localhost:8080/",
          "height": 163
        }
      },
      "source": [
        "%%sql\n",
        "select gender, survived, count(*) as number, avg(fare) as avg_fare\n",
        "from Titanic\n",
        "group by gender, survived"
      ],
      "execution_count": null,
      "outputs": [
        {
          "output_type": "stream",
          "name": "stdout",
          "text": [
            " * sqlite://\n",
            "Done.\n"
          ]
        },
        {
          "output_type": "execute_result",
          "data": {
            "text/html": [
              "<table>\n",
              "    <thead>\n",
              "        <tr>\n",
              "            <th>gender</th>\n",
              "            <th>survived</th>\n",
              "            <th>number</th>\n",
              "            <th>avg_fare</th>\n",
              "        </tr>\n",
              "    </thead>\n",
              "    <tbody>\n",
              "        <tr>\n",
              "            <td>F</td>\n",
              "            <td>no</td>\n",
              "            <td>81</td>\n",
              "            <td>23.02438518518519</td>\n",
              "        </tr>\n",
              "        <tr>\n",
              "            <td>F</td>\n",
              "            <td>yes</td>\n",
              "            <td>233</td>\n",
              "            <td>51.93857339055791</td>\n",
              "        </tr>\n",
              "        <tr>\n",
              "            <td>M</td>\n",
              "            <td>no</td>\n",
              "            <td>468</td>\n",
              "            <td>21.960992948717944</td>\n",
              "        </tr>\n",
              "        <tr>\n",
              "            <td>M</td>\n",
              "            <td>yes</td>\n",
              "            <td>109</td>\n",
              "            <td>40.82148440366974</td>\n",
              "        </tr>\n",
              "    </tbody>\n",
              "</table>"
            ],
            "text/plain": [
              "[('F', 'no', 81, 23.02438518518519),\n",
              " ('F', 'yes', 233, 51.93857339055791),\n",
              " ('M', 'no', 468, 21.960992948717944),\n",
              " ('M', 'yes', 109, 40.82148440366974)]"
            ]
          },
          "metadata": {},
          "execution_count": 26
        }
      ]
    },
    {
      "cell_type": "markdown",
      "metadata": {
        "id": "sWTpFjoG8WUy"
      },
      "source": [
        "### Advanced Queries"
      ]
    },
    {
      "cell_type": "markdown",
      "metadata": {
        "id": "ND9eL-2M8WUz"
      },
      "source": [
        "*1) Are there any pairs of passengers with the same last name where one is in first class and the other is in third class?*\n",
        "\n",
        "*If so, return the last name and each person's first name. Label the first name column as \"first\" for the passenger in first class, and \"third\" for the passenger in third class.*"
      ]
    },
    {
      "cell_type": "code",
      "metadata": {
        "id": "5xp2zfy-8WU0",
        "outputId": "415dcddc-9f26-4253-ef63-71c237e0dd7f",
        "colab": {
          "base_uri": "https://localhost:8080/",
          "height": 270
        }
      },
      "source": [
        "%%sql\n",
        "select t1.last, t1.first as first, t2.first as third\n",
        "from Titanic t1, Titanic t2\n",
        "where t1.last = t2.last\n",
        "  and t1.first <> t2.first\n",
        "  and t1.class = 1\n",
        "  and t2. class = 3"
      ],
      "execution_count": null,
      "outputs": [
        {
          "output_type": "stream",
          "name": "stdout",
          "text": [
            " * sqlite://\n",
            "Done.\n"
          ]
        },
        {
          "output_type": "execute_result",
          "data": {
            "text/html": [
              "<table>\n",
              "    <thead>\n",
              "        <tr>\n",
              "            <th>last</th>\n",
              "            <th>first</th>\n",
              "            <th>third</th>\n",
              "        </tr>\n",
              "    </thead>\n",
              "    <tbody>\n",
              "        <tr>\n",
              "            <td>Allen</td>\n",
              "            <td>Miss Elisabeth Walton</td>\n",
              "            <td>Mr. William Henry</td>\n",
              "        </tr>\n",
              "        <tr>\n",
              "            <td>Smith</td>\n",
              "            <td>Mr. James Clinch</td>\n",
              "            <td>Mr. Thomas</td>\n",
              "        </tr>\n",
              "        <tr>\n",
              "            <td>Smith</td>\n",
              "            <td>Mr. Richard William</td>\n",
              "            <td>Mr. Thomas</td>\n",
              "        </tr>\n",
              "        <tr>\n",
              "            <td>Williams</td>\n",
              "            <td>Mr. Charles Duane</td>\n",
              "            <td> Mr. Howard Hugh &quot;Harry&quot;</td>\n",
              "        </tr>\n",
              "        <tr>\n",
              "            <td>Flynn</td>\n",
              "            <td> Mr. John Irwin (&quot;Irving&quot;)</td>\n",
              "            <td>Mr. James</td>\n",
              "        </tr>\n",
              "        <tr>\n",
              "            <td>Daly</td>\n",
              "            <td>Mr. Peter Denis</td>\n",
              "            <td>Mr. Eugene Patrick</td>\n",
              "        </tr>\n",
              "        <tr>\n",
              "            <td>Williams</td>\n",
              "            <td>Mr. Charles Duane</td>\n",
              "            <td>Mr. Leslie</td>\n",
              "        </tr>\n",
              "        <tr>\n",
              "            <td>Carlsson</td>\n",
              "            <td>Mr. Frans Olof</td>\n",
              "            <td>Mr. August Sigfrid</td>\n",
              "        </tr>\n",
              "        <tr>\n",
              "            <td>Flynn</td>\n",
              "            <td> Mr. John Irwin (&quot;Irving&quot;)</td>\n",
              "            <td>Mr. John</td>\n",
              "        </tr>\n",
              "    </tbody>\n",
              "</table>"
            ],
            "text/plain": [
              "[('Allen', 'Miss Elisabeth Walton', 'Mr. William Henry'),\n",
              " ('Smith', 'Mr. James Clinch', 'Mr. Thomas'),\n",
              " ('Smith', 'Mr. Richard William', 'Mr. Thomas'),\n",
              " ('Williams', 'Mr. Charles Duane', ' Mr. Howard Hugh \"Harry\"'),\n",
              " ('Flynn', ' Mr. John Irwin (\"Irving\")', 'Mr. James'),\n",
              " ('Daly', 'Mr. Peter Denis', 'Mr. Eugene Patrick'),\n",
              " ('Williams', 'Mr. Charles Duane', 'Mr. Leslie'),\n",
              " ('Carlsson', 'Mr. Frans Olof', 'Mr. August Sigfrid'),\n",
              " ('Flynn', ' Mr. John Irwin (\"Irving\")', 'Mr. John')]"
            ]
          },
          "metadata": {},
          "execution_count": 27
        }
      ]
    },
    {
      "cell_type": "markdown",
      "metadata": {
        "id": "08oP8DlB8WU3"
      },
      "source": [
        "*2) Which embarkation cities have more than 40 passengers whose age is missing?*"
      ]
    },
    {
      "cell_type": "code",
      "metadata": {
        "id": "8THmi4gQ8WU4",
        "outputId": "4f97dbfb-ebdf-4eff-fb84-9e9e2236f37b",
        "colab": {
          "base_uri": "https://localhost:8080/",
          "height": 120
        }
      },
      "source": [
        "%%sql\n",
        "select embarked, count(*) as missing_age\n",
        "from Titanic\n",
        "where age is null\n",
        "group by embarked\n",
        "having missing_age > 40"
      ],
      "execution_count": null,
      "outputs": [
        {
          "output_type": "stream",
          "name": "stdout",
          "text": [
            " * sqlite://\n",
            "Done.\n"
          ]
        },
        {
          "output_type": "execute_result",
          "data": {
            "text/html": [
              "<table>\n",
              "    <thead>\n",
              "        <tr>\n",
              "            <th>embarked</th>\n",
              "            <th>missing_age</th>\n",
              "        </tr>\n",
              "    </thead>\n",
              "    <tbody>\n",
              "        <tr>\n",
              "            <td>Queenstown</td>\n",
              "            <td>49</td>\n",
              "        </tr>\n",
              "        <tr>\n",
              "            <td>Southampton</td>\n",
              "            <td>90</td>\n",
              "        </tr>\n",
              "    </tbody>\n",
              "</table>"
            ],
            "text/plain": [
              "[('Queenstown', 49), ('Southampton', 90)]"
            ]
          },
          "metadata": {},
          "execution_count": 28
        }
      ]
    },
    {
      "cell_type": "markdown",
      "metadata": {
        "id": "d4tQhkGW8WU7"
      },
      "source": [
        "*3) Find all classes where the average fare paid by passengers in that class was more than twice the overall average or less than half the overall average.*"
      ]
    },
    {
      "cell_type": "code",
      "metadata": {
        "id": "iY4YeOXf8WU7",
        "outputId": "5ac2dae3-2645-4f48-cdf0-fc65cb708fd0",
        "colab": {
          "base_uri": "https://localhost:8080/",
          "height": 120
        }
      },
      "source": [
        "%%sql\n",
        "select class, avg(fare) as avg_fare\n",
        "from Titanic\n",
        "group by class\n",
        "having avg_fare > (2 * (select avg(fare) from Titanic))\n",
        "  or avg_fare < ((select avg(fare) from Titanic) / 2)"
      ],
      "execution_count": null,
      "outputs": [
        {
          "output_type": "stream",
          "name": "stdout",
          "text": [
            " * sqlite://\n",
            "Done.\n"
          ]
        },
        {
          "output_type": "execute_result",
          "data": {
            "text/html": [
              "<table>\n",
              "    <thead>\n",
              "        <tr>\n",
              "            <th>class</th>\n",
              "            <th>avg_fare</th>\n",
              "        </tr>\n",
              "    </thead>\n",
              "    <tbody>\n",
              "        <tr>\n",
              "            <td>1</td>\n",
              "            <td>84.15468749999992</td>\n",
              "        </tr>\n",
              "        <tr>\n",
              "            <td>3</td>\n",
              "            <td>13.675550101832997</td>\n",
              "        </tr>\n",
              "    </tbody>\n",
              "</table>"
            ],
            "text/plain": [
              "[(1, 84.15468749999992), (3, 13.675550101832997)]"
            ]
          },
          "metadata": {},
          "execution_count": 29
        }
      ]
    },
    {
      "cell_type": "markdown",
      "metadata": {
        "id": "PeGyTGge8WU-"
      },
      "source": [
        "*4) EXTRA DIFFICULT CHALLENGE: List each class and its survival rate, i.e., the fraction of passengers in that class who survived.*"
      ]
    },
    {
      "cell_type": "code",
      "metadata": {
        "id": "24S9LzVw8WU-",
        "outputId": "ac31b64c-1d74-4b76-ff5c-1833e86dcfba",
        "colab": {
          "base_uri": "https://localhost:8080/",
          "height": 142
        }
      },
      "source": [
        "%%sql\n",
        "select t1.class, (1.0 * survivors / total_class) as survival_rate\n",
        "from (select class, count(*) as total_class from Titanic group by class) t1\n",
        "join (select class, count(*) as survivors from Titanic where survived like 'yes' group by class) t2\n",
        "on t1.class = t2.class"
      ],
      "execution_count": null,
      "outputs": [
        {
          "output_type": "stream",
          "name": "stdout",
          "text": [
            " * sqlite://\n",
            "Done.\n"
          ]
        },
        {
          "output_type": "execute_result",
          "data": {
            "text/html": [
              "<table>\n",
              "    <thead>\n",
              "        <tr>\n",
              "            <th>class</th>\n",
              "            <th>survival_rate</th>\n",
              "        </tr>\n",
              "    </thead>\n",
              "    <tbody>\n",
              "        <tr>\n",
              "            <td>1</td>\n",
              "            <td>0.6296296296296297</td>\n",
              "        </tr>\n",
              "        <tr>\n",
              "            <td>2</td>\n",
              "            <td>0.47282608695652173</td>\n",
              "        </tr>\n",
              "        <tr>\n",
              "            <td>3</td>\n",
              "            <td>0.24236252545824846</td>\n",
              "        </tr>\n",
              "    </tbody>\n",
              "</table>"
            ],
            "text/plain": [
              "[(1, 0.6296296296296297), (2, 0.47282608695652173), (3, 0.24236252545824846)]"
            ]
          },
          "metadata": {},
          "execution_count": 30
        }
      ]
    },
    {
      "cell_type": "markdown",
      "metadata": {
        "id": "t5oNolyg8WVB"
      },
      "source": [
        "### Titanic Data Modification\n",
        "\n",
        "Here again, we are giving you the solution for the first two questions to get you acquainted with the modification syntax.\n",
        "\n",
        "Note: You may want to reload the CSV frequently to reset the data as you experiment with modifications."
      ]
    },
    {
      "cell_type": "code",
      "metadata": {
        "id": "EjnhXy1k8WVB",
        "outputId": "c5aae821-878c-4363-9e42-53732c284f9c",
        "colab": {
          "base_uri": "https://localhost:8080/",
          "height": 92
        }
      },
      "source": [
        "# Load table from CSV file\n",
        "titanic_url = \"https://raw.githubusercontent.com/michalis0/BigScaleAnalytics/master/week2/data/Titanic.csv\"\n",
        "Titanic = pd.read_csv(titanic_url, index_col=0, encoding=\"utf-8\")\n",
        "%sql drop table if exists Titanic;\n",
        "%sql persist Titanic"
      ],
      "execution_count": null,
      "outputs": [
        {
          "output_type": "stream",
          "name": "stdout",
          "text": [
            " * sqlite://\n",
            "Done.\n",
            " * sqlite://\n"
          ]
        },
        {
          "output_type": "execute_result",
          "data": {
            "application/vnd.google.colaboratory.intrinsic+json": {
              "type": "string"
            },
            "text/plain": [
              "'Persisted titanic'"
            ]
          },
          "metadata": {},
          "execution_count": 31
        }
      ]
    },
    {
      "cell_type": "markdown",
      "metadata": {
        "id": "L-loAKBy8WVE"
      },
      "source": [
        "*1) Subtract 5 from the fare paid by all passengers under the age of 10. Then compute the new average fare similar to question 2 in the previous section.*\n",
        "\n",
        "**Hint #1**: You can put two SQL statements in one cell separated by a semicolon.\n",
        "\n",
        "**Hint #2**: Use the UPDATE and SET keywords to modify a column (see [documentation](https://www.w3schools.com/sql/sql_update.asp))."
      ]
    },
    {
      "cell_type": "code",
      "metadata": {
        "id": "f_NL7NFl8WVF",
        "outputId": "0d7c09d5-c125-4ca7-ba6f-408c51a988f5",
        "colab": {
          "base_uri": "https://localhost:8080/",
          "height": 160
        }
      },
      "source": [
        "%%sql\n",
        "update Titanic\n",
        "set fare = fare - 5\n",
        "where age < 10\n",
        ";\n",
        "select embarked, avg(fare) as avg_fare\n",
        "from Titanic\n",
        "group by embarked\n",
        "order by avg_fare desc"
      ],
      "execution_count": null,
      "outputs": [
        {
          "output_type": "stream",
          "name": "stdout",
          "text": [
            " * sqlite://\n",
            "62 rows affected.\n",
            "Done.\n"
          ]
        },
        {
          "output_type": "execute_result",
          "data": {
            "text/html": [
              "<table>\n",
              "    <thead>\n",
              "        <tr>\n",
              "            <th>embarked</th>\n",
              "            <th>avg_fare</th>\n",
              "        </tr>\n",
              "    </thead>\n",
              "    <tbody>\n",
              "        <tr>\n",
              "            <td>Cherbourg</td>\n",
              "            <td>59.68628690476191</td>\n",
              "        </tr>\n",
              "        <tr>\n",
              "            <td>Southampton</td>\n",
              "            <td>26.86439442724453</td>\n",
              "        </tr>\n",
              "        <tr>\n",
              "            <td>Queenstown</td>\n",
              "            <td>13.016289610389611</td>\n",
              "        </tr>\n",
              "    </tbody>\n",
              "</table>"
            ],
            "text/plain": [
              "[('Cherbourg', 59.68628690476191),\n",
              " ('Southampton', 26.86439442724453),\n",
              " ('Queenstown', 13.016289610389611)]"
            ]
          },
          "metadata": {},
          "execution_count": 32
        }
      ]
    },
    {
      "cell_type": "markdown",
      "metadata": {
        "id": "O_nxrddE8WVI"
      },
      "source": [
        "*2) Create a new table called \"Survivors\" containing the first and last names of all passengers who survived. Then count the number of tuples in the new table.*\n",
        "\n",
        "**Hint**: Use the CREATE TABLE keyword."
      ]
    },
    {
      "cell_type": "code",
      "metadata": {
        "id": "zNquUcYX8WVK",
        "outputId": "7b567d9e-b101-4493-f3f5-9f0a27116b11",
        "colab": {
          "base_uri": "https://localhost:8080/",
          "height": 136
        }
      },
      "source": [
        "%%sql\n",
        "drop table if exists Survivors\n",
        ";\n",
        "create table Survivors as\n",
        "select first, last\n",
        "from Titanic \n",
        "where survived = \"yes\"\n",
        ";\n",
        "select count(*) as count from Survivors"
      ],
      "execution_count": null,
      "outputs": [
        {
          "output_type": "stream",
          "name": "stdout",
          "text": [
            " * sqlite://\n",
            "Done.\n",
            "Done.\n",
            "Done.\n"
          ]
        },
        {
          "output_type": "execute_result",
          "data": {
            "text/html": [
              "<table>\n",
              "    <thead>\n",
              "        <tr>\n",
              "            <th>count</th>\n",
              "        </tr>\n",
              "    </thead>\n",
              "    <tbody>\n",
              "        <tr>\n",
              "            <td>342</td>\n",
              "        </tr>\n",
              "    </tbody>\n",
              "</table>"
            ],
            "text/plain": [
              "[(342,)]"
            ]
          },
          "metadata": {},
          "execution_count": 33
        }
      ]
    },
    {
      "cell_type": "markdown",
      "metadata": {
        "id": "9UNpd5NI8WVT"
      },
      "source": [
        "*3) In the Titanic table, delete all but the passengers who paid more than 300. Then count the number of tuples in the table.*\n",
        "\n",
        "**Hint**: Use the DELETE FROM keyword."
      ]
    },
    {
      "cell_type": "code",
      "metadata": {
        "id": "2cVPzxEY8WVV",
        "outputId": "4db5f158-c6e5-44d4-f9ae-d00d00c06b11",
        "colab": {
          "base_uri": "https://localhost:8080/",
          "height": 117
        }
      },
      "source": [
        "%%sql\n",
        "delete from Titanic\n",
        "where fare <= 300\n",
        ";\n",
        "select count(*) as count from Titanic"
      ],
      "execution_count": null,
      "outputs": [
        {
          "output_type": "stream",
          "name": "stdout",
          "text": [
            " * sqlite://\n",
            "888 rows affected.\n",
            "Done.\n"
          ]
        },
        {
          "output_type": "execute_result",
          "data": {
            "text/html": [
              "<table>\n",
              "    <thead>\n",
              "        <tr>\n",
              "            <th>count</th>\n",
              "        </tr>\n",
              "    </thead>\n",
              "    <tbody>\n",
              "        <tr>\n",
              "            <td>3</td>\n",
              "        </tr>\n",
              "    </tbody>\n",
              "</table>"
            ],
            "text/plain": [
              "[(3,)]"
            ]
          },
          "metadata": {},
          "execution_count": 34
        }
      ]
    },
    {
      "cell_type": "markdown",
      "metadata": {
        "id": "mNVJ03FM8WVY"
      },
      "source": [
        "*4) In what's left of the table after question 3, insert a new tuple for yourself. You can decide your class, fare, where you embarked, and whether you survived. Then show the whole table.*\n",
        "\n",
        "**Hint**: Use the INSERT INTO keyword."
      ]
    },
    {
      "cell_type": "code",
      "metadata": {
        "id": "REnGeB1r8WVZ",
        "outputId": "740a3849-1ae9-4230-f0fb-1d3e810a0ab6",
        "colab": {
          "base_uri": "https://localhost:8080/",
          "height": 182
        }
      },
      "source": [
        "%%sql\n",
        "insert into Titanic\n",
        "values (\"Tsague\", \"Estelle\", \"F\", 22, 2, 15, \"Cherbourg\", \"yes\")\n",
        ";\n",
        "select * from Titanic\n",
        "limit 5"
      ],
      "execution_count": null,
      "outputs": [
        {
          "output_type": "stream",
          "name": "stdout",
          "text": [
            " * sqlite://\n",
            "1 rows affected.\n",
            "Done.\n"
          ]
        },
        {
          "output_type": "execute_result",
          "data": {
            "text/html": [
              "<table>\n",
              "    <thead>\n",
              "        <tr>\n",
              "            <th>last</th>\n",
              "            <th>first</th>\n",
              "            <th>gender</th>\n",
              "            <th>age</th>\n",
              "            <th>class</th>\n",
              "            <th>fare</th>\n",
              "            <th>embarked</th>\n",
              "            <th>survived</th>\n",
              "        </tr>\n",
              "    </thead>\n",
              "    <tbody>\n",
              "        <tr>\n",
              "            <td>Ward</td>\n",
              "            <td>Miss Anna</td>\n",
              "            <td>F</td>\n",
              "            <td>35.0</td>\n",
              "            <td>1</td>\n",
              "            <td>512.3292</td>\n",
              "            <td>Cherbourg</td>\n",
              "            <td>yes</td>\n",
              "        </tr>\n",
              "        <tr>\n",
              "            <td>Cardeza</td>\n",
              "            <td>Mr. Thomas Drake Martinez</td>\n",
              "            <td>M</td>\n",
              "            <td>36.0</td>\n",
              "            <td>1</td>\n",
              "            <td>512.3292</td>\n",
              "            <td>Cherbourg</td>\n",
              "            <td>yes</td>\n",
              "        </tr>\n",
              "        <tr>\n",
              "            <td>Lesurer</td>\n",
              "            <td>Mr. Gustave J</td>\n",
              "            <td>M</td>\n",
              "            <td>35.0</td>\n",
              "            <td>1</td>\n",
              "            <td>512.3292</td>\n",
              "            <td>Cherbourg</td>\n",
              "            <td>yes</td>\n",
              "        </tr>\n",
              "        <tr>\n",
              "            <td>Tsague</td>\n",
              "            <td>Estelle</td>\n",
              "            <td>F</td>\n",
              "            <td>22.0</td>\n",
              "            <td>2</td>\n",
              "            <td>15.0</td>\n",
              "            <td>Cherbourg</td>\n",
              "            <td>yes</td>\n",
              "        </tr>\n",
              "    </tbody>\n",
              "</table>"
            ],
            "text/plain": [
              "[('Ward', 'Miss Anna', 'F', 35.0, 1, 512.3292, 'Cherbourg', 'yes'),\n",
              " ('Cardeza', 'Mr. Thomas Drake Martinez', 'M', 36.0, 1, 512.3292, 'Cherbourg', 'yes'),\n",
              " ('Lesurer', 'Mr. Gustave J', 'M', 35.0, 1, 512.3292, 'Cherbourg', 'yes'),\n",
              " ('Tsague', 'Estelle', 'F', 22.0, 2, 15.0, 'Cherbourg', 'yes')]"
            ]
          },
          "metadata": {},
          "execution_count": 35
        }
      ]
    }
  ]
}
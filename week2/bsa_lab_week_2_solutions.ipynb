{
  "nbformat": 4,
  "nbformat_minor": 0,
  "metadata": {
    "colab": {
      "name": "bsa_lab_week_2_solutions.ipynb",
      "provenance": [],
      "collapsed_sections": [
        "t5oNolyg8WVB"
      ]
    },
    "kernelspec": {
      "display_name": "Python 3",
      "language": "python",
      "name": "python3"
    },
    "language_info": {
      "codemirror_mode": {
        "name": "ipython",
        "version": 3
      },
      "file_extension": ".py",
      "mimetype": "text/x-python",
      "name": "python",
      "nbconvert_exporter": "python",
      "pygments_lexer": "ipython3",
      "version": "3.7.6"
    }
  },
  "cells": [
    {
      "cell_type": "markdown",
      "metadata": {
        "id": "Ow3xcCbn8WSO"
      },
      "source": [
        "# BSA Lab Week 2 - SQL in Python"
      ]
    },
    {
      "cell_type": "markdown",
      "metadata": {
        "id": "9dC2Lz6Ei3YG"
      },
      "source": [
        "There is an iPython extension that allows us to use SQL from a notebook by means of so-called \"magic\" commands (%...). You can choose from several SQL engines (PostgreSQL, MySQL, etc.). For these exercises, we will use SQLite. Rather than a full-fledged client-server database engine, SQLite can be embedded onto any program."
      ]
    },
    {
      "cell_type": "code",
      "metadata": {
        "id": "swXpAOS-8WSS",
        "scrolled": true
      },
      "source": [
        "%load_ext sql\n",
        "%sql sqlite://\n",
        "\n",
        "import pandas as pd"
      ],
      "execution_count": 1,
      "outputs": []
    },
    {
      "cell_type": "markdown",
      "metadata": {
        "id": "H2Ea0LTO8WSe"
      },
      "source": [
        "## <font color = 'green'>World Cup Data</font>"
      ]
    },
    {
      "cell_type": "markdown",
      "metadata": {
        "id": "GzlvcSS1mydC"
      },
      "source": [
        "This dataset consists of two CSV files, `Players.csv` and `Teams.csv`, which have already been joined into a third one for your convenience (`PlayersExt.csv`). We are loading them directly from the GitHub repository, and then persisting the tables to our SQL database so that we can run SQL queries (as opposed to using pandas, for example)."
      ]
    },
    {
      "cell_type": "code",
      "metadata": {
        "id": "8xH-QufV8WSh"
      },
      "source": [
        "# Load Players\n",
        "players_url = \"https://raw.githubusercontent.com/michalis0/BigScaleAnalytics/master/week2/data/Players.csv\"\n",
        "Players = pd.read_csv(players_url, index_col=0, encoding=\"utf-8\")\n",
        "%sql drop table if exists Players;\n",
        "%sql persist Players\n",
        "\n",
        "# Load Teams\n",
        "teams_url = \"https://raw.githubusercontent.com/michalis0/BigScaleAnalytics/master/week2/data/Teams.csv\"\n",
        "Teams = pd.read_csv(teams_url, index_col=0, encoding=\"utf-8\")\n",
        "%sql drop table if exists Teams;\n",
        "%sql persist Teams\n",
        "\n",
        "# Load joined tables\n",
        "playersext_url = \"https://raw.githubusercontent.com/michalis0/BigScaleAnalytics/master/week2/data/PlayersExt.csv\"\n",
        "PlayersExt = pd.read_csv(playersext_url, index_col=0, encoding=\"utf-8\")\n",
        "%sql drop table if exists PlayersExt;\n",
        "%sql persist PlayersExt"
      ],
      "execution_count": null,
      "outputs": []
    },
    {
      "cell_type": "markdown",
      "metadata": {
        "id": "meZCn5os8WSu"
      },
      "source": [
        "### Preview\n",
        "\n",
        "Let's run our first SQL queries in order to see what the table attributes and values look like. Here are a couple of things to note about the queries:\n",
        "\n",
        "* As you can see, any text following the `%%sql` command is interpreted as query language.\n",
        "* For the SQL keywords (SELECT, FROM, GROUP BY, etc.), it doesn't matter whether you use lowercase or uppercase.\n",
        "* When you need to use quotes, both single quotes (' ') and double quotes (\" \") can be used.\n",
        "* You can also spread your statements across several lines for better readability."
      ]
    },
    {
      "cell_type": "code",
      "metadata": {
        "id": "meh70hNH8WSx"
      },
      "source": [
        "%%sql\n",
        "SELECT * FROM Players LIMIT 5"
      ],
      "execution_count": null,
      "outputs": []
    },
    {
      "cell_type": "code",
      "metadata": {
        "id": "flnoKz4U8WS6"
      },
      "source": [
        "%%sql\n",
        "select * from Teams limit 5"
      ],
      "execution_count": null,
      "outputs": []
    },
    {
      "cell_type": "code",
      "metadata": {
        "id": "YgN5Fr2w8WTA"
      },
      "source": [
        "%%sql\n",
        "select *\n",
        "from PlayersExt\n",
        "limit 5"
      ],
      "execution_count": null,
      "outputs": []
    },
    {
      "cell_type": "markdown",
      "metadata": {
        "id": "as0Jh2YK8WTF"
      },
      "source": [
        "### Basic Queries\n",
        "\n",
        "The first two questions are already solved for you, so that you have concrete examples of queries. Try to solve the remaining four!"
      ]
    },
    {
      "cell_type": "markdown",
      "metadata": {
        "collapsed": true,
        "id": "C4zdhp2c8WTG"
      },
      "source": [
        "*1)  Which player on a team ending with \"ia\" played less than 200 minutes and made more than 100 passes? Return the player's surname and team.*\n",
        "\n",
        "**Hint**: To check if attribute A contains a (sub)string S, use the LIKE keyword (e.g. `A like '%S%'`). The % sign indicates a wildcard."
      ]
    },
    {
      "cell_type": "code",
      "metadata": {
        "colab": {
          "base_uri": "https://localhost:8080/",
          "height": 97
        },
        "id": "6K_kIn3b8WTK",
        "outputId": "ab37e3b9-9c6a-42d7-9087-d3b776083c1d"
      },
      "source": [
        "%%sql\n",
        "select surname, team\n",
        "from Players\n",
        "where Players.team like '%ia'\n",
        "  and Players.minutes < 200 \n",
        "  and Players.passes > 100"
      ],
      "execution_count": null,
      "outputs": [
        {
          "output_type": "stream",
          "text": [
            " * sqlite://\n",
            "Done.\n"
          ],
          "name": "stdout"
        },
        {
          "output_type": "execute_result",
          "data": {
            "text/html": [
              "<table>\n",
              "    <thead>\n",
              "        <tr>\n",
              "            <th>surname</th>\n",
              "            <th>team</th>\n",
              "        </tr>\n",
              "    </thead>\n",
              "    <tbody>\n",
              "        <tr>\n",
              "            <td>Kuzmanovic</td>\n",
              "            <td>Serbia</td>\n",
              "        </tr>\n",
              "    </tbody>\n",
              "</table>"
            ],
            "text/plain": [
              "[('Kuzmanovic', 'Serbia')]"
            ]
          },
          "metadata": {
            "tags": []
          },
          "execution_count": 120
        }
      ]
    },
    {
      "cell_type": "markdown",
      "metadata": {
        "collapsed": true,
        "id": "4gNjdG4H8WTR"
      },
      "source": [
        "*2) Find all players who made more than 20 shots. Return all player information in descending order of shots made.*\n",
        "\n",
        "**Hint**: Sorting results is done via the ORDER BY keyword. The default order is ascending (ASC). If you want descending order, use DESC (e.g. `ORDER BY column_1, column_2 DESC`)."
      ]
    },
    {
      "cell_type": "code",
      "metadata": {
        "colab": {
          "base_uri": "https://localhost:8080/",
          "height": 139
        },
        "id": "wmYeLAw68WTU",
        "outputId": "00108cf2-6b18-4c04-a13f-290c6f048ccf"
      },
      "source": [
        "%%sql\n",
        "select *\n",
        "from Players\n",
        "where shots > 20\n",
        "order by shots desc"
      ],
      "execution_count": null,
      "outputs": [
        {
          "output_type": "stream",
          "text": [
            " * sqlite://\n",
            "Done.\n"
          ],
          "name": "stdout"
        },
        {
          "output_type": "execute_result",
          "data": {
            "text/html": [
              "<table>\n",
              "    <thead>\n",
              "        <tr>\n",
              "            <th>surname</th>\n",
              "            <th>team</th>\n",
              "            <th>position</th>\n",
              "            <th>minutes</th>\n",
              "            <th>shots</th>\n",
              "            <th>passes</th>\n",
              "            <th>tackles</th>\n",
              "            <th>saves</th>\n",
              "        </tr>\n",
              "    </thead>\n",
              "    <tbody>\n",
              "        <tr>\n",
              "            <td>Gyan</td>\n",
              "            <td>Ghana</td>\n",
              "            <td>forward</td>\n",
              "            <td>501</td>\n",
              "            <td>27</td>\n",
              "            <td>151</td>\n",
              "            <td>1</td>\n",
              "            <td>0</td>\n",
              "        </tr>\n",
              "        <tr>\n",
              "            <td>Villa</td>\n",
              "            <td>Spain</td>\n",
              "            <td>forward</td>\n",
              "            <td>529</td>\n",
              "            <td>22</td>\n",
              "            <td>169</td>\n",
              "            <td>2</td>\n",
              "            <td>0</td>\n",
              "        </tr>\n",
              "        <tr>\n",
              "            <td>Messi</td>\n",
              "            <td>Argentina</td>\n",
              "            <td>forward</td>\n",
              "            <td>450</td>\n",
              "            <td>21</td>\n",
              "            <td>321</td>\n",
              "            <td>10</td>\n",
              "            <td>0</td>\n",
              "        </tr>\n",
              "    </tbody>\n",
              "</table>"
            ],
            "text/plain": [
              "[('Gyan', 'Ghana', 'forward', 501, 27, 151, 1, 0),\n",
              " ('Villa', 'Spain', 'forward', 529, 22, 169, 2, 0),\n",
              " ('Messi', 'Argentina', 'forward', 450, 21, 321, 10, 0)]"
            ]
          },
          "metadata": {
            "tags": []
          },
          "execution_count": 121
        }
      ]
    },
    {
      "cell_type": "markdown",
      "metadata": {
        "collapsed": true,
        "id": "aLralf658WTb"
      },
      "source": [
        "*3) Find the goalkeepers of teams that played more than four games. List the surname of the goalkeeper, the team, and the number of minutes the goalkeeper played.*\n",
        "\n",
        "**Hint**: Use the `PlayersExt` table."
      ]
    },
    {
      "cell_type": "code",
      "metadata": {
        "colab": {
          "base_uri": "https://localhost:8080/",
          "height": 244
        },
        "id": "AMRLCwdh8WTc",
        "outputId": "1f46e1cf-b164-4603-ac7e-14f26441e96b"
      },
      "source": [
        "%%sql\n",
        "select surname, team, minutes\n",
        "from PlayersExt\n",
        "where position like \"goal%\"\n",
        "  and games > 4"
      ],
      "execution_count": null,
      "outputs": [
        {
          "output_type": "stream",
          "text": [
            " * sqlite://\n",
            "Done.\n"
          ],
          "name": "stdout"
        },
        {
          "output_type": "execute_result",
          "data": {
            "text/html": [
              "<table>\n",
              "    <thead>\n",
              "        <tr>\n",
              "            <th>surname</th>\n",
              "            <th>team</th>\n",
              "            <th>minutes</th>\n",
              "        </tr>\n",
              "    </thead>\n",
              "    <tbody>\n",
              "        <tr>\n",
              "            <td>Romero</td>\n",
              "            <td>Argentina</td>\n",
              "            <td>450</td>\n",
              "        </tr>\n",
              "        <tr>\n",
              "            <td>Julio Cesar</td>\n",
              "            <td>Brazil</td>\n",
              "            <td>450</td>\n",
              "        </tr>\n",
              "        <tr>\n",
              "            <td>Neuer</td>\n",
              "            <td>Germany</td>\n",
              "            <td>540</td>\n",
              "        </tr>\n",
              "        <tr>\n",
              "            <td>Kingson</td>\n",
              "            <td>Ghana</td>\n",
              "            <td>510</td>\n",
              "        </tr>\n",
              "        <tr>\n",
              "            <td>Stekelenburg</td>\n",
              "            <td>Netherlands</td>\n",
              "            <td>540</td>\n",
              "        </tr>\n",
              "        <tr>\n",
              "            <td>Villar</td>\n",
              "            <td>Paraguay</td>\n",
              "            <td>480</td>\n",
              "        </tr>\n",
              "        <tr>\n",
              "            <td>Casillas</td>\n",
              "            <td>Spain</td>\n",
              "            <td>540</td>\n",
              "        </tr>\n",
              "        <tr>\n",
              "            <td>Muslera</td>\n",
              "            <td>Uruguay</td>\n",
              "            <td>570</td>\n",
              "        </tr>\n",
              "    </tbody>\n",
              "</table>"
            ],
            "text/plain": [
              "[('Romero', 'Argentina', 450),\n",
              " ('Julio Cesar', 'Brazil', 450),\n",
              " ('Neuer', 'Germany', 540),\n",
              " ('Kingson', 'Ghana', 510),\n",
              " ('Stekelenburg', 'Netherlands', 540),\n",
              " ('Villar', 'Paraguay', 480),\n",
              " ('Casillas', 'Spain', 540),\n",
              " ('Muslera', 'Uruguay', 570)]"
            ]
          },
          "metadata": {
            "tags": []
          },
          "execution_count": 122
        }
      ]
    },
    {
      "cell_type": "markdown",
      "metadata": {
        "collapsed": true,
        "id": "vRT0J7sY8WTh"
      },
      "source": [
        "*4) How many players on a team with a ranking lower than 10 played more than 350 minutes? Return a single number in a column named \"superstar\".*\n",
        "\n",
        "**Hint**: To rename a column, use the AS keyword (e.g. `SELECT column_1 AS label`)."
      ]
    },
    {
      "cell_type": "code",
      "metadata": {
        "colab": {
          "base_uri": "https://localhost:8080/",
          "height": 97
        },
        "id": "hSseV7oi8WTi",
        "outputId": "eca9eb6d-9ca5-4f62-eba9-61bf850dc75b"
      },
      "source": [
        "%%sql\n",
        "select count(surname) as superstar\n",
        "from PlayersExt\n",
        "where ranking < 10\n",
        "  and minutes > 350"
      ],
      "execution_count": null,
      "outputs": [
        {
          "output_type": "stream",
          "text": [
            " * sqlite://\n",
            "Done.\n"
          ],
          "name": "stdout"
        },
        {
          "output_type": "execute_result",
          "data": {
            "text/html": [
              "<table>\n",
              "    <thead>\n",
              "        <tr>\n",
              "            <th>superstar</th>\n",
              "        </tr>\n",
              "    </thead>\n",
              "    <tbody>\n",
              "        <tr>\n",
              "            <td>54</td>\n",
              "        </tr>\n",
              "    </tbody>\n",
              "</table>"
            ],
            "text/plain": [
              "[(54,)]"
            ]
          },
          "metadata": {
            "tags": []
          },
          "execution_count": 123
        }
      ]
    },
    {
      "cell_type": "markdown",
      "metadata": {
        "collapsed": true,
        "id": "DZlTul358WTl"
      },
      "source": [
        "*5) What is the average number of passes made by forwards? What about midfielders? Write one query that returns both values with the corresponding position.*\n",
        "\n",
        "**Hint**: Use the GROUP BY keyword. GROUP BY statements are often used in conjuction with aggregate functions like AVG(), SUM() or COUNT(). "
      ]
    },
    {
      "cell_type": "code",
      "metadata": {
        "colab": {
          "base_uri": "https://localhost:8080/",
          "height": 118
        },
        "id": "76mZ7BVJ8WTm",
        "outputId": "3bd91d81-8f04-486d-fac5-20fb5d309028"
      },
      "source": [
        "%%sql\n",
        "select position, avg(passes) as \"avg_passes\"\n",
        "from Players\n",
        "where position in (\"forward\", \"midfielder\")\n",
        "group by position"
      ],
      "execution_count": null,
      "outputs": [
        {
          "output_type": "stream",
          "text": [
            " * sqlite://\n",
            "Done.\n"
          ],
          "name": "stdout"
        },
        {
          "output_type": "execute_result",
          "data": {
            "text/html": [
              "<table>\n",
              "    <thead>\n",
              "        <tr>\n",
              "            <th>position</th>\n",
              "            <th>avg_passes</th>\n",
              "        </tr>\n",
              "    </thead>\n",
              "    <tbody>\n",
              "        <tr>\n",
              "            <td>forward</td>\n",
              "            <td>50.82517482517483</td>\n",
              "        </tr>\n",
              "        <tr>\n",
              "            <td>midfielder</td>\n",
              "            <td>95.2719298245614</td>\n",
              "        </tr>\n",
              "    </tbody>\n",
              "</table>"
            ],
            "text/plain": [
              "[('forward', 50.82517482517483), ('midfielder', 95.2719298245614)]"
            ]
          },
          "metadata": {
            "tags": []
          },
          "execution_count": 124
        }
      ]
    },
    {
      "cell_type": "markdown",
      "metadata": {
        "collapsed": true,
        "id": "pLjyR6wh8WTo"
      },
      "source": [
        "*6) Which team has the highest average number of passes per minute played? Return the team's name and average number of passes per minute.*\n",
        "\n",
        "**Hint #1**: You can compute a team's average number of passes per minute played by dividing the total number of passes by the total number of minutes. To force floating point division, multiply one operand by 1.0.\n",
        "\n",
        "**Hint #2**: Consider using the LIMIT keyword."
      ]
    },
    {
      "cell_type": "code",
      "metadata": {
        "colab": {
          "base_uri": "https://localhost:8080/",
          "height": 97
        },
        "id": "7ApyOn9N8WTq",
        "outputId": "c5b42bb3-985c-4d11-b24c-e42f4cd66247"
      },
      "source": [
        "%%sql\n",
        "select *, (1.0 * total_passes / total_minutes) as avg_ppm\n",
        "from (\n",
        "    select team, sum(passes) as total_passes, sum(minutes) as total_minutes\n",
        "    from PlayersExt\n",
        "  group by team)\n",
        "order by avg_ppm desc\n",
        "limit 1"
      ],
      "execution_count": null,
      "outputs": [
        {
          "output_type": "stream",
          "text": [
            " * sqlite://\n",
            "Done.\n"
          ],
          "name": "stdout"
        },
        {
          "output_type": "execute_result",
          "data": {
            "text/html": [
              "<table>\n",
              "    <thead>\n",
              "        <tr>\n",
              "            <th>team</th>\n",
              "            <th>total_passes</th>\n",
              "            <th>total_minutes</th>\n",
              "            <th>avg_ppm</th>\n",
              "        </tr>\n",
              "    </thead>\n",
              "    <tbody>\n",
              "        <tr>\n",
              "            <td>Spain</td>\n",
              "            <td>3701</td>\n",
              "            <td>5940</td>\n",
              "            <td>0.6230639730639731</td>\n",
              "        </tr>\n",
              "    </tbody>\n",
              "</table>"
            ],
            "text/plain": [
              "[('Spain', 3701, 5940, 0.6230639730639731)]"
            ]
          },
          "metadata": {
            "tags": []
          },
          "execution_count": 125
        }
      ]
    },
    {
      "cell_type": "markdown",
      "metadata": {
        "id": "v1dXQKXu8WTv"
      },
      "source": [
        "### Advanced Queries\n",
        "\n",
        "Now, on to more challenging questions..."
      ]
    },
    {
      "cell_type": "markdown",
      "metadata": {
        "id": "js1aBftZ8WTy"
      },
      "source": [
        "*1) Find all pairs of teams that have the same number of `goalsFor` as well as the same number of `goalsAgainst` as each other. Return the team pairs and their respective numbers of `goalsFor` and `goalsAgainst` (make sure to return each pair only once!).*\n",
        "\n",
        "**Hint**: You basically need to do a \"self join\" of the `Teams` table. For that, you need to join different name aliases of the same table. Check [this page](https://www.w3schools.com/sql/sql_join_self.asp) for help."
      ]
    },
    {
      "cell_type": "code",
      "metadata": {
        "colab": {
          "base_uri": "https://localhost:8080/",
          "height": 265
        },
        "id": "LzpO1c3V8WTz",
        "outputId": "c1ce4f57-ec3b-42f3-84c3-9b11dbd6abee"
      },
      "source": [
        "%%sql\n",
        "select A.team AS team_1, B.team AS team_2, A.goalsFor, A.goalsAgainst\n",
        "from Teams A, Teams B\n",
        "where team_1 < team_2 \n",
        "  and A.goalsFor = B.goalsFor\n",
        "  and A.goalsAgainst = B.goalsAgainst"
      ],
      "execution_count": null,
      "outputs": [
        {
          "output_type": "stream",
          "text": [
            " * sqlite://\n",
            "Done.\n"
          ],
          "name": "stdout"
        },
        {
          "output_type": "execute_result",
          "data": {
            "text/html": [
              "<table>\n",
              "    <thead>\n",
              "        <tr>\n",
              "            <th>team_1</th>\n",
              "            <th>team_2</th>\n",
              "            <th>goalsFor</th>\n",
              "            <th>goalsAgainst</th>\n",
              "        </tr>\n",
              "    </thead>\n",
              "    <tbody>\n",
              "        <tr>\n",
              "            <td>Italy</td>\n",
              "            <td>Mexico</td>\n",
              "            <td>4</td>\n",
              "            <td>5</td>\n",
              "        </tr>\n",
              "        <tr>\n",
              "            <td>England</td>\n",
              "            <td>Nigeria</td>\n",
              "            <td>3</td>\n",
              "            <td>5</td>\n",
              "        </tr>\n",
              "        <tr>\n",
              "            <td>England</td>\n",
              "            <td>South Africa</td>\n",
              "            <td>3</td>\n",
              "            <td>5</td>\n",
              "        </tr>\n",
              "        <tr>\n",
              "            <td>Chile</td>\n",
              "            <td>England</td>\n",
              "            <td>3</td>\n",
              "            <td>5</td>\n",
              "        </tr>\n",
              "        <tr>\n",
              "            <td>Chile</td>\n",
              "            <td>Nigeria</td>\n",
              "            <td>3</td>\n",
              "            <td>5</td>\n",
              "        </tr>\n",
              "        <tr>\n",
              "            <td>Chile</td>\n",
              "            <td>South Africa</td>\n",
              "            <td>3</td>\n",
              "            <td>5</td>\n",
              "        </tr>\n",
              "        <tr>\n",
              "            <td>Cameroon</td>\n",
              "            <td>Greece</td>\n",
              "            <td>2</td>\n",
              "            <td>5</td>\n",
              "        </tr>\n",
              "        <tr>\n",
              "            <td>Australia</td>\n",
              "            <td>Denmark</td>\n",
              "            <td>3</td>\n",
              "            <td>6</td>\n",
              "        </tr>\n",
              "        <tr>\n",
              "            <td>Nigeria</td>\n",
              "            <td>South Africa</td>\n",
              "            <td>3</td>\n",
              "            <td>5</td>\n",
              "        </tr>\n",
              "    </tbody>\n",
              "</table>"
            ],
            "text/plain": [
              "[('Italy', 'Mexico', 4, 5),\n",
              " ('England', 'Nigeria', 3, 5),\n",
              " ('England', 'South Africa', 3, 5),\n",
              " ('Chile', 'England', 3, 5),\n",
              " ('Chile', 'Nigeria', 3, 5),\n",
              " ('Chile', 'South Africa', 3, 5),\n",
              " ('Cameroon', 'Greece', 2, 5),\n",
              " ('Australia', 'Denmark', 3, 6),\n",
              " ('Nigeria', 'South Africa', 3, 5)]"
            ]
          },
          "metadata": {
            "tags": []
          },
          "execution_count": 126
        }
      ]
    },
    {
      "cell_type": "markdown",
      "metadata": {
        "id": "g9QX2Jie8WT4"
      },
      "source": [
        "*2) Find all teams with a ranking below 30 where no player has made more than 150 passes. Return the team's name and ranking.*\n",
        "\n",
        "**Hint #1**: Consider using the HAVING keyword.\n",
        "\n",
        "**Hint #2**: You may also want to look up nested queries."
      ]
    },
    {
      "cell_type": "code",
      "metadata": {
        "colab": {
          "base_uri": "https://localhost:8080/",
          "height": 139
        },
        "id": "xPOBexhd8WT4",
        "outputId": "4c82efa5-d874-48b7-81bf-d09f605d40cb"
      },
      "source": [
        "%%sql\n",
        "select team, ranking, max(passes) as max_passes\n",
        "from PlayersExt\n",
        "group by team\n",
        "having ranking < 30\n",
        "  and max_passes <= 150"
      ],
      "execution_count": null,
      "outputs": [
        {
          "output_type": "stream",
          "text": [
            " * sqlite://\n",
            "Done.\n"
          ],
          "name": "stdout"
        },
        {
          "output_type": "execute_result",
          "data": {
            "text/html": [
              "<table>\n",
              "    <thead>\n",
              "        <tr>\n",
              "            <th>team</th>\n",
              "            <th>ranking</th>\n",
              "        </tr>\n",
              "    </thead>\n",
              "    <tbody>\n",
              "        <tr>\n",
              "            <td>France</td>\n",
              "            <td>9</td>\n",
              "        </tr>\n",
              "        <tr>\n",
              "            <td>Nigeria</td>\n",
              "            <td>21</td>\n",
              "        </tr>\n",
              "        <tr>\n",
              "            <td>Switzerland</td>\n",
              "            <td>24</td>\n",
              "        </tr>\n",
              "    </tbody>\n",
              "</table>"
            ],
            "text/plain": [
              "[('France', 9), ('Nigeria', 21), ('Switzerland', 24)]"
            ]
          },
          "metadata": {
            "tags": []
          },
          "execution_count": 127
        }
      ]
    },
    {
      "cell_type": "markdown",
      "metadata": {
        "id": "sunviWejLqZJ"
      },
      "source": [
        "**Other approach**:"
      ]
    },
    {
      "cell_type": "code",
      "metadata": {
        "id": "LSVlr9TOLqZJ"
      },
      "source": [
        "%%sql\n",
        "select team, ranking from PlayersExt\n",
        "where team not in (\n",
        "  select team from PlayersExt\n",
        "  where passes > 150 group by team)\n",
        "group by team\n",
        "having ranking < 30"
      ],
      "execution_count": null,
      "outputs": []
    },
    {
      "cell_type": "markdown",
      "metadata": {
        "id": "NbJzKIm98WT7"
      },
      "source": [
        "*3) Which team has the highest ratio of goalsFor to goalsAgainst?*"
      ]
    },
    {
      "cell_type": "code",
      "metadata": {
        "colab": {
          "base_uri": "https://localhost:8080/",
          "height": 97
        },
        "id": "Bi2SUQgM8WT8",
        "outputId": "11bd9c51-9555-4929-db3c-3dab0b37c5ff"
      },
      "source": [
        "%%sql\n",
        "select team, goalsFor, goalsAgainst, (1.0 * goalsFor / goalsAgainst) as ratio\n",
        "from Teams\n",
        "order by ratio desc\n",
        "limit 1"
      ],
      "execution_count": null,
      "outputs": [
        {
          "output_type": "stream",
          "text": [
            " * sqlite://\n",
            "Done.\n"
          ],
          "name": "stdout"
        },
        {
          "output_type": "execute_result",
          "data": {
            "text/html": [
              "<table>\n",
              "    <thead>\n",
              "        <tr>\n",
              "            <th>team</th>\n",
              "            <th>goalsFor</th>\n",
              "            <th>goalsAgainst</th>\n",
              "            <th>ratio</th>\n",
              "        </tr>\n",
              "    </thead>\n",
              "    <tbody>\n",
              "        <tr>\n",
              "            <td>Portugal</td>\n",
              "            <td>7</td>\n",
              "            <td>1</td>\n",
              "            <td>7.0</td>\n",
              "        </tr>\n",
              "    </tbody>\n",
              "</table>"
            ],
            "text/plain": [
              "[('Portugal', 7, 1, 7.0)]"
            ]
          },
          "metadata": {
            "tags": []
          },
          "execution_count": 128
        }
      ]
    },
    {
      "cell_type": "markdown",
      "metadata": {
        "id": "u_7fplnQ8WT-"
      },
      "source": [
        "*4) Find all teams whose defenders averaged more than 150 passes. Return the team and average number of passes by defenders, in descending order of average passes.*"
      ]
    },
    {
      "cell_type": "code",
      "metadata": {
        "colab": {
          "base_uri": "https://localhost:8080/",
          "height": 181
        },
        "id": "qOapic7E8WT_",
        "outputId": "003e946e-0109-4ead-b848-dd125350e033"
      },
      "source": [
        "%%sql\n",
        "select team, avg(passes) as avg_passes\n",
        "from PlayersExt\n",
        "where position like \"defender\"\n",
        "group by team\n",
        "having avg_passes > 150\n",
        "order by avg_passes desc"
      ],
      "execution_count": null,
      "outputs": [
        {
          "output_type": "stream",
          "text": [
            " * sqlite://\n",
            "Done.\n"
          ],
          "name": "stdout"
        },
        {
          "output_type": "execute_result",
          "data": {
            "text/html": [
              "<table>\n",
              "    <thead>\n",
              "        <tr>\n",
              "            <th>team</th>\n",
              "            <th>avg_passes</th>\n",
              "        </tr>\n",
              "    </thead>\n",
              "    <tbody>\n",
              "        <tr>\n",
              "            <td>Spain</td>\n",
              "            <td>213.0</td>\n",
              "        </tr>\n",
              "        <tr>\n",
              "            <td>Brazil</td>\n",
              "            <td>190.0</td>\n",
              "        </tr>\n",
              "        <tr>\n",
              "            <td>Germany</td>\n",
              "            <td>189.83333333333334</td>\n",
              "        </tr>\n",
              "        <tr>\n",
              "            <td>Netherlands</td>\n",
              "            <td>182.5</td>\n",
              "        </tr>\n",
              "        <tr>\n",
              "            <td>Mexico</td>\n",
              "            <td>152.14285714285714</td>\n",
              "        </tr>\n",
              "    </tbody>\n",
              "</table>"
            ],
            "text/plain": [
              "[('Spain', 213.0),\n",
              " ('Brazil', 190.0),\n",
              " ('Germany', 189.83333333333334),\n",
              " ('Netherlands', 182.5),\n",
              " ('Mexico', 152.14285714285714)]"
            ]
          },
          "metadata": {
            "tags": []
          },
          "execution_count": 129
        }
      ]
    },
    {
      "cell_type": "markdown",
      "metadata": {
        "id": "QWbQ8phy8WUD"
      },
      "source": [
        "## <font color = 'green' italicized text>Titanic Data</font>"
      ]
    },
    {
      "cell_type": "markdown",
      "metadata": {
        "id": "8BLWKSyM2BGf"
      },
      "source": [
        "This dataset contains the list of passengers who were on board the Titanic.\n",
        "\n",
        "Personal information such as their name, gender and age is shown. We can also see information about their journey (which class they were travelling in, how much they paid, etc.), and whether they survived or not.\n",
        "\n",
        "Feel free to do these exercises on your own time in order to prepare for part 1 of the personal assignment."
      ]
    },
    {
      "cell_type": "code",
      "metadata": {
        "id": "Fef539uG8WUE"
      },
      "source": [
        "# Load table from CSV file\n",
        "titanic_url = \"https://raw.githubusercontent.com/michalis0/BigScaleAnalytics/master/week2/data/Titanic.csv\"\n",
        "Titanic = pd.read_csv(titanic_url, index_col=0, encoding=\"utf-8\")\n",
        "%sql drop table if exists Titanic;\n",
        "%sql persist Titanic"
      ],
      "execution_count": null,
      "outputs": []
    },
    {
      "cell_type": "markdown",
      "metadata": {
        "id": "tbJ2MgXT8WUG"
      },
      "source": [
        "### Preview"
      ]
    },
    {
      "cell_type": "code",
      "metadata": {
        "id": "GpCKkNZR8WUH"
      },
      "source": [
        "%%sql\n",
        "select * from Titanic limit 5"
      ],
      "execution_count": null,
      "outputs": []
    },
    {
      "cell_type": "markdown",
      "metadata": {
        "id": "i1uXCjq68WUJ"
      },
      "source": [
        "### Basic Queries"
      ]
    },
    {
      "cell_type": "markdown",
      "metadata": {
        "collapsed": true,
        "id": "OZxzuzCw8WUK"
      },
      "source": [
        "*1) How many married women over age 50 embarked in Cherbourg?*\n",
        "\n",
        "**Hint**: You will need to use wildcards."
      ]
    },
    {
      "cell_type": "code",
      "metadata": {
        "colab": {
          "base_uri": "https://localhost:8080/",
          "height": 97
        },
        "id": "YkqQht348WUL",
        "outputId": "ce39d847-9071-4115-f59a-936e2e4757e8"
      },
      "source": [
        "%%sql\n",
        "select count(*) as count\n",
        "from Titanic\n",
        "where gender like \"F\"\n",
        "  and embarked like \"Cherbourg\"\n",
        "  and age > 5\n",
        "  and first like \"%(%)%\""
      ],
      "execution_count": null,
      "outputs": [
        {
          "output_type": "stream",
          "text": [
            " * sqlite://\n",
            "Done.\n"
          ],
          "name": "stdout"
        },
        {
          "output_type": "execute_result",
          "data": {
            "text/html": [
              "<table>\n",
              "    <thead>\n",
              "        <tr>\n",
              "            <th>count</th>\n",
              "        </tr>\n",
              "    </thead>\n",
              "    <tbody>\n",
              "        <tr>\n",
              "            <td>24</td>\n",
              "        </tr>\n",
              "    </tbody>\n",
              "</table>"
            ],
            "text/plain": [
              "[(24,)]"
            ]
          },
          "metadata": {
            "tags": []
          },
          "execution_count": 131
        }
      ]
    },
    {
      "cell_type": "markdown",
      "metadata": {
        "collapsed": true,
        "id": "uSB3G2dg8WUQ"
      },
      "source": [
        "*2) List the average fare paid by passengers in each of the embarkation cities (along with the city), in descending order of average fare.*"
      ]
    },
    {
      "cell_type": "code",
      "metadata": {
        "colab": {
          "base_uri": "https://localhost:8080/",
          "height": 139
        },
        "id": "31-xalVn8WUR",
        "outputId": "023b7a3e-1d4a-47ca-be78-d91289bd2a61"
      },
      "source": [
        "%%sql\n",
        "select embarked, avg(fare) as avg_fare\n",
        "from Titanic\n",
        "group by embarked\n",
        "order by avg_fare desc"
      ],
      "execution_count": null,
      "outputs": [
        {
          "output_type": "stream",
          "text": [
            " * sqlite://\n",
            "Done.\n"
          ],
          "name": "stdout"
        },
        {
          "output_type": "execute_result",
          "data": {
            "text/html": [
              "<table>\n",
              "    <thead>\n",
              "        <tr>\n",
              "            <th>embarked</th>\n",
              "            <th>avg_fare</th>\n",
              "        </tr>\n",
              "    </thead>\n",
              "    <tbody>\n",
              "        <tr>\n",
              "            <td>Cherbourg</td>\n",
              "            <td>59.95414404761905</td>\n",
              "        </tr>\n",
              "        <tr>\n",
              "            <td>Southampton</td>\n",
              "            <td>27.243651393188795</td>\n",
              "        </tr>\n",
              "        <tr>\n",
              "            <td>Queenstown</td>\n",
              "            <td>13.276029870129872</td>\n",
              "        </tr>\n",
              "    </tbody>\n",
              "</table>"
            ],
            "text/plain": [
              "[('Cherbourg', 59.95414404761905),\n",
              " ('Southampton', 27.243651393188795),\n",
              " ('Queenstown', 13.276029870129872)]"
            ]
          },
          "metadata": {
            "tags": []
          },
          "execution_count": 132
        }
      ]
    },
    {
      "cell_type": "markdown",
      "metadata": {
        "collapsed": true,
        "id": "rEL4ECjg8WUV"
      },
      "source": [
        "*3) What is the most common last name among passengers?*"
      ]
    },
    {
      "cell_type": "code",
      "metadata": {
        "colab": {
          "base_uri": "https://localhost:8080/",
          "height": 97
        },
        "id": "T4r9akbA8WUX",
        "outputId": "b280de63-0f6b-499a-f15a-da1e2394b38f"
      },
      "source": [
        "%%sql\n",
        "select last, count(last) as occ\n",
        "from Titanic\n",
        "group by last\n",
        "order by occ desc\n",
        "limit 1"
      ],
      "execution_count": null,
      "outputs": [
        {
          "output_type": "stream",
          "text": [
            " * sqlite://\n",
            "Done.\n"
          ],
          "name": "stdout"
        },
        {
          "output_type": "execute_result",
          "data": {
            "text/html": [
              "<table>\n",
              "    <thead>\n",
              "        <tr>\n",
              "            <th>last</th>\n",
              "            <th>occ</th>\n",
              "        </tr>\n",
              "    </thead>\n",
              "    <tbody>\n",
              "        <tr>\n",
              "            <td>Andersson</td>\n",
              "            <td>9</td>\n",
              "        </tr>\n",
              "    </tbody>\n",
              "</table>"
            ],
            "text/plain": [
              "[('Andersson', 9)]"
            ]
          },
          "metadata": {
            "tags": []
          },
          "execution_count": 133
        }
      ]
    },
    {
      "cell_type": "markdown",
      "metadata": {
        "collapsed": true,
        "id": "OqIfsDiu8WUa"
      },
      "source": [
        "*4) Write 3 queries:*\n",
        "\n",
        "* *Total number of passengers*\n",
        "* *Number of passengers under 30*\n",
        "* *Number of passengers 30 or older*\n",
        "\n",
        "*Why do the second and third numbers not add up to the first?*"
      ]
    },
    {
      "cell_type": "code",
      "metadata": {
        "colab": {
          "base_uri": "https://localhost:8080/",
          "height": 97
        },
        "id": "mc-KOeLo8WUb",
        "outputId": "cb1c731a-b416-46d9-c768-5ff99da76009"
      },
      "source": [
        "%%sql\n",
        "select count(*) from Titanic"
      ],
      "execution_count": null,
      "outputs": [
        {
          "output_type": "stream",
          "text": [
            " * sqlite://\n",
            "Done.\n"
          ],
          "name": "stdout"
        },
        {
          "output_type": "execute_result",
          "data": {
            "text/html": [
              "<table>\n",
              "    <thead>\n",
              "        <tr>\n",
              "            <th>count(*)</th>\n",
              "        </tr>\n",
              "    </thead>\n",
              "    <tbody>\n",
              "        <tr>\n",
              "            <td>891</td>\n",
              "        </tr>\n",
              "    </tbody>\n",
              "</table>"
            ],
            "text/plain": [
              "[(891,)]"
            ]
          },
          "metadata": {
            "tags": []
          },
          "execution_count": 134
        }
      ]
    },
    {
      "cell_type": "code",
      "metadata": {
        "colab": {
          "base_uri": "https://localhost:8080/",
          "height": 97
        },
        "id": "n_UtmFrl8WUe",
        "outputId": "7d1d9918-9182-47d3-b7cf-33903cb498ad"
      },
      "source": [
        "%%sql\n",
        "select count(*) from Titanic where age < 30"
      ],
      "execution_count": null,
      "outputs": [
        {
          "output_type": "stream",
          "text": [
            " * sqlite://\n",
            "Done.\n"
          ],
          "name": "stdout"
        },
        {
          "output_type": "execute_result",
          "data": {
            "text/html": [
              "<table>\n",
              "    <thead>\n",
              "        <tr>\n",
              "            <th>count(*)</th>\n",
              "        </tr>\n",
              "    </thead>\n",
              "    <tbody>\n",
              "        <tr>\n",
              "            <td>384</td>\n",
              "        </tr>\n",
              "    </tbody>\n",
              "</table>"
            ],
            "text/plain": [
              "[(384,)]"
            ]
          },
          "metadata": {
            "tags": []
          },
          "execution_count": 135
        }
      ]
    },
    {
      "cell_type": "code",
      "metadata": {
        "colab": {
          "base_uri": "https://localhost:8080/",
          "height": 97
        },
        "id": "1SUbq9q98WUj",
        "outputId": "31f3f87e-f10c-4088-ff77-1f8e07fdbc08"
      },
      "source": [
        "%%sql\n",
        "select count(*) from Titanic where age >= 30"
      ],
      "execution_count": null,
      "outputs": [
        {
          "output_type": "stream",
          "text": [
            " * sqlite://\n",
            "Done.\n"
          ],
          "name": "stdout"
        },
        {
          "output_type": "execute_result",
          "data": {
            "text/html": [
              "<table>\n",
              "    <thead>\n",
              "        <tr>\n",
              "            <th>count(*)</th>\n",
              "        </tr>\n",
              "    </thead>\n",
              "    <tbody>\n",
              "        <tr>\n",
              "            <td>330</td>\n",
              "        </tr>\n",
              "    </tbody>\n",
              "</table>"
            ],
            "text/plain": [
              "[(330,)]"
            ]
          },
          "metadata": {
            "tags": []
          },
          "execution_count": 136
        }
      ]
    },
    {
      "cell_type": "markdown",
      "metadata": {
        "collapsed": true,
        "id": "oGoJIsqS8WUm"
      },
      "source": [
        "Blanks in SQL tables are given a special value `null`, and conditions like `A is null` and `A is not null` can be used in WHERE statements to check whether attribute A contains blank values or not. "
      ]
    },
    {
      "cell_type": "markdown",
      "metadata": {
        "id": "ZjyG3fkhBxFW"
      },
      "source": [
        "*5) How many passengers don't have a value for age? Now do your numbers add up?*"
      ]
    },
    {
      "cell_type": "code",
      "metadata": {
        "colab": {
          "base_uri": "https://localhost:8080/",
          "height": 97
        },
        "id": "yvK_LOoJ8WUm",
        "outputId": "52f30dc9-f536-4881-d41e-152d2bff6151"
      },
      "source": [
        "%%sql\n",
        "select count(*) from Titanic where age is null"
      ],
      "execution_count": null,
      "outputs": [
        {
          "output_type": "stream",
          "text": [
            " * sqlite://\n",
            "Done.\n"
          ],
          "name": "stdout"
        },
        {
          "output_type": "execute_result",
          "data": {
            "text/html": [
              "<table>\n",
              "    <thead>\n",
              "        <tr>\n",
              "            <th>count(*)</th>\n",
              "        </tr>\n",
              "    </thead>\n",
              "    <tbody>\n",
              "        <tr>\n",
              "            <td>177</td>\n",
              "        </tr>\n",
              "    </tbody>\n",
              "</table>"
            ],
            "text/plain": [
              "[(177,)]"
            ]
          },
          "metadata": {
            "tags": []
          },
          "execution_count": 137
        }
      ]
    },
    {
      "cell_type": "markdown",
      "metadata": {
        "collapsed": true,
        "id": "-Xj20xpl8WUq"
      },
      "source": [
        "*6) How many passengers were in each of the following categories, and what was their average fare paid?*\n",
        "\n",
        "* *Male survivors*\n",
        "* *Female survivors*\n",
        "* *Male non-survivors*\n",
        "* *Female non-survivors*"
      ]
    },
    {
      "cell_type": "code",
      "metadata": {
        "colab": {
          "base_uri": "https://localhost:8080/",
          "height": 160
        },
        "id": "mUnjnnH28WUt",
        "outputId": "e2ce61a2-b7fb-4cfd-d309-638d52797bb6"
      },
      "source": [
        "%%sql\n",
        "select gender, survived, count(*) as number, avg(fare) as avg_fare\n",
        "from Titanic\n",
        "group by gender, survived"
      ],
      "execution_count": null,
      "outputs": [
        {
          "output_type": "stream",
          "text": [
            " * sqlite://\n",
            "Done.\n"
          ],
          "name": "stdout"
        },
        {
          "output_type": "execute_result",
          "data": {
            "text/html": [
              "<table>\n",
              "    <thead>\n",
              "        <tr>\n",
              "            <th>gender</th>\n",
              "            <th>survived</th>\n",
              "            <th>number</th>\n",
              "            <th>avg_fare</th>\n",
              "        </tr>\n",
              "    </thead>\n",
              "    <tbody>\n",
              "        <tr>\n",
              "            <td>F</td>\n",
              "            <td>no</td>\n",
              "            <td>81</td>\n",
              "            <td>23.02438518518519</td>\n",
              "        </tr>\n",
              "        <tr>\n",
              "            <td>F</td>\n",
              "            <td>yes</td>\n",
              "            <td>233</td>\n",
              "            <td>51.93857339055791</td>\n",
              "        </tr>\n",
              "        <tr>\n",
              "            <td>M</td>\n",
              "            <td>no</td>\n",
              "            <td>468</td>\n",
              "            <td>21.960992948717944</td>\n",
              "        </tr>\n",
              "        <tr>\n",
              "            <td>M</td>\n",
              "            <td>yes</td>\n",
              "            <td>109</td>\n",
              "            <td>40.82148440366974</td>\n",
              "        </tr>\n",
              "    </tbody>\n",
              "</table>"
            ],
            "text/plain": [
              "[('F', 'no', 81, 23.02438518518519),\n",
              " ('F', 'yes', 233, 51.93857339055791),\n",
              " ('M', 'no', 468, 21.960992948717944),\n",
              " ('M', 'yes', 109, 40.82148440366974)]"
            ]
          },
          "metadata": {
            "tags": []
          },
          "execution_count": 138
        }
      ]
    },
    {
      "cell_type": "markdown",
      "metadata": {
        "id": "sWTpFjoG8WUy"
      },
      "source": [
        "### Advanced Queries"
      ]
    },
    {
      "cell_type": "markdown",
      "metadata": {
        "id": "ND9eL-2M8WUz"
      },
      "source": [
        "*1) Are there any pairs of passengers with the same last name where one is in first class and the other is in third class?*\n",
        "\n",
        "*If so, return the last name and each person's first name. Label the first name column as \"first\" for the passenger in first class, and \"third\" for the passenger in third class.*"
      ]
    },
    {
      "cell_type": "code",
      "metadata": {
        "colab": {
          "base_uri": "https://localhost:8080/",
          "height": 265
        },
        "id": "5xp2zfy-8WU0",
        "outputId": "a26cb64d-bb02-422b-83e8-0f5b680fd585"
      },
      "source": [
        "%%sql\n",
        "select t1.last, t1.first as first, t2.first as third\n",
        "from Titanic t1, Titanic t2\n",
        "where t1.last = t2.last\n",
        "  and t1.first <> t2.first\n",
        "  and t1.class = 1\n",
        "  and t2. class = 3"
      ],
      "execution_count": null,
      "outputs": [
        {
          "output_type": "stream",
          "text": [
            " * sqlite://\n",
            "Done.\n"
          ],
          "name": "stdout"
        },
        {
          "output_type": "execute_result",
          "data": {
            "text/html": [
              "<table>\n",
              "    <thead>\n",
              "        <tr>\n",
              "            <th>last</th>\n",
              "            <th>first</th>\n",
              "            <th>third</th>\n",
              "        </tr>\n",
              "    </thead>\n",
              "    <tbody>\n",
              "        <tr>\n",
              "            <td>Allen</td>\n",
              "            <td>Miss Elisabeth Walton</td>\n",
              "            <td>Mr. William Henry</td>\n",
              "        </tr>\n",
              "        <tr>\n",
              "            <td>Smith</td>\n",
              "            <td>Mr. James Clinch</td>\n",
              "            <td>Mr. Thomas</td>\n",
              "        </tr>\n",
              "        <tr>\n",
              "            <td>Smith</td>\n",
              "            <td>Mr. Richard William</td>\n",
              "            <td>Mr. Thomas</td>\n",
              "        </tr>\n",
              "        <tr>\n",
              "            <td>Williams</td>\n",
              "            <td>Mr. Charles Duane</td>\n",
              "            <td> Mr. Howard Hugh &quot;Harry&quot;</td>\n",
              "        </tr>\n",
              "        <tr>\n",
              "            <td>Flynn</td>\n",
              "            <td> Mr. John Irwin (&quot;Irving&quot;)</td>\n",
              "            <td>Mr. James</td>\n",
              "        </tr>\n",
              "        <tr>\n",
              "            <td>Daly</td>\n",
              "            <td>Mr. Peter Denis</td>\n",
              "            <td>Mr. Eugene Patrick</td>\n",
              "        </tr>\n",
              "        <tr>\n",
              "            <td>Williams</td>\n",
              "            <td>Mr. Charles Duane</td>\n",
              "            <td>Mr. Leslie</td>\n",
              "        </tr>\n",
              "        <tr>\n",
              "            <td>Carlsson</td>\n",
              "            <td>Mr. Frans Olof</td>\n",
              "            <td>Mr. August Sigfrid</td>\n",
              "        </tr>\n",
              "        <tr>\n",
              "            <td>Flynn</td>\n",
              "            <td> Mr. John Irwin (&quot;Irving&quot;)</td>\n",
              "            <td>Mr. John</td>\n",
              "        </tr>\n",
              "    </tbody>\n",
              "</table>"
            ],
            "text/plain": [
              "[('Allen', 'Miss Elisabeth Walton', 'Mr. William Henry'),\n",
              " ('Smith', 'Mr. James Clinch', 'Mr. Thomas'),\n",
              " ('Smith', 'Mr. Richard William', 'Mr. Thomas'),\n",
              " ('Williams', 'Mr. Charles Duane', ' Mr. Howard Hugh \"Harry\"'),\n",
              " ('Flynn', ' Mr. John Irwin (\"Irving\")', 'Mr. James'),\n",
              " ('Daly', 'Mr. Peter Denis', 'Mr. Eugene Patrick'),\n",
              " ('Williams', 'Mr. Charles Duane', 'Mr. Leslie'),\n",
              " ('Carlsson', 'Mr. Frans Olof', 'Mr. August Sigfrid'),\n",
              " ('Flynn', ' Mr. John Irwin (\"Irving\")', 'Mr. John')]"
            ]
          },
          "metadata": {
            "tags": []
          },
          "execution_count": 139
        }
      ]
    },
    {
      "cell_type": "markdown",
      "metadata": {
        "id": "08oP8DlB8WU3"
      },
      "source": [
        "*2) Which embarkation cities have more than 40 passengers whose age is missing?*"
      ]
    },
    {
      "cell_type": "code",
      "metadata": {
        "colab": {
          "base_uri": "https://localhost:8080/",
          "height": 118
        },
        "id": "8THmi4gQ8WU4",
        "outputId": "3b413167-ecfe-467f-cc50-37e12075058c"
      },
      "source": [
        "%%sql\n",
        "select embarked, count(*) as missing_age\n",
        "from Titanic\n",
        "where age is null\n",
        "group by embarked\n",
        "having missing_age > 40"
      ],
      "execution_count": null,
      "outputs": [
        {
          "output_type": "stream",
          "text": [
            " * sqlite://\n",
            "Done.\n"
          ],
          "name": "stdout"
        },
        {
          "output_type": "execute_result",
          "data": {
            "text/html": [
              "<table>\n",
              "    <thead>\n",
              "        <tr>\n",
              "            <th>embarked</th>\n",
              "            <th>missing_age</th>\n",
              "        </tr>\n",
              "    </thead>\n",
              "    <tbody>\n",
              "        <tr>\n",
              "            <td>Queenstown</td>\n",
              "            <td>49</td>\n",
              "        </tr>\n",
              "        <tr>\n",
              "            <td>Southampton</td>\n",
              "            <td>90</td>\n",
              "        </tr>\n",
              "    </tbody>\n",
              "</table>"
            ],
            "text/plain": [
              "[('Queenstown', 49), ('Southampton', 90)]"
            ]
          },
          "metadata": {
            "tags": []
          },
          "execution_count": 140
        }
      ]
    },
    {
      "cell_type": "markdown",
      "metadata": {
        "id": "d4tQhkGW8WU7"
      },
      "source": [
        "*3) Find all classes where the average fare paid by passengers in that class was more than twice the overall average or less than half the overall average.*"
      ]
    },
    {
      "cell_type": "code",
      "metadata": {
        "colab": {
          "base_uri": "https://localhost:8080/",
          "height": 118
        },
        "id": "iY4YeOXf8WU7",
        "outputId": "6028e25e-295d-4a91-db54-1685c156c0b6"
      },
      "source": [
        "%%sql\n",
        "select class, avg(fare) as avg_fare\n",
        "from Titanic\n",
        "group by class\n",
        "having avg_fare > (2 * (select avg(fare) from Titanic))\n",
        "  or avg_fare < ((select avg(fare) from Titanic) / 2)"
      ],
      "execution_count": null,
      "outputs": [
        {
          "output_type": "stream",
          "text": [
            " * sqlite://\n",
            "Done.\n"
          ],
          "name": "stdout"
        },
        {
          "output_type": "execute_result",
          "data": {
            "text/html": [
              "<table>\n",
              "    <thead>\n",
              "        <tr>\n",
              "            <th>class</th>\n",
              "            <th>avg_fare</th>\n",
              "        </tr>\n",
              "    </thead>\n",
              "    <tbody>\n",
              "        <tr>\n",
              "            <td>1</td>\n",
              "            <td>84.15468749999992</td>\n",
              "        </tr>\n",
              "        <tr>\n",
              "            <td>3</td>\n",
              "            <td>13.675550101832997</td>\n",
              "        </tr>\n",
              "    </tbody>\n",
              "</table>"
            ],
            "text/plain": [
              "[(1, 84.15468749999992), (3, 13.675550101832997)]"
            ]
          },
          "metadata": {
            "tags": []
          },
          "execution_count": 141
        }
      ]
    },
    {
      "cell_type": "markdown",
      "metadata": {
        "id": "PeGyTGge8WU-"
      },
      "source": [
        "*4) EXTRA DIFFICULT CHALLENGE: List each class and its survival rate, i.e., the fraction of passengers in that class who survived.*"
      ]
    },
    {
      "cell_type": "code",
      "metadata": {
        "colab": {
          "base_uri": "https://localhost:8080/",
          "height": 139
        },
        "id": "24S9LzVw8WU-",
        "outputId": "bd8edf1e-50d1-408d-921c-ce0e3b6c0319"
      },
      "source": [
        "%%sql\n",
        "select t1.class, (1.0 * survivors / total_class) as survival_rate\n",
        "from (select class, count(*) as total_class from Titanic group by class) t1\n",
        "join (select class, count(*) as survivors from Titanic where survived like 'yes' group by class) t2\n",
        "on t1.class = t2.class"
      ],
      "execution_count": null,
      "outputs": [
        {
          "output_type": "stream",
          "text": [
            " * sqlite://\n",
            "Done.\n"
          ],
          "name": "stdout"
        },
        {
          "output_type": "execute_result",
          "data": {
            "text/html": [
              "<table>\n",
              "    <thead>\n",
              "        <tr>\n",
              "            <th>class</th>\n",
              "            <th>survival_rate</th>\n",
              "        </tr>\n",
              "    </thead>\n",
              "    <tbody>\n",
              "        <tr>\n",
              "            <td>1</td>\n",
              "            <td>0.6296296296296297</td>\n",
              "        </tr>\n",
              "        <tr>\n",
              "            <td>2</td>\n",
              "            <td>0.47282608695652173</td>\n",
              "        </tr>\n",
              "        <tr>\n",
              "            <td>3</td>\n",
              "            <td>0.24236252545824846</td>\n",
              "        </tr>\n",
              "    </tbody>\n",
              "</table>"
            ],
            "text/plain": [
              "[(1, 0.6296296296296297), (2, 0.47282608695652173), (3, 0.24236252545824846)]"
            ]
          },
          "metadata": {
            "tags": []
          },
          "execution_count": 142
        }
      ]
    },
    {
      "cell_type": "markdown",
      "metadata": {
        "id": "t5oNolyg8WVB"
      },
      "source": [
        "### Titanic Data Modification\n",
        "\n",
        "Here again, we are giving you the solution for the first two questions to get you acquainted with the modification syntax.\n",
        "\n",
        "Note: You may want to reload the CSV frequently to reset the data as you experiment with modifications."
      ]
    },
    {
      "cell_type": "code",
      "metadata": {
        "id": "EjnhXy1k8WVB"
      },
      "source": [
        "# Load table from CSV file\n",
        "titanic_url = \"https://raw.githubusercontent.com/michalis0/BigScaleAnalytics/master/week2/data/Titanic.csv\"\n",
        "Titanic = pd.read_csv(titanic_url, index_col=0, encoding=\"utf-8\")\n",
        "%sql drop table if exists Titanic;\n",
        "%sql persist Titanic"
      ],
      "execution_count": null,
      "outputs": []
    },
    {
      "cell_type": "markdown",
      "metadata": {
        "id": "L-loAKBy8WVE"
      },
      "source": [
        "*1) Subtract 5 from the fare paid by all passengers under the age of 10. Then compute the new average fare similar to question 2 in the previous section.*\n",
        "\n",
        "**Hint #1**: You can put two SQL statements in one cell separated by a semicolon.\n",
        "\n",
        "**Hint #2**: Use the UPDATE and SET keywords to modify a column (see [documentation](https://www.w3schools.com/sql/sql_update.asp))."
      ]
    },
    {
      "cell_type": "code",
      "metadata": {
        "colab": {
          "base_uri": "https://localhost:8080/",
          "height": 157
        },
        "id": "f_NL7NFl8WVF",
        "outputId": "7baff6ca-337b-4975-b804-fd0a333e270c"
      },
      "source": [
        "%%sql\n",
        "update Titanic\n",
        "set fare = fare - 5\n",
        "where age < 10\n",
        ";\n",
        "select embarked, avg(fare) as avg_fare\n",
        "from Titanic\n",
        "group by embarked\n",
        "order by avg_fare desc"
      ],
      "execution_count": null,
      "outputs": [
        {
          "output_type": "stream",
          "text": [
            " * sqlite://\n",
            "62 rows affected.\n",
            "Done.\n"
          ],
          "name": "stdout"
        },
        {
          "output_type": "execute_result",
          "data": {
            "text/html": [
              "<table>\n",
              "    <thead>\n",
              "        <tr>\n",
              "            <th>embarked</th>\n",
              "            <th>avg_fare</th>\n",
              "        </tr>\n",
              "    </thead>\n",
              "    <tbody>\n",
              "        <tr>\n",
              "            <td>Cherbourg</td>\n",
              "            <td>59.68628690476191</td>\n",
              "        </tr>\n",
              "        <tr>\n",
              "            <td>Southampton</td>\n",
              "            <td>26.86439442724453</td>\n",
              "        </tr>\n",
              "        <tr>\n",
              "            <td>Queenstown</td>\n",
              "            <td>13.016289610389611</td>\n",
              "        </tr>\n",
              "    </tbody>\n",
              "</table>"
            ],
            "text/plain": [
              "[('Cherbourg', 59.68628690476191),\n",
              " ('Southampton', 26.86439442724453),\n",
              " ('Queenstown', 13.016289610389611)]"
            ]
          },
          "metadata": {
            "tags": []
          },
          "execution_count": 144
        }
      ]
    },
    {
      "cell_type": "markdown",
      "metadata": {
        "id": "O_nxrddE8WVI"
      },
      "source": [
        "*2) Create a new table called \"Survivors\" containing the first and last names of all passengers who survived. Then count the number of tuples in the new table.*\n",
        "\n",
        "**Hint**: Use the CREATE TABLE keyword."
      ]
    },
    {
      "cell_type": "code",
      "metadata": {
        "colab": {
          "base_uri": "https://localhost:8080/",
          "height": 134
        },
        "id": "zNquUcYX8WVK",
        "outputId": "4a03c163-9f97-4c6f-b508-43cad20d5b75"
      },
      "source": [
        "%%sql\n",
        "drop table if exists Survivors\n",
        ";\n",
        "create table Survivors as\n",
        "select first, last\n",
        "from Titanic \n",
        "where survived = \"yes\"\n",
        ";\n",
        "select count(*) as count from Survivors"
      ],
      "execution_count": null,
      "outputs": [
        {
          "output_type": "stream",
          "text": [
            " * sqlite://\n",
            "Done.\n",
            "Done.\n",
            "Done.\n"
          ],
          "name": "stdout"
        },
        {
          "output_type": "execute_result",
          "data": {
            "text/html": [
              "<table>\n",
              "    <thead>\n",
              "        <tr>\n",
              "            <th>count</th>\n",
              "        </tr>\n",
              "    </thead>\n",
              "    <tbody>\n",
              "        <tr>\n",
              "            <td>342</td>\n",
              "        </tr>\n",
              "    </tbody>\n",
              "</table>"
            ],
            "text/plain": [
              "[(342,)]"
            ]
          },
          "metadata": {
            "tags": []
          },
          "execution_count": 145
        }
      ]
    },
    {
      "cell_type": "markdown",
      "metadata": {
        "id": "9UNpd5NI8WVT"
      },
      "source": [
        "*3) In the Titanic table, delete all but the passengers who paid more than 300. Then count the number of tuples in the table.*\n",
        "\n",
        "**Hint**: Use the DELETE FROM keyword."
      ]
    },
    {
      "cell_type": "code",
      "metadata": {
        "colab": {
          "base_uri": "https://localhost:8080/",
          "height": 115
        },
        "id": "2cVPzxEY8WVV",
        "outputId": "2b90cd9c-f8bf-4882-9068-5b56c35448a6"
      },
      "source": [
        "%%sql\n",
        "delete from Titanic\n",
        "where fare <= 300\n",
        ";\n",
        "select count(*) as count from Titanic"
      ],
      "execution_count": null,
      "outputs": [
        {
          "output_type": "stream",
          "text": [
            " * sqlite://\n",
            "3 rows affected.\n",
            "Done.\n"
          ],
          "name": "stdout"
        },
        {
          "output_type": "execute_result",
          "data": {
            "text/html": [
              "<table>\n",
              "    <thead>\n",
              "        <tr>\n",
              "            <th>count</th>\n",
              "        </tr>\n",
              "    </thead>\n",
              "    <tbody>\n",
              "        <tr>\n",
              "            <td>888</td>\n",
              "        </tr>\n",
              "    </tbody>\n",
              "</table>"
            ],
            "text/plain": [
              "[(888,)]"
            ]
          },
          "metadata": {
            "tags": []
          },
          "execution_count": 146
        }
      ]
    },
    {
      "cell_type": "markdown",
      "metadata": {
        "id": "mNVJ03FM8WVY"
      },
      "source": [
        "*4) In what's left of the table after question 3, insert a new tuple for yourself. You can decide your class, fare, where you embarked, and whether you survived. Then show the whole table.*\n",
        "\n",
        "**Hint**: Use the INSERT INTO keyword."
      ]
    },
    {
      "cell_type": "code",
      "metadata": {
        "id": "REnGeB1r8WVZ"
      },
      "source": [
        "%%sql\n",
        "insert into Titanic\n",
        "values (\"Spycher\", \"Frederic\", \"M\", 30, 2, 15, \"Southampton\", \"yes\")\n",
        ";\n",
        "select * from Titanic"
      ],
      "execution_count": null,
      "outputs": []
    }
  ]
}
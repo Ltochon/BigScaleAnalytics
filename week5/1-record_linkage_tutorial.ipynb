{
  "nbformat": 4,
  "nbformat_minor": 0,
  "metadata": {
    "colab": {
      "name": "record_linkage_tutorial.ipynb",
      "provenance": [],
      "include_colab_link": true
    },
    "kernelspec": {
      "display_name": "Python 3",
      "language": "python",
      "name": "python3"
    },
    "language_info": {
      "codemirror_mode": {
        "name": "ipython",
        "version": 3
      },
      "file_extension": ".py",
      "mimetype": "text/x-python",
      "name": "python",
      "nbconvert_exporter": "python",
      "pygments_lexer": "ipython3",
      "version": "3.7.3"
    }
  },
  "cells": [
    {
      "cell_type": "markdown",
      "metadata": {
        "id": "view-in-github",
        "colab_type": "text"
      },
      "source": [
        "<a href=\"https://colab.research.google.com/github/michalis0/BigScaleAnalytics/blob/master/week5/1-record_linkage_tutorial.ipynb\" target=\"_parent\"><img src=\"https://colab.research.google.com/assets/colab-badge.svg\" alt=\"Open In Colab\"/></a>"
      ]
    },
    {
      "cell_type": "markdown",
      "metadata": {
        "id": "4gwldzNr4kyc"
      },
      "source": [
        "## record linkage tutorial"
      ]
    },
    {
      "cell_type": "code",
      "metadata": {
        "colab": {
          "base_uri": "https://localhost:8080/"
        },
        "id": "0byOfekq4kyg",
        "scrolled": true,
        "outputId": "d82a6a8d-3151-4ee6-faf2-7b34c3ee4678"
      },
      "source": [
        "!pip install recordlinkage"
      ],
      "execution_count": 2,
      "outputs": [
        {
          "output_type": "stream",
          "text": [
            "Collecting recordlinkage\n",
            "\u001b[?25l  Downloading https://files.pythonhosted.org/packages/db/26/babbca39d74824e8bc17428a8eb04951a1d63318af7d02beeb2106a1ec26/recordlinkage-0.14-py3-none-any.whl (944kB)\n",
            "\u001b[K     |████████████████████████████████| 952kB 15.0MB/s \n",
            "\u001b[?25hRequirement already satisfied: scikit-learn>=0.19.0 in /usr/local/lib/python3.7/dist-packages (from recordlinkage) (0.22.2.post1)\n",
            "Requirement already satisfied: pandas>=0.23 in /usr/local/lib/python3.7/dist-packages (from recordlinkage) (1.1.5)\n",
            "Collecting jellyfish>=0.5.4\n",
            "\u001b[?25l  Downloading https://files.pythonhosted.org/packages/30/a6/4d039bc827a102f62ce7a7910713e38fdfd7c7a40aa39c72fb14938a1473/jellyfish-0.8.2-cp37-cp37m-manylinux2014_x86_64.whl (90kB)\n",
            "\u001b[K     |████████████████████████████████| 92kB 7.7MB/s \n",
            "\u001b[?25hRequirement already satisfied: joblib in /usr/local/lib/python3.7/dist-packages (from recordlinkage) (1.0.1)\n",
            "Requirement already satisfied: numpy>=1.13.0 in /usr/local/lib/python3.7/dist-packages (from recordlinkage) (1.19.5)\n",
            "Requirement already satisfied: scipy>=1 in /usr/local/lib/python3.7/dist-packages (from recordlinkage) (1.4.1)\n",
            "Requirement already satisfied: pytz>=2017.2 in /usr/local/lib/python3.7/dist-packages (from pandas>=0.23->recordlinkage) (2018.9)\n",
            "Requirement already satisfied: python-dateutil>=2.7.3 in /usr/local/lib/python3.7/dist-packages (from pandas>=0.23->recordlinkage) (2.8.1)\n",
            "Requirement already satisfied: six>=1.5 in /usr/local/lib/python3.7/dist-packages (from python-dateutil>=2.7.3->pandas>=0.23->recordlinkage) (1.15.0)\n",
            "Installing collected packages: jellyfish, recordlinkage\n",
            "Successfully installed jellyfish-0.8.2 recordlinkage-0.14\n"
          ],
          "name": "stdout"
        }
      ]
    },
    {
      "cell_type": "code",
      "metadata": {
        "id": "QsrP6Wa74kyl"
      },
      "source": [
        "import recordlinkage\n",
        "import pandas as pd"
      ],
      "execution_count": 3,
      "outputs": []
    },
    {
      "cell_type": "markdown",
      "metadata": {
        "id": "t3qUr9Dq4kyo"
      },
      "source": [
        "Let's start by following the example from the record linkage documentation. For this example, we use the Febrl dataset 1. This dataset contains 1000 records of which 500 original and 500 duplicates, with exactly one duplicate per original record. This dataset can be loaded with the function `load_febrl1`."
      ]
    },
    {
      "cell_type": "code",
      "metadata": {
        "colab": {
          "base_uri": "https://localhost:8080/",
          "height": 225
        },
        "id": "d1XERC_n4kyp",
        "outputId": "76afe4ee-5eb1-4745-dcb3-ae2a2e6b8afc"
      },
      "source": [
        "from recordlinkage.datasets import load_febrl1\n",
        "dfA = load_febrl1()\n",
        "dfA.head()"
      ],
      "execution_count": 4,
      "outputs": [
        {
          "output_type": "execute_result",
          "data": {
            "text/html": [
              "<div>\n",
              "<style scoped>\n",
              "    .dataframe tbody tr th:only-of-type {\n",
              "        vertical-align: middle;\n",
              "    }\n",
              "\n",
              "    .dataframe tbody tr th {\n",
              "        vertical-align: top;\n",
              "    }\n",
              "\n",
              "    .dataframe thead th {\n",
              "        text-align: right;\n",
              "    }\n",
              "</style>\n",
              "<table border=\"1\" class=\"dataframe\">\n",
              "  <thead>\n",
              "    <tr style=\"text-align: right;\">\n",
              "      <th></th>\n",
              "      <th>given_name</th>\n",
              "      <th>surname</th>\n",
              "      <th>street_number</th>\n",
              "      <th>address_1</th>\n",
              "      <th>address_2</th>\n",
              "      <th>suburb</th>\n",
              "      <th>postcode</th>\n",
              "      <th>state</th>\n",
              "      <th>date_of_birth</th>\n",
              "      <th>soc_sec_id</th>\n",
              "    </tr>\n",
              "    <tr>\n",
              "      <th>rec_id</th>\n",
              "      <th></th>\n",
              "      <th></th>\n",
              "      <th></th>\n",
              "      <th></th>\n",
              "      <th></th>\n",
              "      <th></th>\n",
              "      <th></th>\n",
              "      <th></th>\n",
              "      <th></th>\n",
              "      <th></th>\n",
              "    </tr>\n",
              "  </thead>\n",
              "  <tbody>\n",
              "    <tr>\n",
              "      <th>rec-223-org</th>\n",
              "      <td>NaN</td>\n",
              "      <td>waller</td>\n",
              "      <td>6</td>\n",
              "      <td>tullaroop street</td>\n",
              "      <td>willaroo</td>\n",
              "      <td>st james</td>\n",
              "      <td>4011</td>\n",
              "      <td>wa</td>\n",
              "      <td>19081209</td>\n",
              "      <td>6988048</td>\n",
              "    </tr>\n",
              "    <tr>\n",
              "      <th>rec-122-org</th>\n",
              "      <td>lachlan</td>\n",
              "      <td>berry</td>\n",
              "      <td>69</td>\n",
              "      <td>giblin street</td>\n",
              "      <td>killarney</td>\n",
              "      <td>bittern</td>\n",
              "      <td>4814</td>\n",
              "      <td>qld</td>\n",
              "      <td>19990219</td>\n",
              "      <td>7364009</td>\n",
              "    </tr>\n",
              "    <tr>\n",
              "      <th>rec-373-org</th>\n",
              "      <td>deakin</td>\n",
              "      <td>sondergeld</td>\n",
              "      <td>48</td>\n",
              "      <td>goldfinch circuit</td>\n",
              "      <td>kooltuo</td>\n",
              "      <td>canterbury</td>\n",
              "      <td>2776</td>\n",
              "      <td>vic</td>\n",
              "      <td>19600210</td>\n",
              "      <td>2635962</td>\n",
              "    </tr>\n",
              "    <tr>\n",
              "      <th>rec-10-dup-0</th>\n",
              "      <td>kayla</td>\n",
              "      <td>harrington</td>\n",
              "      <td>NaN</td>\n",
              "      <td>maltby circuit</td>\n",
              "      <td>coaling</td>\n",
              "      <td>coolaroo</td>\n",
              "      <td>3465</td>\n",
              "      <td>nsw</td>\n",
              "      <td>19150612</td>\n",
              "      <td>9004242</td>\n",
              "    </tr>\n",
              "    <tr>\n",
              "      <th>rec-227-org</th>\n",
              "      <td>luke</td>\n",
              "      <td>purdon</td>\n",
              "      <td>23</td>\n",
              "      <td>ramsay place</td>\n",
              "      <td>mirani</td>\n",
              "      <td>garbutt</td>\n",
              "      <td>2260</td>\n",
              "      <td>vic</td>\n",
              "      <td>19831024</td>\n",
              "      <td>8099933</td>\n",
              "    </tr>\n",
              "  </tbody>\n",
              "</table>\n",
              "</div>"
            ],
            "text/plain": [
              "             given_name     surname  ... date_of_birth soc_sec_id\n",
              "rec_id                               ...                         \n",
              "rec-223-org         NaN      waller  ...      19081209    6988048\n",
              "rec-122-org     lachlan       berry  ...      19990219    7364009\n",
              "rec-373-org      deakin  sondergeld  ...      19600210    2635962\n",
              "rec-10-dup-0      kayla  harrington  ...      19150612    9004242\n",
              "rec-227-org        luke      purdon  ...      19831024    8099933\n",
              "\n",
              "[5 rows x 10 columns]"
            ]
          },
          "metadata": {
            "tags": []
          },
          "execution_count": 4
        }
      ]
    },
    {
      "cell_type": "markdown",
      "metadata": {
        "id": "l5Uhol9k4kys"
      },
      "source": [
        "### Make record pairs\n",
        "It is very intuitive to start with comparing each record in DataFrame `dfA` with all other records in DataFrame `dfA`. In fact, we want to make record pairs. Each record pair should contain two different records of DataFrame `dfA`. This process of making record pairs is also called ‘indexing’. With the `recordlinkage` module, indexing is easy. First, load the `recordlinkage.Index` class and call the `.full` method. This object generates a full index on a `.index(...)` call. In case of deduplication of a single dataframe, one dataframe is sufficient as input argument."
      ]
    },
    {
      "cell_type": "code",
      "metadata": {
        "colab": {
          "base_uri": "https://localhost:8080/"
        },
        "id": "fr7J1ysL4kyt",
        "outputId": "27fee6bb-2b7c-4cc4-9aee-469a322dde38"
      },
      "source": [
        "indexer = recordlinkage.Index()\n",
        "indexer.full()\n",
        "candidate_links_full = indexer.index(dfA)"
      ],
      "execution_count": 5,
      "outputs": [
        {
          "output_type": "stream",
          "text": [
            "WARNING:recordlinkage:indexing - performance warning - A full index can result in large number of record pairs.\n"
          ],
          "name": "stdout"
        }
      ]
    },
    {
      "cell_type": "markdown",
      "metadata": {
        "id": "d5b-Jnhi4ky0"
      },
      "source": [
        "With the method `index`, all possible (and unique) record pairs are made. The method returns a `pandas.MultiIndex`. The number of pairs is equal to the number of records in `dfA` times the number of records in `dfB` (which in this example is the same as `dfA`)."
      ]
    },
    {
      "cell_type": "code",
      "metadata": {
        "colab": {
          "base_uri": "https://localhost:8080/"
        },
        "id": "ieEZBROx4ky3",
        "outputId": "61262f7d-fe71-4cff-ac03-900a30219ea5"
      },
      "source": [
        "print (len(dfA), len(candidate_links_full))"
      ],
      "execution_count": 6,
      "outputs": [
        {
          "output_type": "stream",
          "text": [
            "1000 499500\n"
          ],
          "name": "stdout"
        }
      ]
    },
    {
      "cell_type": "markdown",
      "metadata": {
        "id": "K7Uh1knw4ky7"
      },
      "source": [
        "Many of these record pairs do not belong to the same person. The `recordlinkage` toolkit has some more advanced indexing methods to reduce the number of record pairs. Obvious non-matches are left out of the index. Note that if a matching record pair is not included in the index, it can not be matched anymore.\n",
        "\n",
        "One of the most well known indexing methods is named blocking. This method includes only record pairs that are identical on one or more stored attributes of the person (or entity in general). The blocking method can be used in the `recordlinkage` module."
      ]
    },
    {
      "cell_type": "code",
      "metadata": {
        "colab": {
          "base_uri": "https://localhost:8080/"
        },
        "id": "eN1TXQvy4ky9",
        "outputId": "1f3b00f6-0104-44f5-cc8e-3fb827f67634"
      },
      "source": [
        "indexer = recordlinkage.Index()\n",
        "indexer.block('given_name')\n",
        "candidate_links = indexer.index(dfA)\n",
        "\n",
        "print (len(candidate_links))"
      ],
      "execution_count": 7,
      "outputs": [
        {
          "output_type": "stream",
          "text": [
            "2082\n"
          ],
          "name": "stdout"
        }
      ]
    },
    {
      "cell_type": "markdown",
      "metadata": {
        "id": "fbVgXw7p4kzA"
      },
      "source": [
        "The argument ‘given_name’ is the blocking variable. This variable has to be the name of a column in `dfA` and `dfB`. It is possible to parse a list of columns names to block on multiple variables. Blocking on multiple variables will reduce the number of record pairs even further.\n",
        "\n",
        "### Compare records\n",
        "Each record pair is a candidate match. To classify the candidate record pairs into matches and non-matches, compare the records on all attributes both records have in common. The `recordlinkage` module has a class named `Compare`. This class is used to compare the records. The following code shows how to compare attributes."
      ]
    },
    {
      "cell_type": "code",
      "metadata": {
        "id": "rV2Du1gG4kzA"
      },
      "source": [
        "compare_cl = recordlinkage.Compare()\n",
        "\n",
        "compare_cl.exact('given_name', 'given_name', label='given_name')\n",
        "compare_cl.string('surname', 'surname', method='jarowinkler', threshold=0.85, label='surname')\n",
        "compare_cl.exact('date_of_birth', 'date_of_birth', label='date_of_birth')\n",
        "compare_cl.exact('suburb', 'suburb', label='suburb')\n",
        "compare_cl.exact('state', 'state', label='state')\n",
        "compare_cl.string('address_1', 'address_1', threshold=0.85, label='address_1')\n",
        "\n",
        "features = compare_cl.compute(candidate_links, dfA)"
      ],
      "execution_count": 8,
      "outputs": []
    },
    {
      "cell_type": "markdown",
      "metadata": {
        "id": "362vgNCC4kzD"
      },
      "source": [
        "As we can see by blocking the number of record pairs reduce significanlty. This in turn decreases the number of comparisons that should be made and saves a lot of computational cost. For the sake of comparison let's compare the runing time of a full indexr against a blocking indexer."
      ]
    },
    {
      "cell_type": "code",
      "metadata": {
        "colab": {
          "base_uri": "https://localhost:8080/"
        },
        "id": "TRyHr-mL4kzE",
        "outputId": "9ba930fe-fd20-478e-ac53-26c0981e03cc"
      },
      "source": [
        "# this cell may take some time\n",
        "import time\n",
        "print(\"full indexer runnig time\")\n",
        "start = time.time()\n",
        "features = compare_cl.compute(candidate_links_full, dfA)\n",
        "print(time.time() - start)\n",
        "\n",
        "print(\"Blocking indexer runnig time\")\n",
        "start = time.time()\n",
        "features = compare_cl.compute(candidate_links, dfA)\n",
        "print(time.time() - start)"
      ],
      "execution_count": 9,
      "outputs": [
        {
          "output_type": "stream",
          "text": [
            "full indexer runnig time\n",
            "7.486485958099365\n",
            "Blocking indexer runnig time\n",
            "0.057544708251953125\n"
          ],
          "name": "stdout"
        }
      ]
    },
    {
      "cell_type": "markdown",
      "metadata": {
        "id": "n_r-Y95k4kzH"
      },
      "source": [
        "The comparing of record pairs starts when the `compute` method is called. All attribute comparisons are stored in a DataFrame with horizontally the features and vertically the record pairs. The first 10 comparison vectors are:"
      ]
    },
    {
      "cell_type": "code",
      "metadata": {
        "colab": {
          "base_uri": "https://localhost:8080/",
          "height": 373
        },
        "id": "H6vfUum04kzI",
        "outputId": "97bcbaaa-6b0c-4843-b29e-df5533da7cd4"
      },
      "source": [
        "features.head(10)"
      ],
      "execution_count": 10,
      "outputs": [
        {
          "output_type": "execute_result",
          "data": {
            "text/html": [
              "<div>\n",
              "<style scoped>\n",
              "    .dataframe tbody tr th:only-of-type {\n",
              "        vertical-align: middle;\n",
              "    }\n",
              "\n",
              "    .dataframe tbody tr th {\n",
              "        vertical-align: top;\n",
              "    }\n",
              "\n",
              "    .dataframe thead th {\n",
              "        text-align: right;\n",
              "    }\n",
              "</style>\n",
              "<table border=\"1\" class=\"dataframe\">\n",
              "  <thead>\n",
              "    <tr style=\"text-align: right;\">\n",
              "      <th></th>\n",
              "      <th></th>\n",
              "      <th>given_name</th>\n",
              "      <th>surname</th>\n",
              "      <th>date_of_birth</th>\n",
              "      <th>suburb</th>\n",
              "      <th>state</th>\n",
              "      <th>address_1</th>\n",
              "    </tr>\n",
              "    <tr>\n",
              "      <th>rec_id_1</th>\n",
              "      <th>rec_id_2</th>\n",
              "      <th></th>\n",
              "      <th></th>\n",
              "      <th></th>\n",
              "      <th></th>\n",
              "      <th></th>\n",
              "      <th></th>\n",
              "    </tr>\n",
              "  </thead>\n",
              "  <tbody>\n",
              "    <tr>\n",
              "      <th>rec-183-dup-0</th>\n",
              "      <th>rec-122-org</th>\n",
              "      <td>1</td>\n",
              "      <td>0.0</td>\n",
              "      <td>0</td>\n",
              "      <td>0</td>\n",
              "      <td>0</td>\n",
              "      <td>0.0</td>\n",
              "    </tr>\n",
              "    <tr>\n",
              "      <th rowspan=\"2\" valign=\"top\">rec-248-org</th>\n",
              "      <th>rec-122-org</th>\n",
              "      <td>1</td>\n",
              "      <td>0.0</td>\n",
              "      <td>0</td>\n",
              "      <td>0</td>\n",
              "      <td>1</td>\n",
              "      <td>0.0</td>\n",
              "    </tr>\n",
              "    <tr>\n",
              "      <th>rec-183-dup-0</th>\n",
              "      <td>1</td>\n",
              "      <td>0.0</td>\n",
              "      <td>0</td>\n",
              "      <td>0</td>\n",
              "      <td>0</td>\n",
              "      <td>0.0</td>\n",
              "    </tr>\n",
              "    <tr>\n",
              "      <th rowspan=\"3\" valign=\"top\">rec-122-dup-0</th>\n",
              "      <th>rec-122-org</th>\n",
              "      <td>1</td>\n",
              "      <td>1.0</td>\n",
              "      <td>1</td>\n",
              "      <td>1</td>\n",
              "      <td>1</td>\n",
              "      <td>1.0</td>\n",
              "    </tr>\n",
              "    <tr>\n",
              "      <th>rec-183-dup-0</th>\n",
              "      <td>1</td>\n",
              "      <td>0.0</td>\n",
              "      <td>0</td>\n",
              "      <td>0</td>\n",
              "      <td>0</td>\n",
              "      <td>0.0</td>\n",
              "    </tr>\n",
              "    <tr>\n",
              "      <th>rec-248-org</th>\n",
              "      <td>1</td>\n",
              "      <td>0.0</td>\n",
              "      <td>0</td>\n",
              "      <td>0</td>\n",
              "      <td>1</td>\n",
              "      <td>0.0</td>\n",
              "    </tr>\n",
              "    <tr>\n",
              "      <th rowspan=\"4\" valign=\"top\">rec-469-org</th>\n",
              "      <th>rec-122-org</th>\n",
              "      <td>1</td>\n",
              "      <td>0.0</td>\n",
              "      <td>0</td>\n",
              "      <td>0</td>\n",
              "      <td>0</td>\n",
              "      <td>0.0</td>\n",
              "    </tr>\n",
              "    <tr>\n",
              "      <th>rec-183-dup-0</th>\n",
              "      <td>1</td>\n",
              "      <td>0.0</td>\n",
              "      <td>0</td>\n",
              "      <td>0</td>\n",
              "      <td>1</td>\n",
              "      <td>0.0</td>\n",
              "    </tr>\n",
              "    <tr>\n",
              "      <th>rec-248-org</th>\n",
              "      <td>1</td>\n",
              "      <td>0.0</td>\n",
              "      <td>0</td>\n",
              "      <td>0</td>\n",
              "      <td>0</td>\n",
              "      <td>0.0</td>\n",
              "    </tr>\n",
              "    <tr>\n",
              "      <th>rec-122-dup-0</th>\n",
              "      <td>1</td>\n",
              "      <td>0.0</td>\n",
              "      <td>0</td>\n",
              "      <td>0</td>\n",
              "      <td>0</td>\n",
              "      <td>0.0</td>\n",
              "    </tr>\n",
              "  </tbody>\n",
              "</table>\n",
              "</div>"
            ],
            "text/plain": [
              "                             given_name  surname  ...  state  address_1\n",
              "rec_id_1      rec_id_2                            ...                  \n",
              "rec-183-dup-0 rec-122-org             1      0.0  ...      0        0.0\n",
              "rec-248-org   rec-122-org             1      0.0  ...      1        0.0\n",
              "              rec-183-dup-0           1      0.0  ...      0        0.0\n",
              "rec-122-dup-0 rec-122-org             1      1.0  ...      1        1.0\n",
              "              rec-183-dup-0           1      0.0  ...      0        0.0\n",
              "              rec-248-org             1      0.0  ...      1        0.0\n",
              "rec-469-org   rec-122-org             1      0.0  ...      0        0.0\n",
              "              rec-183-dup-0           1      0.0  ...      1        0.0\n",
              "              rec-248-org             1      0.0  ...      0        0.0\n",
              "              rec-122-dup-0           1      0.0  ...      0        0.0\n",
              "\n",
              "[10 rows x 6 columns]"
            ]
          },
          "metadata": {
            "tags": []
          },
          "execution_count": 10
        }
      ]
    },
    {
      "cell_type": "markdown",
      "metadata": {
        "id": "ai1Wsekm4kzK"
      },
      "source": [
        "The last step is to decide which records belong to the same person. In this example, we keep it simple:"
      ]
    },
    {
      "cell_type": "code",
      "metadata": {
        "colab": {
          "base_uri": "https://localhost:8080/"
        },
        "id": "Bn4LA2NU4kzL",
        "outputId": "fa132ab0-0ad6-4ba5-c724-3531818ae0e4"
      },
      "source": [
        "# Sum the comparison results.\n",
        "features.sum(axis=1).value_counts().sort_index(ascending=False)"
      ],
      "execution_count": 11,
      "outputs": [
        {
          "output_type": "execute_result",
          "data": {
            "text/plain": [
              "6.0     142\n",
              "5.0     145\n",
              "4.0      30\n",
              "3.0       9\n",
              "2.0     376\n",
              "1.0    1380\n",
              "dtype: int64"
            ]
          },
          "metadata": {
            "tags": []
          },
          "execution_count": 11
        }
      ]
    },
    {
      "cell_type": "code",
      "metadata": {
        "colab": {
          "base_uri": "https://localhost:8080/",
          "height": 390
        },
        "id": "_HwziqWQ4kzO",
        "outputId": "046002e9-40a1-4d42-e553-52d4be427290"
      },
      "source": [
        "matches = features[features.sum(axis=1) > 3]\n",
        "\n",
        "print(len(matches))\n",
        "matches.head(10)"
      ],
      "execution_count": 12,
      "outputs": [
        {
          "output_type": "stream",
          "text": [
            "317\n"
          ],
          "name": "stdout"
        },
        {
          "output_type": "execute_result",
          "data": {
            "text/html": [
              "<div>\n",
              "<style scoped>\n",
              "    .dataframe tbody tr th:only-of-type {\n",
              "        vertical-align: middle;\n",
              "    }\n",
              "\n",
              "    .dataframe tbody tr th {\n",
              "        vertical-align: top;\n",
              "    }\n",
              "\n",
              "    .dataframe thead th {\n",
              "        text-align: right;\n",
              "    }\n",
              "</style>\n",
              "<table border=\"1\" class=\"dataframe\">\n",
              "  <thead>\n",
              "    <tr style=\"text-align: right;\">\n",
              "      <th></th>\n",
              "      <th></th>\n",
              "      <th>given_name</th>\n",
              "      <th>surname</th>\n",
              "      <th>date_of_birth</th>\n",
              "      <th>suburb</th>\n",
              "      <th>state</th>\n",
              "      <th>address_1</th>\n",
              "    </tr>\n",
              "    <tr>\n",
              "      <th>rec_id_1</th>\n",
              "      <th>rec_id_2</th>\n",
              "      <th></th>\n",
              "      <th></th>\n",
              "      <th></th>\n",
              "      <th></th>\n",
              "      <th></th>\n",
              "      <th></th>\n",
              "    </tr>\n",
              "  </thead>\n",
              "  <tbody>\n",
              "    <tr>\n",
              "      <th>rec-122-dup-0</th>\n",
              "      <th>rec-122-org</th>\n",
              "      <td>1</td>\n",
              "      <td>1.0</td>\n",
              "      <td>1</td>\n",
              "      <td>1</td>\n",
              "      <td>1</td>\n",
              "      <td>1.0</td>\n",
              "    </tr>\n",
              "    <tr>\n",
              "      <th>rec-183-org</th>\n",
              "      <th>rec-183-dup-0</th>\n",
              "      <td>1</td>\n",
              "      <td>1.0</td>\n",
              "      <td>1</td>\n",
              "      <td>1</td>\n",
              "      <td>1</td>\n",
              "      <td>1.0</td>\n",
              "    </tr>\n",
              "    <tr>\n",
              "      <th>rec-248-dup-0</th>\n",
              "      <th>rec-248-org</th>\n",
              "      <td>1</td>\n",
              "      <td>1.0</td>\n",
              "      <td>1</td>\n",
              "      <td>1</td>\n",
              "      <td>1</td>\n",
              "      <td>1.0</td>\n",
              "    </tr>\n",
              "    <tr>\n",
              "      <th>rec-373-dup-0</th>\n",
              "      <th>rec-373-org</th>\n",
              "      <td>1</td>\n",
              "      <td>1.0</td>\n",
              "      <td>1</td>\n",
              "      <td>1</td>\n",
              "      <td>1</td>\n",
              "      <td>1.0</td>\n",
              "    </tr>\n",
              "    <tr>\n",
              "      <th>rec-10-org</th>\n",
              "      <th>rec-10-dup-0</th>\n",
              "      <td>1</td>\n",
              "      <td>1.0</td>\n",
              "      <td>1</td>\n",
              "      <td>1</td>\n",
              "      <td>1</td>\n",
              "      <td>1.0</td>\n",
              "    </tr>\n",
              "    <tr>\n",
              "      <th>rec-342-dup-0</th>\n",
              "      <th>rec-342-org</th>\n",
              "      <td>1</td>\n",
              "      <td>1.0</td>\n",
              "      <td>0</td>\n",
              "      <td>1</td>\n",
              "      <td>1</td>\n",
              "      <td>1.0</td>\n",
              "    </tr>\n",
              "    <tr>\n",
              "      <th>rec-397-org</th>\n",
              "      <th>rec-397-dup-0</th>\n",
              "      <td>1</td>\n",
              "      <td>1.0</td>\n",
              "      <td>1</td>\n",
              "      <td>1</td>\n",
              "      <td>1</td>\n",
              "      <td>0.0</td>\n",
              "    </tr>\n",
              "    <tr>\n",
              "      <th>rec-472-org</th>\n",
              "      <th>rec-472-dup-0</th>\n",
              "      <td>1</td>\n",
              "      <td>1.0</td>\n",
              "      <td>1</td>\n",
              "      <td>1</td>\n",
              "      <td>1</td>\n",
              "      <td>0.0</td>\n",
              "    </tr>\n",
              "    <tr>\n",
              "      <th>rec-330-org</th>\n",
              "      <th>rec-330-dup-0</th>\n",
              "      <td>1</td>\n",
              "      <td>0.0</td>\n",
              "      <td>1</td>\n",
              "      <td>1</td>\n",
              "      <td>1</td>\n",
              "      <td>0.0</td>\n",
              "    </tr>\n",
              "    <tr>\n",
              "      <th>rec-190-org</th>\n",
              "      <th>rec-190-dup-0</th>\n",
              "      <td>1</td>\n",
              "      <td>1.0</td>\n",
              "      <td>0</td>\n",
              "      <td>1</td>\n",
              "      <td>1</td>\n",
              "      <td>1.0</td>\n",
              "    </tr>\n",
              "  </tbody>\n",
              "</table>\n",
              "</div>"
            ],
            "text/plain": [
              "                             given_name  surname  ...  state  address_1\n",
              "rec_id_1      rec_id_2                            ...                  \n",
              "rec-122-dup-0 rec-122-org             1      1.0  ...      1        1.0\n",
              "rec-183-org   rec-183-dup-0           1      1.0  ...      1        1.0\n",
              "rec-248-dup-0 rec-248-org             1      1.0  ...      1        1.0\n",
              "rec-373-dup-0 rec-373-org             1      1.0  ...      1        1.0\n",
              "rec-10-org    rec-10-dup-0            1      1.0  ...      1        1.0\n",
              "rec-342-dup-0 rec-342-org             1      1.0  ...      1        1.0\n",
              "rec-397-org   rec-397-dup-0           1      1.0  ...      1        0.0\n",
              "rec-472-org   rec-472-dup-0           1      1.0  ...      1        0.0\n",
              "rec-330-org   rec-330-dup-0           1      0.0  ...      1        0.0\n",
              "rec-190-org   rec-190-dup-0           1      1.0  ...      1        1.0\n",
              "\n",
              "[10 rows x 6 columns]"
            ]
          },
          "metadata": {
            "tags": []
          },
          "execution_count": 12
        }
      ]
    },
    {
      "cell_type": "markdown",
      "metadata": {
        "id": "4T4Llz_h4kzT"
      },
      "source": [
        "### precision and recall\n",
        "Now we can evaluate how good our deduplication worked. We can do this by computing the precision and recall values. \n",
        "\n",
        "First we have to find the correct pairs among the matches we found. We can do this by exploiting the structure of record ids and by simple string splitting. \n",
        "\n",
        "The precision value is the number of correct matches found devided by the total number of matches found. Recall is equal to the number of correct matches found devided by the total number of matching pairs in the dataset which we know is 500."
      ]
    },
    {
      "cell_type": "code",
      "metadata": {
        "id": "E35iv9FO4kzT"
      },
      "source": [
        "matches_index = matches.reset_index()[\"rec_id_1\"].map(lambda x: x.split(\"-\")[1]) == \\\n",
        "                matches.reset_index()[\"rec_id_2\"].map(lambda x: x.split(\"-\")[1])"
      ],
      "execution_count": 13,
      "outputs": []
    },
    {
      "cell_type": "code",
      "metadata": {
        "colab": {
          "base_uri": "https://localhost:8080/"
        },
        "id": "VentPKIq4kzX",
        "outputId": "3d6bfaca-2fce-4b60-d94d-9d3703442abf"
      },
      "source": [
        "precision = len(matches[list(matches_index)]) / len(matches)\n",
        "print(\"precision = \", precision)\n",
        "recall = len(matches[list(matches_index)]) / 500\n",
        "print(\"recall = \", recall)"
      ],
      "execution_count": 14,
      "outputs": [
        {
          "output_type": "stream",
          "text": [
            "precision =  1.0\n",
            "recall =  0.634\n"
          ],
          "name": "stdout"
        }
      ]
    },
    {
      "cell_type": "code",
      "metadata": {
        "id": "rqp-tlwR4kzb"
      },
      "source": [
        ""
      ],
      "execution_count": 14,
      "outputs": []
    }
  ]
}
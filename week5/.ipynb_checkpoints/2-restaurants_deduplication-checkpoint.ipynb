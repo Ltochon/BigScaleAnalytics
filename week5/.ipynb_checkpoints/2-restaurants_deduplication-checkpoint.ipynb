{
 "cells": [
  {
   "cell_type": "markdown",
   "metadata": {
    "colab_type": "text",
    "id": "view-in-github"
   },
   "source": [
    "<a href=\"https://colab.research.google.com/github/michalis0/BigScaleAnalytics/blob/master/week6/restaurants%20deduplication.ipynb\" target=\"_parent\"><img src=\"https://colab.research.google.com/assets/colab-badge.svg\" alt=\"Open In Colab\"/></a>"
   ]
  },
  {
   "cell_type": "code",
   "execution_count": 0,
   "metadata": {
    "colab": {},
    "colab_type": "code",
    "id": "K50amnq55yfr"
   },
   "outputs": [],
   "source": [
    "# if you don't have recordlinkage installed\n",
    "!pip install recordlinkage"
   ]
  },
  {
   "cell_type": "code",
   "execution_count": 0,
   "metadata": {
    "colab": {},
    "colab_type": "code",
    "id": "OVWltCuv5mTw"
   },
   "outputs": [],
   "source": [
    "import pandas as pd\n",
    "import recordlinkage"
   ]
  },
  {
   "cell_type": "code",
   "execution_count": 4,
   "metadata": {
    "colab": {
     "base_uri": "https://localhost:8080/",
     "height": 378
    },
    "colab_type": "code",
    "id": "AeCoDpk-5mT1",
    "outputId": "573d542e-d04b-45ac-ac15-3ccbcd154185"
   },
   "outputs": [
    {
     "data": {
      "text/html": [
       "<div>\n",
       "<style scoped>\n",
       "    .dataframe tbody tr th:only-of-type {\n",
       "        vertical-align: middle;\n",
       "    }\n",
       "\n",
       "    .dataframe tbody tr th {\n",
       "        vertical-align: top;\n",
       "    }\n",
       "\n",
       "    .dataframe thead th {\n",
       "        text-align: right;\n",
       "    }\n",
       "</style>\n",
       "<table border=\"1\" class=\"dataframe\">\n",
       "  <thead>\n",
       "    <tr style=\"text-align: right;\">\n",
       "      <th></th>\n",
       "      <th>name</th>\n",
       "      <th>addr</th>\n",
       "      <th>city</th>\n",
       "      <th>phone</th>\n",
       "      <th>type</th>\n",
       "    </tr>\n",
       "    <tr>\n",
       "      <th>id</th>\n",
       "      <th></th>\n",
       "      <th></th>\n",
       "      <th></th>\n",
       "      <th></th>\n",
       "      <th></th>\n",
       "    </tr>\n",
       "  </thead>\n",
       "  <tbody>\n",
       "    <tr>\n",
       "      <th>1</th>\n",
       "      <td>arnie morton's of chicago</td>\n",
       "      <td>435 s. la cienega blv.</td>\n",
       "      <td>los angeles</td>\n",
       "      <td>310/246-1501</td>\n",
       "      <td>american</td>\n",
       "    </tr>\n",
       "    <tr>\n",
       "      <th>2</th>\n",
       "      <td>arnie morton's of chicago</td>\n",
       "      <td>435 s. la cienega blvd.</td>\n",
       "      <td>los angeles</td>\n",
       "      <td>310-246-1501</td>\n",
       "      <td>steakhouses</td>\n",
       "    </tr>\n",
       "    <tr>\n",
       "      <th>3</th>\n",
       "      <td>art's delicatessen</td>\n",
       "      <td>12224 ventura blvd.</td>\n",
       "      <td>studio city</td>\n",
       "      <td>818/762-1221</td>\n",
       "      <td>american</td>\n",
       "    </tr>\n",
       "    <tr>\n",
       "      <th>4</th>\n",
       "      <td>art's deli</td>\n",
       "      <td>12224 ventura blvd.</td>\n",
       "      <td>studio city</td>\n",
       "      <td>818-762-1221</td>\n",
       "      <td>delis</td>\n",
       "    </tr>\n",
       "    <tr>\n",
       "      <th>5</th>\n",
       "      <td>hotel bel-air</td>\n",
       "      <td>701 stone canyon rd.</td>\n",
       "      <td>bel air</td>\n",
       "      <td>310/472-1211</td>\n",
       "      <td>californian</td>\n",
       "    </tr>\n",
       "    <tr>\n",
       "      <th>6</th>\n",
       "      <td>bel-air hotel</td>\n",
       "      <td>701 stone canyon rd.</td>\n",
       "      <td>bel air</td>\n",
       "      <td>310-472-1211</td>\n",
       "      <td>californian</td>\n",
       "    </tr>\n",
       "    <tr>\n",
       "      <th>7</th>\n",
       "      <td>cafe bizou</td>\n",
       "      <td>14016 ventura blvd.</td>\n",
       "      <td>sherman oaks</td>\n",
       "      <td>818/788-3536</td>\n",
       "      <td>french</td>\n",
       "    </tr>\n",
       "    <tr>\n",
       "      <th>8</th>\n",
       "      <td>cafe bizou</td>\n",
       "      <td>14016 ventura blvd.</td>\n",
       "      <td>sherman oaks</td>\n",
       "      <td>818-788-3536</td>\n",
       "      <td>french bistro</td>\n",
       "    </tr>\n",
       "    <tr>\n",
       "      <th>9</th>\n",
       "      <td>campanile</td>\n",
       "      <td>624 s. la brea ave.</td>\n",
       "      <td>los angeles</td>\n",
       "      <td>213/938-1447</td>\n",
       "      <td>american</td>\n",
       "    </tr>\n",
       "    <tr>\n",
       "      <th>10</th>\n",
       "      <td>campanile</td>\n",
       "      <td>624 s. la brea ave.</td>\n",
       "      <td>los angeles</td>\n",
       "      <td>213-938-1447</td>\n",
       "      <td>californian</td>\n",
       "    </tr>\n",
       "  </tbody>\n",
       "</table>\n",
       "</div>"
      ],
      "text/plain": [
       "                         name  ...           type\n",
       "id                             ...               \n",
       "1   arnie morton's of chicago  ...       american\n",
       "2   arnie morton's of chicago  ...    steakhouses\n",
       "3          art's delicatessen  ...       american\n",
       "4                  art's deli  ...          delis\n",
       "5               hotel bel-air  ...    californian\n",
       "6               bel-air hotel  ...    californian\n",
       "7                  cafe bizou  ...         french\n",
       "8                  cafe bizou  ...  french bistro\n",
       "9                   campanile  ...       american\n",
       "10                  campanile  ...    californian\n",
       "\n",
       "[10 rows x 5 columns]"
      ]
     },
     "execution_count": 4,
     "metadata": {
      "tags": []
     },
     "output_type": "execute_result"
    }
   ],
   "source": [
    "df = pd.read_csv(\"https://raw.githubusercontent.com/michalis0/BigScaleAnalytics/master/week6/datasets/restaurants.csv\", delimiter=\",\")\n",
    "targets = df[\"class\"]\n",
    "df = df.iloc[:, :-1].set_index(keys=\"id\")\n",
    "df.head(10)"
   ]
  },
  {
   "cell_type": "markdown",
   "metadata": {
    "colab_type": "text",
    "id": "MGifO5ty5mT5"
   },
   "source": [
    "### Data cleaning\n",
    "It is important to clean up a bit the data before jumping into finding duplicates. This not only helps to find matches more easily but also makes our blocking index to work better. Examples of data cleaning steps include standardising the order of first and surname, standardising the addresses dates and phone numbers, lowercasing all of the characters, etc. \n",
    "\n",
    "As you already know, Pandas itself is very useful for data cleaning, however Record Linkage Toolkit has also some cleaning function. We are going to use `recordlinkage.preprocessing.clean()` which is the most generic function in this package."
   ]
  },
  {
   "cell_type": "code",
   "execution_count": 0,
   "metadata": {
    "colab": {},
    "colab_type": "code",
    "id": "BKcUfuwM5mT7"
   },
   "outputs": [],
   "source": [
    "# cleaning the name column\n",
    "from recordlinkage.preprocessing import clean\n",
    "df[\"name\"] = clean(df[\"name\"], lowercase=True, strip_accents='unicode', remove_brackets=True)\n",
    "# addr\n",
    "df[\"addr\"] = clean(df[\"addr\"], lowercase=True, strip_accents='unicode', remove_brackets=True)\n",
    "# city\n",
    "df[\"city\"] = clean(df[\"city\"], lowercase=True, strip_accents='unicode', remove_brackets=True)\n",
    "# type\n",
    "df[\"type\"] = clean(df[\"type\"], lowercase=True, strip_accents='unicode', remove_brackets=True)"
   ]
  },
  {
   "cell_type": "code",
   "execution_count": 0,
   "metadata": {
    "colab": {},
    "colab_type": "code",
    "id": "CRdBTHKK5mT-"
   },
   "outputs": [],
   "source": [
    "# there are also more specific cleaning functions in this package\n",
    "from recordlinkage.preprocessing import phonenumbers\n",
    "df[\"phone\"] = phonenumbers(df[\"phone\"])"
   ]
  },
  {
   "cell_type": "code",
   "execution_count": 7,
   "metadata": {
    "colab": {
     "base_uri": "https://localhost:8080/",
     "height": 378
    },
    "colab_type": "code",
    "id": "iF0tqOXU5mUA",
    "outputId": "b3cd69c3-b571-453e-99c2-ef64bfe76f18"
   },
   "outputs": [
    {
     "data": {
      "text/html": [
       "<div>\n",
       "<style scoped>\n",
       "    .dataframe tbody tr th:only-of-type {\n",
       "        vertical-align: middle;\n",
       "    }\n",
       "\n",
       "    .dataframe tbody tr th {\n",
       "        vertical-align: top;\n",
       "    }\n",
       "\n",
       "    .dataframe thead th {\n",
       "        text-align: right;\n",
       "    }\n",
       "</style>\n",
       "<table border=\"1\" class=\"dataframe\">\n",
       "  <thead>\n",
       "    <tr style=\"text-align: right;\">\n",
       "      <th></th>\n",
       "      <th>name</th>\n",
       "      <th>addr</th>\n",
       "      <th>city</th>\n",
       "      <th>phone</th>\n",
       "      <th>type</th>\n",
       "    </tr>\n",
       "    <tr>\n",
       "      <th>id</th>\n",
       "      <th></th>\n",
       "      <th></th>\n",
       "      <th></th>\n",
       "      <th></th>\n",
       "      <th></th>\n",
       "    </tr>\n",
       "  </thead>\n",
       "  <tbody>\n",
       "    <tr>\n",
       "      <th>1</th>\n",
       "      <td>arnie mortons of chicago</td>\n",
       "      <td>435 s la cienega blv</td>\n",
       "      <td>los angeles</td>\n",
       "      <td>3102461501</td>\n",
       "      <td>american</td>\n",
       "    </tr>\n",
       "    <tr>\n",
       "      <th>2</th>\n",
       "      <td>arnie mortons of chicago</td>\n",
       "      <td>435 s la cienega blvd</td>\n",
       "      <td>los angeles</td>\n",
       "      <td>3102461501</td>\n",
       "      <td>steakhouses</td>\n",
       "    </tr>\n",
       "    <tr>\n",
       "      <th>3</th>\n",
       "      <td>arts delicatessen</td>\n",
       "      <td>12224 ventura blvd</td>\n",
       "      <td>studio city</td>\n",
       "      <td>8187621221</td>\n",
       "      <td>american</td>\n",
       "    </tr>\n",
       "    <tr>\n",
       "      <th>4</th>\n",
       "      <td>arts deli</td>\n",
       "      <td>12224 ventura blvd</td>\n",
       "      <td>studio city</td>\n",
       "      <td>8187621221</td>\n",
       "      <td>delis</td>\n",
       "    </tr>\n",
       "    <tr>\n",
       "      <th>5</th>\n",
       "      <td>hotel bel air</td>\n",
       "      <td>701 stone canyon rd</td>\n",
       "      <td>bel air</td>\n",
       "      <td>3104721211</td>\n",
       "      <td>californian</td>\n",
       "    </tr>\n",
       "    <tr>\n",
       "      <th>6</th>\n",
       "      <td>bel air hotel</td>\n",
       "      <td>701 stone canyon rd</td>\n",
       "      <td>bel air</td>\n",
       "      <td>3104721211</td>\n",
       "      <td>californian</td>\n",
       "    </tr>\n",
       "    <tr>\n",
       "      <th>7</th>\n",
       "      <td>cafe bizou</td>\n",
       "      <td>14016 ventura blvd</td>\n",
       "      <td>sherman oaks</td>\n",
       "      <td>8187883536</td>\n",
       "      <td>french</td>\n",
       "    </tr>\n",
       "    <tr>\n",
       "      <th>8</th>\n",
       "      <td>cafe bizou</td>\n",
       "      <td>14016 ventura blvd</td>\n",
       "      <td>sherman oaks</td>\n",
       "      <td>8187883536</td>\n",
       "      <td>french bistro</td>\n",
       "    </tr>\n",
       "    <tr>\n",
       "      <th>9</th>\n",
       "      <td>campanile</td>\n",
       "      <td>624 s la brea ave</td>\n",
       "      <td>los angeles</td>\n",
       "      <td>2139381447</td>\n",
       "      <td>american</td>\n",
       "    </tr>\n",
       "    <tr>\n",
       "      <th>10</th>\n",
       "      <td>campanile</td>\n",
       "      <td>624 s la brea ave</td>\n",
       "      <td>los angeles</td>\n",
       "      <td>2139381447</td>\n",
       "      <td>californian</td>\n",
       "    </tr>\n",
       "  </tbody>\n",
       "</table>\n",
       "</div>"
      ],
      "text/plain": [
       "                        name                   addr  ...       phone           type\n",
       "id                                                   ...                           \n",
       "1   arnie mortons of chicago   435 s la cienega blv  ...  3102461501       american\n",
       "2   arnie mortons of chicago  435 s la cienega blvd  ...  3102461501    steakhouses\n",
       "3          arts delicatessen     12224 ventura blvd  ...  8187621221       american\n",
       "4                  arts deli     12224 ventura blvd  ...  8187621221          delis\n",
       "5              hotel bel air    701 stone canyon rd  ...  3104721211    californian\n",
       "6              bel air hotel    701 stone canyon rd  ...  3104721211    californian\n",
       "7                 cafe bizou     14016 ventura blvd  ...  8187883536         french\n",
       "8                 cafe bizou     14016 ventura blvd  ...  8187883536  french bistro\n",
       "9                  campanile      624 s la brea ave  ...  2139381447       american\n",
       "10                 campanile      624 s la brea ave  ...  2139381447    californian\n",
       "\n",
       "[10 rows x 5 columns]"
      ]
     },
     "execution_count": 7,
     "metadata": {
      "tags": []
     },
     "output_type": "execute_result"
    }
   ],
   "source": [
    "df.head(10)"
   ]
  },
  {
   "cell_type": "markdown",
   "metadata": {
    "colab_type": "text",
    "id": "KXR1yQT35mUF"
   },
   "source": [
    "Now let's choose a blocking index for this data set to make record pairs. We will pick the `city` attribute as the blocking index, since it seems that this is the feature which may not change for a restaurant."
   ]
  },
  {
   "cell_type": "code",
   "execution_count": 8,
   "metadata": {
    "colab": {
     "base_uri": "https://localhost:8080/",
     "height": 35
    },
    "colab_type": "code",
    "id": "QbOH3dNO5mUG",
    "outputId": "05bd0361-f9b2-4fc2-a449-922eb4f54ec5"
   },
   "outputs": [
    {
     "name": "stdout",
     "output_type": "stream",
     "text": [
      "57943\n"
     ]
    }
   ],
   "source": [
    "indexer = recordlinkage.Index()\n",
    "indexer.block('city')\n",
    "candidate_links = indexer.index(df)\n",
    "\n",
    "print(len(candidate_links))"
   ]
  },
  {
   "cell_type": "code",
   "execution_count": 0,
   "metadata": {
    "colab": {},
    "colab_type": "code",
    "id": "-oiPOvDK5mUL"
   },
   "outputs": [],
   "source": [
    "compare_cl = recordlinkage.Compare()\n",
    "\n",
    "# exact comparison for city since it is the blocking index\n",
    "compare_cl.exact('city', 'city', label='city')\n",
    "# partial similarity between string values\n",
    "compare_cl.string('name', 'name', method='jarowinkler', threshold=0.85, label='surname')\n",
    "compare_cl.string('addr', 'addr', threshold=0.85, label='addr')\n",
    "# phone is not really a numerical value, therefore it's better to use a string comparison\n",
    "compare_cl.string('phone', 'phone', threshold=0.85, label='phone')\n",
    "compare_cl.string('type', 'type', method='jarowinkler', threshold=0.85, label='type')\n",
    "\n",
    "features = compare_cl.compute(candidate_links, df)"
   ]
  },
  {
   "cell_type": "code",
   "execution_count": 10,
   "metadata": {
    "colab": {
     "base_uri": "https://localhost:8080/",
     "height": 678
    },
    "colab_type": "code",
    "id": "8tJpX5Ig5mUO",
    "outputId": "0d8f58c4-bc09-4ff4-c887-39de27411aa9"
   },
   "outputs": [
    {
     "data": {
      "text/html": [
       "<div>\n",
       "<style scoped>\n",
       "    .dataframe tbody tr th:only-of-type {\n",
       "        vertical-align: middle;\n",
       "    }\n",
       "\n",
       "    .dataframe tbody tr th {\n",
       "        vertical-align: top;\n",
       "    }\n",
       "\n",
       "    .dataframe thead th {\n",
       "        text-align: right;\n",
       "    }\n",
       "</style>\n",
       "<table border=\"1\" class=\"dataframe\">\n",
       "  <thead>\n",
       "    <tr style=\"text-align: right;\">\n",
       "      <th></th>\n",
       "      <th></th>\n",
       "      <th>city</th>\n",
       "      <th>surname</th>\n",
       "      <th>addr</th>\n",
       "      <th>phone</th>\n",
       "      <th>type</th>\n",
       "    </tr>\n",
       "    <tr>\n",
       "      <th>id_1</th>\n",
       "      <th>id_2</th>\n",
       "      <th></th>\n",
       "      <th></th>\n",
       "      <th></th>\n",
       "      <th></th>\n",
       "      <th></th>\n",
       "    </tr>\n",
       "  </thead>\n",
       "  <tbody>\n",
       "    <tr>\n",
       "      <th>2</th>\n",
       "      <th>1</th>\n",
       "      <td>1</td>\n",
       "      <td>1.0</td>\n",
       "      <td>1.0</td>\n",
       "      <td>1.0</td>\n",
       "      <td>0.0</td>\n",
       "    </tr>\n",
       "    <tr>\n",
       "      <th rowspan=\"2\" valign=\"top\">9</th>\n",
       "      <th>1</th>\n",
       "      <td>1</td>\n",
       "      <td>0.0</td>\n",
       "      <td>0.0</td>\n",
       "      <td>0.0</td>\n",
       "      <td>1.0</td>\n",
       "    </tr>\n",
       "    <tr>\n",
       "      <th>2</th>\n",
       "      <td>1</td>\n",
       "      <td>0.0</td>\n",
       "      <td>0.0</td>\n",
       "      <td>0.0</td>\n",
       "      <td>0.0</td>\n",
       "    </tr>\n",
       "    <tr>\n",
       "      <th rowspan=\"3\" valign=\"top\">10</th>\n",
       "      <th>1</th>\n",
       "      <td>1</td>\n",
       "      <td>0.0</td>\n",
       "      <td>0.0</td>\n",
       "      <td>0.0</td>\n",
       "      <td>0.0</td>\n",
       "    </tr>\n",
       "    <tr>\n",
       "      <th>2</th>\n",
       "      <td>1</td>\n",
       "      <td>0.0</td>\n",
       "      <td>0.0</td>\n",
       "      <td>0.0</td>\n",
       "      <td>0.0</td>\n",
       "    </tr>\n",
       "    <tr>\n",
       "      <th>9</th>\n",
       "      <td>1</td>\n",
       "      <td>1.0</td>\n",
       "      <td>1.0</td>\n",
       "      <td>1.0</td>\n",
       "      <td>0.0</td>\n",
       "    </tr>\n",
       "    <tr>\n",
       "      <th rowspan=\"4\" valign=\"top\">13</th>\n",
       "      <th>1</th>\n",
       "      <td>1</td>\n",
       "      <td>0.0</td>\n",
       "      <td>0.0</td>\n",
       "      <td>0.0</td>\n",
       "      <td>0.0</td>\n",
       "    </tr>\n",
       "    <tr>\n",
       "      <th>2</th>\n",
       "      <td>1</td>\n",
       "      <td>0.0</td>\n",
       "      <td>0.0</td>\n",
       "      <td>0.0</td>\n",
       "      <td>0.0</td>\n",
       "    </tr>\n",
       "    <tr>\n",
       "      <th>9</th>\n",
       "      <td>1</td>\n",
       "      <td>0.0</td>\n",
       "      <td>0.0</td>\n",
       "      <td>0.0</td>\n",
       "      <td>0.0</td>\n",
       "    </tr>\n",
       "    <tr>\n",
       "      <th>10</th>\n",
       "      <td>1</td>\n",
       "      <td>0.0</td>\n",
       "      <td>0.0</td>\n",
       "      <td>0.0</td>\n",
       "      <td>1.0</td>\n",
       "    </tr>\n",
       "    <tr>\n",
       "      <th rowspan=\"5\" valign=\"top\">14</th>\n",
       "      <th>1</th>\n",
       "      <td>1</td>\n",
       "      <td>0.0</td>\n",
       "      <td>0.0</td>\n",
       "      <td>0.0</td>\n",
       "      <td>0.0</td>\n",
       "    </tr>\n",
       "    <tr>\n",
       "      <th>2</th>\n",
       "      <td>1</td>\n",
       "      <td>0.0</td>\n",
       "      <td>0.0</td>\n",
       "      <td>0.0</td>\n",
       "      <td>0.0</td>\n",
       "    </tr>\n",
       "    <tr>\n",
       "      <th>9</th>\n",
       "      <td>1</td>\n",
       "      <td>0.0</td>\n",
       "      <td>0.0</td>\n",
       "      <td>0.0</td>\n",
       "      <td>0.0</td>\n",
       "    </tr>\n",
       "    <tr>\n",
       "      <th>10</th>\n",
       "      <td>1</td>\n",
       "      <td>0.0</td>\n",
       "      <td>0.0</td>\n",
       "      <td>0.0</td>\n",
       "      <td>1.0</td>\n",
       "    </tr>\n",
       "    <tr>\n",
       "      <th>13</th>\n",
       "      <td>1</td>\n",
       "      <td>1.0</td>\n",
       "      <td>1.0</td>\n",
       "      <td>1.0</td>\n",
       "      <td>1.0</td>\n",
       "    </tr>\n",
       "    <tr>\n",
       "      <th rowspan=\"5\" valign=\"top\">19</th>\n",
       "      <th>1</th>\n",
       "      <td>1</td>\n",
       "      <td>0.0</td>\n",
       "      <td>0.0</td>\n",
       "      <td>0.0</td>\n",
       "      <td>1.0</td>\n",
       "    </tr>\n",
       "    <tr>\n",
       "      <th>2</th>\n",
       "      <td>1</td>\n",
       "      <td>0.0</td>\n",
       "      <td>0.0</td>\n",
       "      <td>0.0</td>\n",
       "      <td>0.0</td>\n",
       "    </tr>\n",
       "    <tr>\n",
       "      <th>9</th>\n",
       "      <td>1</td>\n",
       "      <td>0.0</td>\n",
       "      <td>0.0</td>\n",
       "      <td>0.0</td>\n",
       "      <td>1.0</td>\n",
       "    </tr>\n",
       "    <tr>\n",
       "      <th>10</th>\n",
       "      <td>1</td>\n",
       "      <td>0.0</td>\n",
       "      <td>0.0</td>\n",
       "      <td>0.0</td>\n",
       "      <td>0.0</td>\n",
       "    </tr>\n",
       "    <tr>\n",
       "      <th>13</th>\n",
       "      <td>1</td>\n",
       "      <td>0.0</td>\n",
       "      <td>0.0</td>\n",
       "      <td>0.0</td>\n",
       "      <td>0.0</td>\n",
       "    </tr>\n",
       "  </tbody>\n",
       "</table>\n",
       "</div>"
      ],
      "text/plain": [
       "           city  surname  addr  phone  type\n",
       "id_1 id_2                                  \n",
       "2    1        1      1.0   1.0    1.0   0.0\n",
       "9    1        1      0.0   0.0    0.0   1.0\n",
       "     2        1      0.0   0.0    0.0   0.0\n",
       "10   1        1      0.0   0.0    0.0   0.0\n",
       "     2        1      0.0   0.0    0.0   0.0\n",
       "     9        1      1.0   1.0    1.0   0.0\n",
       "13   1        1      0.0   0.0    0.0   0.0\n",
       "     2        1      0.0   0.0    0.0   0.0\n",
       "     9        1      0.0   0.0    0.0   0.0\n",
       "     10       1      0.0   0.0    0.0   1.0\n",
       "14   1        1      0.0   0.0    0.0   0.0\n",
       "     2        1      0.0   0.0    0.0   0.0\n",
       "     9        1      0.0   0.0    0.0   0.0\n",
       "     10       1      0.0   0.0    0.0   1.0\n",
       "     13       1      1.0   1.0    1.0   1.0\n",
       "19   1        1      0.0   0.0    0.0   1.0\n",
       "     2        1      0.0   0.0    0.0   0.0\n",
       "     9        1      0.0   0.0    0.0   1.0\n",
       "     10       1      0.0   0.0    0.0   0.0\n",
       "     13       1      0.0   0.0    0.0   0.0"
      ]
     },
     "execution_count": 10,
     "metadata": {
      "tags": []
     },
     "output_type": "execute_result"
    }
   ],
   "source": [
    "features.head(20)"
   ]
  },
  {
   "cell_type": "markdown",
   "metadata": {
    "colab_type": "text",
    "id": "T5ENAiEq5mUU"
   },
   "source": [
    "### Classification\n",
    "In general there are three ways to classify the candidate record pairs as matches or non-matches:\n",
    "\n",
    "- Threshold-based methods\n",
    "- Supervised learning methods\n",
    "- Unsupervised learning methods\n",
    "\n",
    "Once we classify each of the record pairs, we can evaluate the classification using three commonly used metrics: precision, recall and F-score.\n"
   ]
  },
  {
   "cell_type": "markdown",
   "metadata": {
    "colab_type": "text",
    "id": "4sCCS9JE5mUW"
   },
   "source": [
    "#### Threshold based"
   ]
  },
  {
   "cell_type": "code",
   "execution_count": 11,
   "metadata": {
    "colab": {
     "base_uri": "https://localhost:8080/",
     "height": 121
    },
    "colab_type": "code",
    "id": "-ffAmsPe5mUQ",
    "outputId": "5b4c5a3c-261c-4627-cf27-a935119c457f"
   },
   "outputs": [
    {
     "data": {
      "text/plain": [
       "5.0       21\n",
       "4.0       29\n",
       "3.0       91\n",
       "2.0     8289\n",
       "1.0    49513\n",
       "dtype: int64"
      ]
     },
     "execution_count": 11,
     "metadata": {
      "tags": []
     },
     "output_type": "execute_result"
    }
   ],
   "source": [
    "# Sum the comparison results.\n",
    "features.sum(axis=1).value_counts().sort_index(ascending=False)"
   ]
  },
  {
   "cell_type": "code",
   "execution_count": 12,
   "metadata": {
    "colab": {
     "base_uri": "https://localhost:8080/",
     "height": 395
    },
    "colab_type": "code",
    "id": "rRLTXgTi5mUW",
    "outputId": "6ddf9233-f9b4-4e21-f166-89f69f4a8300"
   },
   "outputs": [
    {
     "name": "stdout",
     "output_type": "stream",
     "text": [
      "50\n"
     ]
    },
    {
     "data": {
      "text/html": [
       "<div>\n",
       "<style scoped>\n",
       "    .dataframe tbody tr th:only-of-type {\n",
       "        vertical-align: middle;\n",
       "    }\n",
       "\n",
       "    .dataframe tbody tr th {\n",
       "        vertical-align: top;\n",
       "    }\n",
       "\n",
       "    .dataframe thead th {\n",
       "        text-align: right;\n",
       "    }\n",
       "</style>\n",
       "<table border=\"1\" class=\"dataframe\">\n",
       "  <thead>\n",
       "    <tr style=\"text-align: right;\">\n",
       "      <th></th>\n",
       "      <th></th>\n",
       "      <th>city</th>\n",
       "      <th>surname</th>\n",
       "      <th>addr</th>\n",
       "      <th>phone</th>\n",
       "      <th>type</th>\n",
       "    </tr>\n",
       "    <tr>\n",
       "      <th>id_1</th>\n",
       "      <th>id_2</th>\n",
       "      <th></th>\n",
       "      <th></th>\n",
       "      <th></th>\n",
       "      <th></th>\n",
       "      <th></th>\n",
       "    </tr>\n",
       "  </thead>\n",
       "  <tbody>\n",
       "    <tr>\n",
       "      <th>2</th>\n",
       "      <th>1</th>\n",
       "      <td>1</td>\n",
       "      <td>1.0</td>\n",
       "      <td>1.0</td>\n",
       "      <td>1.0</td>\n",
       "      <td>0.0</td>\n",
       "    </tr>\n",
       "    <tr>\n",
       "      <th>10</th>\n",
       "      <th>9</th>\n",
       "      <td>1</td>\n",
       "      <td>1.0</td>\n",
       "      <td>1.0</td>\n",
       "      <td>1.0</td>\n",
       "      <td>0.0</td>\n",
       "    </tr>\n",
       "    <tr>\n",
       "      <th>14</th>\n",
       "      <th>13</th>\n",
       "      <td>1</td>\n",
       "      <td>1.0</td>\n",
       "      <td>1.0</td>\n",
       "      <td>1.0</td>\n",
       "      <td>1.0</td>\n",
       "    </tr>\n",
       "    <tr>\n",
       "      <th>26</th>\n",
       "      <th>25</th>\n",
       "      <td>1</td>\n",
       "      <td>1.0</td>\n",
       "      <td>1.0</td>\n",
       "      <td>1.0</td>\n",
       "      <td>1.0</td>\n",
       "    </tr>\n",
       "    <tr>\n",
       "      <th>28</th>\n",
       "      <th>27</th>\n",
       "      <td>1</td>\n",
       "      <td>1.0</td>\n",
       "      <td>0.0</td>\n",
       "      <td>1.0</td>\n",
       "      <td>1.0</td>\n",
       "    </tr>\n",
       "    <tr>\n",
       "      <th>34</th>\n",
       "      <th>33</th>\n",
       "      <td>1</td>\n",
       "      <td>1.0</td>\n",
       "      <td>1.0</td>\n",
       "      <td>1.0</td>\n",
       "      <td>1.0</td>\n",
       "    </tr>\n",
       "    <tr>\n",
       "      <th>40</th>\n",
       "      <th>39</th>\n",
       "      <td>1</td>\n",
       "      <td>1.0</td>\n",
       "      <td>1.0</td>\n",
       "      <td>1.0</td>\n",
       "      <td>0.0</td>\n",
       "    </tr>\n",
       "    <tr>\n",
       "      <th>4</th>\n",
       "      <th>3</th>\n",
       "      <td>1</td>\n",
       "      <td>1.0</td>\n",
       "      <td>1.0</td>\n",
       "      <td>1.0</td>\n",
       "      <td>0.0</td>\n",
       "    </tr>\n",
       "    <tr>\n",
       "      <th>6</th>\n",
       "      <th>5</th>\n",
       "      <td>1</td>\n",
       "      <td>0.0</td>\n",
       "      <td>1.0</td>\n",
       "      <td>1.0</td>\n",
       "      <td>1.0</td>\n",
       "    </tr>\n",
       "    <tr>\n",
       "      <th>8</th>\n",
       "      <th>7</th>\n",
       "      <td>1</td>\n",
       "      <td>1.0</td>\n",
       "      <td>1.0</td>\n",
       "      <td>1.0</td>\n",
       "      <td>1.0</td>\n",
       "    </tr>\n",
       "  </tbody>\n",
       "</table>\n",
       "</div>"
      ],
      "text/plain": [
       "           city  surname  addr  phone  type\n",
       "id_1 id_2                                  \n",
       "2    1        1      1.0   1.0    1.0   0.0\n",
       "10   9        1      1.0   1.0    1.0   0.0\n",
       "14   13       1      1.0   1.0    1.0   1.0\n",
       "26   25       1      1.0   1.0    1.0   1.0\n",
       "28   27       1      1.0   0.0    1.0   1.0\n",
       "34   33       1      1.0   1.0    1.0   1.0\n",
       "40   39       1      1.0   1.0    1.0   0.0\n",
       "4    3        1      1.0   1.0    1.0   0.0\n",
       "6    5        1      0.0   1.0    1.0   1.0\n",
       "8    7        1      1.0   1.0    1.0   1.0"
      ]
     },
     "execution_count": 12,
     "metadata": {
      "tags": []
     },
     "output_type": "execute_result"
    }
   ],
   "source": [
    "matches = features[features.sum(axis=1) >= 4]\n",
    "\n",
    "print(len(matches))\n",
    "matches.head(10)"
   ]
  },
  {
   "cell_type": "markdown",
   "metadata": {
    "colab_type": "text",
    "id": "WIplzWJW5mUa"
   },
   "source": [
    "##### precision and recall"
   ]
  },
  {
   "cell_type": "code",
   "execution_count": 14,
   "metadata": {
    "colab": {
     "base_uri": "https://localhost:8080/",
     "height": 198
    },
    "colab_type": "code",
    "id": "nB1Ygud95mUb",
    "outputId": "bfb82f48-96d5-48bc-e913-e1d32d665fc4"
   },
   "outputs": [
    {
     "data": {
      "text/html": [
       "<div>\n",
       "<style scoped>\n",
       "    .dataframe tbody tr th:only-of-type {\n",
       "        vertical-align: middle;\n",
       "    }\n",
       "\n",
       "    .dataframe tbody tr th {\n",
       "        vertical-align: top;\n",
       "    }\n",
       "\n",
       "    .dataframe thead th {\n",
       "        text-align: right;\n",
       "    }\n",
       "</style>\n",
       "<table border=\"1\" class=\"dataframe\">\n",
       "  <thead>\n",
       "    <tr style=\"text-align: right;\">\n",
       "      <th></th>\n",
       "      <th>class</th>\n",
       "      <th>id_1</th>\n",
       "      <th>id_2</th>\n",
       "    </tr>\n",
       "  </thead>\n",
       "  <tbody>\n",
       "    <tr>\n",
       "      <th>0</th>\n",
       "      <td>'0'</td>\n",
       "      <td>1</td>\n",
       "      <td>2</td>\n",
       "    </tr>\n",
       "    <tr>\n",
       "      <th>1</th>\n",
       "      <td>'1'</td>\n",
       "      <td>3</td>\n",
       "      <td>4</td>\n",
       "    </tr>\n",
       "    <tr>\n",
       "      <th>2</th>\n",
       "      <td>'2'</td>\n",
       "      <td>5</td>\n",
       "      <td>6</td>\n",
       "    </tr>\n",
       "    <tr>\n",
       "      <th>3</th>\n",
       "      <td>'3'</td>\n",
       "      <td>7</td>\n",
       "      <td>8</td>\n",
       "    </tr>\n",
       "    <tr>\n",
       "      <th>4</th>\n",
       "      <td>'4'</td>\n",
       "      <td>9</td>\n",
       "      <td>10</td>\n",
       "    </tr>\n",
       "  </tbody>\n",
       "</table>\n",
       "</div>"
      ],
      "text/plain": [
       "  class  id_1  id_2\n",
       "0   '0'     1     2\n",
       "1   '1'     3     4\n",
       "2   '2'     5     6\n",
       "3   '3'     7     8\n",
       "4   '4'     9    10"
      ]
     },
     "execution_count": 14,
     "metadata": {
      "tags": []
     },
     "output_type": "execute_result"
    }
   ],
   "source": [
    "# the restaurants gold data contains the true matches between data pairs\n",
    "true_links = pd.read_csv(\"https://raw.githubusercontent.com/michalis0/BigScaleAnalytics/master/week6/datasets/restaurant_gold.csv\")\n",
    "true_links.head()"
   ]
  },
  {
   "cell_type": "code",
   "execution_count": 0,
   "metadata": {
    "colab": {},
    "colab_type": "code",
    "id": "-pJtWguy5mUe"
   },
   "outputs": [],
   "source": [
    "# make sure the order of the indices match. here, in the matches dataframe the first index is\n",
    "# always the bigger number whears in the true links dataframe it is reverse. So we have to set\n",
    "# the multi-index for true links dataframe in the order of `id_2`, `id_1`\n",
    "true_links = true_links.set_index(keys=[\"id_2\", \"id_1\"])"
   ]
  },
  {
   "cell_type": "code",
   "execution_count": 16,
   "metadata": {
    "colab": {
     "base_uri": "https://localhost:8080/",
     "height": 35
    },
    "colab_type": "code",
    "id": "PEwk9Mrh5mUg",
    "outputId": "74bcda62-2d69-4d4b-b9fd-dd99aa6f2f00"
   },
   "outputs": [
    {
     "name": "stdout",
     "output_type": "stream",
     "text": [
      "precision =  0.94\n"
     ]
    }
   ],
   "source": [
    "print(\"precision = \", recordlinkage.precision(true_links, matches))"
   ]
  },
  {
   "cell_type": "code",
   "execution_count": 17,
   "metadata": {
    "colab": {
     "base_uri": "https://localhost:8080/",
     "height": 35
    },
    "colab_type": "code",
    "id": "DDZu-6aV5mUk",
    "outputId": "e4387c86-ac17-46c2-b896-105045e1556d"
   },
   "outputs": [
    {
     "name": "stdout",
     "output_type": "stream",
     "text": [
      "recall =  0.41964285714285715\n"
     ]
    }
   ],
   "source": [
    "print(\"recall = \", recordlinkage.recall(true_links, matches))"
   ]
  },
  {
   "cell_type": "code",
   "execution_count": 18,
   "metadata": {
    "colab": {
     "base_uri": "https://localhost:8080/",
     "height": 35
    },
    "colab_type": "code",
    "id": "oUU0yeR75mUo",
    "outputId": "63bbcf79-9601-432a-8c96-d325f2028926"
   },
   "outputs": [
    {
     "name": "stdout",
     "output_type": "stream",
     "text": [
      "F-score =  0.5802469135802469\n"
     ]
    }
   ],
   "source": [
    "print(\"F-score = \", recordlinkage.fscore(true_links, matches))"
   ]
  },
  {
   "cell_type": "markdown",
   "metadata": {
    "colab_type": "text",
    "id": "tuPqn-f_5mUs"
   },
   "source": [
    "#### Supervised learning\n",
    "In this part we will use Logistic Regression to classify the candidate pairs."
   ]
  },
  {
   "cell_type": "code",
   "execution_count": 0,
   "metadata": {
    "colab": {},
    "colab_type": "code",
    "id": "kWPfYFhh5mUt"
   },
   "outputs": [],
   "source": [
    "from recordlinkage.classifiers import LogisticRegressionClassifier\n",
    "LR = LogisticRegressionClassifier()"
   ]
  },
  {
   "cell_type": "markdown",
   "metadata": {
    "colab_type": "text",
    "id": "ZG9x0RVb5mUv"
   },
   "source": [
    "Let's first add labels to the feature vectors we created. This way we can have balanced number of actual matches and non-matches in the train and test set."
   ]
  },
  {
   "cell_type": "code",
   "execution_count": 0,
   "metadata": {
    "colab": {},
    "colab_type": "code",
    "id": "18DrAl905mUw"
   },
   "outputs": [],
   "source": [
    "join_feature_label = features.reset_index().join(true_links, how='left', on=[\"id_1\", \"id_2\"])\n",
    "join_feature_label[\"class\"] = join_feature_label[\"class\"].map(lambda x: 0 if pd.isnull(x) else 1)"
   ]
  },
  {
   "cell_type": "code",
   "execution_count": 21,
   "metadata": {
    "colab": {
     "base_uri": "https://localhost:8080/",
     "height": 678
    },
    "colab_type": "code",
    "id": "hE9JWjYe5mUy",
    "outputId": "cd8a4255-3b69-4cc9-ad3f-0b6243bd9998"
   },
   "outputs": [
    {
     "data": {
      "text/html": [
       "<div>\n",
       "<style scoped>\n",
       "    .dataframe tbody tr th:only-of-type {\n",
       "        vertical-align: middle;\n",
       "    }\n",
       "\n",
       "    .dataframe tbody tr th {\n",
       "        vertical-align: top;\n",
       "    }\n",
       "\n",
       "    .dataframe thead th {\n",
       "        text-align: right;\n",
       "    }\n",
       "</style>\n",
       "<table border=\"1\" class=\"dataframe\">\n",
       "  <thead>\n",
       "    <tr style=\"text-align: right;\">\n",
       "      <th></th>\n",
       "      <th></th>\n",
       "      <th>city</th>\n",
       "      <th>surname</th>\n",
       "      <th>addr</th>\n",
       "      <th>phone</th>\n",
       "      <th>type</th>\n",
       "      <th>class</th>\n",
       "    </tr>\n",
       "    <tr>\n",
       "      <th>id_1</th>\n",
       "      <th>id_2</th>\n",
       "      <th></th>\n",
       "      <th></th>\n",
       "      <th></th>\n",
       "      <th></th>\n",
       "      <th></th>\n",
       "      <th></th>\n",
       "    </tr>\n",
       "  </thead>\n",
       "  <tbody>\n",
       "    <tr>\n",
       "      <th>2</th>\n",
       "      <th>1</th>\n",
       "      <td>1</td>\n",
       "      <td>1.0</td>\n",
       "      <td>1.0</td>\n",
       "      <td>1.0</td>\n",
       "      <td>0.0</td>\n",
       "      <td>1</td>\n",
       "    </tr>\n",
       "    <tr>\n",
       "      <th rowspan=\"2\" valign=\"top\">9</th>\n",
       "      <th>1</th>\n",
       "      <td>1</td>\n",
       "      <td>0.0</td>\n",
       "      <td>0.0</td>\n",
       "      <td>0.0</td>\n",
       "      <td>1.0</td>\n",
       "      <td>0</td>\n",
       "    </tr>\n",
       "    <tr>\n",
       "      <th>2</th>\n",
       "      <td>1</td>\n",
       "      <td>0.0</td>\n",
       "      <td>0.0</td>\n",
       "      <td>0.0</td>\n",
       "      <td>0.0</td>\n",
       "      <td>0</td>\n",
       "    </tr>\n",
       "    <tr>\n",
       "      <th rowspan=\"3\" valign=\"top\">10</th>\n",
       "      <th>1</th>\n",
       "      <td>1</td>\n",
       "      <td>0.0</td>\n",
       "      <td>0.0</td>\n",
       "      <td>0.0</td>\n",
       "      <td>0.0</td>\n",
       "      <td>0</td>\n",
       "    </tr>\n",
       "    <tr>\n",
       "      <th>2</th>\n",
       "      <td>1</td>\n",
       "      <td>0.0</td>\n",
       "      <td>0.0</td>\n",
       "      <td>0.0</td>\n",
       "      <td>0.0</td>\n",
       "      <td>0</td>\n",
       "    </tr>\n",
       "    <tr>\n",
       "      <th>9</th>\n",
       "      <td>1</td>\n",
       "      <td>1.0</td>\n",
       "      <td>1.0</td>\n",
       "      <td>1.0</td>\n",
       "      <td>0.0</td>\n",
       "      <td>1</td>\n",
       "    </tr>\n",
       "    <tr>\n",
       "      <th rowspan=\"4\" valign=\"top\">13</th>\n",
       "      <th>1</th>\n",
       "      <td>1</td>\n",
       "      <td>0.0</td>\n",
       "      <td>0.0</td>\n",
       "      <td>0.0</td>\n",
       "      <td>0.0</td>\n",
       "      <td>0</td>\n",
       "    </tr>\n",
       "    <tr>\n",
       "      <th>2</th>\n",
       "      <td>1</td>\n",
       "      <td>0.0</td>\n",
       "      <td>0.0</td>\n",
       "      <td>0.0</td>\n",
       "      <td>0.0</td>\n",
       "      <td>0</td>\n",
       "    </tr>\n",
       "    <tr>\n",
       "      <th>9</th>\n",
       "      <td>1</td>\n",
       "      <td>0.0</td>\n",
       "      <td>0.0</td>\n",
       "      <td>0.0</td>\n",
       "      <td>0.0</td>\n",
       "      <td>0</td>\n",
       "    </tr>\n",
       "    <tr>\n",
       "      <th>10</th>\n",
       "      <td>1</td>\n",
       "      <td>0.0</td>\n",
       "      <td>0.0</td>\n",
       "      <td>0.0</td>\n",
       "      <td>1.0</td>\n",
       "      <td>0</td>\n",
       "    </tr>\n",
       "    <tr>\n",
       "      <th rowspan=\"5\" valign=\"top\">14</th>\n",
       "      <th>1</th>\n",
       "      <td>1</td>\n",
       "      <td>0.0</td>\n",
       "      <td>0.0</td>\n",
       "      <td>0.0</td>\n",
       "      <td>0.0</td>\n",
       "      <td>0</td>\n",
       "    </tr>\n",
       "    <tr>\n",
       "      <th>2</th>\n",
       "      <td>1</td>\n",
       "      <td>0.0</td>\n",
       "      <td>0.0</td>\n",
       "      <td>0.0</td>\n",
       "      <td>0.0</td>\n",
       "      <td>0</td>\n",
       "    </tr>\n",
       "    <tr>\n",
       "      <th>9</th>\n",
       "      <td>1</td>\n",
       "      <td>0.0</td>\n",
       "      <td>0.0</td>\n",
       "      <td>0.0</td>\n",
       "      <td>0.0</td>\n",
       "      <td>0</td>\n",
       "    </tr>\n",
       "    <tr>\n",
       "      <th>10</th>\n",
       "      <td>1</td>\n",
       "      <td>0.0</td>\n",
       "      <td>0.0</td>\n",
       "      <td>0.0</td>\n",
       "      <td>1.0</td>\n",
       "      <td>0</td>\n",
       "    </tr>\n",
       "    <tr>\n",
       "      <th>13</th>\n",
       "      <td>1</td>\n",
       "      <td>1.0</td>\n",
       "      <td>1.0</td>\n",
       "      <td>1.0</td>\n",
       "      <td>1.0</td>\n",
       "      <td>1</td>\n",
       "    </tr>\n",
       "    <tr>\n",
       "      <th rowspan=\"5\" valign=\"top\">19</th>\n",
       "      <th>1</th>\n",
       "      <td>1</td>\n",
       "      <td>0.0</td>\n",
       "      <td>0.0</td>\n",
       "      <td>0.0</td>\n",
       "      <td>1.0</td>\n",
       "      <td>0</td>\n",
       "    </tr>\n",
       "    <tr>\n",
       "      <th>2</th>\n",
       "      <td>1</td>\n",
       "      <td>0.0</td>\n",
       "      <td>0.0</td>\n",
       "      <td>0.0</td>\n",
       "      <td>0.0</td>\n",
       "      <td>0</td>\n",
       "    </tr>\n",
       "    <tr>\n",
       "      <th>9</th>\n",
       "      <td>1</td>\n",
       "      <td>0.0</td>\n",
       "      <td>0.0</td>\n",
       "      <td>0.0</td>\n",
       "      <td>1.0</td>\n",
       "      <td>0</td>\n",
       "    </tr>\n",
       "    <tr>\n",
       "      <th>10</th>\n",
       "      <td>1</td>\n",
       "      <td>0.0</td>\n",
       "      <td>0.0</td>\n",
       "      <td>0.0</td>\n",
       "      <td>0.0</td>\n",
       "      <td>0</td>\n",
       "    </tr>\n",
       "    <tr>\n",
       "      <th>13</th>\n",
       "      <td>1</td>\n",
       "      <td>0.0</td>\n",
       "      <td>0.0</td>\n",
       "      <td>0.0</td>\n",
       "      <td>0.0</td>\n",
       "      <td>0</td>\n",
       "    </tr>\n",
       "  </tbody>\n",
       "</table>\n",
       "</div>"
      ],
      "text/plain": [
       "           city  surname  addr  phone  type  class\n",
       "id_1 id_2                                         \n",
       "2    1        1      1.0   1.0    1.0   0.0      1\n",
       "9    1        1      0.0   0.0    0.0   1.0      0\n",
       "     2        1      0.0   0.0    0.0   0.0      0\n",
       "10   1        1      0.0   0.0    0.0   0.0      0\n",
       "     2        1      0.0   0.0    0.0   0.0      0\n",
       "     9        1      1.0   1.0    1.0   0.0      1\n",
       "13   1        1      0.0   0.0    0.0   0.0      0\n",
       "     2        1      0.0   0.0    0.0   0.0      0\n",
       "     9        1      0.0   0.0    0.0   0.0      0\n",
       "     10       1      0.0   0.0    0.0   1.0      0\n",
       "14   1        1      0.0   0.0    0.0   0.0      0\n",
       "     2        1      0.0   0.0    0.0   0.0      0\n",
       "     9        1      0.0   0.0    0.0   0.0      0\n",
       "     10       1      0.0   0.0    0.0   1.0      0\n",
       "     13       1      1.0   1.0    1.0   1.0      1\n",
       "19   1        1      0.0   0.0    0.0   1.0      0\n",
       "     2        1      0.0   0.0    0.0   0.0      0\n",
       "     9        1      0.0   0.0    0.0   1.0      0\n",
       "     10       1      0.0   0.0    0.0   0.0      0\n",
       "     13       1      0.0   0.0    0.0   0.0      0"
      ]
     },
     "execution_count": 21,
     "metadata": {
      "tags": []
     },
     "output_type": "execute_result"
    }
   ],
   "source": [
    "join_feature_label.set_index(keys=[\"id_1\", \"id_2\"], inplace=True)\n",
    "join_feature_label.head(20)"
   ]
  },
  {
   "cell_type": "code",
   "execution_count": 0,
   "metadata": {
    "colab": {},
    "colab_type": "code",
    "id": "KkOYtcvl5mU0"
   },
   "outputs": [],
   "source": [
    "# train-test split\n",
    "from sklearn.model_selection import train_test_split\n",
    "train, test, train_labels, test_labels = train_test_split(join_feature_label.iloc[:, :-1], \n",
    "                                                          join_feature_label[\"class\"],\n",
    "                                                          test_size=0.3)"
   ]
  },
  {
   "cell_type": "code",
   "execution_count": 0,
   "metadata": {
    "colab": {},
    "colab_type": "code",
    "id": "lmkLyjju5mU3"
   },
   "outputs": [],
   "source": [
    "# find the indices in the train data which contain a true match\n",
    "train_matches_index = train.index & true_links.index"
   ]
  },
  {
   "cell_type": "code",
   "execution_count": 24,
   "metadata": {
    "colab": {
     "base_uri": "https://localhost:8080/",
     "height": 691
    },
    "colab_type": "code",
    "id": "Mco30Lzr5mU6",
    "outputId": "fe65263a-2007-4850-9a00-28817d0d1388"
   },
   "outputs": [
    {
     "data": {
      "text/plain": [
       "MultiIndex([(190, 189),\n",
       "            (206, 205),\n",
       "            (178, 177),\n",
       "            (142, 141),\n",
       "            ( 14,  13),\n",
       "            (114, 113),\n",
       "            (192, 191),\n",
       "            (154, 153),\n",
       "            ( 26,  25),\n",
       "            (164, 163),\n",
       "            (156, 155),\n",
       "            (208, 207),\n",
       "            (216, 215),\n",
       "            (214, 213),\n",
       "            (138, 137),\n",
       "            (170, 169),\n",
       "            ( 10,   9),\n",
       "            (182, 181),\n",
       "            (146, 145),\n",
       "            (222, 221),\n",
       "            (158, 157),\n",
       "            (210, 209),\n",
       "            (162, 161),\n",
       "            ( 18,  17),\n",
       "            (136, 135),\n",
       "            (168, 167),\n",
       "            (200, 199),\n",
       "            (140, 139),\n",
       "            (  8,   7),\n",
       "            ( 44,  43),\n",
       "            (212, 211),\n",
       "            (186, 185),\n",
       "            (  6,   5),\n",
       "            (198, 197),\n",
       "            (176, 175),\n",
       "            (188, 187),\n",
       "            (196, 195),\n",
       "            (  4,   3)],\n",
       "           )"
      ]
     },
     "execution_count": 24,
     "metadata": {
      "tags": []
     },
     "output_type": "execute_result"
    }
   ],
   "source": [
    "train_matches_index"
   ]
  },
  {
   "cell_type": "code",
   "execution_count": 0,
   "metadata": {
    "colab": {},
    "colab_type": "code",
    "id": "cbN_fUrC5mU9"
   },
   "outputs": [],
   "source": [
    "# find the indices in the test data containing a true match\n",
    "test_matches_index = test.index & true_links.index"
   ]
  },
  {
   "cell_type": "code",
   "execution_count": 0,
   "metadata": {
    "colab": {},
    "colab_type": "code",
    "id": "UQ9fQofG5mU_"
   },
   "outputs": [],
   "source": [
    "_ = LR.fit_predict(train, train_matches_index)"
   ]
  },
  {
   "cell_type": "code",
   "execution_count": 0,
   "metadata": {
    "colab": {},
    "colab_type": "code",
    "id": "cUe1fE-Q5mVB"
   },
   "outputs": [],
   "source": [
    "LR_test_matches = LR.predict(test)"
   ]
  },
  {
   "cell_type": "markdown",
   "metadata": {
    "colab_type": "text",
    "id": "pLVUwWaW5mVG"
   },
   "source": [
    "##### precision and recall"
   ]
  },
  {
   "cell_type": "code",
   "execution_count": 28,
   "metadata": {
    "colab": {
     "base_uri": "https://localhost:8080/",
     "height": 35
    },
    "colab_type": "code",
    "id": "XROhdyH15mVH",
    "outputId": "d663eafb-7896-4d65-fcaa-26f7984ed63d"
   },
   "outputs": [
    {
     "name": "stdout",
     "output_type": "stream",
     "text": [
      "precision =  0.95\n"
     ]
    }
   ],
   "source": [
    "print(\"precision = \",recordlinkage.precision(test_matches_index, LR_test_matches))"
   ]
  },
  {
   "cell_type": "code",
   "execution_count": 29,
   "metadata": {
    "colab": {
     "base_uri": "https://localhost:8080/",
     "height": 35
    },
    "colab_type": "code",
    "id": "O-dLeulH5mVM",
    "outputId": "304ee153-6d4e-44c8-aaf5-f19de6a89db8",
    "scrolled": true
   },
   "outputs": [
    {
     "name": "stdout",
     "output_type": "stream",
     "text": [
      "recall =  0.8636363636363636\n"
     ]
    }
   ],
   "source": [
    "print(\"recall = \", recordlinkage.recall(test_matches_index, LR_test_matches))"
   ]
  },
  {
   "cell_type": "code",
   "execution_count": 30,
   "metadata": {
    "colab": {
     "base_uri": "https://localhost:8080/",
     "height": 35
    },
    "colab_type": "code",
    "id": "iJVjcYOh5mVO",
    "outputId": "29f93ba6-3dae-4259-f7a9-b8c49cd8898b"
   },
   "outputs": [
    {
     "name": "stdout",
     "output_type": "stream",
     "text": [
      "F-score =  0.9047619047619048\n"
     ]
    }
   ],
   "source": [
    "print(\"F-score = \", recordlinkage.fscore(test_matches_index, LR_test_matches))"
   ]
  },
  {
   "cell_type": "markdown",
   "metadata": {
    "colab_type": "text",
    "id": "HNrC-VzE5mVQ"
   },
   "source": [
    "We can observe a significant improvment in the supervised learning method compared to threshold based method."
   ]
  },
  {
   "cell_type": "markdown",
   "metadata": {
    "colab_type": "text",
    "id": "QVtfcsFa5mVR"
   },
   "source": [
    "#### Unsupervised learning\n",
    "We can also use unsupervised methods to classify candidate pairs. Here we are going to use [KMeans](https://en.wikipedia.org/wiki/K-means_clustering). KMeans partiotions andidate record pairs into matches and non-matches. Each comparison vector belongs to the clustcer with the nearest mean. The algorithm is calibrated for two clusters: a match cluster and a non-match cluster). The centers of these clusters can be given as arguments or set automatically."
   ]
  },
  {
   "cell_type": "code",
   "execution_count": 0,
   "metadata": {
    "colab": {},
    "colab_type": "code",
    "id": "d76Adva15mVR"
   },
   "outputs": [],
   "source": [
    "kmeans = recordlinkage.KMeansClassifier()"
   ]
  },
  {
   "cell_type": "markdown",
   "metadata": {
    "colab_type": "text",
    "id": "MG1cX9045mVU"
   },
   "source": [
    "let's use the same train and test set as we used for logistic regression. Note that here there is no training involved and we are doing the splitting to see how does our model perform in case of new data coming in."
   ]
  },
  {
   "cell_type": "code",
   "execution_count": 0,
   "metadata": {
    "colab": {},
    "colab_type": "code",
    "id": "LCCUpiAX5mVV"
   },
   "outputs": [],
   "source": [
    "kmeans.fit_predict(train)\n",
    "\n",
    "kmeans_test_matches = kmeans.predict(test)"
   ]
  },
  {
   "cell_type": "markdown",
   "metadata": {
    "colab_type": "text",
    "id": "9FwUouhm5mVY"
   },
   "source": [
    "##### precision and recall"
   ]
  },
  {
   "cell_type": "code",
   "execution_count": 33,
   "metadata": {
    "colab": {
     "base_uri": "https://localhost:8080/",
     "height": 35
    },
    "colab_type": "code",
    "id": "IKrdP09F5mVY",
    "outputId": "86ecbd08-d314-4b38-d13b-99bc0264fe24"
   },
   "outputs": [
    {
     "name": "stdout",
     "output_type": "stream",
     "text": [
      "precision =  0.41509433962264153\n"
     ]
    }
   ],
   "source": [
    "print(\"precision = \",recordlinkage.precision(test_matches_index, kmeans_test_matches))"
   ]
  },
  {
   "cell_type": "code",
   "execution_count": 34,
   "metadata": {
    "colab": {
     "base_uri": "https://localhost:8080/",
     "height": 35
    },
    "colab_type": "code",
    "id": "p3jkny8B5mVb",
    "outputId": "f90a4cac-e855-4ba2-ec56-f37b9c92ed8f",
    "scrolled": true
   },
   "outputs": [
    {
     "name": "stdout",
     "output_type": "stream",
     "text": [
      "recall =  1.0\n"
     ]
    }
   ],
   "source": [
    "print(\"recall = \", recordlinkage.recall(test_matches_index, kmeans_test_matches))"
   ]
  },
  {
   "cell_type": "code",
   "execution_count": 35,
   "metadata": {
    "colab": {
     "base_uri": "https://localhost:8080/",
     "height": 35
    },
    "colab_type": "code",
    "id": "jvfnwKtz5mVd",
    "outputId": "9cc20b2b-e5b3-4ece-ba79-1fa7f15dead1"
   },
   "outputs": [
    {
     "name": "stdout",
     "output_type": "stream",
     "text": [
      "F-score =  0.5866666666666668\n"
     ]
    }
   ],
   "source": [
    "print(\"F-score = \", recordlinkage.fscore(test_matches_index, kmeans_test_matches))"
   ]
  },
  {
   "cell_type": "code",
   "execution_count": 0,
   "metadata": {
    "colab": {},
    "colab_type": "code",
    "id": "0m-wgiZ95mVh"
   },
   "outputs": [],
   "source": []
  }
 ],
 "metadata": {
  "colab": {
   "include_colab_link": true,
   "name": "restaurants deduplication.ipynb",
   "provenance": []
  },
  "kernelspec": {
   "display_name": "Python 3",
   "language": "python",
   "name": "python3"
  },
  "language_info": {
   "codemirror_mode": {
    "name": "ipython",
    "version": 3
   },
   "file_extension": ".py",
   "mimetype": "text/x-python",
   "name": "python",
   "nbconvert_exporter": "python",
   "pygments_lexer": "ipython3",
   "version": "3.7.3"
  }
 },
 "nbformat": 4,
 "nbformat_minor": 1
}

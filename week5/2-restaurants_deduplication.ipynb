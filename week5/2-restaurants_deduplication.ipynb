{
  "nbformat": 4,
  "nbformat_minor": 0,
  "metadata": {
    "colab": {
      "name": "restaurants deduplication.ipynb",
      "provenance": [],
      "include_colab_link": true
    },
    "kernelspec": {
      "display_name": "Python 3",
      "language": "python",
      "name": "python3"
    },
    "language_info": {
      "codemirror_mode": {
        "name": "ipython",
        "version": 3
      },
      "file_extension": ".py",
      "mimetype": "text/x-python",
      "name": "python",
      "nbconvert_exporter": "python",
      "pygments_lexer": "ipython3",
      "version": "3.7.3"
    }
  },
  "cells": [
    {
      "cell_type": "markdown",
      "metadata": {
        "id": "view-in-github",
        "colab_type": "text"
      },
      "source": [
        "<a href=\"https://colab.research.google.com/github/michalis0/BigScaleAnalytics/blob/master/week5/2-restaurants_deduplication.ipynb\" target=\"_parent\"><img src=\"https://colab.research.google.com/assets/colab-badge.svg\" alt=\"Open In Colab\"/></a>"
      ]
    },
    {
      "cell_type": "code",
      "metadata": {
        "colab": {
          "base_uri": "https://localhost:8080/"
        },
        "id": "K50amnq55yfr",
        "outputId": "962ad7e6-4cad-4c53-daf9-0e609dc953ff"
      },
      "source": [
        "# if you don't have recordlinkage installed\n",
        "!pip install recordlinkage"
      ],
      "execution_count": 2,
      "outputs": [
        {
          "output_type": "stream",
          "text": [
            "Collecting recordlinkage\n",
            "\u001b[?25l  Downloading https://files.pythonhosted.org/packages/db/26/babbca39d74824e8bc17428a8eb04951a1d63318af7d02beeb2106a1ec26/recordlinkage-0.14-py3-none-any.whl (944kB)\n",
            "\u001b[K     |████████████████████████████████| 952kB 6.7MB/s \n",
            "\u001b[?25hRequirement already satisfied: scikit-learn>=0.19.0 in /usr/local/lib/python3.7/dist-packages (from recordlinkage) (0.22.2.post1)\n",
            "Requirement already satisfied: joblib in /usr/local/lib/python3.7/dist-packages (from recordlinkage) (1.0.1)\n",
            "Collecting jellyfish>=0.5.4\n",
            "\u001b[?25l  Downloading https://files.pythonhosted.org/packages/30/a6/4d039bc827a102f62ce7a7910713e38fdfd7c7a40aa39c72fb14938a1473/jellyfish-0.8.2-cp37-cp37m-manylinux2014_x86_64.whl (90kB)\n",
            "\u001b[K     |████████████████████████████████| 92kB 5.5MB/s \n",
            "\u001b[?25hRequirement already satisfied: scipy>=1 in /usr/local/lib/python3.7/dist-packages (from recordlinkage) (1.4.1)\n",
            "Requirement already satisfied: pandas>=0.23 in /usr/local/lib/python3.7/dist-packages (from recordlinkage) (1.1.5)\n",
            "Requirement already satisfied: numpy>=1.13.0 in /usr/local/lib/python3.7/dist-packages (from recordlinkage) (1.19.5)\n",
            "Requirement already satisfied: pytz>=2017.2 in /usr/local/lib/python3.7/dist-packages (from pandas>=0.23->recordlinkage) (2018.9)\n",
            "Requirement already satisfied: python-dateutil>=2.7.3 in /usr/local/lib/python3.7/dist-packages (from pandas>=0.23->recordlinkage) (2.8.1)\n",
            "Requirement already satisfied: six>=1.5 in /usr/local/lib/python3.7/dist-packages (from python-dateutil>=2.7.3->pandas>=0.23->recordlinkage) (1.15.0)\n",
            "Installing collected packages: jellyfish, recordlinkage\n",
            "Successfully installed jellyfish-0.8.2 recordlinkage-0.14\n"
          ],
          "name": "stdout"
        }
      ]
    },
    {
      "cell_type": "code",
      "metadata": {
        "id": "OVWltCuv5mTw"
      },
      "source": [
        "import pandas as pd\n",
        "import recordlinkage"
      ],
      "execution_count": 3,
      "outputs": []
    },
    {
      "cell_type": "code",
      "metadata": {
        "colab": {
          "base_uri": "https://localhost:8080/",
          "height": 373
        },
        "id": "AeCoDpk-5mT1",
        "outputId": "20436cab-2675-4aad-de8c-baf72a5c07d8"
      },
      "source": [
        "df = pd.read_csv(\"https://raw.githubusercontent.com/michalis0/BigScaleAnalytics/master/week5/datasets/restaurants.csv\", delimiter=\",\")\n",
        "targets = df[\"class\"]\n",
        "df = df.iloc[:, :-1].set_index(keys=\"id\")\n",
        "df.head(10)"
      ],
      "execution_count": 5,
      "outputs": [
        {
          "output_type": "execute_result",
          "data": {
            "text/html": [
              "<div>\n",
              "<style scoped>\n",
              "    .dataframe tbody tr th:only-of-type {\n",
              "        vertical-align: middle;\n",
              "    }\n",
              "\n",
              "    .dataframe tbody tr th {\n",
              "        vertical-align: top;\n",
              "    }\n",
              "\n",
              "    .dataframe thead th {\n",
              "        text-align: right;\n",
              "    }\n",
              "</style>\n",
              "<table border=\"1\" class=\"dataframe\">\n",
              "  <thead>\n",
              "    <tr style=\"text-align: right;\">\n",
              "      <th></th>\n",
              "      <th>name</th>\n",
              "      <th>addr</th>\n",
              "      <th>city</th>\n",
              "      <th>phone</th>\n",
              "      <th>type</th>\n",
              "    </tr>\n",
              "    <tr>\n",
              "      <th>id</th>\n",
              "      <th></th>\n",
              "      <th></th>\n",
              "      <th></th>\n",
              "      <th></th>\n",
              "      <th></th>\n",
              "    </tr>\n",
              "  </thead>\n",
              "  <tbody>\n",
              "    <tr>\n",
              "      <th>1</th>\n",
              "      <td>arnie morton's of chicago</td>\n",
              "      <td>435 s. la cienega blv.</td>\n",
              "      <td>los angeles</td>\n",
              "      <td>310/246-1501</td>\n",
              "      <td>american</td>\n",
              "    </tr>\n",
              "    <tr>\n",
              "      <th>2</th>\n",
              "      <td>arnie morton's of chicago</td>\n",
              "      <td>435 s. la cienega blvd.</td>\n",
              "      <td>los angeles</td>\n",
              "      <td>310-246-1501</td>\n",
              "      <td>steakhouses</td>\n",
              "    </tr>\n",
              "    <tr>\n",
              "      <th>3</th>\n",
              "      <td>art's delicatessen</td>\n",
              "      <td>12224 ventura blvd.</td>\n",
              "      <td>studio city</td>\n",
              "      <td>818/762-1221</td>\n",
              "      <td>american</td>\n",
              "    </tr>\n",
              "    <tr>\n",
              "      <th>4</th>\n",
              "      <td>art's deli</td>\n",
              "      <td>12224 ventura blvd.</td>\n",
              "      <td>studio city</td>\n",
              "      <td>818-762-1221</td>\n",
              "      <td>delis</td>\n",
              "    </tr>\n",
              "    <tr>\n",
              "      <th>5</th>\n",
              "      <td>hotel bel-air</td>\n",
              "      <td>701 stone canyon rd.</td>\n",
              "      <td>bel air</td>\n",
              "      <td>310/472-1211</td>\n",
              "      <td>californian</td>\n",
              "    </tr>\n",
              "    <tr>\n",
              "      <th>6</th>\n",
              "      <td>bel-air hotel</td>\n",
              "      <td>701 stone canyon rd.</td>\n",
              "      <td>bel air</td>\n",
              "      <td>310-472-1211</td>\n",
              "      <td>californian</td>\n",
              "    </tr>\n",
              "    <tr>\n",
              "      <th>7</th>\n",
              "      <td>cafe bizou</td>\n",
              "      <td>14016 ventura blvd.</td>\n",
              "      <td>sherman oaks</td>\n",
              "      <td>818/788-3536</td>\n",
              "      <td>french</td>\n",
              "    </tr>\n",
              "    <tr>\n",
              "      <th>8</th>\n",
              "      <td>cafe bizou</td>\n",
              "      <td>14016 ventura blvd.</td>\n",
              "      <td>sherman oaks</td>\n",
              "      <td>818-788-3536</td>\n",
              "      <td>french bistro</td>\n",
              "    </tr>\n",
              "    <tr>\n",
              "      <th>9</th>\n",
              "      <td>campanile</td>\n",
              "      <td>624 s. la brea ave.</td>\n",
              "      <td>los angeles</td>\n",
              "      <td>213/938-1447</td>\n",
              "      <td>american</td>\n",
              "    </tr>\n",
              "    <tr>\n",
              "      <th>10</th>\n",
              "      <td>campanile</td>\n",
              "      <td>624 s. la brea ave.</td>\n",
              "      <td>los angeles</td>\n",
              "      <td>213-938-1447</td>\n",
              "      <td>californian</td>\n",
              "    </tr>\n",
              "  </tbody>\n",
              "</table>\n",
              "</div>"
            ],
            "text/plain": [
              "                         name  ...           type\n",
              "id                             ...               \n",
              "1   arnie morton's of chicago  ...       american\n",
              "2   arnie morton's of chicago  ...    steakhouses\n",
              "3          art's delicatessen  ...       american\n",
              "4                  art's deli  ...          delis\n",
              "5               hotel bel-air  ...    californian\n",
              "6               bel-air hotel  ...    californian\n",
              "7                  cafe bizou  ...         french\n",
              "8                  cafe bizou  ...  french bistro\n",
              "9                   campanile  ...       american\n",
              "10                  campanile  ...    californian\n",
              "\n",
              "[10 rows x 5 columns]"
            ]
          },
          "metadata": {
            "tags": []
          },
          "execution_count": 5
        }
      ]
    },
    {
      "cell_type": "markdown",
      "metadata": {
        "id": "MGifO5ty5mT5"
      },
      "source": [
        "### Data cleaning\n",
        "It is important to clean up a bit the data before jumping into finding duplicates. This not only helps to find matches more easily but also makes our blocking index to work better. Examples of data cleaning steps include standardising the order of first and surname, standardising the addresses dates and phone numbers, lowercasing all of the characters, etc. \n",
        "\n",
        "As you already know, Pandas itself is very useful for data cleaning, however Record Linkage Toolkit has also some cleaning function. We are going to use `recordlinkage.preprocessing.clean()` which is the most generic function in this package."
      ]
    },
    {
      "cell_type": "code",
      "metadata": {
        "id": "BKcUfuwM5mT7"
      },
      "source": [
        "# cleaning the name column\n",
        "from recordlinkage.preprocessing import clean\n",
        "df[\"name\"] = clean(df[\"name\"], lowercase=True, strip_accents='unicode', remove_brackets=True)\n",
        "# addr\n",
        "df[\"addr\"] = clean(df[\"addr\"], lowercase=True, strip_accents='unicode', remove_brackets=True)\n",
        "# city\n",
        "df[\"city\"] = clean(df[\"city\"], lowercase=True, strip_accents='unicode', remove_brackets=True)\n",
        "# type\n",
        "df[\"type\"] = clean(df[\"type\"], lowercase=True, strip_accents='unicode', remove_brackets=True)"
      ],
      "execution_count": 6,
      "outputs": []
    },
    {
      "cell_type": "code",
      "metadata": {
        "id": "CRdBTHKK5mT-"
      },
      "source": [
        "# there are also more specific cleaning functions in this package\n",
        "from recordlinkage.preprocessing import phonenumbers\n",
        "df[\"phone\"] = phonenumbers(df[\"phone\"])"
      ],
      "execution_count": 7,
      "outputs": []
    },
    {
      "cell_type": "code",
      "metadata": {
        "colab": {
          "base_uri": "https://localhost:8080/",
          "height": 373
        },
        "id": "iF0tqOXU5mUA",
        "outputId": "aa86138b-9229-481e-9562-3869f89c1974"
      },
      "source": [
        "df.head(10)"
      ],
      "execution_count": 8,
      "outputs": [
        {
          "output_type": "execute_result",
          "data": {
            "text/html": [
              "<div>\n",
              "<style scoped>\n",
              "    .dataframe tbody tr th:only-of-type {\n",
              "        vertical-align: middle;\n",
              "    }\n",
              "\n",
              "    .dataframe tbody tr th {\n",
              "        vertical-align: top;\n",
              "    }\n",
              "\n",
              "    .dataframe thead th {\n",
              "        text-align: right;\n",
              "    }\n",
              "</style>\n",
              "<table border=\"1\" class=\"dataframe\">\n",
              "  <thead>\n",
              "    <tr style=\"text-align: right;\">\n",
              "      <th></th>\n",
              "      <th>name</th>\n",
              "      <th>addr</th>\n",
              "      <th>city</th>\n",
              "      <th>phone</th>\n",
              "      <th>type</th>\n",
              "    </tr>\n",
              "    <tr>\n",
              "      <th>id</th>\n",
              "      <th></th>\n",
              "      <th></th>\n",
              "      <th></th>\n",
              "      <th></th>\n",
              "      <th></th>\n",
              "    </tr>\n",
              "  </thead>\n",
              "  <tbody>\n",
              "    <tr>\n",
              "      <th>1</th>\n",
              "      <td>arnie mortons of chicago</td>\n",
              "      <td>435 s la cienega blv</td>\n",
              "      <td>los angeles</td>\n",
              "      <td>3102461501</td>\n",
              "      <td>american</td>\n",
              "    </tr>\n",
              "    <tr>\n",
              "      <th>2</th>\n",
              "      <td>arnie mortons of chicago</td>\n",
              "      <td>435 s la cienega blvd</td>\n",
              "      <td>los angeles</td>\n",
              "      <td>3102461501</td>\n",
              "      <td>steakhouses</td>\n",
              "    </tr>\n",
              "    <tr>\n",
              "      <th>3</th>\n",
              "      <td>arts delicatessen</td>\n",
              "      <td>12224 ventura blvd</td>\n",
              "      <td>studio city</td>\n",
              "      <td>8187621221</td>\n",
              "      <td>american</td>\n",
              "    </tr>\n",
              "    <tr>\n",
              "      <th>4</th>\n",
              "      <td>arts deli</td>\n",
              "      <td>12224 ventura blvd</td>\n",
              "      <td>studio city</td>\n",
              "      <td>8187621221</td>\n",
              "      <td>delis</td>\n",
              "    </tr>\n",
              "    <tr>\n",
              "      <th>5</th>\n",
              "      <td>hotel bel air</td>\n",
              "      <td>701 stone canyon rd</td>\n",
              "      <td>bel air</td>\n",
              "      <td>3104721211</td>\n",
              "      <td>californian</td>\n",
              "    </tr>\n",
              "    <tr>\n",
              "      <th>6</th>\n",
              "      <td>bel air hotel</td>\n",
              "      <td>701 stone canyon rd</td>\n",
              "      <td>bel air</td>\n",
              "      <td>3104721211</td>\n",
              "      <td>californian</td>\n",
              "    </tr>\n",
              "    <tr>\n",
              "      <th>7</th>\n",
              "      <td>cafe bizou</td>\n",
              "      <td>14016 ventura blvd</td>\n",
              "      <td>sherman oaks</td>\n",
              "      <td>8187883536</td>\n",
              "      <td>french</td>\n",
              "    </tr>\n",
              "    <tr>\n",
              "      <th>8</th>\n",
              "      <td>cafe bizou</td>\n",
              "      <td>14016 ventura blvd</td>\n",
              "      <td>sherman oaks</td>\n",
              "      <td>8187883536</td>\n",
              "      <td>french bistro</td>\n",
              "    </tr>\n",
              "    <tr>\n",
              "      <th>9</th>\n",
              "      <td>campanile</td>\n",
              "      <td>624 s la brea ave</td>\n",
              "      <td>los angeles</td>\n",
              "      <td>2139381447</td>\n",
              "      <td>american</td>\n",
              "    </tr>\n",
              "    <tr>\n",
              "      <th>10</th>\n",
              "      <td>campanile</td>\n",
              "      <td>624 s la brea ave</td>\n",
              "      <td>los angeles</td>\n",
              "      <td>2139381447</td>\n",
              "      <td>californian</td>\n",
              "    </tr>\n",
              "  </tbody>\n",
              "</table>\n",
              "</div>"
            ],
            "text/plain": [
              "                        name                   addr  ...       phone           type\n",
              "id                                                   ...                           \n",
              "1   arnie mortons of chicago   435 s la cienega blv  ...  3102461501       american\n",
              "2   arnie mortons of chicago  435 s la cienega blvd  ...  3102461501    steakhouses\n",
              "3          arts delicatessen     12224 ventura blvd  ...  8187621221       american\n",
              "4                  arts deli     12224 ventura blvd  ...  8187621221          delis\n",
              "5              hotel bel air    701 stone canyon rd  ...  3104721211    californian\n",
              "6              bel air hotel    701 stone canyon rd  ...  3104721211    californian\n",
              "7                 cafe bizou     14016 ventura blvd  ...  8187883536         french\n",
              "8                 cafe bizou     14016 ventura blvd  ...  8187883536  french bistro\n",
              "9                  campanile      624 s la brea ave  ...  2139381447       american\n",
              "10                 campanile      624 s la brea ave  ...  2139381447    californian\n",
              "\n",
              "[10 rows x 5 columns]"
            ]
          },
          "metadata": {
            "tags": []
          },
          "execution_count": 8
        }
      ]
    },
    {
      "cell_type": "markdown",
      "metadata": {
        "id": "KXR1yQT35mUF"
      },
      "source": [
        "Now let's choose a blocking index for this data set to make record pairs. We will pick the `city` attribute as the blocking index, since it seems that this is the feature which may not change for a restaurant."
      ]
    },
    {
      "cell_type": "code",
      "metadata": {
        "colab": {
          "base_uri": "https://localhost:8080/"
        },
        "id": "QbOH3dNO5mUG",
        "outputId": "e4b0eece-ee3f-457e-88d0-536789023b20"
      },
      "source": [
        "indexer = recordlinkage.Index()\n",
        "indexer.block('city')\n",
        "candidate_links = indexer.index(df)\n",
        "\n",
        "print(len(candidate_links))"
      ],
      "execution_count": 9,
      "outputs": [
        {
          "output_type": "stream",
          "text": [
            "57943\n"
          ],
          "name": "stdout"
        }
      ]
    },
    {
      "cell_type": "code",
      "metadata": {
        "id": "-oiPOvDK5mUL"
      },
      "source": [
        "compare_cl = recordlinkage.Compare()\n",
        "\n",
        "# exact comparison for city since it is the blocking index\n",
        "compare_cl.exact('city', 'city', label='city')\n",
        "# partial similarity between string values\n",
        "compare_cl.string('name', 'name', method='jarowinkler', threshold=0.85, label='surname')\n",
        "compare_cl.string('addr', 'addr', threshold=0.85, label='addr')\n",
        "# phone is not really a numerical value, therefore it's better to use a string comparison\n",
        "compare_cl.string('phone', 'phone', threshold=0.85, label='phone')\n",
        "compare_cl.string('type', 'type', method='jarowinkler', threshold=0.85, label='type')\n",
        "\n",
        "features = compare_cl.compute(candidate_links, df)"
      ],
      "execution_count": 10,
      "outputs": []
    },
    {
      "cell_type": "code",
      "metadata": {
        "colab": {
          "base_uri": "https://localhost:8080/",
          "height": 669
        },
        "id": "8tJpX5Ig5mUO",
        "outputId": "e6cf3592-5c6f-4369-bffe-1d0fb0f367ae"
      },
      "source": [
        "features.head(20)"
      ],
      "execution_count": 11,
      "outputs": [
        {
          "output_type": "execute_result",
          "data": {
            "text/html": [
              "<div>\n",
              "<style scoped>\n",
              "    .dataframe tbody tr th:only-of-type {\n",
              "        vertical-align: middle;\n",
              "    }\n",
              "\n",
              "    .dataframe tbody tr th {\n",
              "        vertical-align: top;\n",
              "    }\n",
              "\n",
              "    .dataframe thead th {\n",
              "        text-align: right;\n",
              "    }\n",
              "</style>\n",
              "<table border=\"1\" class=\"dataframe\">\n",
              "  <thead>\n",
              "    <tr style=\"text-align: right;\">\n",
              "      <th></th>\n",
              "      <th></th>\n",
              "      <th>city</th>\n",
              "      <th>surname</th>\n",
              "      <th>addr</th>\n",
              "      <th>phone</th>\n",
              "      <th>type</th>\n",
              "    </tr>\n",
              "    <tr>\n",
              "      <th>id_1</th>\n",
              "      <th>id_2</th>\n",
              "      <th></th>\n",
              "      <th></th>\n",
              "      <th></th>\n",
              "      <th></th>\n",
              "      <th></th>\n",
              "    </tr>\n",
              "  </thead>\n",
              "  <tbody>\n",
              "    <tr>\n",
              "      <th>2</th>\n",
              "      <th>1</th>\n",
              "      <td>1</td>\n",
              "      <td>1.0</td>\n",
              "      <td>1.0</td>\n",
              "      <td>1.0</td>\n",
              "      <td>0.0</td>\n",
              "    </tr>\n",
              "    <tr>\n",
              "      <th rowspan=\"2\" valign=\"top\">9</th>\n",
              "      <th>1</th>\n",
              "      <td>1</td>\n",
              "      <td>0.0</td>\n",
              "      <td>0.0</td>\n",
              "      <td>0.0</td>\n",
              "      <td>1.0</td>\n",
              "    </tr>\n",
              "    <tr>\n",
              "      <th>2</th>\n",
              "      <td>1</td>\n",
              "      <td>0.0</td>\n",
              "      <td>0.0</td>\n",
              "      <td>0.0</td>\n",
              "      <td>0.0</td>\n",
              "    </tr>\n",
              "    <tr>\n",
              "      <th rowspan=\"3\" valign=\"top\">10</th>\n",
              "      <th>1</th>\n",
              "      <td>1</td>\n",
              "      <td>0.0</td>\n",
              "      <td>0.0</td>\n",
              "      <td>0.0</td>\n",
              "      <td>0.0</td>\n",
              "    </tr>\n",
              "    <tr>\n",
              "      <th>2</th>\n",
              "      <td>1</td>\n",
              "      <td>0.0</td>\n",
              "      <td>0.0</td>\n",
              "      <td>0.0</td>\n",
              "      <td>0.0</td>\n",
              "    </tr>\n",
              "    <tr>\n",
              "      <th>9</th>\n",
              "      <td>1</td>\n",
              "      <td>1.0</td>\n",
              "      <td>1.0</td>\n",
              "      <td>1.0</td>\n",
              "      <td>0.0</td>\n",
              "    </tr>\n",
              "    <tr>\n",
              "      <th rowspan=\"4\" valign=\"top\">13</th>\n",
              "      <th>1</th>\n",
              "      <td>1</td>\n",
              "      <td>0.0</td>\n",
              "      <td>0.0</td>\n",
              "      <td>0.0</td>\n",
              "      <td>0.0</td>\n",
              "    </tr>\n",
              "    <tr>\n",
              "      <th>2</th>\n",
              "      <td>1</td>\n",
              "      <td>0.0</td>\n",
              "      <td>0.0</td>\n",
              "      <td>0.0</td>\n",
              "      <td>0.0</td>\n",
              "    </tr>\n",
              "    <tr>\n",
              "      <th>9</th>\n",
              "      <td>1</td>\n",
              "      <td>0.0</td>\n",
              "      <td>0.0</td>\n",
              "      <td>0.0</td>\n",
              "      <td>0.0</td>\n",
              "    </tr>\n",
              "    <tr>\n",
              "      <th>10</th>\n",
              "      <td>1</td>\n",
              "      <td>0.0</td>\n",
              "      <td>0.0</td>\n",
              "      <td>0.0</td>\n",
              "      <td>1.0</td>\n",
              "    </tr>\n",
              "    <tr>\n",
              "      <th rowspan=\"5\" valign=\"top\">14</th>\n",
              "      <th>1</th>\n",
              "      <td>1</td>\n",
              "      <td>0.0</td>\n",
              "      <td>0.0</td>\n",
              "      <td>0.0</td>\n",
              "      <td>0.0</td>\n",
              "    </tr>\n",
              "    <tr>\n",
              "      <th>2</th>\n",
              "      <td>1</td>\n",
              "      <td>0.0</td>\n",
              "      <td>0.0</td>\n",
              "      <td>0.0</td>\n",
              "      <td>0.0</td>\n",
              "    </tr>\n",
              "    <tr>\n",
              "      <th>9</th>\n",
              "      <td>1</td>\n",
              "      <td>0.0</td>\n",
              "      <td>0.0</td>\n",
              "      <td>0.0</td>\n",
              "      <td>0.0</td>\n",
              "    </tr>\n",
              "    <tr>\n",
              "      <th>10</th>\n",
              "      <td>1</td>\n",
              "      <td>0.0</td>\n",
              "      <td>0.0</td>\n",
              "      <td>0.0</td>\n",
              "      <td>1.0</td>\n",
              "    </tr>\n",
              "    <tr>\n",
              "      <th>13</th>\n",
              "      <td>1</td>\n",
              "      <td>1.0</td>\n",
              "      <td>1.0</td>\n",
              "      <td>1.0</td>\n",
              "      <td>1.0</td>\n",
              "    </tr>\n",
              "    <tr>\n",
              "      <th rowspan=\"5\" valign=\"top\">19</th>\n",
              "      <th>1</th>\n",
              "      <td>1</td>\n",
              "      <td>0.0</td>\n",
              "      <td>0.0</td>\n",
              "      <td>0.0</td>\n",
              "      <td>1.0</td>\n",
              "    </tr>\n",
              "    <tr>\n",
              "      <th>2</th>\n",
              "      <td>1</td>\n",
              "      <td>0.0</td>\n",
              "      <td>0.0</td>\n",
              "      <td>0.0</td>\n",
              "      <td>0.0</td>\n",
              "    </tr>\n",
              "    <tr>\n",
              "      <th>9</th>\n",
              "      <td>1</td>\n",
              "      <td>0.0</td>\n",
              "      <td>0.0</td>\n",
              "      <td>0.0</td>\n",
              "      <td>1.0</td>\n",
              "    </tr>\n",
              "    <tr>\n",
              "      <th>10</th>\n",
              "      <td>1</td>\n",
              "      <td>0.0</td>\n",
              "      <td>0.0</td>\n",
              "      <td>0.0</td>\n",
              "      <td>0.0</td>\n",
              "    </tr>\n",
              "    <tr>\n",
              "      <th>13</th>\n",
              "      <td>1</td>\n",
              "      <td>0.0</td>\n",
              "      <td>0.0</td>\n",
              "      <td>0.0</td>\n",
              "      <td>0.0</td>\n",
              "    </tr>\n",
              "  </tbody>\n",
              "</table>\n",
              "</div>"
            ],
            "text/plain": [
              "           city  surname  addr  phone  type\n",
              "id_1 id_2                                  \n",
              "2    1        1      1.0   1.0    1.0   0.0\n",
              "9    1        1      0.0   0.0    0.0   1.0\n",
              "     2        1      0.0   0.0    0.0   0.0\n",
              "10   1        1      0.0   0.0    0.0   0.0\n",
              "     2        1      0.0   0.0    0.0   0.0\n",
              "     9        1      1.0   1.0    1.0   0.0\n",
              "13   1        1      0.0   0.0    0.0   0.0\n",
              "     2        1      0.0   0.0    0.0   0.0\n",
              "     9        1      0.0   0.0    0.0   0.0\n",
              "     10       1      0.0   0.0    0.0   1.0\n",
              "14   1        1      0.0   0.0    0.0   0.0\n",
              "     2        1      0.0   0.0    0.0   0.0\n",
              "     9        1      0.0   0.0    0.0   0.0\n",
              "     10       1      0.0   0.0    0.0   1.0\n",
              "     13       1      1.0   1.0    1.0   1.0\n",
              "19   1        1      0.0   0.0    0.0   1.0\n",
              "     2        1      0.0   0.0    0.0   0.0\n",
              "     9        1      0.0   0.0    0.0   1.0\n",
              "     10       1      0.0   0.0    0.0   0.0\n",
              "     13       1      0.0   0.0    0.0   0.0"
            ]
          },
          "metadata": {
            "tags": []
          },
          "execution_count": 11
        }
      ]
    },
    {
      "cell_type": "markdown",
      "metadata": {
        "id": "T5ENAiEq5mUU"
      },
      "source": [
        "### Classification\n",
        "In general there are three ways to classify the candidate record pairs as matches or non-matches:\n",
        "\n",
        "- Threshold-based methods\n",
        "- Supervised learning methods\n",
        "- Unsupervised learning methods\n",
        "\n",
        "Once we classify each of the record pairs, we can evaluate the classification using three commonly used metrics: precision, recall and F-score.\n"
      ]
    },
    {
      "cell_type": "markdown",
      "metadata": {
        "id": "4sCCS9JE5mUW"
      },
      "source": [
        "#### Threshold based"
      ]
    },
    {
      "cell_type": "code",
      "metadata": {
        "colab": {
          "base_uri": "https://localhost:8080/"
        },
        "id": "-ffAmsPe5mUQ",
        "outputId": "d45968b6-b695-4c00-f76d-2f5c345ebca2"
      },
      "source": [
        "# Sum the comparison results.\n",
        "features.sum(axis=1).value_counts().sort_index(ascending=False)"
      ],
      "execution_count": 12,
      "outputs": [
        {
          "output_type": "execute_result",
          "data": {
            "text/plain": [
              "5.0       21\n",
              "4.0       29\n",
              "3.0       91\n",
              "2.0     8289\n",
              "1.0    49513\n",
              "dtype: int64"
            ]
          },
          "metadata": {
            "tags": []
          },
          "execution_count": 12
        }
      ]
    },
    {
      "cell_type": "code",
      "metadata": {
        "colab": {
          "base_uri": "https://localhost:8080/",
          "height": 390
        },
        "id": "rRLTXgTi5mUW",
        "outputId": "0b17e07d-6765-48cd-d08c-8cd417a23224"
      },
      "source": [
        "matches = features[features.sum(axis=1) >= 4]\n",
        "\n",
        "print(len(matches))\n",
        "matches.head(10)"
      ],
      "execution_count": 13,
      "outputs": [
        {
          "output_type": "stream",
          "text": [
            "50\n"
          ],
          "name": "stdout"
        },
        {
          "output_type": "execute_result",
          "data": {
            "text/html": [
              "<div>\n",
              "<style scoped>\n",
              "    .dataframe tbody tr th:only-of-type {\n",
              "        vertical-align: middle;\n",
              "    }\n",
              "\n",
              "    .dataframe tbody tr th {\n",
              "        vertical-align: top;\n",
              "    }\n",
              "\n",
              "    .dataframe thead th {\n",
              "        text-align: right;\n",
              "    }\n",
              "</style>\n",
              "<table border=\"1\" class=\"dataframe\">\n",
              "  <thead>\n",
              "    <tr style=\"text-align: right;\">\n",
              "      <th></th>\n",
              "      <th></th>\n",
              "      <th>city</th>\n",
              "      <th>surname</th>\n",
              "      <th>addr</th>\n",
              "      <th>phone</th>\n",
              "      <th>type</th>\n",
              "    </tr>\n",
              "    <tr>\n",
              "      <th>id_1</th>\n",
              "      <th>id_2</th>\n",
              "      <th></th>\n",
              "      <th></th>\n",
              "      <th></th>\n",
              "      <th></th>\n",
              "      <th></th>\n",
              "    </tr>\n",
              "  </thead>\n",
              "  <tbody>\n",
              "    <tr>\n",
              "      <th>2</th>\n",
              "      <th>1</th>\n",
              "      <td>1</td>\n",
              "      <td>1.0</td>\n",
              "      <td>1.0</td>\n",
              "      <td>1.0</td>\n",
              "      <td>0.0</td>\n",
              "    </tr>\n",
              "    <tr>\n",
              "      <th>10</th>\n",
              "      <th>9</th>\n",
              "      <td>1</td>\n",
              "      <td>1.0</td>\n",
              "      <td>1.0</td>\n",
              "      <td>1.0</td>\n",
              "      <td>0.0</td>\n",
              "    </tr>\n",
              "    <tr>\n",
              "      <th>14</th>\n",
              "      <th>13</th>\n",
              "      <td>1</td>\n",
              "      <td>1.0</td>\n",
              "      <td>1.0</td>\n",
              "      <td>1.0</td>\n",
              "      <td>1.0</td>\n",
              "    </tr>\n",
              "    <tr>\n",
              "      <th>26</th>\n",
              "      <th>25</th>\n",
              "      <td>1</td>\n",
              "      <td>1.0</td>\n",
              "      <td>1.0</td>\n",
              "      <td>1.0</td>\n",
              "      <td>1.0</td>\n",
              "    </tr>\n",
              "    <tr>\n",
              "      <th>28</th>\n",
              "      <th>27</th>\n",
              "      <td>1</td>\n",
              "      <td>1.0</td>\n",
              "      <td>0.0</td>\n",
              "      <td>1.0</td>\n",
              "      <td>1.0</td>\n",
              "    </tr>\n",
              "    <tr>\n",
              "      <th>34</th>\n",
              "      <th>33</th>\n",
              "      <td>1</td>\n",
              "      <td>1.0</td>\n",
              "      <td>1.0</td>\n",
              "      <td>1.0</td>\n",
              "      <td>1.0</td>\n",
              "    </tr>\n",
              "    <tr>\n",
              "      <th>40</th>\n",
              "      <th>39</th>\n",
              "      <td>1</td>\n",
              "      <td>1.0</td>\n",
              "      <td>1.0</td>\n",
              "      <td>1.0</td>\n",
              "      <td>0.0</td>\n",
              "    </tr>\n",
              "    <tr>\n",
              "      <th>4</th>\n",
              "      <th>3</th>\n",
              "      <td>1</td>\n",
              "      <td>1.0</td>\n",
              "      <td>1.0</td>\n",
              "      <td>1.0</td>\n",
              "      <td>0.0</td>\n",
              "    </tr>\n",
              "    <tr>\n",
              "      <th>6</th>\n",
              "      <th>5</th>\n",
              "      <td>1</td>\n",
              "      <td>0.0</td>\n",
              "      <td>1.0</td>\n",
              "      <td>1.0</td>\n",
              "      <td>1.0</td>\n",
              "    </tr>\n",
              "    <tr>\n",
              "      <th>8</th>\n",
              "      <th>7</th>\n",
              "      <td>1</td>\n",
              "      <td>1.0</td>\n",
              "      <td>1.0</td>\n",
              "      <td>1.0</td>\n",
              "      <td>1.0</td>\n",
              "    </tr>\n",
              "  </tbody>\n",
              "</table>\n",
              "</div>"
            ],
            "text/plain": [
              "           city  surname  addr  phone  type\n",
              "id_1 id_2                                  \n",
              "2    1        1      1.0   1.0    1.0   0.0\n",
              "10   9        1      1.0   1.0    1.0   0.0\n",
              "14   13       1      1.0   1.0    1.0   1.0\n",
              "26   25       1      1.0   1.0    1.0   1.0\n",
              "28   27       1      1.0   0.0    1.0   1.0\n",
              "34   33       1      1.0   1.0    1.0   1.0\n",
              "40   39       1      1.0   1.0    1.0   0.0\n",
              "4    3        1      1.0   1.0    1.0   0.0\n",
              "6    5        1      0.0   1.0    1.0   1.0\n",
              "8    7        1      1.0   1.0    1.0   1.0"
            ]
          },
          "metadata": {
            "tags": []
          },
          "execution_count": 13
        }
      ]
    },
    {
      "cell_type": "markdown",
      "metadata": {
        "id": "WIplzWJW5mUa"
      },
      "source": [
        "##### precision and recall"
      ]
    },
    {
      "cell_type": "code",
      "metadata": {
        "colab": {
          "base_uri": "https://localhost:8080/",
          "height": 195
        },
        "id": "nB1Ygud95mUb",
        "outputId": "987d1ecc-6018-4be0-bb16-a68ae5f3c071"
      },
      "source": [
        "# the restaurants gold data contains the true matches between data pairs\n",
        "true_links = pd.read_csv(\"https://raw.githubusercontent.com/michalis0/BigScaleAnalytics/master/week5/datasets/restaurant_gold.csv\")\n",
        "true_links.head()"
      ],
      "execution_count": 15,
      "outputs": [
        {
          "output_type": "execute_result",
          "data": {
            "text/html": [
              "<div>\n",
              "<style scoped>\n",
              "    .dataframe tbody tr th:only-of-type {\n",
              "        vertical-align: middle;\n",
              "    }\n",
              "\n",
              "    .dataframe tbody tr th {\n",
              "        vertical-align: top;\n",
              "    }\n",
              "\n",
              "    .dataframe thead th {\n",
              "        text-align: right;\n",
              "    }\n",
              "</style>\n",
              "<table border=\"1\" class=\"dataframe\">\n",
              "  <thead>\n",
              "    <tr style=\"text-align: right;\">\n",
              "      <th></th>\n",
              "      <th>class</th>\n",
              "      <th>id_1</th>\n",
              "      <th>id_2</th>\n",
              "    </tr>\n",
              "  </thead>\n",
              "  <tbody>\n",
              "    <tr>\n",
              "      <th>0</th>\n",
              "      <td>'0'</td>\n",
              "      <td>1</td>\n",
              "      <td>2</td>\n",
              "    </tr>\n",
              "    <tr>\n",
              "      <th>1</th>\n",
              "      <td>'1'</td>\n",
              "      <td>3</td>\n",
              "      <td>4</td>\n",
              "    </tr>\n",
              "    <tr>\n",
              "      <th>2</th>\n",
              "      <td>'2'</td>\n",
              "      <td>5</td>\n",
              "      <td>6</td>\n",
              "    </tr>\n",
              "    <tr>\n",
              "      <th>3</th>\n",
              "      <td>'3'</td>\n",
              "      <td>7</td>\n",
              "      <td>8</td>\n",
              "    </tr>\n",
              "    <tr>\n",
              "      <th>4</th>\n",
              "      <td>'4'</td>\n",
              "      <td>9</td>\n",
              "      <td>10</td>\n",
              "    </tr>\n",
              "  </tbody>\n",
              "</table>\n",
              "</div>"
            ],
            "text/plain": [
              "  class  id_1  id_2\n",
              "0   '0'     1     2\n",
              "1   '1'     3     4\n",
              "2   '2'     5     6\n",
              "3   '3'     7     8\n",
              "4   '4'     9    10"
            ]
          },
          "metadata": {
            "tags": []
          },
          "execution_count": 15
        }
      ]
    },
    {
      "cell_type": "code",
      "metadata": {
        "id": "-pJtWguy5mUe"
      },
      "source": [
        "# make sure the order of the indices match. here, in the matches dataframe the first index is\n",
        "# always the bigger number whears in the true links dataframe it is reverse. So we have to set\n",
        "# the multi-index for true links dataframe in the order of `id_2`, `id_1`\n",
        "true_links = true_links.set_index(keys=[\"id_2\", \"id_1\"])"
      ],
      "execution_count": 16,
      "outputs": []
    },
    {
      "cell_type": "code",
      "metadata": {
        "colab": {
          "base_uri": "https://localhost:8080/"
        },
        "id": "PEwk9Mrh5mUg",
        "outputId": "d1f52e94-7a87-412f-da65-0f5536610e7a"
      },
      "source": [
        "print(\"precision = \", recordlinkage.precision(true_links, matches))"
      ],
      "execution_count": 17,
      "outputs": [
        {
          "output_type": "stream",
          "text": [
            "precision =  0.94\n"
          ],
          "name": "stdout"
        }
      ]
    },
    {
      "cell_type": "code",
      "metadata": {
        "colab": {
          "base_uri": "https://localhost:8080/"
        },
        "id": "DDZu-6aV5mUk",
        "outputId": "7c0c020c-ed55-4506-fed1-82b60a709ed8"
      },
      "source": [
        "print(\"recall = \", recordlinkage.recall(true_links, matches))"
      ],
      "execution_count": 18,
      "outputs": [
        {
          "output_type": "stream",
          "text": [
            "recall =  0.41964285714285715\n"
          ],
          "name": "stdout"
        }
      ]
    },
    {
      "cell_type": "code",
      "metadata": {
        "colab": {
          "base_uri": "https://localhost:8080/"
        },
        "id": "oUU0yeR75mUo",
        "outputId": "aba73cf9-808d-415a-9428-221e58c2afe8"
      },
      "source": [
        "print(\"F-score = \", recordlinkage.fscore(true_links, matches))"
      ],
      "execution_count": 19,
      "outputs": [
        {
          "output_type": "stream",
          "text": [
            "F-score =  0.5802469135802469\n"
          ],
          "name": "stdout"
        }
      ]
    },
    {
      "cell_type": "markdown",
      "metadata": {
        "id": "tuPqn-f_5mUs"
      },
      "source": [
        "#### Supervised learning\n",
        "In this part we will use Logistic Regression to classify the candidate pairs."
      ]
    },
    {
      "cell_type": "code",
      "metadata": {
        "id": "kWPfYFhh5mUt"
      },
      "source": [
        "from recordlinkage.classifiers import LogisticRegressionClassifier\n",
        "LR = LogisticRegressionClassifier()"
      ],
      "execution_count": 20,
      "outputs": []
    },
    {
      "cell_type": "markdown",
      "metadata": {
        "id": "ZG9x0RVb5mUv"
      },
      "source": [
        "Let's first add labels to the feature vectors we created. This way we can have balanced number of actual matches and non-matches in the train and test set."
      ]
    },
    {
      "cell_type": "code",
      "metadata": {
        "id": "18DrAl905mUw"
      },
      "source": [
        "join_feature_label = features.reset_index().join(true_links, how='left', on=[\"id_1\", \"id_2\"])\n",
        "join_feature_label[\"class\"] = join_feature_label[\"class\"].map(lambda x: 0 if pd.isnull(x) else 1)"
      ],
      "execution_count": 21,
      "outputs": []
    },
    {
      "cell_type": "code",
      "metadata": {
        "colab": {
          "base_uri": "https://localhost:8080/",
          "height": 669
        },
        "id": "hE9JWjYe5mUy",
        "outputId": "bc3e7da8-4817-4872-f75d-773703d33dbb"
      },
      "source": [
        "join_feature_label.set_index(keys=[\"id_1\", \"id_2\"], inplace=True)\n",
        "join_feature_label.head(20)"
      ],
      "execution_count": 22,
      "outputs": [
        {
          "output_type": "execute_result",
          "data": {
            "text/html": [
              "<div>\n",
              "<style scoped>\n",
              "    .dataframe tbody tr th:only-of-type {\n",
              "        vertical-align: middle;\n",
              "    }\n",
              "\n",
              "    .dataframe tbody tr th {\n",
              "        vertical-align: top;\n",
              "    }\n",
              "\n",
              "    .dataframe thead th {\n",
              "        text-align: right;\n",
              "    }\n",
              "</style>\n",
              "<table border=\"1\" class=\"dataframe\">\n",
              "  <thead>\n",
              "    <tr style=\"text-align: right;\">\n",
              "      <th></th>\n",
              "      <th></th>\n",
              "      <th>city</th>\n",
              "      <th>surname</th>\n",
              "      <th>addr</th>\n",
              "      <th>phone</th>\n",
              "      <th>type</th>\n",
              "      <th>class</th>\n",
              "    </tr>\n",
              "    <tr>\n",
              "      <th>id_1</th>\n",
              "      <th>id_2</th>\n",
              "      <th></th>\n",
              "      <th></th>\n",
              "      <th></th>\n",
              "      <th></th>\n",
              "      <th></th>\n",
              "      <th></th>\n",
              "    </tr>\n",
              "  </thead>\n",
              "  <tbody>\n",
              "    <tr>\n",
              "      <th>2</th>\n",
              "      <th>1</th>\n",
              "      <td>1</td>\n",
              "      <td>1.0</td>\n",
              "      <td>1.0</td>\n",
              "      <td>1.0</td>\n",
              "      <td>0.0</td>\n",
              "      <td>1</td>\n",
              "    </tr>\n",
              "    <tr>\n",
              "      <th rowspan=\"2\" valign=\"top\">9</th>\n",
              "      <th>1</th>\n",
              "      <td>1</td>\n",
              "      <td>0.0</td>\n",
              "      <td>0.0</td>\n",
              "      <td>0.0</td>\n",
              "      <td>1.0</td>\n",
              "      <td>0</td>\n",
              "    </tr>\n",
              "    <tr>\n",
              "      <th>2</th>\n",
              "      <td>1</td>\n",
              "      <td>0.0</td>\n",
              "      <td>0.0</td>\n",
              "      <td>0.0</td>\n",
              "      <td>0.0</td>\n",
              "      <td>0</td>\n",
              "    </tr>\n",
              "    <tr>\n",
              "      <th rowspan=\"3\" valign=\"top\">10</th>\n",
              "      <th>1</th>\n",
              "      <td>1</td>\n",
              "      <td>0.0</td>\n",
              "      <td>0.0</td>\n",
              "      <td>0.0</td>\n",
              "      <td>0.0</td>\n",
              "      <td>0</td>\n",
              "    </tr>\n",
              "    <tr>\n",
              "      <th>2</th>\n",
              "      <td>1</td>\n",
              "      <td>0.0</td>\n",
              "      <td>0.0</td>\n",
              "      <td>0.0</td>\n",
              "      <td>0.0</td>\n",
              "      <td>0</td>\n",
              "    </tr>\n",
              "    <tr>\n",
              "      <th>9</th>\n",
              "      <td>1</td>\n",
              "      <td>1.0</td>\n",
              "      <td>1.0</td>\n",
              "      <td>1.0</td>\n",
              "      <td>0.0</td>\n",
              "      <td>1</td>\n",
              "    </tr>\n",
              "    <tr>\n",
              "      <th rowspan=\"4\" valign=\"top\">13</th>\n",
              "      <th>1</th>\n",
              "      <td>1</td>\n",
              "      <td>0.0</td>\n",
              "      <td>0.0</td>\n",
              "      <td>0.0</td>\n",
              "      <td>0.0</td>\n",
              "      <td>0</td>\n",
              "    </tr>\n",
              "    <tr>\n",
              "      <th>2</th>\n",
              "      <td>1</td>\n",
              "      <td>0.0</td>\n",
              "      <td>0.0</td>\n",
              "      <td>0.0</td>\n",
              "      <td>0.0</td>\n",
              "      <td>0</td>\n",
              "    </tr>\n",
              "    <tr>\n",
              "      <th>9</th>\n",
              "      <td>1</td>\n",
              "      <td>0.0</td>\n",
              "      <td>0.0</td>\n",
              "      <td>0.0</td>\n",
              "      <td>0.0</td>\n",
              "      <td>0</td>\n",
              "    </tr>\n",
              "    <tr>\n",
              "      <th>10</th>\n",
              "      <td>1</td>\n",
              "      <td>0.0</td>\n",
              "      <td>0.0</td>\n",
              "      <td>0.0</td>\n",
              "      <td>1.0</td>\n",
              "      <td>0</td>\n",
              "    </tr>\n",
              "    <tr>\n",
              "      <th rowspan=\"5\" valign=\"top\">14</th>\n",
              "      <th>1</th>\n",
              "      <td>1</td>\n",
              "      <td>0.0</td>\n",
              "      <td>0.0</td>\n",
              "      <td>0.0</td>\n",
              "      <td>0.0</td>\n",
              "      <td>0</td>\n",
              "    </tr>\n",
              "    <tr>\n",
              "      <th>2</th>\n",
              "      <td>1</td>\n",
              "      <td>0.0</td>\n",
              "      <td>0.0</td>\n",
              "      <td>0.0</td>\n",
              "      <td>0.0</td>\n",
              "      <td>0</td>\n",
              "    </tr>\n",
              "    <tr>\n",
              "      <th>9</th>\n",
              "      <td>1</td>\n",
              "      <td>0.0</td>\n",
              "      <td>0.0</td>\n",
              "      <td>0.0</td>\n",
              "      <td>0.0</td>\n",
              "      <td>0</td>\n",
              "    </tr>\n",
              "    <tr>\n",
              "      <th>10</th>\n",
              "      <td>1</td>\n",
              "      <td>0.0</td>\n",
              "      <td>0.0</td>\n",
              "      <td>0.0</td>\n",
              "      <td>1.0</td>\n",
              "      <td>0</td>\n",
              "    </tr>\n",
              "    <tr>\n",
              "      <th>13</th>\n",
              "      <td>1</td>\n",
              "      <td>1.0</td>\n",
              "      <td>1.0</td>\n",
              "      <td>1.0</td>\n",
              "      <td>1.0</td>\n",
              "      <td>1</td>\n",
              "    </tr>\n",
              "    <tr>\n",
              "      <th rowspan=\"5\" valign=\"top\">19</th>\n",
              "      <th>1</th>\n",
              "      <td>1</td>\n",
              "      <td>0.0</td>\n",
              "      <td>0.0</td>\n",
              "      <td>0.0</td>\n",
              "      <td>1.0</td>\n",
              "      <td>0</td>\n",
              "    </tr>\n",
              "    <tr>\n",
              "      <th>2</th>\n",
              "      <td>1</td>\n",
              "      <td>0.0</td>\n",
              "      <td>0.0</td>\n",
              "      <td>0.0</td>\n",
              "      <td>0.0</td>\n",
              "      <td>0</td>\n",
              "    </tr>\n",
              "    <tr>\n",
              "      <th>9</th>\n",
              "      <td>1</td>\n",
              "      <td>0.0</td>\n",
              "      <td>0.0</td>\n",
              "      <td>0.0</td>\n",
              "      <td>1.0</td>\n",
              "      <td>0</td>\n",
              "    </tr>\n",
              "    <tr>\n",
              "      <th>10</th>\n",
              "      <td>1</td>\n",
              "      <td>0.0</td>\n",
              "      <td>0.0</td>\n",
              "      <td>0.0</td>\n",
              "      <td>0.0</td>\n",
              "      <td>0</td>\n",
              "    </tr>\n",
              "    <tr>\n",
              "      <th>13</th>\n",
              "      <td>1</td>\n",
              "      <td>0.0</td>\n",
              "      <td>0.0</td>\n",
              "      <td>0.0</td>\n",
              "      <td>0.0</td>\n",
              "      <td>0</td>\n",
              "    </tr>\n",
              "  </tbody>\n",
              "</table>\n",
              "</div>"
            ],
            "text/plain": [
              "           city  surname  addr  phone  type  class\n",
              "id_1 id_2                                         \n",
              "2    1        1      1.0   1.0    1.0   0.0      1\n",
              "9    1        1      0.0   0.0    0.0   1.0      0\n",
              "     2        1      0.0   0.0    0.0   0.0      0\n",
              "10   1        1      0.0   0.0    0.0   0.0      0\n",
              "     2        1      0.0   0.0    0.0   0.0      0\n",
              "     9        1      1.0   1.0    1.0   0.0      1\n",
              "13   1        1      0.0   0.0    0.0   0.0      0\n",
              "     2        1      0.0   0.0    0.0   0.0      0\n",
              "     9        1      0.0   0.0    0.0   0.0      0\n",
              "     10       1      0.0   0.0    0.0   1.0      0\n",
              "14   1        1      0.0   0.0    0.0   0.0      0\n",
              "     2        1      0.0   0.0    0.0   0.0      0\n",
              "     9        1      0.0   0.0    0.0   0.0      0\n",
              "     10       1      0.0   0.0    0.0   1.0      0\n",
              "     13       1      1.0   1.0    1.0   1.0      1\n",
              "19   1        1      0.0   0.0    0.0   1.0      0\n",
              "     2        1      0.0   0.0    0.0   0.0      0\n",
              "     9        1      0.0   0.0    0.0   1.0      0\n",
              "     10       1      0.0   0.0    0.0   0.0      0\n",
              "     13       1      0.0   0.0    0.0   0.0      0"
            ]
          },
          "metadata": {
            "tags": []
          },
          "execution_count": 22
        }
      ]
    },
    {
      "cell_type": "code",
      "metadata": {
        "id": "KkOYtcvl5mU0"
      },
      "source": [
        "# train-test split\n",
        "from sklearn.model_selection import train_test_split\n",
        "train, test, train_labels, test_labels = train_test_split(join_feature_label.iloc[:, :-1], \n",
        "                                                          join_feature_label[\"class\"],\n",
        "                                                          test_size=0.3)"
      ],
      "execution_count": 23,
      "outputs": []
    },
    {
      "cell_type": "code",
      "metadata": {
        "id": "lmkLyjju5mU3"
      },
      "source": [
        "# find the indices in the train data which contain a true match\n",
        "train_matches_index = train.index & true_links.index"
      ],
      "execution_count": 24,
      "outputs": []
    },
    {
      "cell_type": "code",
      "metadata": {
        "colab": {
          "base_uri": "https://localhost:8080/"
        },
        "id": "Mco30Lzr5mU6",
        "outputId": "d1602751-28e5-4631-909f-5ed5bced81cb"
      },
      "source": [
        "train_matches_index"
      ],
      "execution_count": 25,
      "outputs": [
        {
          "output_type": "execute_result",
          "data": {
            "text/plain": [
              "MultiIndex([(204, 203),\n",
              "            (218, 217),\n",
              "            (142, 141),\n",
              "            (220, 219),\n",
              "            (150, 149),\n",
              "            (168, 167),\n",
              "            (  8,   7),\n",
              "            (166, 165),\n",
              "            (  4,   3),\n",
              "            (148, 147),\n",
              "            (196, 195),\n",
              "            (138, 137),\n",
              "            (216, 215),\n",
              "            (158, 157),\n",
              "            (114, 113),\n",
              "            (172, 171),\n",
              "            (136, 135),\n",
              "            (152, 151),\n",
              "            (224, 223),\n",
              "            (176, 175),\n",
              "            (206, 205),\n",
              "            ( 14,  13),\n",
              "            (222, 221),\n",
              "            ( 40,  39),\n",
              "            (194, 193),\n",
              "            (156, 155),\n",
              "            (144, 143),\n",
              "            ( 12,  11),\n",
              "            (170, 169),\n",
              "            (202, 201),\n",
              "            (184, 183),\n",
              "            (140, 139),\n",
              "            (174, 173),\n",
              "            ( 44,  43),\n",
              "            (162, 161),\n",
              "            (154, 153),\n",
              "            (210, 209),\n",
              "            (  2,   1),\n",
              "            ( 30,  29),\n",
              "            (164, 163),\n",
              "            (182, 181),\n",
              "            (160, 159),\n",
              "            (146, 145),\n",
              "            (190, 189),\n",
              "            (180, 179)],\n",
              "           )"
            ]
          },
          "metadata": {
            "tags": []
          },
          "execution_count": 25
        }
      ]
    },
    {
      "cell_type": "code",
      "metadata": {
        "id": "cbN_fUrC5mU9"
      },
      "source": [
        "# find the indices in the test data containing a true match\n",
        "test_matches_index = test.index & true_links.index"
      ],
      "execution_count": 26,
      "outputs": []
    },
    {
      "cell_type": "code",
      "metadata": {
        "id": "UQ9fQofG5mU_"
      },
      "source": [
        "_ = LR.fit_predict(train, train_matches_index)"
      ],
      "execution_count": 27,
      "outputs": []
    },
    {
      "cell_type": "code",
      "metadata": {
        "id": "cUe1fE-Q5mVB"
      },
      "source": [
        "LR_test_matches = LR.predict(test)"
      ],
      "execution_count": 28,
      "outputs": []
    },
    {
      "cell_type": "markdown",
      "metadata": {
        "id": "pLVUwWaW5mVG"
      },
      "source": [
        "##### precision and recall"
      ]
    },
    {
      "cell_type": "code",
      "metadata": {
        "colab": {
          "base_uri": "https://localhost:8080/"
        },
        "id": "XROhdyH15mVH",
        "outputId": "385531a9-8d84-4f6b-a9ab-da68d16ddef7"
      },
      "source": [
        "print(\"precision = \",recordlinkage.precision(test_matches_index, LR_test_matches))"
      ],
      "execution_count": 29,
      "outputs": [
        {
          "output_type": "stream",
          "text": [
            "precision =  0.9285714285714286\n"
          ],
          "name": "stdout"
        }
      ]
    },
    {
      "cell_type": "code",
      "metadata": {
        "colab": {
          "base_uri": "https://localhost:8080/"
        },
        "id": "O-dLeulH5mVM",
        "scrolled": true,
        "outputId": "1cf93e69-5042-45a9-c141-045a7825e0d3"
      },
      "source": [
        "print(\"recall = \", recordlinkage.recall(test_matches_index, LR_test_matches))"
      ],
      "execution_count": 30,
      "outputs": [
        {
          "output_type": "stream",
          "text": [
            "recall =  0.8666666666666667\n"
          ],
          "name": "stdout"
        }
      ]
    },
    {
      "cell_type": "code",
      "metadata": {
        "colab": {
          "base_uri": "https://localhost:8080/"
        },
        "id": "iJVjcYOh5mVO",
        "outputId": "cd508717-88a8-42b6-c342-d0d7b3ee36aa"
      },
      "source": [
        "print(\"F-score = \", recordlinkage.fscore(test_matches_index, LR_test_matches))"
      ],
      "execution_count": 31,
      "outputs": [
        {
          "output_type": "stream",
          "text": [
            "F-score =  0.896551724137931\n"
          ],
          "name": "stdout"
        }
      ]
    },
    {
      "cell_type": "markdown",
      "metadata": {
        "id": "HNrC-VzE5mVQ"
      },
      "source": [
        "We can observe a significant improvment in the supervised learning method compared to threshold based method."
      ]
    },
    {
      "cell_type": "markdown",
      "metadata": {
        "id": "QVtfcsFa5mVR"
      },
      "source": [
        "#### Unsupervised learning\n",
        "We can also use unsupervised methods to classify candidate pairs. Here we are going to use [KMeans](https://en.wikipedia.org/wiki/K-means_clustering). KMeans partiotions candidate record pairs into matches and non-matches. Each comparison vector belongs to the clustcer with the nearest mean. The algorithm is calibrated for two clusters: a match cluster and a non-match cluster). The centers of these clusters can be given as arguments or set automatically."
      ]
    },
    {
      "cell_type": "code",
      "metadata": {
        "id": "d76Adva15mVR"
      },
      "source": [
        "kmeans = recordlinkage.KMeansClassifier()"
      ],
      "execution_count": 32,
      "outputs": []
    },
    {
      "cell_type": "markdown",
      "metadata": {
        "id": "MG1cX9045mVU"
      },
      "source": [
        "let's use the same train and test set as we used for logistic regression. Note that here there is no training involved and we are doing the splitting to see how does our model perform in case of new data coming in."
      ]
    },
    {
      "cell_type": "code",
      "metadata": {
        "id": "LCCUpiAX5mVV"
      },
      "source": [
        "kmeans.fit_predict(train)\n",
        "\n",
        "kmeans_test_matches = kmeans.predict(test)"
      ],
      "execution_count": 33,
      "outputs": []
    },
    {
      "cell_type": "markdown",
      "metadata": {
        "id": "9FwUouhm5mVY"
      },
      "source": [
        "##### precision and recall"
      ]
    },
    {
      "cell_type": "code",
      "metadata": {
        "colab": {
          "base_uri": "https://localhost:8080/"
        },
        "id": "IKrdP09F5mVY",
        "outputId": "1f46d64e-0dd3-4017-b6c1-6d6fd690ed79"
      },
      "source": [
        "print(\"precision = \",recordlinkage.precision(test_matches_index, kmeans_test_matches))"
      ],
      "execution_count": 34,
      "outputs": [
        {
          "output_type": "stream",
          "text": [
            "precision =  0.42857142857142855\n"
          ],
          "name": "stdout"
        }
      ]
    },
    {
      "cell_type": "code",
      "metadata": {
        "colab": {
          "base_uri": "https://localhost:8080/"
        },
        "id": "p3jkny8B5mVb",
        "scrolled": true,
        "outputId": "c574b549-7540-4fad-89c5-a891ab4d9679"
      },
      "source": [
        "print(\"recall = \", recordlinkage.recall(test_matches_index, kmeans_test_matches))"
      ],
      "execution_count": 35,
      "outputs": [
        {
          "output_type": "stream",
          "text": [
            "recall =  1.0\n"
          ],
          "name": "stdout"
        }
      ]
    },
    {
      "cell_type": "code",
      "metadata": {
        "colab": {
          "base_uri": "https://localhost:8080/"
        },
        "id": "jvfnwKtz5mVd",
        "outputId": "d602301e-302b-4b94-9905-ea4d19c8944d"
      },
      "source": [
        "print(\"F-score = \", recordlinkage.fscore(test_matches_index, kmeans_test_matches))"
      ],
      "execution_count": 36,
      "outputs": [
        {
          "output_type": "stream",
          "text": [
            "F-score =  0.6\n"
          ],
          "name": "stdout"
        }
      ]
    },
    {
      "cell_type": "code",
      "metadata": {
        "id": "0m-wgiZ95mVh"
      },
      "source": [
        ""
      ],
      "execution_count": null,
      "outputs": []
    },
    {
      "cell_type": "code",
      "metadata": {
        "id": "i0FhT91zbS4e"
      },
      "source": [
        ""
      ],
      "execution_count": null,
      "outputs": []
    }
  ]
}
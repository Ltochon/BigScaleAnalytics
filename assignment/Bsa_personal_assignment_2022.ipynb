{
  "nbformat": 4,
  "nbformat_minor": 0,
  "metadata": {
    "colab": {
      "name": "Bsa_personal_assignment_2022.ipynb",
      "provenance": [],
      "collapsed_sections": [],
      "include_colab_link": true
    },
    "kernelspec": {
      "display_name": "Python 3",
      "language": "python",
      "name": "python3"
    },
    "language_info": {
      "codemirror_mode": {
        "name": "ipython",
        "version": 3
      },
      "file_extension": ".py",
      "mimetype": "text/x-python",
      "name": "python",
      "nbconvert_exporter": "python",
      "pygments_lexer": "ipython3",
      "version": "3.8.5"
    }
  },
  "cells": [
    {
      "cell_type": "markdown",
      "metadata": {
        "id": "view-in-github",
        "colab_type": "text"
      },
      "source": [
        "<a href=\"https://colab.research.google.com/github/michalis0/BigScaleAnalytics/blob/master/assignment/Bsa_personal_assignment_2022.ipynb\" target=\"_parent\"><img src=\"https://colab.research.google.com/assets/colab-badge.svg\" alt=\"Open In Colab\"/></a>"
      ]
    },
    {
      "cell_type": "markdown",
      "metadata": {
        "id": "PmkVT35O1nNa"
      },
      "source": [
        "<h1><b><center>Big Scale Analytics: Personal Assignment 2022</center></b></h1>"
      ]
    },
    {
      "cell_type": "markdown",
      "source": [
        "-----\n"
      ],
      "metadata": {
        "id": "g1fFElSXR8Nq"
      }
    },
    {
      "cell_type": "markdown",
      "metadata": {
        "id": "e-DHFSHrY9iq"
      },
      "source": [
        "**Contents**: the assignment covers four parts: 1. BigQuery, 2. Association rules, 3. Recommender Systems, 4. Elasticsearch.\n",
        "\n",
        "**Due: Sunday April 10, 23.59pm** <u>(notebook + quiz)</u>\n",
        "\n",
        "**Clarifications**: You can post your questions in slack channel #assignments. If necessary we will update the notebook accordingly (so make sure to check for updates on GitHub). \n",
        "\n",
        "**Grading**: The personal assignment is worth **30%** of your final grade. For your work to be graded, you must:\n",
        "\n",
        "* Upload your completed notebook on [Moodle](https://moodle.unil.ch/mod/assign/view.php?id=1264173)\n",
        "* Answer all questions in this [Moodle quiz](https://moodle.unil.ch/mod/quiz/view.php?id=1264176). We will check that your quiz answers reflect the responses provided in the notebook. \n",
        "\n",
        ">Note: You can only complete the quiz one time. Have your notebook with the answers ready for answering the quiz. \n",
        "\n",
        "**Personal work**: Note that this assignment represents strictly *personal* work. Do not share it with your colleagues. Just do as much as you can on your own. Your code will be compared to that your colleagues. In case of statistically high similarity, you will receive a grade of zero.\n",
        "\n",
        "**IMPORTANT**: In week 4, we will introduce ElasticSearch. Because your trial account will be limited to 14 days, we strongly advise you to start and finish Part Elastic Search before your account expires).\n",
        "\n",
        "Good Luck and Enjoy ☀"
      ]
    },
    {
      "cell_type": "markdown",
      "source": [
        "----"
      ],
      "metadata": {
        "id": "31btwhqATcrz"
      }
    },
    {
      "cell_type": "markdown",
      "metadata": {
        "id": "rvOHSnXdY9iq"
      },
      "source": [
        "## Part 1: SQL in BigQuery"
      ]
    },
    {
      "cell_type": "markdown",
      "metadata": {
        "id": "tpg4tcTjq1_6"
      },
      "source": [
        "In this first part, you will explore a dataset using Google BigQuery. Similar to week 2, you will connect to BigQuery, upload the data and access it in the notebook. Your job is to write SQL queries to answer the questions below. \n",
        "\n",
        "The dataset is provided for you in the data folder: the `ratings.csv` and `movies.csv` files from the MovieLens 20M dataset."
      ]
    },
    {
      "cell_type": "markdown",
      "metadata": {
        "id": "MfXvOJrjY9ir"
      },
      "source": [
        "**Connecting to BigQuery**"
      ]
    },
    {
      "cell_type": "markdown",
      "metadata": {
        "id": "MB1ccWLwSmKu"
      },
      "source": [
        "To make things easier, we advise you to work in **Google Colab**. "
      ]
    },
    {
      "cell_type": "markdown",
      "metadata": {
        "id": "GeCjbzxCY9ir"
      },
      "source": [
        "**For Google Colab users**"
      ]
    },
    {
      "cell_type": "code",
      "metadata": {
        "id": "emQhVqFdq2AC",
        "colab": {
          "base_uri": "https://localhost:8080/"
        },
        "outputId": "9e89eb75-8bfa-47e6-9600-d44a976d8ac3"
      },
      "source": [
        "from google.colab import auth\n",
        "\n",
        "auth.authenticate_user()\n",
        "print(\"Authenticated\")"
      ],
      "execution_count": null,
      "outputs": [
        {
          "output_type": "stream",
          "name": "stdout",
          "text": [
            "Authenticated\n"
          ]
        }
      ]
    },
    {
      "cell_type": "markdown",
      "metadata": {
        "id": "QhtqL9mdY9ir"
      },
      "source": [
        "**For Jupyter users**"
      ]
    },
    {
      "cell_type": "markdown",
      "metadata": {
        "id": "3gFEccBSY9is"
      },
      "source": [
        "Make sure to replace \"PATH_TO_CREDENTIALS_FILE\" with the *absolute* path to the JSON service account key, e.g., \"C:/Users/John/credentials.json\"."
      ]
    },
    {
      "cell_type": "code",
      "metadata": {
        "id": "BzAdG_7pY9is"
      },
      "source": [
        "!pip install google-cloud-bigquery"
      ],
      "execution_count": null,
      "outputs": []
    },
    {
      "cell_type": "code",
      "metadata": {
        "id": "iDLONpfDY9is"
      },
      "source": [
        "import os\n",
        "\n",
        "os.environ[\"GOOGLE_APPLICATION_CREDENTIALS\"] = \"PATH_TO_CREDENTIALS_FILE\""
      ],
      "execution_count": null,
      "outputs": []
    },
    {
      "cell_type": "markdown",
      "metadata": {
        "id": "kcHpgyVdY9is"
      },
      "source": [
        "**Everyone**"
      ]
    },
    {
      "cell_type": "markdown",
      "metadata": {
        "id": "AVYO5iB5Y9is"
      },
      "source": [
        "Make sure to replace \"YOUR-PROJECT-ID\" with the ID of one of your Google Cloud projects, where you upload the data from the dats folder of the assignment."
      ]
    },
    {
      "cell_type": "code",
      "source": [
        "import pandas as pd\n",
        "from google.cloud import bigquery\n",
        "\n",
        "# Create a \"Client\" object\n",
        "client = bigquery.Client(project=\"YOUR-PROJECT-ID\")"
      ],
      "metadata": {
        "id": "XgHWFbEGYDdU"
      },
      "execution_count": null,
      "outputs": []
    },
    {
      "cell_type": "markdown",
      "metadata": {
        "id": "JTJpI9JLq2AE"
      },
      "source": [
        "**The Dataset: Movie Lens 20M**\n",
        "![movie_lens](https://bobliu.io/assets/img/homepage.13c535eb.jpg)\n",
        "\n",
        "[The movie lens 20M dataset](https://grouplens.org/datasets/movielens/20m/) contains people's expressed preferences (ratings) for movies. These preferences, 20 million of them, were entered through the Movielens website - a recommender-system based business that asks its users to rate movies in order to receive personalized recommendations. No demographic information is included in the dataset. Each user is represented by an id, and no other information is provided.\n",
        "\n",
        "We use the same dataset in week 6 of the lab for the introduction to recommender systems. To reduce the size of the ratings file, the original 20 million ratings dataset was trucated to some 40'000 ratings.\n",
        "\n",
        "The **ratings** table provides information on the actual ratings, user id's and movie id.\n",
        "\n",
        "The **movies** table provides more information on the movies themselves, movied ID, title, genres.\n",
        "\n",
        "You can see below a preview of the two tables.\n",
        "\n",
        "\n",
        "**Caution**: Do not forget that each user receives 1 TB of free data processing every month in BigQuery, which can be used to run queries on any dataset. Given the size of this dataset, performing a lot of queries can result in exceeding your free monthly quota. Therefore, you should try to avoid queries that have a big output. Always remember to use the **LIMIT** keyword (especially if you are not sure about the output of your query) to limit the size of the output."
      ]
    },
    {
      "cell_type": "markdown",
      "metadata": {
        "id": "fmza3PkM1Q_9"
      },
      "source": [
        "The code below allows us to fetch and display the **schema** of the `movies` table in the movielens20M dataset."
      ]
    },
    {
      "cell_type": "code",
      "source": [
        "# Create a reference to the dataset\n",
        "movielens_ref = client.dataset(\"the name you gave your dataset in GCP\", project=\"YOUR-PROJECT-ID\")\n",
        "\n",
        "# API request - fetch the dataset\n",
        "movielens_dataset = client.get_dataset(movielens_ref)\n",
        "\n",
        "# Create a reference to the \"movies\" table\n",
        "movies_ref = movielens_ref.table(\"movies\")\n",
        "\n",
        "# Fetch the table (API request)\n",
        "movies_table = client.get_table(movies_ref)\n",
        "\n",
        "# Display schema\n",
        "movies_table.schema"
      ],
      "metadata": {
        "id": "l5PSjAQ_QQpv"
      },
      "execution_count": null,
      "outputs": []
    },
    {
      "cell_type": "code",
      "source": [
        "# List the tables in the dataset\n",
        "tables = list(client.list_tables(movielens_dataset))\n",
        "for table in tables:  \n",
        "    print(table.table_id)"
      ],
      "metadata": {
        "id": "O1gP7L9laisS",
        "colab": {
          "base_uri": "https://localhost:8080/"
        },
        "outputId": "4e6ed12b-f140-4d53-fee4-0232dfdf69fc"
      },
      "execution_count": null,
      "outputs": [
        {
          "output_type": "stream",
          "name": "stdout",
          "text": [
            "movies\n",
            "ratings\n"
          ]
        }
      ]
    },
    {
      "cell_type": "markdown",
      "source": [
        "Showing a preview of the movies table using pandas."
      ],
      "metadata": {
        "id": "4RYX10iVHx2b"
      }
    },
    {
      "cell_type": "code",
      "source": [
        "client.list_rows(movies_table, max_results=5).to_dataframe()"
      ],
      "metadata": {
        "id": "MvjW_FMXarV1",
        "colab": {
          "base_uri": "https://localhost:8080/",
          "height": 206
        },
        "outputId": "bb09b8f6-c4cb-4e40-f233-ae7f8da6e354"
      },
      "execution_count": null,
      "outputs": [
        {
          "output_type": "execute_result",
          "data": {
            "text/html": [
              "\n",
              "  <div id=\"df-075713ef-762d-403a-b0f3-2c2c64099cbe\">\n",
              "    <div class=\"colab-df-container\">\n",
              "      <div>\n",
              "<style scoped>\n",
              "    .dataframe tbody tr th:only-of-type {\n",
              "        vertical-align: middle;\n",
              "    }\n",
              "\n",
              "    .dataframe tbody tr th {\n",
              "        vertical-align: top;\n",
              "    }\n",
              "\n",
              "    .dataframe thead th {\n",
              "        text-align: right;\n",
              "    }\n",
              "</style>\n",
              "<table border=\"1\" class=\"dataframe\">\n",
              "  <thead>\n",
              "    <tr style=\"text-align: right;\">\n",
              "      <th></th>\n",
              "      <th>movieId</th>\n",
              "      <th>title</th>\n",
              "      <th>genres</th>\n",
              "    </tr>\n",
              "  </thead>\n",
              "  <tbody>\n",
              "    <tr>\n",
              "      <th>0</th>\n",
              "      <td>777</td>\n",
              "      <td>Pharaoh's Army (1995)</td>\n",
              "      <td>War</td>\n",
              "    </tr>\n",
              "    <tr>\n",
              "      <th>1</th>\n",
              "      <td>966</td>\n",
              "      <td>Walk in the Sun, A (1945)</td>\n",
              "      <td>War</td>\n",
              "    </tr>\n",
              "    <tr>\n",
              "      <th>2</th>\n",
              "      <td>1450</td>\n",
              "      <td>Prisoner of the Mountains (Kavkazsky plennik) ...</td>\n",
              "      <td>War</td>\n",
              "    </tr>\n",
              "    <tr>\n",
              "      <th>3</th>\n",
              "      <td>2669</td>\n",
              "      <td>Pork Chop Hill (1959)</td>\n",
              "      <td>War</td>\n",
              "    </tr>\n",
              "    <tr>\n",
              "      <th>4</th>\n",
              "      <td>2670</td>\n",
              "      <td>Run Silent Run Deep (1958)</td>\n",
              "      <td>War</td>\n",
              "    </tr>\n",
              "  </tbody>\n",
              "</table>\n",
              "</div>\n",
              "      <button class=\"colab-df-convert\" onclick=\"convertToInteractive('df-075713ef-762d-403a-b0f3-2c2c64099cbe')\"\n",
              "              title=\"Convert this dataframe to an interactive table.\"\n",
              "              style=\"display:none;\">\n",
              "        \n",
              "  <svg xmlns=\"http://www.w3.org/2000/svg\" height=\"24px\"viewBox=\"0 0 24 24\"\n",
              "       width=\"24px\">\n",
              "    <path d=\"M0 0h24v24H0V0z\" fill=\"none\"/>\n",
              "    <path d=\"M18.56 5.44l.94 2.06.94-2.06 2.06-.94-2.06-.94-.94-2.06-.94 2.06-2.06.94zm-11 1L8.5 8.5l.94-2.06 2.06-.94-2.06-.94L8.5 2.5l-.94 2.06-2.06.94zm10 10l.94 2.06.94-2.06 2.06-.94-2.06-.94-.94-2.06-.94 2.06-2.06.94z\"/><path d=\"M17.41 7.96l-1.37-1.37c-.4-.4-.92-.59-1.43-.59-.52 0-1.04.2-1.43.59L10.3 9.45l-7.72 7.72c-.78.78-.78 2.05 0 2.83L4 21.41c.39.39.9.59 1.41.59.51 0 1.02-.2 1.41-.59l7.78-7.78 2.81-2.81c.8-.78.8-2.07 0-2.86zM5.41 20L4 18.59l7.72-7.72 1.47 1.35L5.41 20z\"/>\n",
              "  </svg>\n",
              "      </button>\n",
              "      \n",
              "  <style>\n",
              "    .colab-df-container {\n",
              "      display:flex;\n",
              "      flex-wrap:wrap;\n",
              "      gap: 12px;\n",
              "    }\n",
              "\n",
              "    .colab-df-convert {\n",
              "      background-color: #E8F0FE;\n",
              "      border: none;\n",
              "      border-radius: 50%;\n",
              "      cursor: pointer;\n",
              "      display: none;\n",
              "      fill: #1967D2;\n",
              "      height: 32px;\n",
              "      padding: 0 0 0 0;\n",
              "      width: 32px;\n",
              "    }\n",
              "\n",
              "    .colab-df-convert:hover {\n",
              "      background-color: #E2EBFA;\n",
              "      box-shadow: 0px 1px 2px rgba(60, 64, 67, 0.3), 0px 1px 3px 1px rgba(60, 64, 67, 0.15);\n",
              "      fill: #174EA6;\n",
              "    }\n",
              "\n",
              "    [theme=dark] .colab-df-convert {\n",
              "      background-color: #3B4455;\n",
              "      fill: #D2E3FC;\n",
              "    }\n",
              "\n",
              "    [theme=dark] .colab-df-convert:hover {\n",
              "      background-color: #434B5C;\n",
              "      box-shadow: 0px 1px 3px 1px rgba(0, 0, 0, 0.15);\n",
              "      filter: drop-shadow(0px 1px 2px rgba(0, 0, 0, 0.3));\n",
              "      fill: #FFFFFF;\n",
              "    }\n",
              "  </style>\n",
              "\n",
              "      <script>\n",
              "        const buttonEl =\n",
              "          document.querySelector('#df-075713ef-762d-403a-b0f3-2c2c64099cbe button.colab-df-convert');\n",
              "        buttonEl.style.display =\n",
              "          google.colab.kernel.accessAllowed ? 'block' : 'none';\n",
              "\n",
              "        async function convertToInteractive(key) {\n",
              "          const element = document.querySelector('#df-075713ef-762d-403a-b0f3-2c2c64099cbe');\n",
              "          const dataTable =\n",
              "            await google.colab.kernel.invokeFunction('convertToInteractive',\n",
              "                                                     [key], {});\n",
              "          if (!dataTable) return;\n",
              "\n",
              "          const docLinkHtml = 'Like what you see? Visit the ' +\n",
              "            '<a target=\"_blank\" href=https://colab.research.google.com/notebooks/data_table.ipynb>data table notebook</a>'\n",
              "            + ' to learn more about interactive tables.';\n",
              "          element.innerHTML = '';\n",
              "          dataTable['output_type'] = 'display_data';\n",
              "          await google.colab.output.renderOutput(dataTable, element);\n",
              "          const docLink = document.createElement('div');\n",
              "          docLink.innerHTML = docLinkHtml;\n",
              "          element.appendChild(docLink);\n",
              "        }\n",
              "      </script>\n",
              "    </div>\n",
              "  </div>\n",
              "  "
            ],
            "text/plain": [
              "   movieId                                              title genres\n",
              "0      777                              Pharaoh's Army (1995)    War\n",
              "1      966                          Walk in the Sun, A (1945)    War\n",
              "2     1450  Prisoner of the Mountains (Kavkazsky plennik) ...    War\n",
              "3     2669                              Pork Chop Hill (1959)    War\n",
              "4     2670                         Run Silent Run Deep (1958)    War"
            ]
          },
          "metadata": {},
          "execution_count": 5
        }
      ]
    },
    {
      "cell_type": "markdown",
      "source": [
        "Do the same for the ratings table."
      ],
      "metadata": {
        "id": "uEgip3wuH6c1"
      }
    },
    {
      "cell_type": "code",
      "source": [
        "# Create a reference to the \"ratings\" table\n",
        "ratings_ref = movielens_ref.table(\"ratings\")\n",
        "\n",
        "# Fetch the table (API request)\n",
        "ratings_table = client.get_table(ratings_ref)\n",
        "\n",
        "# Display schema\n",
        "ratings_table.schema"
      ],
      "metadata": {
        "id": "HwE3OGqNb-eU",
        "colab": {
          "base_uri": "https://localhost:8080/"
        },
        "outputId": "93373373-748d-444c-f78d-2bbcce4196b7"
      },
      "execution_count": null,
      "outputs": [
        {
          "output_type": "execute_result",
          "data": {
            "text/plain": [
              "[SchemaField('userId', 'INTEGER', 'NULLABLE', None, ()),\n",
              " SchemaField('movieId', 'INTEGER', 'NULLABLE', None, ()),\n",
              " SchemaField('rating', 'FLOAT', 'NULLABLE', None, ()),\n",
              " SchemaField('timestamp', 'INTEGER', 'NULLABLE', None, ())]"
            ]
          },
          "metadata": {},
          "execution_count": 6
        }
      ]
    },
    {
      "cell_type": "code",
      "source": [
        "#Show a preview of the \"ratings\" table using pandas\n",
        "client.list_rows(ratings_table, max_results=5).to_dataframe()"
      ],
      "metadata": {
        "id": "ZkTsX-B8ceFr",
        "colab": {
          "base_uri": "https://localhost:8080/",
          "height": 206
        },
        "outputId": "c9f0fece-6553-43d4-c0a6-1b25a124c964"
      },
      "execution_count": null,
      "outputs": [
        {
          "output_type": "execute_result",
          "data": {
            "text/html": [
              "\n",
              "  <div id=\"df-9e92dc43-fac3-4d49-bacf-94b9d944fed3\">\n",
              "    <div class=\"colab-df-container\">\n",
              "      <div>\n",
              "<style scoped>\n",
              "    .dataframe tbody tr th:only-of-type {\n",
              "        vertical-align: middle;\n",
              "    }\n",
              "\n",
              "    .dataframe tbody tr th {\n",
              "        vertical-align: top;\n",
              "    }\n",
              "\n",
              "    .dataframe thead th {\n",
              "        text-align: right;\n",
              "    }\n",
              "</style>\n",
              "<table border=\"1\" class=\"dataframe\">\n",
              "  <thead>\n",
              "    <tr style=\"text-align: right;\">\n",
              "      <th></th>\n",
              "      <th>userId</th>\n",
              "      <th>movieId</th>\n",
              "      <th>rating</th>\n",
              "      <th>timestamp</th>\n",
              "    </tr>\n",
              "  </thead>\n",
              "  <tbody>\n",
              "    <tr>\n",
              "      <th>0</th>\n",
              "      <td>2</td>\n",
              "      <td>891</td>\n",
              "      <td>2.0</td>\n",
              "      <td>974820969</td>\n",
              "    </tr>\n",
              "    <tr>\n",
              "      <th>1</th>\n",
              "      <td>2</td>\n",
              "      <td>1969</td>\n",
              "      <td>2.0</td>\n",
              "      <td>974820969</td>\n",
              "    </tr>\n",
              "    <tr>\n",
              "      <th>2</th>\n",
              "      <td>2</td>\n",
              "      <td>1970</td>\n",
              "      <td>2.0</td>\n",
              "      <td>974820969</td>\n",
              "    </tr>\n",
              "    <tr>\n",
              "      <th>3</th>\n",
              "      <td>2</td>\n",
              "      <td>1971</td>\n",
              "      <td>2.0</td>\n",
              "      <td>974820943</td>\n",
              "    </tr>\n",
              "    <tr>\n",
              "      <th>4</th>\n",
              "      <td>2</td>\n",
              "      <td>1972</td>\n",
              "      <td>2.0</td>\n",
              "      <td>974820969</td>\n",
              "    </tr>\n",
              "  </tbody>\n",
              "</table>\n",
              "</div>\n",
              "      <button class=\"colab-df-convert\" onclick=\"convertToInteractive('df-9e92dc43-fac3-4d49-bacf-94b9d944fed3')\"\n",
              "              title=\"Convert this dataframe to an interactive table.\"\n",
              "              style=\"display:none;\">\n",
              "        \n",
              "  <svg xmlns=\"http://www.w3.org/2000/svg\" height=\"24px\"viewBox=\"0 0 24 24\"\n",
              "       width=\"24px\">\n",
              "    <path d=\"M0 0h24v24H0V0z\" fill=\"none\"/>\n",
              "    <path d=\"M18.56 5.44l.94 2.06.94-2.06 2.06-.94-2.06-.94-.94-2.06-.94 2.06-2.06.94zm-11 1L8.5 8.5l.94-2.06 2.06-.94-2.06-.94L8.5 2.5l-.94 2.06-2.06.94zm10 10l.94 2.06.94-2.06 2.06-.94-2.06-.94-.94-2.06-.94 2.06-2.06.94z\"/><path d=\"M17.41 7.96l-1.37-1.37c-.4-.4-.92-.59-1.43-.59-.52 0-1.04.2-1.43.59L10.3 9.45l-7.72 7.72c-.78.78-.78 2.05 0 2.83L4 21.41c.39.39.9.59 1.41.59.51 0 1.02-.2 1.41-.59l7.78-7.78 2.81-2.81c.8-.78.8-2.07 0-2.86zM5.41 20L4 18.59l7.72-7.72 1.47 1.35L5.41 20z\"/>\n",
              "  </svg>\n",
              "      </button>\n",
              "      \n",
              "  <style>\n",
              "    .colab-df-container {\n",
              "      display:flex;\n",
              "      flex-wrap:wrap;\n",
              "      gap: 12px;\n",
              "    }\n",
              "\n",
              "    .colab-df-convert {\n",
              "      background-color: #E8F0FE;\n",
              "      border: none;\n",
              "      border-radius: 50%;\n",
              "      cursor: pointer;\n",
              "      display: none;\n",
              "      fill: #1967D2;\n",
              "      height: 32px;\n",
              "      padding: 0 0 0 0;\n",
              "      width: 32px;\n",
              "    }\n",
              "\n",
              "    .colab-df-convert:hover {\n",
              "      background-color: #E2EBFA;\n",
              "      box-shadow: 0px 1px 2px rgba(60, 64, 67, 0.3), 0px 1px 3px 1px rgba(60, 64, 67, 0.15);\n",
              "      fill: #174EA6;\n",
              "    }\n",
              "\n",
              "    [theme=dark] .colab-df-convert {\n",
              "      background-color: #3B4455;\n",
              "      fill: #D2E3FC;\n",
              "    }\n",
              "\n",
              "    [theme=dark] .colab-df-convert:hover {\n",
              "      background-color: #434B5C;\n",
              "      box-shadow: 0px 1px 3px 1px rgba(0, 0, 0, 0.15);\n",
              "      filter: drop-shadow(0px 1px 2px rgba(0, 0, 0, 0.3));\n",
              "      fill: #FFFFFF;\n",
              "    }\n",
              "  </style>\n",
              "\n",
              "      <script>\n",
              "        const buttonEl =\n",
              "          document.querySelector('#df-9e92dc43-fac3-4d49-bacf-94b9d944fed3 button.colab-df-convert');\n",
              "        buttonEl.style.display =\n",
              "          google.colab.kernel.accessAllowed ? 'block' : 'none';\n",
              "\n",
              "        async function convertToInteractive(key) {\n",
              "          const element = document.querySelector('#df-9e92dc43-fac3-4d49-bacf-94b9d944fed3');\n",
              "          const dataTable =\n",
              "            await google.colab.kernel.invokeFunction('convertToInteractive',\n",
              "                                                     [key], {});\n",
              "          if (!dataTable) return;\n",
              "\n",
              "          const docLinkHtml = 'Like what you see? Visit the ' +\n",
              "            '<a target=\"_blank\" href=https://colab.research.google.com/notebooks/data_table.ipynb>data table notebook</a>'\n",
              "            + ' to learn more about interactive tables.';\n",
              "          element.innerHTML = '';\n",
              "          dataTable['output_type'] = 'display_data';\n",
              "          await google.colab.output.renderOutput(dataTable, element);\n",
              "          const docLink = document.createElement('div');\n",
              "          docLink.innerHTML = docLinkHtml;\n",
              "          element.appendChild(docLink);\n",
              "        }\n",
              "      </script>\n",
              "    </div>\n",
              "  </div>\n",
              "  "
            ],
            "text/plain": [
              "   userId  movieId  rating  timestamp\n",
              "0       2      891     2.0  974820969\n",
              "1       2     1969     2.0  974820969\n",
              "2       2     1970     2.0  974820969\n",
              "3       2     1971     2.0  974820943\n",
              "4       2     1972     2.0  974820969"
            ]
          },
          "metadata": {},
          "execution_count": 7
        }
      ]
    },
    {
      "cell_type": "markdown",
      "source": [
        "### Question 1. What is the most common rating for films in the dataset ?\n",
        "**Hint:** list the ratings and the number of films which received each rating."
      ],
      "metadata": {
        "id": "6DIVOMo2vSam"
      }
    },
    {
      "cell_type": "code",
      "source": [
        "# YOUR CODE HERE"
      ],
      "metadata": {
        "id": "c27nnyOXInwB"
      },
      "execution_count": null,
      "outputs": []
    },
    {
      "cell_type": "markdown",
      "source": [
        "### Question 2. Find the title of the Comedy, with more than 1000 reviews, that received the highest average rating\n",
        "\n",
        "**Hint**: For this question you will need to join the `ratings` and the `movies` tables. List the title, number of ratings, average rating. Look at movies which include `Comedy` in their genres description. Group by title (not by movieID)."
      ],
      "metadata": {
        "id": "D4cY-7rGwL7Z"
      }
    },
    {
      "cell_type": "code",
      "source": [
        "# YOUR CODE HERE"
      ],
      "metadata": {
        "id": "WTUrptTvIpku"
      },
      "execution_count": null,
      "outputs": []
    },
    {
      "cell_type": "markdown",
      "source": [
        "### Question 3. Which user (userID) rated most romance films according to the available dataset and what was the average score he or she gave to all the romance films reviewed?\n",
        "\n",
        "**Hint**: For this question you will need to join the ratings and the movies tables. List the userID, number of ratings of romance films, average rating of the romance films. Look at movies which include Romance in their genres description. "
      ],
      "metadata": {
        "id": "j4J2nx361YmM"
      }
    },
    {
      "cell_type": "code",
      "source": [
        "# YOUR CODE HERE"
      ],
      "metadata": {
        "id": "kjorAQkaIrZG"
      },
      "execution_count": null,
      "outputs": []
    },
    {
      "cell_type": "markdown",
      "source": [
        "### Question 4.  Looking at the movies table in the available dataset, find the year in which most drama films were made.\n",
        "\n",
        "**Hint:** You can find the year when a film was made at the end of most title strings, as for example in 'Waiting for Guffman (1996)', 1996 is the year shown in parenthesis at the end of the string, for most films. You can ignore the ones for which the information is not available in the title. You can use the REGEXP_EXTRACT function from the [Big Query reference documentation for string functions](https://cloud.google.com/bigquery/docs) to extract the year. A useful condition is related to the `genres` column of the table which should contain \"Drama\". Additonal hint: you can test your regex expression with the help of https://regex101.com/."
      ],
      "metadata": {
        "id": "N4nx-XFCu_1e"
      }
    },
    {
      "cell_type": "code",
      "source": [
        "# YOUR CODE HERE"
      ],
      "metadata": {
        "id": "xi5iWVebIs8I"
      },
      "execution_count": null,
      "outputs": []
    },
    {
      "cell_type": "markdown",
      "source": [
        "-----"
      ],
      "metadata": {
        "id": "T2xU_7d4TkeR"
      }
    },
    {
      "cell_type": "markdown",
      "metadata": {
        "id": "5TdKGkX4Y9iw"
      },
      "source": [
        "# Part 2: Association rules"
      ]
    },
    {
      "cell_type": "markdown",
      "metadata": {
        "id": "urQY1N-9Y9iw"
      },
      "source": [
        "In this second part, you will search for matches between film genres using the `mlxtend` Python module that we saw in week 5, by looking at the `movies.csv` dataset from the data folder of the assignment. Just to give an example: Drama and Action - how likely is it that a film from the dataset is both drama and action. This information can be interesting for film producers who may either want to produce something similar to the established norm: if most drama films are also action, perhaps the new action-drama film would be equally appreciated, or quite to the contrary try a new combination of genres which is more rare to find."
      ]
    },
    {
      "cell_type": "markdown",
      "metadata": {
        "id": "k2DxEVwGY9iw"
      },
      "source": [
        "**Install required modules**"
      ]
    },
    {
      "cell_type": "code",
      "source": [
        "!pip install mlxtend"
      ],
      "metadata": {
        "id": "7boceNvVymCH"
      },
      "execution_count": null,
      "outputs": []
    },
    {
      "cell_type": "markdown",
      "source": [
        "Import the required packages and read in the data: the `assoc_rules_movies.csv` file from the data folder of the assignment. This is a modified version of the `movies.csv` file, to focus on the genre of each movie. \n",
        "\n",
        "Each row represents a movie. The values in each row list the genres to which a movie belongs. In this dataset a movie belonged to a maximum of 10 genres. If a movie belongs to only 2 genres, say Drama and Action, the first column contains the first genre (Drama), the second contains the second genre (Action), and the following columns are filled with missing values. You do not need to do any data cleaning."
      ],
      "metadata": {
        "id": "hgSiWo4YIqIW"
      }
    },
    {
      "cell_type": "code",
      "source": [
        "import pandas as pd\n",
        "import numpy as np\n",
        "from mlxtend.preprocessing import TransactionEncoder\n",
        "from mlxtend.frequent_patterns import apriori, association_rules\n",
        "\n",
        "data = pd.read_csv(\"https://raw.githubusercontent.com/michalis0/BigScaleAnalytics/master/assignment/data/assoc_rules_movies.csv\")\n",
        "data.head()"
      ],
      "metadata": {
        "colab": {
          "base_uri": "https://localhost:8080/",
          "height": 206
        },
        "id": "FHT8cRnOzOOd",
        "outputId": "7d71f683-8590-49e9-e24b-109d429815f9"
      },
      "execution_count": null,
      "outputs": [
        {
          "output_type": "execute_result",
          "data": {
            "text/html": [
              "\n",
              "  <div id=\"df-0187772b-5af7-4ce1-8e9c-178fddd0761b\">\n",
              "    <div class=\"colab-df-container\">\n",
              "      <div>\n",
              "<style scoped>\n",
              "    .dataframe tbody tr th:only-of-type {\n",
              "        vertical-align: middle;\n",
              "    }\n",
              "\n",
              "    .dataframe tbody tr th {\n",
              "        vertical-align: top;\n",
              "    }\n",
              "\n",
              "    .dataframe thead th {\n",
              "        text-align: right;\n",
              "    }\n",
              "</style>\n",
              "<table border=\"1\" class=\"dataframe\">\n",
              "  <thead>\n",
              "    <tr style=\"text-align: right;\">\n",
              "      <th></th>\n",
              "      <th>0</th>\n",
              "      <th>1</th>\n",
              "      <th>2</th>\n",
              "      <th>3</th>\n",
              "      <th>4</th>\n",
              "      <th>5</th>\n",
              "      <th>6</th>\n",
              "      <th>7</th>\n",
              "      <th>8</th>\n",
              "      <th>9</th>\n",
              "    </tr>\n",
              "  </thead>\n",
              "  <tbody>\n",
              "    <tr>\n",
              "      <th>0</th>\n",
              "      <td>Adventure</td>\n",
              "      <td>Animation</td>\n",
              "      <td>Children</td>\n",
              "      <td>Comedy</td>\n",
              "      <td>Fantasy</td>\n",
              "      <td>NaN</td>\n",
              "      <td>NaN</td>\n",
              "      <td>NaN</td>\n",
              "      <td>NaN</td>\n",
              "      <td>NaN</td>\n",
              "    </tr>\n",
              "    <tr>\n",
              "      <th>1</th>\n",
              "      <td>Adventure</td>\n",
              "      <td>Children</td>\n",
              "      <td>Fantasy</td>\n",
              "      <td>NaN</td>\n",
              "      <td>NaN</td>\n",
              "      <td>NaN</td>\n",
              "      <td>NaN</td>\n",
              "      <td>NaN</td>\n",
              "      <td>NaN</td>\n",
              "      <td>NaN</td>\n",
              "    </tr>\n",
              "    <tr>\n",
              "      <th>2</th>\n",
              "      <td>Comedy</td>\n",
              "      <td>Romance</td>\n",
              "      <td>NaN</td>\n",
              "      <td>NaN</td>\n",
              "      <td>NaN</td>\n",
              "      <td>NaN</td>\n",
              "      <td>NaN</td>\n",
              "      <td>NaN</td>\n",
              "      <td>NaN</td>\n",
              "      <td>NaN</td>\n",
              "    </tr>\n",
              "    <tr>\n",
              "      <th>3</th>\n",
              "      <td>Comedy</td>\n",
              "      <td>Drama</td>\n",
              "      <td>Romance</td>\n",
              "      <td>NaN</td>\n",
              "      <td>NaN</td>\n",
              "      <td>NaN</td>\n",
              "      <td>NaN</td>\n",
              "      <td>NaN</td>\n",
              "      <td>NaN</td>\n",
              "      <td>NaN</td>\n",
              "    </tr>\n",
              "    <tr>\n",
              "      <th>4</th>\n",
              "      <td>Comedy</td>\n",
              "      <td>NaN</td>\n",
              "      <td>NaN</td>\n",
              "      <td>NaN</td>\n",
              "      <td>NaN</td>\n",
              "      <td>NaN</td>\n",
              "      <td>NaN</td>\n",
              "      <td>NaN</td>\n",
              "      <td>NaN</td>\n",
              "      <td>NaN</td>\n",
              "    </tr>\n",
              "  </tbody>\n",
              "</table>\n",
              "</div>\n",
              "      <button class=\"colab-df-convert\" onclick=\"convertToInteractive('df-0187772b-5af7-4ce1-8e9c-178fddd0761b')\"\n",
              "              title=\"Convert this dataframe to an interactive table.\"\n",
              "              style=\"display:none;\">\n",
              "        \n",
              "  <svg xmlns=\"http://www.w3.org/2000/svg\" height=\"24px\"viewBox=\"0 0 24 24\"\n",
              "       width=\"24px\">\n",
              "    <path d=\"M0 0h24v24H0V0z\" fill=\"none\"/>\n",
              "    <path d=\"M18.56 5.44l.94 2.06.94-2.06 2.06-.94-2.06-.94-.94-2.06-.94 2.06-2.06.94zm-11 1L8.5 8.5l.94-2.06 2.06-.94-2.06-.94L8.5 2.5l-.94 2.06-2.06.94zm10 10l.94 2.06.94-2.06 2.06-.94-2.06-.94-.94-2.06-.94 2.06-2.06.94z\"/><path d=\"M17.41 7.96l-1.37-1.37c-.4-.4-.92-.59-1.43-.59-.52 0-1.04.2-1.43.59L10.3 9.45l-7.72 7.72c-.78.78-.78 2.05 0 2.83L4 21.41c.39.39.9.59 1.41.59.51 0 1.02-.2 1.41-.59l7.78-7.78 2.81-2.81c.8-.78.8-2.07 0-2.86zM5.41 20L4 18.59l7.72-7.72 1.47 1.35L5.41 20z\"/>\n",
              "  </svg>\n",
              "      </button>\n",
              "      \n",
              "  <style>\n",
              "    .colab-df-container {\n",
              "      display:flex;\n",
              "      flex-wrap:wrap;\n",
              "      gap: 12px;\n",
              "    }\n",
              "\n",
              "    .colab-df-convert {\n",
              "      background-color: #E8F0FE;\n",
              "      border: none;\n",
              "      border-radius: 50%;\n",
              "      cursor: pointer;\n",
              "      display: none;\n",
              "      fill: #1967D2;\n",
              "      height: 32px;\n",
              "      padding: 0 0 0 0;\n",
              "      width: 32px;\n",
              "    }\n",
              "\n",
              "    .colab-df-convert:hover {\n",
              "      background-color: #E2EBFA;\n",
              "      box-shadow: 0px 1px 2px rgba(60, 64, 67, 0.3), 0px 1px 3px 1px rgba(60, 64, 67, 0.15);\n",
              "      fill: #174EA6;\n",
              "    }\n",
              "\n",
              "    [theme=dark] .colab-df-convert {\n",
              "      background-color: #3B4455;\n",
              "      fill: #D2E3FC;\n",
              "    }\n",
              "\n",
              "    [theme=dark] .colab-df-convert:hover {\n",
              "      background-color: #434B5C;\n",
              "      box-shadow: 0px 1px 3px 1px rgba(0, 0, 0, 0.15);\n",
              "      filter: drop-shadow(0px 1px 2px rgba(0, 0, 0, 0.3));\n",
              "      fill: #FFFFFF;\n",
              "    }\n",
              "  </style>\n",
              "\n",
              "      <script>\n",
              "        const buttonEl =\n",
              "          document.querySelector('#df-0187772b-5af7-4ce1-8e9c-178fddd0761b button.colab-df-convert');\n",
              "        buttonEl.style.display =\n",
              "          google.colab.kernel.accessAllowed ? 'block' : 'none';\n",
              "\n",
              "        async function convertToInteractive(key) {\n",
              "          const element = document.querySelector('#df-0187772b-5af7-4ce1-8e9c-178fddd0761b');\n",
              "          const dataTable =\n",
              "            await google.colab.kernel.invokeFunction('convertToInteractive',\n",
              "                                                     [key], {});\n",
              "          if (!dataTable) return;\n",
              "\n",
              "          const docLinkHtml = 'Like what you see? Visit the ' +\n",
              "            '<a target=\"_blank\" href=https://colab.research.google.com/notebooks/data_table.ipynb>data table notebook</a>'\n",
              "            + ' to learn more about interactive tables.';\n",
              "          element.innerHTML = '';\n",
              "          dataTable['output_type'] = 'display_data';\n",
              "          await google.colab.output.renderOutput(dataTable, element);\n",
              "          const docLink = document.createElement('div');\n",
              "          docLink.innerHTML = docLinkHtml;\n",
              "          element.appendChild(docLink);\n",
              "        }\n",
              "      </script>\n",
              "    </div>\n",
              "  </div>\n",
              "  "
            ],
            "text/plain": [
              "           0          1         2       3        4    5    6    7    8    9\n",
              "0  Adventure  Animation  Children  Comedy  Fantasy  NaN  NaN  NaN  NaN  NaN\n",
              "1  Adventure   Children   Fantasy     NaN      NaN  NaN  NaN  NaN  NaN  NaN\n",
              "2     Comedy    Romance       NaN     NaN      NaN  NaN  NaN  NaN  NaN  NaN\n",
              "3     Comedy      Drama   Romance     NaN      NaN  NaN  NaN  NaN  NaN  NaN\n",
              "4     Comedy        NaN       NaN     NaN      NaN  NaN  NaN  NaN  NaN  NaN"
            ]
          },
          "metadata": {},
          "execution_count": 1
        }
      ]
    },
    {
      "cell_type": "markdown",
      "source": [
        "Have a look at the unique values of genres from the first column."
      ],
      "metadata": {
        "id": "lw-sOPEaJeSX"
      }
    },
    {
      "cell_type": "code",
      "source": [
        "data.iloc[:,0].unique()"
      ],
      "metadata": {
        "colab": {
          "base_uri": "https://localhost:8080/"
        },
        "id": "H0o-w-XM4IpG",
        "outputId": "fe9cb256-85f1-4320-8dd1-343a3ce8563d"
      },
      "execution_count": null,
      "outputs": [
        {
          "output_type": "execute_result",
          "data": {
            "text/plain": [
              "array(['Adventure', 'Comedy', 'Action', 'Drama', 'Crime', 'Children',\n",
              "       'Mystery', 'Documentary', 'Animation', 'Thriller', 'Horror',\n",
              "       'Fantasy', 'Western', 'Film-Noir', 'Romance', 'War', 'Sci-Fi',\n",
              "       'Musical', 'IMAX'], dtype=object)"
            ]
          },
          "metadata": {},
          "execution_count": 9
        }
      ]
    },
    {
      "cell_type": "markdown",
      "source": [
        "**Preprocessing**\n",
        "\n",
        "As seen during the lab, convert the dataset using a `Transaction Encoder` from the `mlextend` module so that the dataset is reorganised in columns of unique genres (you should have 19 columns as there are 19 unique genres in the entire dataset). Each row should correspond to a different movie (27032 rows). Rows should contain only True or False boolean values according to whether a film was considered as belonging to a genre column or not."
      ],
      "metadata": {
        "id": "A2Q7FYA77Ea7"
      }
    },
    {
      "cell_type": "code",
      "source": [
        "# YOUR CODE HERE"
      ],
      "metadata": {
        "id": "zuXE9e24K7x6"
      },
      "execution_count": null,
      "outputs": []
    },
    {
      "cell_type": "markdown",
      "source": [
        "**Frequent itemsets**  \n",
        "Using the apriori algorithm find the frequent itemsets with minimum support of 0.01. There is no condition on the maximum length of an itemset."
      ],
      "metadata": {
        "id": "kaBDLIV8LFlh"
      }
    },
    {
      "cell_type": "code",
      "source": [
        "# YOUR CODE HERE"
      ],
      "metadata": {
        "id": "K2rRUeYVLiTL"
      },
      "execution_count": null,
      "outputs": []
    },
    {
      "cell_type": "markdown",
      "source": [
        "### Question 5. How many itemsets did the apriori algorithm return above (for min_support=0.01)?\n",
        "Count in all retrieved itemsets, regardless of the number of elements (no condition on the maximum or minimum length of an itemset)."
      ],
      "metadata": {
        "id": "offx8pduLl85"
      }
    },
    {
      "cell_type": "code",
      "source": [
        "# YOUR CODE HERE"
      ],
      "metadata": {
        "id": "6wxppAR4L6oQ"
      },
      "execution_count": null,
      "outputs": []
    },
    {
      "cell_type": "markdown",
      "source": [
        "**Mining for association rules**  \n",
        "Using the frequent items identified above, find association rules with a minimum confidence of 0.5 and order them by decreasing value of lift."
      ],
      "metadata": {
        "id": "mVvFdFnPMIll"
      }
    },
    {
      "cell_type": "code",
      "source": [
        "# YOUR CODE HERE"
      ],
      "metadata": {
        "id": "I9ieJd7IMsju"
      },
      "execution_count": null,
      "outputs": []
    },
    {
      "cell_type": "markdown",
      "source": [
        "### Question 6. Looking at your generated association rules, which of the following statements are true of films in our dataset?\n",
        "a. Mystery films are associated with thrillers  \n",
        "b. If a film is a drama, then it is also a romance film  \n",
        "c. If war then drama is the asociation rule with the highest confidence  \n",
        "d. Adventure-comedy-action occur more frequently than expected  \n",
        "e. None of the above"
      ],
      "metadata": {
        "id": "SlfLYYoCM3l8"
      }
    },
    {
      "cell_type": "markdown",
      "source": [
        "----"
      ],
      "metadata": {
        "id": "dMUxV3gJTvHQ"
      }
    },
    {
      "cell_type": "markdown",
      "source": [
        "# Part 3: Recommender Systems"
      ],
      "metadata": {
        "id": "MCpw0-5JReCu"
      }
    },
    {
      "cell_type": "markdown",
      "source": [
        "Using the surprise library, with item-based collaborative filtering, find the top 10 recommended films to watch for a given user, similar to what we have seen in the lab. [Documentation about surprise is available here](http://surpriselib.com/).\n",
        "\n",
        "We will use the 100k MovieLens dataset, smaller as compared to what we have used before. Follow the guiding steps below and answer the two questions.\n",
        "\n",
        "**First install the library and import the required packages**"
      ],
      "metadata": {
        "id": "73CZU1QURq3W"
      }
    },
    {
      "cell_type": "code",
      "source": [
        "!pip install surprise"
      ],
      "metadata": {
        "colab": {
          "base_uri": "https://localhost:8080/"
        },
        "id": "z6UJk1pYq4KH",
        "outputId": "6ecbd095-ac72-490e-a6fb-93f8dad4594b"
      },
      "execution_count": null,
      "outputs": [
        {
          "output_type": "stream",
          "name": "stdout",
          "text": [
            "Collecting surprise\n",
            "  Downloading surprise-0.1-py2.py3-none-any.whl (1.8 kB)\n",
            "Collecting scikit-surprise\n",
            "  Downloading scikit-surprise-1.1.1.tar.gz (11.8 MB)\n",
            "\u001b[K     |████████████████████████████████| 11.8 MB 10.4 MB/s \n",
            "\u001b[?25hRequirement already satisfied: joblib>=0.11 in /usr/local/lib/python3.7/dist-packages (from scikit-surprise->surprise) (1.1.0)\n",
            "Requirement already satisfied: numpy>=1.11.2 in /usr/local/lib/python3.7/dist-packages (from scikit-surprise->surprise) (1.21.5)\n",
            "Requirement already satisfied: scipy>=1.0.0 in /usr/local/lib/python3.7/dist-packages (from scikit-surprise->surprise) (1.4.1)\n",
            "Requirement already satisfied: six>=1.10.0 in /usr/local/lib/python3.7/dist-packages (from scikit-surprise->surprise) (1.15.0)\n",
            "Building wheels for collected packages: scikit-surprise\n",
            "  Building wheel for scikit-surprise (setup.py) ... \u001b[?25l\u001b[?25hdone\n",
            "  Created wheel for scikit-surprise: filename=scikit_surprise-1.1.1-cp37-cp37m-linux_x86_64.whl size=1630198 sha256=a57585df55bccc45ef359272ec3f1140305d387e32cd2021e18be470bc117885\n",
            "  Stored in directory: /root/.cache/pip/wheels/76/44/74/b498c42be47b2406bd27994e16c5188e337c657025ab400c1c\n",
            "Successfully built scikit-surprise\n",
            "Installing collected packages: scikit-surprise, surprise\n",
            "Successfully installed scikit-surprise-1.1.1 surprise-0.1\n"
          ]
        }
      ]
    },
    {
      "cell_type": "code",
      "source": [
        "# Import packages\n",
        "from surprise import KNNBasic, KNNWithMeans\n",
        "from surprise import Dataset\n",
        "from surprise.model_selection import GridSearchCV\n",
        "from collections import defaultdict\n",
        "from surprise import get_dataset_dir\n",
        "from surprise.model_selection import train_test_split\n",
        "import io"
      ],
      "metadata": {
        "id": "jkdv-FeZq9Q7"
      },
      "execution_count": null,
      "outputs": []
    },
    {
      "cell_type": "markdown",
      "source": [
        "**Load the data using the built-in dataset `ml-100k`**"
      ],
      "metadata": {
        "id": "lisi08cxsJzY"
      }
    },
    {
      "cell_type": "code",
      "source": [
        "# Load data\n",
        "data = Dataset.load_builtin('ml-100k')"
      ],
      "metadata": {
        "colab": {
          "base_uri": "https://localhost:8080/"
        },
        "id": "PHVrxV6hssUA",
        "outputId": "f9dc56cf-48fe-4d1c-dd59-ff89d2a7a2a8"
      },
      "execution_count": null,
      "outputs": [
        {
          "output_type": "stream",
          "name": "stdout",
          "text": [
            "Dataset ml-100k could not be found. Do you want to download it? [Y/n] y\n",
            "Trying to download dataset from http://files.grouplens.org/datasets/movielens/ml-100k.zip...\n",
            "Done! Dataset ml-100k has been saved to /root/.surprise_data/ml-100k\n"
          ]
        }
      ]
    },
    {
      "cell_type": "markdown",
      "source": [
        "**Use GridSearchCV to find the best number of neighbours (k) for a KNNWithMeans item-based algorithm**:  \n",
        "using root-mean-square-error (RMSE) and the following parameter grid `param_grid={'k': [20, 30, 40, 50],                                                      'sim_options': {'name': ['pearson'], 'user_based': [False]}}`  \n",
        "other parameters `cv=5, refit=True, joblib_verbose=2, n_jobs=-1`"
      ],
      "metadata": {
        "id": "q2H5HOT4-5DI"
      }
    },
    {
      "cell_type": "code",
      "source": [
        "# YOUR CODE HERE"
      ],
      "metadata": {
        "id": "bSiHmEsUJJ_5"
      },
      "execution_count": null,
      "outputs": []
    },
    {
      "cell_type": "markdown",
      "source": [
        "### Question 7. What is the optimal k for which GridSearchCV returned the best RMSE score?"
      ],
      "metadata": {
        "id": "qpXU7qyPBM49"
      }
    },
    {
      "cell_type": "markdown",
      "source": [
        "**Use the full dataset and the `build_full_trainset()` method to build a trainset object. Then use the `build_anti_testset()` method for building the trainset.**"
      ],
      "metadata": {
        "id": "CeikDck1tRng"
      }
    },
    {
      "cell_type": "code",
      "source": [
        "# YOUR CODE HERE"
      ],
      "metadata": {
        "id": "g0PH_YaBJR4s"
      },
      "execution_count": null,
      "outputs": []
    },
    {
      "cell_type": "markdown",
      "source": [
        "**Instantiate the KNNWithMeans algorithm using the best k value retrieved above: `KNNWithMeans(k=YOUR_RETRIEVED_VALUE, min_k=1, sim_options=sim_options, verbose=False)`**  \n",
        "KNNWithMeans takes into account the mean ratings of each user. You can read more about it here: [Documentation](https://surprise.readthedocs.io/en/stable/knn_inspired.html)"
      ],
      "metadata": {
        "id": "q4mqH6l8z6Ps"
      }
    },
    {
      "cell_type": "code",
      "source": [
        "# YOUR CODE HERE"
      ],
      "metadata": {
        "id": "l-0j_qWuJXH1"
      },
      "execution_count": null,
      "outputs": []
    },
    {
      "cell_type": "markdown",
      "source": [
        "**Fit the model on the training set and predict ratings on the test set.**"
      ],
      "metadata": {
        "id": "ENIvVV53DB7C"
      }
    },
    {
      "cell_type": "code",
      "source": [
        "# YOUR CODE HERE"
      ],
      "metadata": {
        "id": "Me1589oLJdUY"
      },
      "execution_count": null,
      "outputs": []
    },
    {
      "cell_type": "markdown",
      "source": [
        "**Use the helper function below to identify the best 20 films for all users**"
      ],
      "metadata": {
        "id": "k_bL69w2DLMU"
      }
    },
    {
      "cell_type": "code",
      "source": [
        "def read_item_names():\n",
        "    '''Read the u.item file from MovieLens 100-k dataset and return two\n",
        "    mappings to convert raw ids into movie names and movie names into raw ids.\n",
        "    '''\n",
        "\n",
        "    file_name = get_dataset_dir() + '/ml-100k/ml-100k/u.item'\n",
        "    rid_to_name = {}\n",
        "    name_to_rid = {}\n",
        "    with io.open(file_name, 'r', encoding='ISO-8859-1') as f:\n",
        "        for line in f:\n",
        "            line = line.split('|')\n",
        "            rid_to_name[line[0]] = line[1]\n",
        "            name_to_rid[line[1]] = line[0]\n",
        "\n",
        "    return rid_to_name, name_to_rid\n",
        "\n",
        "\n",
        "def get_top_n(predictions, n=20):\n",
        "    '''Return the top-N recommendation for each user from a set of predictions.\n",
        "\n",
        "    Args:\n",
        "        predictions(list of Prediction objects): The list of predictions, as\n",
        "            returned by the test method of an algorithm.\n",
        "        n(int): The number of recommendation to output for each user. Default\n",
        "            is 10.\n",
        "\n",
        "    Returns:\n",
        "    A dict where keys are user (raw) ids and values are lists of tuples:\n",
        "        [(raw item id, rating estimation), ...] of size n.\n",
        "    '''\n",
        "\n",
        "    # First map the predictions to each user.\n",
        "    top_n = defaultdict(list) # This is used to group a sequence of key-value pairs into a dictionary of lists\n",
        "    for uid, iid, true_r, est, _ in predictions:\n",
        "        top_n[uid].append((iid, est))\n",
        "\n",
        "    # Then sort the predictions for each user and retrieve the k highest ones.\n",
        "    for uid, user_ratings in top_n.items():\n",
        "        user_ratings.sort(key=lambda x: x[1], reverse=True)\n",
        "        top_n[uid] = user_ratings[:n]\n",
        "\n",
        "    return top_n"
      ],
      "metadata": {
        "id": "gDTjN0sd7AMr"
      },
      "execution_count": null,
      "outputs": []
    },
    {
      "cell_type": "markdown",
      "source": [
        "**Find the top 20 predictions for user 196.**"
      ],
      "metadata": {
        "id": "tMzmCMpjDd3a"
      }
    },
    {
      "cell_type": "code",
      "source": [
        "# YOUR CODE HERE"
      ],
      "metadata": {
        "id": "_W4dTrOsJgGV"
      },
      "execution_count": null,
      "outputs": []
    },
    {
      "cell_type": "markdown",
      "source": [
        "### Question 8. Looking at the top 20 predictions for user 196 above, select the correct statements below:\n",
        "a. MovieId 1189 is predicted to receive rating 5    \n",
        "b. MovieId 134 is predicted to receive rating 3    \n",
        "c. MovieId 814 is predicted to receive rating 4   \n",
        "d. MovieId 1500 is predicted to receive rating 5  \n",
        "e. None of the above"
      ],
      "metadata": {
        "id": "dksa1HqYGq2e"
      }
    },
    {
      "cell_type": "markdown",
      "source": [
        "----"
      ],
      "metadata": {
        "id": "vJQ5GqxQRgNq"
      }
    },
    {
      "cell_type": "markdown",
      "metadata": {
        "id": "TGs2HuHRY9i1"
      },
      "source": [
        "# Part 4: Elasticsearch"
      ]
    },
    {
      "cell_type": "markdown",
      "metadata": {
        "id": "zvLPa2HoY9i1"
      },
      "source": [
        "In this part, you will use Elasticsearch's JSON-based Query DSL in order to perform analysis on a dataset of approximately 2'250 films tagged by some nearly 200 users, a sample from the same MovieLent20M database, which you can find in the data folder of the assignment as `tagged_films.csv`.\n",
        "\n",
        "**NB**: In week 4, we will introduce ElasticSearch. Because your trial account will be limited to 14 days, we strongly advise you to start and finish this part between weeks 4 and 5)."
      ]
    },
    {
      "cell_type": "markdown",
      "metadata": {
        "id": "UQ9U9RLOY9i1"
      },
      "source": [
        "**Apache Access Log**"
      ]
    },
    {
      "cell_type": "markdown",
      "metadata": {
        "id": "AfzlJXxnY9i1"
      },
      "source": [
        "In a real-world scenario, you could set up a live feed from the system of interest, where you log movie tags to the Elastic cloud. Here, for simplicity's sake, you will upload the data as a file, which we will also do during the lab as an exercise.\n",
        "\n",
        "The data contains movie tags, such as \"true story\", \"classic\", \"thought provoking\", together with moveIds, userIds, film titles, genres information, as well as the date of the tag.\n",
        "\n",
        "In the file, each line corresponds to a tag. Here is an example of an entry in this table:\n",
        "\n",
        "{\n",
        "        \"_index\" : \"tagged_movies\",\n",
        "        \"_id\" : \"9QcsGH8BJ2RbyKf7cYWF\",\n",
        "        \"_score\" : 1.0,\n",
        "        \"_source\" : {\n",
        "          \"@timestamp\" : \"2014-04-13T05:33:00.000+02:00\",\n",
        "          \"genres\" : \"Drama\",\n",
        "          \"movieId\" : 7158,\n",
        "          \"tag\" : \"sad but good\",\n",
        "          \"title\" : \"House of Sand and Fog (2003)\",\n",
        "          \"userId\" : 133,\n",
        "          \"timestamp\" : \"2014-04-13 05:33:00\"\n",
        "        }\n",
        "      }"
      ]
    },
    {
      "cell_type": "markdown",
      "metadata": {
        "id": "Occ__xEPY9i2"
      },
      "source": [
        "**Loading the Data to Elastic**"
      ]
    },
    {
      "cell_type": "markdown",
      "metadata": {
        "id": "RZgeHsoUY9i2"
      },
      "source": [
        "You should have already deployed an Elasticsearch service on the Elastic cloud during the lab (if you haven't, please refer to the lab of week 4).\n",
        "\n",
        "Once your deployment is ready, go to the **Kibana dashboard** and go through the following steps:\n",
        "\n",
        "1. Download the tagged_movies.csv file from the data folder of the assignment.\n",
        "2. From the dashboard's menu, choose \"Upload file\" and upload the file.\n",
        "4. Once the upload is complete, you may need to override the pattern so that title rows are recognized.\n",
        "  \n",
        "5. Finally, click \"Import\" and specify an index name. Take note of the name you choose, as you will need it when writing queries. Also, make sure that the \"Create index pattern\" box is checked.\n",
        "\n",
        "Once that process is complete, the data will be indexed and available for query."
      ]
    },
    {
      "cell_type": "markdown",
      "metadata": {
        "id": "jPm1y6m2Y9i2"
      },
      "source": [
        "**Answering Questions**"
      ]
    },
    {
      "cell_type": "markdown",
      "metadata": {
        "id": "gP8qCj_6Y9i2"
      },
      "source": [
        "Please note:\n",
        "\n",
        "* To run your queries, you must go to the **console** (from the side menu, *Management* > *Dev Tools*).\n",
        "* The queries must be written in Elasticsearch's **Query DSL** (Domain Specific Language). The full documentation (along with code samples) can be found [here](https://www.elastic.co/guide/en/elasticsearch/reference/current/query-dsl.html).\n",
        "* Once you have found the query to answer each of the four questions below, **copy/paste** the query in the notebook. See an example below."
      ]
    },
    {
      "cell_type": "code",
      "source": [
        "# EXAMPLE DSL QUERY\n",
        "GET tagged_movies/_search\n",
        "{\n",
        "  \"query\": {\n",
        "    \"match_all\": {}\n",
        "  }\n",
        "}\n"
      ],
      "metadata": {
        "id": "U01V20vcUD-n"
      },
      "execution_count": null,
      "outputs": []
    },
    {
      "cell_type": "markdown",
      "source": [
        "**Alternatively**, you can connect your notebook to your ElasticSearch deployment and run the queries directly in the notebook.   \n",
        "Guiding steps and an example are provided below."
      ],
      "metadata": {
        "id": "JY4TgMY617n4"
      }
    },
    {
      "cell_type": "code",
      "source": [
        "# first install the required package\n",
        "!pip install elasticsearch-dsl"
      ],
      "metadata": {
        "id": "NfVSS4HP2Uvi"
      },
      "execution_count": null,
      "outputs": []
    },
    {
      "cell_type": "code",
      "source": [
        "import pandas as pd\n",
        "import elasticsearch_dsl\n",
        "from elasticsearch_dsl import connections\n",
        "from elasticsearch import Elasticsearch\n",
        "from elasticsearch_dsl import Search, Q, A"
      ],
      "metadata": {
        "id": "v0vRAB2l2aFE"
      },
      "execution_count": null,
      "outputs": []
    },
    {
      "cell_type": "code",
      "source": [
        "# connecting to your elastic search deployment\n",
        "# for the first entry between '' go to Elasticsearch Service > Deployment management> Copy Elasticsearch endpoint\n",
        "# for the second entry between '' you will need to use the authentication credentials from when you set up your deployment\n",
        "client = Elasticsearch('https://bsatest.es.us-central1.gcp.cloud.es.io:9243',\n",
        "                      http_auth=('elastic','UPG53LzoQEdS9CjU4py2P0re'))"
      ],
      "metadata": {
        "id": "f-08jCEH2q3V"
      },
      "execution_count": null,
      "outputs": []
    },
    {
      "cell_type": "markdown",
      "source": [
        "Example of query below for retrieving all tags related to movieId 1111."
      ],
      "metadata": {
        "id": "Q5z73hVboWpR"
      }
    },
    {
      "cell_type": "code",
      "source": [
        "# set index to the name under which you uploaded your data in your deployment\n",
        "s = Search(using=client, index=\"tagged_movies_2\").query(\"match\", movieId=\"1111\")\n",
        "response = s.execute()"
      ],
      "metadata": {
        "id": "WirBazvu21j6"
      },
      "execution_count": null,
      "outputs": []
    },
    {
      "cell_type": "code",
      "source": [
        "df = []\n",
        "for h in response.hits.hits:\n",
        "    df.append(h[\"_source\"].to_dict())\n",
        "\n",
        "pd.DataFrame(df)"
      ],
      "metadata": {
        "colab": {
          "base_uri": "https://localhost:8080/",
          "height": 143
        },
        "id": "YMUWeIh83A8_",
        "outputId": "a5fc4635-0cbf-4769-cf6a-f0de283645b3"
      },
      "execution_count": null,
      "outputs": [
        {
          "output_type": "execute_result",
          "data": {
            "text/html": [
              "\n",
              "  <div id=\"df-f3520ee2-7b48-4d00-a80a-e7c79a18195b\">\n",
              "    <div class=\"colab-df-container\">\n",
              "      <div>\n",
              "<style scoped>\n",
              "    .dataframe tbody tr th:only-of-type {\n",
              "        vertical-align: middle;\n",
              "    }\n",
              "\n",
              "    .dataframe tbody tr th {\n",
              "        vertical-align: top;\n",
              "    }\n",
              "\n",
              "    .dataframe thead th {\n",
              "        text-align: right;\n",
              "    }\n",
              "</style>\n",
              "<table border=\"1\" class=\"dataframe\">\n",
              "  <thead>\n",
              "    <tr style=\"text-align: right;\">\n",
              "      <th></th>\n",
              "      <th>@timestamp</th>\n",
              "      <th>genres</th>\n",
              "      <th>movieId</th>\n",
              "      <th>tag</th>\n",
              "      <th>title</th>\n",
              "      <th>userId</th>\n",
              "      <th>timestamp</th>\n",
              "    </tr>\n",
              "  </thead>\n",
              "  <tbody>\n",
              "    <tr>\n",
              "      <th>0</th>\n",
              "      <td>2008-08-13T14:03:16.000+02:00</td>\n",
              "      <td>Documentary</td>\n",
              "      <td>1111</td>\n",
              "      <td>animals</td>\n",
              "      <td>Microcosmos (Microcosmos: Le peuple de l'herbe...</td>\n",
              "      <td>1741</td>\n",
              "      <td>2008-08-13 14:03:16</td>\n",
              "    </tr>\n",
              "    <tr>\n",
              "      <th>1</th>\n",
              "      <td>2006-01-15T18:53:39.000+01:00</td>\n",
              "      <td>Documentary</td>\n",
              "      <td>1111</td>\n",
              "      <td>animals</td>\n",
              "      <td>Microcosmos (Microcosmos: Le peuple de l'herbe...</td>\n",
              "      <td>1763</td>\n",
              "      <td>2006-01-15 18:53:39</td>\n",
              "    </tr>\n",
              "    <tr>\n",
              "      <th>2</th>\n",
              "      <td>2006-01-15T18:53:39.000+01:00</td>\n",
              "      <td>Documentary</td>\n",
              "      <td>1111</td>\n",
              "      <td>insects</td>\n",
              "      <td>Microcosmos (Microcosmos: Le peuple de l'herbe...</td>\n",
              "      <td>1763</td>\n",
              "      <td>2006-01-15 18:53:39</td>\n",
              "    </tr>\n",
              "  </tbody>\n",
              "</table>\n",
              "</div>\n",
              "      <button class=\"colab-df-convert\" onclick=\"convertToInteractive('df-f3520ee2-7b48-4d00-a80a-e7c79a18195b')\"\n",
              "              title=\"Convert this dataframe to an interactive table.\"\n",
              "              style=\"display:none;\">\n",
              "        \n",
              "  <svg xmlns=\"http://www.w3.org/2000/svg\" height=\"24px\"viewBox=\"0 0 24 24\"\n",
              "       width=\"24px\">\n",
              "    <path d=\"M0 0h24v24H0V0z\" fill=\"none\"/>\n",
              "    <path d=\"M18.56 5.44l.94 2.06.94-2.06 2.06-.94-2.06-.94-.94-2.06-.94 2.06-2.06.94zm-11 1L8.5 8.5l.94-2.06 2.06-.94-2.06-.94L8.5 2.5l-.94 2.06-2.06.94zm10 10l.94 2.06.94-2.06 2.06-.94-2.06-.94-.94-2.06-.94 2.06-2.06.94z\"/><path d=\"M17.41 7.96l-1.37-1.37c-.4-.4-.92-.59-1.43-.59-.52 0-1.04.2-1.43.59L10.3 9.45l-7.72 7.72c-.78.78-.78 2.05 0 2.83L4 21.41c.39.39.9.59 1.41.59.51 0 1.02-.2 1.41-.59l7.78-7.78 2.81-2.81c.8-.78.8-2.07 0-2.86zM5.41 20L4 18.59l7.72-7.72 1.47 1.35L5.41 20z\"/>\n",
              "  </svg>\n",
              "      </button>\n",
              "      \n",
              "  <style>\n",
              "    .colab-df-container {\n",
              "      display:flex;\n",
              "      flex-wrap:wrap;\n",
              "      gap: 12px;\n",
              "    }\n",
              "\n",
              "    .colab-df-convert {\n",
              "      background-color: #E8F0FE;\n",
              "      border: none;\n",
              "      border-radius: 50%;\n",
              "      cursor: pointer;\n",
              "      display: none;\n",
              "      fill: #1967D2;\n",
              "      height: 32px;\n",
              "      padding: 0 0 0 0;\n",
              "      width: 32px;\n",
              "    }\n",
              "\n",
              "    .colab-df-convert:hover {\n",
              "      background-color: #E2EBFA;\n",
              "      box-shadow: 0px 1px 2px rgba(60, 64, 67, 0.3), 0px 1px 3px 1px rgba(60, 64, 67, 0.15);\n",
              "      fill: #174EA6;\n",
              "    }\n",
              "\n",
              "    [theme=dark] .colab-df-convert {\n",
              "      background-color: #3B4455;\n",
              "      fill: #D2E3FC;\n",
              "    }\n",
              "\n",
              "    [theme=dark] .colab-df-convert:hover {\n",
              "      background-color: #434B5C;\n",
              "      box-shadow: 0px 1px 3px 1px rgba(0, 0, 0, 0.15);\n",
              "      filter: drop-shadow(0px 1px 2px rgba(0, 0, 0, 0.3));\n",
              "      fill: #FFFFFF;\n",
              "    }\n",
              "  </style>\n",
              "\n",
              "      <script>\n",
              "        const buttonEl =\n",
              "          document.querySelector('#df-f3520ee2-7b48-4d00-a80a-e7c79a18195b button.colab-df-convert');\n",
              "        buttonEl.style.display =\n",
              "          google.colab.kernel.accessAllowed ? 'block' : 'none';\n",
              "\n",
              "        async function convertToInteractive(key) {\n",
              "          const element = document.querySelector('#df-f3520ee2-7b48-4d00-a80a-e7c79a18195b');\n",
              "          const dataTable =\n",
              "            await google.colab.kernel.invokeFunction('convertToInteractive',\n",
              "                                                     [key], {});\n",
              "          if (!dataTable) return;\n",
              "\n",
              "          const docLinkHtml = 'Like what you see? Visit the ' +\n",
              "            '<a target=\"_blank\" href=https://colab.research.google.com/notebooks/data_table.ipynb>data table notebook</a>'\n",
              "            + ' to learn more about interactive tables.';\n",
              "          element.innerHTML = '';\n",
              "          dataTable['output_type'] = 'display_data';\n",
              "          await google.colab.output.renderOutput(dataTable, element);\n",
              "          const docLink = document.createElement('div');\n",
              "          docLink.innerHTML = docLinkHtml;\n",
              "          element.appendChild(docLink);\n",
              "        }\n",
              "      </script>\n",
              "    </div>\n",
              "  </div>\n",
              "  "
            ],
            "text/plain": [
              "                      @timestamp       genres  ...  userId            timestamp\n",
              "0  2008-08-13T14:03:16.000+02:00  Documentary  ...    1741  2008-08-13 14:03:16\n",
              "1  2006-01-15T18:53:39.000+01:00  Documentary  ...    1763  2006-01-15 18:53:39\n",
              "2  2006-01-15T18:53:39.000+01:00  Documentary  ...    1763  2006-01-15 18:53:39\n",
              "\n",
              "[3 rows x 7 columns]"
            ]
          },
          "metadata": {},
          "execution_count": 17
        }
      ]
    },
    {
      "cell_type": "markdown",
      "source": [
        "### Question 9. Which film (movieId) received the largest number of tags between 5 March 2014 and 5 March 2015?\n",
        "\n",
        "**Hint**: Use the following date format for writing your condition: [yyyy-MM-dd HH:mm:ss], and set the hours, minutes and seconds to 0. The limits of the time interval should be included (as in writing a condition for greater or equal to). Use `movieId` for the aggregation function (not the `title`)."
      ],
      "metadata": {
        "id": "2ST9aC38Us2V"
      }
    },
    {
      "cell_type": "code",
      "source": [
        "# COPY/PASTE QUERY HERE\n",
        "\n",
        "# GET [YOUR-INDEX-NAME]/_search\n",
        "# {\n",
        "#   ...\n",
        "# }\n",
        "# DO NOT FORGET TO COPY YOUR RESULT IF USING DIRECTLY THE CONSOLE"
      ],
      "metadata": {
        "id": "hg6CZ19QWI5Q"
      },
      "execution_count": null,
      "outputs": []
    },
    {
      "cell_type": "markdown",
      "source": [
        "### Question 10. What was the most popular word used in tags published between 5 March 2010 and 5 March 2015?\n",
        "\n",
        "**Hint**: Use the following date format for writing your condition: [yyyy-MM-dd HH:mm:ss], and set the hours, minutes and seconds to 0. The limits of the time interval should be included (as in writing a condition for greater or equal to). Use a [significant text aggregation](https://www.elastic.co/guide/en/elasticsearch/reference/current/search-aggregations-bucket-significanttext-aggregation.html) on tags to find the words most commonly used."
      ],
      "metadata": {
        "id": "0ZFDvJMqXg-Q"
      }
    },
    {
      "cell_type": "code",
      "metadata": {
        "id": "qf9v9Ob1Y9i3"
      },
      "source": [
        "# COPY/PASTE QUERY HERE\n",
        "\n",
        "# GET [YOUR-INDEX-NAME]/_search\n",
        "# {\n",
        "#   ...\n",
        "# }\n"
      ],
      "execution_count": null,
      "outputs": []
    },
    {
      "cell_type": "markdown",
      "source": [
        "### Question 11. How many films produced in 2002 were tagged with \"true story\"?\n",
        "**Hint**: Look at films whose titles mention the year (2002) and for which the tag matches \"true story\". Results can be aggregated by movieId to find the number of films."
      ],
      "metadata": {
        "id": "08VGiZF7lUcm"
      }
    },
    {
      "cell_type": "code",
      "source": [
        "# COPY/PASTE QUERY HERE\n",
        "\n",
        "# GET [YOUR-INDEX-NAME]/_search\n",
        "# {\n",
        "#   ...\n",
        "# }\n"
      ],
      "metadata": {
        "id": "is228nrH7qXk"
      },
      "execution_count": null,
      "outputs": []
    },
    {
      "cell_type": "markdown",
      "source": [
        "### Question 12. Which userID produced most of the tags in the dataset?"
      ],
      "metadata": {
        "id": "KC4uOExl8PxH"
      }
    },
    {
      "cell_type": "code",
      "source": [
        "# COPY/PASTE QUERY HERE\n",
        "\n",
        "# GET [YOUR-INDEX-NAME]/_search\n",
        "# {\n",
        "#   ...\n",
        "# }"
      ],
      "metadata": {
        "id": "EKFwkf5K8ZYt"
      },
      "execution_count": null,
      "outputs": []
    }
  ]
}
{
  "nbformat": 4,
  "nbformat_minor": 0,
  "metadata": {
    "colab": {
      "name": "record_linkage_tutorial.ipynb",
      "provenance": [],
      "include_colab_link": true
    },
    "kernelspec": {
      "display_name": "Python 3",
      "language": "python",
      "name": "python3"
    },
    "language_info": {
      "codemirror_mode": {
        "name": "ipython",
        "version": 3
      },
      "file_extension": ".py",
      "mimetype": "text/x-python",
      "name": "python",
      "nbconvert_exporter": "python",
      "pygments_lexer": "ipython3",
      "version": "3.7.3"
    }
  },
  "cells": [
    {
      "cell_type": "markdown",
      "metadata": {
        "id": "view-in-github",
        "colab_type": "text"
      },
      "source": [
        "<a href=\"https://colab.research.google.com/github/michalis0/BigScaleAnalytics/blob/master/week3/1-record_linkage_tutorial.ipynb\" target=\"_parent\"><img src=\"https://colab.research.google.com/assets/colab-badge.svg\" alt=\"Open In Colab\"/></a>"
      ]
    },
    {
      "cell_type": "markdown",
      "metadata": {
        "id": "4gwldzNr4kyc"
      },
      "source": [
        "# BSA Lab - Week 3\n",
        "\n",
        "\n",
        "## Record linkage tutorial\n",
        "\n",
        "Documentation: https://recordlinkage.readthedocs.io/en/latest/about.html. "
      ]
    },
    {
      "cell_type": "code",
      "metadata": {
        "colab": {
          "base_uri": "https://localhost:8080/"
        },
        "id": "0byOfekq4kyg",
        "scrolled": true,
        "outputId": "788dc1fc-bd90-4bf8-b7d4-1589d48bdd80"
      },
      "source": [
        "!pip install recordlinkage"
      ],
      "execution_count": 12,
      "outputs": [
        {
          "output_type": "stream",
          "name": "stdout",
          "text": [
            "Requirement already satisfied: recordlinkage in /usr/local/lib/python3.7/dist-packages (0.14)\n",
            "Requirement already satisfied: numpy>=1.13.0 in /usr/local/lib/python3.7/dist-packages (from recordlinkage) (1.21.5)\n",
            "Requirement already satisfied: joblib in /usr/local/lib/python3.7/dist-packages (from recordlinkage) (1.1.0)\n",
            "Requirement already satisfied: scikit-learn>=0.19.0 in /usr/local/lib/python3.7/dist-packages (from recordlinkage) (1.0.2)\n",
            "Requirement already satisfied: scipy>=1 in /usr/local/lib/python3.7/dist-packages (from recordlinkage) (1.4.1)\n",
            "Requirement already satisfied: pandas>=0.23 in /usr/local/lib/python3.7/dist-packages (from recordlinkage) (1.3.5)\n",
            "Requirement already satisfied: jellyfish>=0.5.4 in /usr/local/lib/python3.7/dist-packages (from recordlinkage) (0.9.0)\n",
            "Requirement already satisfied: pytz>=2017.3 in /usr/local/lib/python3.7/dist-packages (from pandas>=0.23->recordlinkage) (2018.9)\n",
            "Requirement already satisfied: python-dateutil>=2.7.3 in /usr/local/lib/python3.7/dist-packages (from pandas>=0.23->recordlinkage) (2.8.2)\n",
            "Requirement already satisfied: six>=1.5 in /usr/local/lib/python3.7/dist-packages (from python-dateutil>=2.7.3->pandas>=0.23->recordlinkage) (1.15.0)\n",
            "Requirement already satisfied: threadpoolctl>=2.0.0 in /usr/local/lib/python3.7/dist-packages (from scikit-learn>=0.19.0->recordlinkage) (3.1.0)\n"
          ]
        }
      ]
    },
    {
      "cell_type": "code",
      "metadata": {
        "id": "QsrP6Wa74kyl"
      },
      "source": [
        "import recordlinkage\n",
        "import pandas as pd"
      ],
      "execution_count": 13,
      "outputs": []
    },
    {
      "cell_type": "markdown",
      "metadata": {
        "id": "t3qUr9Dq4kyo"
      },
      "source": [
        "Let's start by following the example from the record linkage documentation. For this example, we use the Febrl dataset 1. This dataset contains 1000 records of which 500 original and 500 duplicates, with exactly one duplicate per original record. This dataset can be loaded with the function `load_febrl1`."
      ]
    },
    {
      "cell_type": "code",
      "metadata": {
        "colab": {
          "base_uri": "https://localhost:8080/",
          "height": 392
        },
        "id": "d1XERC_n4kyp",
        "outputId": "5bb5d9ba-1cea-454e-d4f2-71e540459a86"
      },
      "source": [
        "from recordlinkage.datasets import load_febrl1\n",
        "dfA = load_febrl1()\n",
        "dfA.head()"
      ],
      "execution_count": 14,
      "outputs": [
        {
          "output_type": "execute_result",
          "data": {
            "text/html": [
              "\n",
              "  <div id=\"df-75737347-a46a-44d4-ac58-b2fd12ed23eb\">\n",
              "    <div class=\"colab-df-container\">\n",
              "      <div>\n",
              "<style scoped>\n",
              "    .dataframe tbody tr th:only-of-type {\n",
              "        vertical-align: middle;\n",
              "    }\n",
              "\n",
              "    .dataframe tbody tr th {\n",
              "        vertical-align: top;\n",
              "    }\n",
              "\n",
              "    .dataframe thead th {\n",
              "        text-align: right;\n",
              "    }\n",
              "</style>\n",
              "<table border=\"1\" class=\"dataframe\">\n",
              "  <thead>\n",
              "    <tr style=\"text-align: right;\">\n",
              "      <th></th>\n",
              "      <th>given_name</th>\n",
              "      <th>surname</th>\n",
              "      <th>street_number</th>\n",
              "      <th>address_1</th>\n",
              "      <th>address_2</th>\n",
              "      <th>suburb</th>\n",
              "      <th>postcode</th>\n",
              "      <th>state</th>\n",
              "      <th>date_of_birth</th>\n",
              "      <th>soc_sec_id</th>\n",
              "    </tr>\n",
              "    <tr>\n",
              "      <th>rec_id</th>\n",
              "      <th></th>\n",
              "      <th></th>\n",
              "      <th></th>\n",
              "      <th></th>\n",
              "      <th></th>\n",
              "      <th></th>\n",
              "      <th></th>\n",
              "      <th></th>\n",
              "      <th></th>\n",
              "      <th></th>\n",
              "    </tr>\n",
              "  </thead>\n",
              "  <tbody>\n",
              "    <tr>\n",
              "      <th>rec-223-org</th>\n",
              "      <td>NaN</td>\n",
              "      <td>waller</td>\n",
              "      <td>6</td>\n",
              "      <td>tullaroop street</td>\n",
              "      <td>willaroo</td>\n",
              "      <td>st james</td>\n",
              "      <td>4011</td>\n",
              "      <td>wa</td>\n",
              "      <td>19081209</td>\n",
              "      <td>6988048</td>\n",
              "    </tr>\n",
              "    <tr>\n",
              "      <th>rec-122-org</th>\n",
              "      <td>lachlan</td>\n",
              "      <td>berry</td>\n",
              "      <td>69</td>\n",
              "      <td>giblin street</td>\n",
              "      <td>killarney</td>\n",
              "      <td>bittern</td>\n",
              "      <td>4814</td>\n",
              "      <td>qld</td>\n",
              "      <td>19990219</td>\n",
              "      <td>7364009</td>\n",
              "    </tr>\n",
              "    <tr>\n",
              "      <th>rec-373-org</th>\n",
              "      <td>deakin</td>\n",
              "      <td>sondergeld</td>\n",
              "      <td>48</td>\n",
              "      <td>goldfinch circuit</td>\n",
              "      <td>kooltuo</td>\n",
              "      <td>canterbury</td>\n",
              "      <td>2776</td>\n",
              "      <td>vic</td>\n",
              "      <td>19600210</td>\n",
              "      <td>2635962</td>\n",
              "    </tr>\n",
              "    <tr>\n",
              "      <th>rec-10-dup-0</th>\n",
              "      <td>kayla</td>\n",
              "      <td>harrington</td>\n",
              "      <td>NaN</td>\n",
              "      <td>maltby circuit</td>\n",
              "      <td>coaling</td>\n",
              "      <td>coolaroo</td>\n",
              "      <td>3465</td>\n",
              "      <td>nsw</td>\n",
              "      <td>19150612</td>\n",
              "      <td>9004242</td>\n",
              "    </tr>\n",
              "    <tr>\n",
              "      <th>rec-227-org</th>\n",
              "      <td>luke</td>\n",
              "      <td>purdon</td>\n",
              "      <td>23</td>\n",
              "      <td>ramsay place</td>\n",
              "      <td>mirani</td>\n",
              "      <td>garbutt</td>\n",
              "      <td>2260</td>\n",
              "      <td>vic</td>\n",
              "      <td>19831024</td>\n",
              "      <td>8099933</td>\n",
              "    </tr>\n",
              "  </tbody>\n",
              "</table>\n",
              "</div>\n",
              "      <button class=\"colab-df-convert\" onclick=\"convertToInteractive('df-75737347-a46a-44d4-ac58-b2fd12ed23eb')\"\n",
              "              title=\"Convert this dataframe to an interactive table.\"\n",
              "              style=\"display:none;\">\n",
              "        \n",
              "  <svg xmlns=\"http://www.w3.org/2000/svg\" height=\"24px\"viewBox=\"0 0 24 24\"\n",
              "       width=\"24px\">\n",
              "    <path d=\"M0 0h24v24H0V0z\" fill=\"none\"/>\n",
              "    <path d=\"M18.56 5.44l.94 2.06.94-2.06 2.06-.94-2.06-.94-.94-2.06-.94 2.06-2.06.94zm-11 1L8.5 8.5l.94-2.06 2.06-.94-2.06-.94L8.5 2.5l-.94 2.06-2.06.94zm10 10l.94 2.06.94-2.06 2.06-.94-2.06-.94-.94-2.06-.94 2.06-2.06.94z\"/><path d=\"M17.41 7.96l-1.37-1.37c-.4-.4-.92-.59-1.43-.59-.52 0-1.04.2-1.43.59L10.3 9.45l-7.72 7.72c-.78.78-.78 2.05 0 2.83L4 21.41c.39.39.9.59 1.41.59.51 0 1.02-.2 1.41-.59l7.78-7.78 2.81-2.81c.8-.78.8-2.07 0-2.86zM5.41 20L4 18.59l7.72-7.72 1.47 1.35L5.41 20z\"/>\n",
              "  </svg>\n",
              "      </button>\n",
              "      \n",
              "  <style>\n",
              "    .colab-df-container {\n",
              "      display:flex;\n",
              "      flex-wrap:wrap;\n",
              "      gap: 12px;\n",
              "    }\n",
              "\n",
              "    .colab-df-convert {\n",
              "      background-color: #E8F0FE;\n",
              "      border: none;\n",
              "      border-radius: 50%;\n",
              "      cursor: pointer;\n",
              "      display: none;\n",
              "      fill: #1967D2;\n",
              "      height: 32px;\n",
              "      padding: 0 0 0 0;\n",
              "      width: 32px;\n",
              "    }\n",
              "\n",
              "    .colab-df-convert:hover {\n",
              "      background-color: #E2EBFA;\n",
              "      box-shadow: 0px 1px 2px rgba(60, 64, 67, 0.3), 0px 1px 3px 1px rgba(60, 64, 67, 0.15);\n",
              "      fill: #174EA6;\n",
              "    }\n",
              "\n",
              "    [theme=dark] .colab-df-convert {\n",
              "      background-color: #3B4455;\n",
              "      fill: #D2E3FC;\n",
              "    }\n",
              "\n",
              "    [theme=dark] .colab-df-convert:hover {\n",
              "      background-color: #434B5C;\n",
              "      box-shadow: 0px 1px 3px 1px rgba(0, 0, 0, 0.15);\n",
              "      filter: drop-shadow(0px 1px 2px rgba(0, 0, 0, 0.3));\n",
              "      fill: #FFFFFF;\n",
              "    }\n",
              "  </style>\n",
              "\n",
              "      <script>\n",
              "        const buttonEl =\n",
              "          document.querySelector('#df-75737347-a46a-44d4-ac58-b2fd12ed23eb button.colab-df-convert');\n",
              "        buttonEl.style.display =\n",
              "          google.colab.kernel.accessAllowed ? 'block' : 'none';\n",
              "\n",
              "        async function convertToInteractive(key) {\n",
              "          const element = document.querySelector('#df-75737347-a46a-44d4-ac58-b2fd12ed23eb');\n",
              "          const dataTable =\n",
              "            await google.colab.kernel.invokeFunction('convertToInteractive',\n",
              "                                                     [key], {});\n",
              "          if (!dataTable) return;\n",
              "\n",
              "          const docLinkHtml = 'Like what you see? Visit the ' +\n",
              "            '<a target=\"_blank\" href=https://colab.research.google.com/notebooks/data_table.ipynb>data table notebook</a>'\n",
              "            + ' to learn more about interactive tables.';\n",
              "          element.innerHTML = '';\n",
              "          dataTable['output_type'] = 'display_data';\n",
              "          await google.colab.output.renderOutput(dataTable, element);\n",
              "          const docLink = document.createElement('div');\n",
              "          docLink.innerHTML = docLinkHtml;\n",
              "          element.appendChild(docLink);\n",
              "        }\n",
              "      </script>\n",
              "    </div>\n",
              "  </div>\n",
              "  "
            ],
            "text/plain": [
              "             given_name     surname street_number          address_1  \\\n",
              "rec_id                                                                 \n",
              "rec-223-org         NaN      waller             6   tullaroop street   \n",
              "rec-122-org     lachlan       berry            69      giblin street   \n",
              "rec-373-org      deakin  sondergeld            48  goldfinch circuit   \n",
              "rec-10-dup-0      kayla  harrington           NaN     maltby circuit   \n",
              "rec-227-org        luke      purdon            23       ramsay place   \n",
              "\n",
              "              address_2      suburb postcode state date_of_birth soc_sec_id  \n",
              "rec_id                                                                       \n",
              "rec-223-org    willaroo    st james     4011    wa      19081209    6988048  \n",
              "rec-122-org   killarney     bittern     4814   qld      19990219    7364009  \n",
              "rec-373-org     kooltuo  canterbury     2776   vic      19600210    2635962  \n",
              "rec-10-dup-0    coaling    coolaroo     3465   nsw      19150612    9004242  \n",
              "rec-227-org      mirani     garbutt     2260   vic      19831024    8099933  "
            ]
          },
          "metadata": {},
          "execution_count": 14
        }
      ]
    },
    {
      "cell_type": "markdown",
      "metadata": {
        "id": "l5Uhol9k4kys"
      },
      "source": [
        "### Make record pairs\n",
        "It is very intuitive to start with comparing each record in DataFrame `dfA` with all other records in DataFrame `dfA`. In fact, we want to make record pairs. Each record pair should contain two different records of DataFrame `dfA`. This process of making record pairs is also called ‘indexing’. With the `recordlinkage` module, indexing is easy. First, load the `recordlinkage.Index` class and call the `.full` method. This object generates a full index on a `.index(...)` call. In case of deduplication of a single dataframe, one dataframe is sufficient as input argument."
      ]
    },
    {
      "cell_type": "code",
      "metadata": {
        "colab": {
          "base_uri": "https://localhost:8080/"
        },
        "id": "fr7J1ysL4kyt",
        "outputId": "19b17805-2e1a-4366-91ec-c47306d9ce92"
      },
      "source": [
        "indexer = recordlinkage.Index()\n",
        "indexer.full()\n",
        "candidate_links_full = indexer.index(dfA)"
      ],
      "execution_count": 15,
      "outputs": [
        {
          "output_type": "stream",
          "name": "stdout",
          "text": [
            "WARNING:recordlinkage:indexing - performance warning - A full index can result in large number of record pairs.\n"
          ]
        }
      ]
    },
    {
      "cell_type": "markdown",
      "metadata": {
        "id": "d5b-Jnhi4ky0"
      },
      "source": [
        "With the method `index`, all possible (and unique) record pairs are made. The method returns a `pandas.MultiIndex`. The number of pairs is equal to the number of records in `dfA` times the number of records in `dfB` (which in this example is the same as `dfA`)."
      ]
    },
    {
      "cell_type": "code",
      "metadata": {
        "colab": {
          "base_uri": "https://localhost:8080/"
        },
        "id": "ieEZBROx4ky3",
        "outputId": "eac12890-0942-47c5-e35d-e7975ee0e1d0"
      },
      "source": [
        "print (len(dfA), len(candidate_links_full))"
      ],
      "execution_count": 16,
      "outputs": [
        {
          "output_type": "stream",
          "name": "stdout",
          "text": [
            "1000 499500\n"
          ]
        }
      ]
    },
    {
      "cell_type": "markdown",
      "metadata": {
        "id": "K7Uh1knw4ky7"
      },
      "source": [
        "Many of these record pairs do not belong to the same person. The `recordlinkage` toolkit has some more advanced indexing methods to reduce the number of record pairs. Obvious non-matches are left out of the index. Note that if a matching record pair is not included in the index, it can not be matched anymore.\n",
        "\n",
        "One of the most well known indexing methods is named blocking. This method includes only record pairs that are identical on one or more stored attributes of the person (or entity in general). The blocking method can be used in the `recordlinkage` module."
      ]
    },
    {
      "cell_type": "code",
      "metadata": {
        "colab": {
          "base_uri": "https://localhost:8080/"
        },
        "id": "eN1TXQvy4ky9",
        "outputId": "919343e5-f097-4093-aa3f-ca35d866dbf5"
      },
      "source": [
        "indexer = recordlinkage.Index()\n",
        "indexer.block('given_name')\n",
        "candidate_links = indexer.index(dfA)\n",
        "\n",
        "print (len(candidate_links))"
      ],
      "execution_count": 17,
      "outputs": [
        {
          "output_type": "stream",
          "name": "stdout",
          "text": [
            "2082\n"
          ]
        }
      ]
    },
    {
      "cell_type": "code",
      "source": [
        "candidate_links"
      ],
      "metadata": {
        "id": "vR_hzszIs3_N",
        "outputId": "61715d71-90e4-42f8-a3bf-c8370705e58f",
        "colab": {
          "base_uri": "https://localhost:8080/"
        }
      },
      "execution_count": 18,
      "outputs": [
        {
          "output_type": "execute_result",
          "data": {
            "text/plain": [
              "MultiIndex([('rec-183-dup-0',   'rec-122-org'),\n",
              "            (  'rec-248-org',   'rec-122-org'),\n",
              "            (  'rec-248-org', 'rec-183-dup-0'),\n",
              "            ('rec-122-dup-0',   'rec-122-org'),\n",
              "            ('rec-122-dup-0', 'rec-183-dup-0'),\n",
              "            ('rec-122-dup-0',   'rec-248-org'),\n",
              "            (  'rec-469-org',   'rec-122-org'),\n",
              "            (  'rec-469-org', 'rec-183-dup-0'),\n",
              "            (  'rec-469-org',   'rec-248-org'),\n",
              "            (  'rec-469-org', 'rec-122-dup-0'),\n",
              "            ...\n",
              "            ('rec-407-dup-0',   'rec-407-org'),\n",
              "            ('rec-367-dup-0',   'rec-367-org'),\n",
              "            ('rec-103-dup-0',   'rec-103-org'),\n",
              "            ('rec-195-dup-0',   'rec-195-org'),\n",
              "            ('rec-184-dup-0',   'rec-184-org'),\n",
              "            (  'rec-252-org', 'rec-252-dup-0'),\n",
              "            ( 'rec-48-dup-0',    'rec-48-org'),\n",
              "            ('rec-298-dup-0',   'rec-298-org'),\n",
              "            (  'rec-282-org', 'rec-282-dup-0'),\n",
              "            (  'rec-327-org',   'rec-411-org')],\n",
              "           names=['rec_id_1', 'rec_id_2'], length=2082)"
            ]
          },
          "metadata": {},
          "execution_count": 18
        }
      ]
    },
    {
      "cell_type": "markdown",
      "metadata": {
        "id": "fbVgXw7p4kzA"
      },
      "source": [
        "The argument ‘given_name’ is the blocking variable. This variable has to be the name of a column in `dfA` and `dfB`. It is possible to parse a list of columns names to block on multiple variables. Blocking on multiple variables will reduce the number of record pairs even further.\n",
        "\n",
        "### Compare records\n",
        "Each record pair is a candidate match. To classify the candidate record pairs into matches and non-matches, compare the records on all attributes both records have in common. The `recordlinkage` module has a class named `Compare`. This class is used to compare the records. The following code shows how to compare attributes."
      ]
    },
    {
      "cell_type": "code",
      "metadata": {
        "id": "rV2Du1gG4kzA"
      },
      "source": [
        "compare_cl = recordlinkage.Compare()\n",
        "\n",
        "compare_cl.exact('given_name', 'given_name', label='given_name')\n",
        "compare_cl.string('surname', 'surname', method='jarowinkler', threshold=0.85, label='surname')\n",
        "compare_cl.exact('date_of_birth', 'date_of_birth', label='date_of_birth')\n",
        "compare_cl.exact('suburb', 'suburb', label='suburb')\n",
        "compare_cl.exact('state', 'state', label='state')\n",
        "compare_cl.string('address_1', 'address_1', threshold=0.85, label='address_1')\n",
        "\n",
        "features = compare_cl.compute(candidate_links, dfA)"
      ],
      "execution_count": 19,
      "outputs": []
    },
    {
      "cell_type": "markdown",
      "metadata": {
        "id": "362vgNCC4kzD"
      },
      "source": [
        "As we can see by blocking the number of record pairs reduce significanlty. This in turn decreases the number of comparisons that should be made and saves a lot of computational cost. For the sake of comparison let's compare the runing time of a full indexr against a blocking indexer."
      ]
    },
    {
      "cell_type": "code",
      "metadata": {
        "colab": {
          "base_uri": "https://localhost:8080/"
        },
        "id": "TRyHr-mL4kzE",
        "outputId": "3484610a-35b0-4529-9833-8b001f9bd2a4"
      },
      "source": [
        "# this cell may take some time\n",
        "import time\n",
        "print(\"full indexer runnig time\")\n",
        "start = time.time()\n",
        "features = compare_cl.compute(candidate_links_full, dfA)\n",
        "print(time.time() - start)\n",
        "\n",
        "print(\"Blocking indexer runnig time\")\n",
        "start = time.time()\n",
        "features = compare_cl.compute(candidate_links, dfA)\n",
        "print(time.time() - start)"
      ],
      "execution_count": 20,
      "outputs": [
        {
          "output_type": "stream",
          "name": "stdout",
          "text": [
            "full indexer runnig time\n",
            "13.245336294174194\n",
            "Blocking indexer runnig time\n",
            "0.11654138565063477\n"
          ]
        }
      ]
    },
    {
      "cell_type": "markdown",
      "metadata": {
        "id": "n_r-Y95k4kzH"
      },
      "source": [
        "The comparing of record pairs starts when the `compute` method is called. All attribute comparisons are stored in a DataFrame with horizontally the features and vertically the record pairs. The first 10 comparison vectors are:"
      ]
    },
    {
      "cell_type": "code",
      "metadata": {
        "colab": {
          "base_uri": "https://localhost:8080/",
          "height": 417
        },
        "id": "H6vfUum04kzI",
        "outputId": "644a0b10-e0f5-4d96-a57e-4ef8f33100ab"
      },
      "source": [
        "features.head(10)"
      ],
      "execution_count": 21,
      "outputs": [
        {
          "output_type": "execute_result",
          "data": {
            "text/html": [
              "\n",
              "  <div id=\"df-39f2021f-bdb6-4cc3-a884-6c1d06f14515\">\n",
              "    <div class=\"colab-df-container\">\n",
              "      <div>\n",
              "<style scoped>\n",
              "    .dataframe tbody tr th:only-of-type {\n",
              "        vertical-align: middle;\n",
              "    }\n",
              "\n",
              "    .dataframe tbody tr th {\n",
              "        vertical-align: top;\n",
              "    }\n",
              "\n",
              "    .dataframe thead th {\n",
              "        text-align: right;\n",
              "    }\n",
              "</style>\n",
              "<table border=\"1\" class=\"dataframe\">\n",
              "  <thead>\n",
              "    <tr style=\"text-align: right;\">\n",
              "      <th></th>\n",
              "      <th></th>\n",
              "      <th>given_name</th>\n",
              "      <th>surname</th>\n",
              "      <th>date_of_birth</th>\n",
              "      <th>suburb</th>\n",
              "      <th>state</th>\n",
              "      <th>address_1</th>\n",
              "    </tr>\n",
              "    <tr>\n",
              "      <th>rec_id_1</th>\n",
              "      <th>rec_id_2</th>\n",
              "      <th></th>\n",
              "      <th></th>\n",
              "      <th></th>\n",
              "      <th></th>\n",
              "      <th></th>\n",
              "      <th></th>\n",
              "    </tr>\n",
              "  </thead>\n",
              "  <tbody>\n",
              "    <tr>\n",
              "      <th>rec-183-dup-0</th>\n",
              "      <th>rec-122-org</th>\n",
              "      <td>1</td>\n",
              "      <td>0.0</td>\n",
              "      <td>0</td>\n",
              "      <td>0</td>\n",
              "      <td>0</td>\n",
              "      <td>0.0</td>\n",
              "    </tr>\n",
              "    <tr>\n",
              "      <th rowspan=\"2\" valign=\"top\">rec-248-org</th>\n",
              "      <th>rec-122-org</th>\n",
              "      <td>1</td>\n",
              "      <td>0.0</td>\n",
              "      <td>0</td>\n",
              "      <td>0</td>\n",
              "      <td>1</td>\n",
              "      <td>0.0</td>\n",
              "    </tr>\n",
              "    <tr>\n",
              "      <th>rec-183-dup-0</th>\n",
              "      <td>1</td>\n",
              "      <td>0.0</td>\n",
              "      <td>0</td>\n",
              "      <td>0</td>\n",
              "      <td>0</td>\n",
              "      <td>0.0</td>\n",
              "    </tr>\n",
              "    <tr>\n",
              "      <th rowspan=\"3\" valign=\"top\">rec-122-dup-0</th>\n",
              "      <th>rec-122-org</th>\n",
              "      <td>1</td>\n",
              "      <td>1.0</td>\n",
              "      <td>1</td>\n",
              "      <td>1</td>\n",
              "      <td>1</td>\n",
              "      <td>1.0</td>\n",
              "    </tr>\n",
              "    <tr>\n",
              "      <th>rec-183-dup-0</th>\n",
              "      <td>1</td>\n",
              "      <td>0.0</td>\n",
              "      <td>0</td>\n",
              "      <td>0</td>\n",
              "      <td>0</td>\n",
              "      <td>0.0</td>\n",
              "    </tr>\n",
              "    <tr>\n",
              "      <th>rec-248-org</th>\n",
              "      <td>1</td>\n",
              "      <td>0.0</td>\n",
              "      <td>0</td>\n",
              "      <td>0</td>\n",
              "      <td>1</td>\n",
              "      <td>0.0</td>\n",
              "    </tr>\n",
              "    <tr>\n",
              "      <th rowspan=\"4\" valign=\"top\">rec-469-org</th>\n",
              "      <th>rec-122-org</th>\n",
              "      <td>1</td>\n",
              "      <td>0.0</td>\n",
              "      <td>0</td>\n",
              "      <td>0</td>\n",
              "      <td>0</td>\n",
              "      <td>0.0</td>\n",
              "    </tr>\n",
              "    <tr>\n",
              "      <th>rec-183-dup-0</th>\n",
              "      <td>1</td>\n",
              "      <td>0.0</td>\n",
              "      <td>0</td>\n",
              "      <td>0</td>\n",
              "      <td>1</td>\n",
              "      <td>0.0</td>\n",
              "    </tr>\n",
              "    <tr>\n",
              "      <th>rec-248-org</th>\n",
              "      <td>1</td>\n",
              "      <td>0.0</td>\n",
              "      <td>0</td>\n",
              "      <td>0</td>\n",
              "      <td>0</td>\n",
              "      <td>0.0</td>\n",
              "    </tr>\n",
              "    <tr>\n",
              "      <th>rec-122-dup-0</th>\n",
              "      <td>1</td>\n",
              "      <td>0.0</td>\n",
              "      <td>0</td>\n",
              "      <td>0</td>\n",
              "      <td>0</td>\n",
              "      <td>0.0</td>\n",
              "    </tr>\n",
              "  </tbody>\n",
              "</table>\n",
              "</div>\n",
              "      <button class=\"colab-df-convert\" onclick=\"convertToInteractive('df-39f2021f-bdb6-4cc3-a884-6c1d06f14515')\"\n",
              "              title=\"Convert this dataframe to an interactive table.\"\n",
              "              style=\"display:none;\">\n",
              "        \n",
              "  <svg xmlns=\"http://www.w3.org/2000/svg\" height=\"24px\"viewBox=\"0 0 24 24\"\n",
              "       width=\"24px\">\n",
              "    <path d=\"M0 0h24v24H0V0z\" fill=\"none\"/>\n",
              "    <path d=\"M18.56 5.44l.94 2.06.94-2.06 2.06-.94-2.06-.94-.94-2.06-.94 2.06-2.06.94zm-11 1L8.5 8.5l.94-2.06 2.06-.94-2.06-.94L8.5 2.5l-.94 2.06-2.06.94zm10 10l.94 2.06.94-2.06 2.06-.94-2.06-.94-.94-2.06-.94 2.06-2.06.94z\"/><path d=\"M17.41 7.96l-1.37-1.37c-.4-.4-.92-.59-1.43-.59-.52 0-1.04.2-1.43.59L10.3 9.45l-7.72 7.72c-.78.78-.78 2.05 0 2.83L4 21.41c.39.39.9.59 1.41.59.51 0 1.02-.2 1.41-.59l7.78-7.78 2.81-2.81c.8-.78.8-2.07 0-2.86zM5.41 20L4 18.59l7.72-7.72 1.47 1.35L5.41 20z\"/>\n",
              "  </svg>\n",
              "      </button>\n",
              "      \n",
              "  <style>\n",
              "    .colab-df-container {\n",
              "      display:flex;\n",
              "      flex-wrap:wrap;\n",
              "      gap: 12px;\n",
              "    }\n",
              "\n",
              "    .colab-df-convert {\n",
              "      background-color: #E8F0FE;\n",
              "      border: none;\n",
              "      border-radius: 50%;\n",
              "      cursor: pointer;\n",
              "      display: none;\n",
              "      fill: #1967D2;\n",
              "      height: 32px;\n",
              "      padding: 0 0 0 0;\n",
              "      width: 32px;\n",
              "    }\n",
              "\n",
              "    .colab-df-convert:hover {\n",
              "      background-color: #E2EBFA;\n",
              "      box-shadow: 0px 1px 2px rgba(60, 64, 67, 0.3), 0px 1px 3px 1px rgba(60, 64, 67, 0.15);\n",
              "      fill: #174EA6;\n",
              "    }\n",
              "\n",
              "    [theme=dark] .colab-df-convert {\n",
              "      background-color: #3B4455;\n",
              "      fill: #D2E3FC;\n",
              "    }\n",
              "\n",
              "    [theme=dark] .colab-df-convert:hover {\n",
              "      background-color: #434B5C;\n",
              "      box-shadow: 0px 1px 3px 1px rgba(0, 0, 0, 0.15);\n",
              "      filter: drop-shadow(0px 1px 2px rgba(0, 0, 0, 0.3));\n",
              "      fill: #FFFFFF;\n",
              "    }\n",
              "  </style>\n",
              "\n",
              "      <script>\n",
              "        const buttonEl =\n",
              "          document.querySelector('#df-39f2021f-bdb6-4cc3-a884-6c1d06f14515 button.colab-df-convert');\n",
              "        buttonEl.style.display =\n",
              "          google.colab.kernel.accessAllowed ? 'block' : 'none';\n",
              "\n",
              "        async function convertToInteractive(key) {\n",
              "          const element = document.querySelector('#df-39f2021f-bdb6-4cc3-a884-6c1d06f14515');\n",
              "          const dataTable =\n",
              "            await google.colab.kernel.invokeFunction('convertToInteractive',\n",
              "                                                     [key], {});\n",
              "          if (!dataTable) return;\n",
              "\n",
              "          const docLinkHtml = 'Like what you see? Visit the ' +\n",
              "            '<a target=\"_blank\" href=https://colab.research.google.com/notebooks/data_table.ipynb>data table notebook</a>'\n",
              "            + ' to learn more about interactive tables.';\n",
              "          element.innerHTML = '';\n",
              "          dataTable['output_type'] = 'display_data';\n",
              "          await google.colab.output.renderOutput(dataTable, element);\n",
              "          const docLink = document.createElement('div');\n",
              "          docLink.innerHTML = docLinkHtml;\n",
              "          element.appendChild(docLink);\n",
              "        }\n",
              "      </script>\n",
              "    </div>\n",
              "  </div>\n",
              "  "
            ],
            "text/plain": [
              "                             given_name  surname  date_of_birth  suburb  \\\n",
              "rec_id_1      rec_id_2                                                    \n",
              "rec-183-dup-0 rec-122-org             1      0.0              0       0   \n",
              "rec-248-org   rec-122-org             1      0.0              0       0   \n",
              "              rec-183-dup-0           1      0.0              0       0   \n",
              "rec-122-dup-0 rec-122-org             1      1.0              1       1   \n",
              "              rec-183-dup-0           1      0.0              0       0   \n",
              "              rec-248-org             1      0.0              0       0   \n",
              "rec-469-org   rec-122-org             1      0.0              0       0   \n",
              "              rec-183-dup-0           1      0.0              0       0   \n",
              "              rec-248-org             1      0.0              0       0   \n",
              "              rec-122-dup-0           1      0.0              0       0   \n",
              "\n",
              "                             state  address_1  \n",
              "rec_id_1      rec_id_2                         \n",
              "rec-183-dup-0 rec-122-org        0        0.0  \n",
              "rec-248-org   rec-122-org        1        0.0  \n",
              "              rec-183-dup-0      0        0.0  \n",
              "rec-122-dup-0 rec-122-org        1        1.0  \n",
              "              rec-183-dup-0      0        0.0  \n",
              "              rec-248-org        1        0.0  \n",
              "rec-469-org   rec-122-org        0        0.0  \n",
              "              rec-183-dup-0      1        0.0  \n",
              "              rec-248-org        0        0.0  \n",
              "              rec-122-dup-0      0        0.0  "
            ]
          },
          "metadata": {},
          "execution_count": 21
        }
      ]
    },
    {
      "cell_type": "markdown",
      "metadata": {
        "id": "ai1Wsekm4kzK"
      },
      "source": [
        "The last step is to decide which records belong to the same person. In this example, we keep it simple:"
      ]
    },
    {
      "cell_type": "code",
      "metadata": {
        "colab": {
          "base_uri": "https://localhost:8080/"
        },
        "id": "Bn4LA2NU4kzL",
        "outputId": "01b8a979-da29-49e4-be02-56d908373ec9"
      },
      "source": [
        "# Sum the comparison results.\n",
        "features.sum(axis=1).value_counts().sort_index(ascending=False)"
      ],
      "execution_count": 22,
      "outputs": [
        {
          "output_type": "execute_result",
          "data": {
            "text/plain": [
              "6.0     142\n",
              "5.0     145\n",
              "4.0      30\n",
              "3.0       9\n",
              "2.0     376\n",
              "1.0    1380\n",
              "dtype: int64"
            ]
          },
          "metadata": {},
          "execution_count": 22
        }
      ]
    },
    {
      "cell_type": "code",
      "metadata": {
        "colab": {
          "base_uri": "https://localhost:8080/",
          "height": 435
        },
        "id": "_HwziqWQ4kzO",
        "outputId": "d2175295-2891-4880-bf21-3b66395ac648"
      },
      "source": [
        "matches = features[features.sum(axis=1) > 3]\n",
        "\n",
        "print(len(matches))\n",
        "matches.head(10)"
      ],
      "execution_count": 23,
      "outputs": [
        {
          "output_type": "stream",
          "name": "stdout",
          "text": [
            "317\n"
          ]
        },
        {
          "output_type": "execute_result",
          "data": {
            "text/html": [
              "\n",
              "  <div id=\"df-7fef06fc-3d0a-46d3-8d85-2f9df5caf572\">\n",
              "    <div class=\"colab-df-container\">\n",
              "      <div>\n",
              "<style scoped>\n",
              "    .dataframe tbody tr th:only-of-type {\n",
              "        vertical-align: middle;\n",
              "    }\n",
              "\n",
              "    .dataframe tbody tr th {\n",
              "        vertical-align: top;\n",
              "    }\n",
              "\n",
              "    .dataframe thead th {\n",
              "        text-align: right;\n",
              "    }\n",
              "</style>\n",
              "<table border=\"1\" class=\"dataframe\">\n",
              "  <thead>\n",
              "    <tr style=\"text-align: right;\">\n",
              "      <th></th>\n",
              "      <th></th>\n",
              "      <th>given_name</th>\n",
              "      <th>surname</th>\n",
              "      <th>date_of_birth</th>\n",
              "      <th>suburb</th>\n",
              "      <th>state</th>\n",
              "      <th>address_1</th>\n",
              "    </tr>\n",
              "    <tr>\n",
              "      <th>rec_id_1</th>\n",
              "      <th>rec_id_2</th>\n",
              "      <th></th>\n",
              "      <th></th>\n",
              "      <th></th>\n",
              "      <th></th>\n",
              "      <th></th>\n",
              "      <th></th>\n",
              "    </tr>\n",
              "  </thead>\n",
              "  <tbody>\n",
              "    <tr>\n",
              "      <th>rec-122-dup-0</th>\n",
              "      <th>rec-122-org</th>\n",
              "      <td>1</td>\n",
              "      <td>1.0</td>\n",
              "      <td>1</td>\n",
              "      <td>1</td>\n",
              "      <td>1</td>\n",
              "      <td>1.0</td>\n",
              "    </tr>\n",
              "    <tr>\n",
              "      <th>rec-183-org</th>\n",
              "      <th>rec-183-dup-0</th>\n",
              "      <td>1</td>\n",
              "      <td>1.0</td>\n",
              "      <td>1</td>\n",
              "      <td>1</td>\n",
              "      <td>1</td>\n",
              "      <td>1.0</td>\n",
              "    </tr>\n",
              "    <tr>\n",
              "      <th>rec-248-dup-0</th>\n",
              "      <th>rec-248-org</th>\n",
              "      <td>1</td>\n",
              "      <td>1.0</td>\n",
              "      <td>1</td>\n",
              "      <td>1</td>\n",
              "      <td>1</td>\n",
              "      <td>1.0</td>\n",
              "    </tr>\n",
              "    <tr>\n",
              "      <th>rec-373-dup-0</th>\n",
              "      <th>rec-373-org</th>\n",
              "      <td>1</td>\n",
              "      <td>1.0</td>\n",
              "      <td>1</td>\n",
              "      <td>1</td>\n",
              "      <td>1</td>\n",
              "      <td>1.0</td>\n",
              "    </tr>\n",
              "    <tr>\n",
              "      <th>rec-10-org</th>\n",
              "      <th>rec-10-dup-0</th>\n",
              "      <td>1</td>\n",
              "      <td>1.0</td>\n",
              "      <td>1</td>\n",
              "      <td>1</td>\n",
              "      <td>1</td>\n",
              "      <td>1.0</td>\n",
              "    </tr>\n",
              "    <tr>\n",
              "      <th>rec-342-dup-0</th>\n",
              "      <th>rec-342-org</th>\n",
              "      <td>1</td>\n",
              "      <td>1.0</td>\n",
              "      <td>0</td>\n",
              "      <td>1</td>\n",
              "      <td>1</td>\n",
              "      <td>1.0</td>\n",
              "    </tr>\n",
              "    <tr>\n",
              "      <th>rec-397-org</th>\n",
              "      <th>rec-397-dup-0</th>\n",
              "      <td>1</td>\n",
              "      <td>1.0</td>\n",
              "      <td>1</td>\n",
              "      <td>1</td>\n",
              "      <td>1</td>\n",
              "      <td>0.0</td>\n",
              "    </tr>\n",
              "    <tr>\n",
              "      <th>rec-472-org</th>\n",
              "      <th>rec-472-dup-0</th>\n",
              "      <td>1</td>\n",
              "      <td>1.0</td>\n",
              "      <td>1</td>\n",
              "      <td>1</td>\n",
              "      <td>1</td>\n",
              "      <td>0.0</td>\n",
              "    </tr>\n",
              "    <tr>\n",
              "      <th>rec-330-org</th>\n",
              "      <th>rec-330-dup-0</th>\n",
              "      <td>1</td>\n",
              "      <td>0.0</td>\n",
              "      <td>1</td>\n",
              "      <td>1</td>\n",
              "      <td>1</td>\n",
              "      <td>0.0</td>\n",
              "    </tr>\n",
              "    <tr>\n",
              "      <th>rec-190-org</th>\n",
              "      <th>rec-190-dup-0</th>\n",
              "      <td>1</td>\n",
              "      <td>1.0</td>\n",
              "      <td>0</td>\n",
              "      <td>1</td>\n",
              "      <td>1</td>\n",
              "      <td>1.0</td>\n",
              "    </tr>\n",
              "  </tbody>\n",
              "</table>\n",
              "</div>\n",
              "      <button class=\"colab-df-convert\" onclick=\"convertToInteractive('df-7fef06fc-3d0a-46d3-8d85-2f9df5caf572')\"\n",
              "              title=\"Convert this dataframe to an interactive table.\"\n",
              "              style=\"display:none;\">\n",
              "        \n",
              "  <svg xmlns=\"http://www.w3.org/2000/svg\" height=\"24px\"viewBox=\"0 0 24 24\"\n",
              "       width=\"24px\">\n",
              "    <path d=\"M0 0h24v24H0V0z\" fill=\"none\"/>\n",
              "    <path d=\"M18.56 5.44l.94 2.06.94-2.06 2.06-.94-2.06-.94-.94-2.06-.94 2.06-2.06.94zm-11 1L8.5 8.5l.94-2.06 2.06-.94-2.06-.94L8.5 2.5l-.94 2.06-2.06.94zm10 10l.94 2.06.94-2.06 2.06-.94-2.06-.94-.94-2.06-.94 2.06-2.06.94z\"/><path d=\"M17.41 7.96l-1.37-1.37c-.4-.4-.92-.59-1.43-.59-.52 0-1.04.2-1.43.59L10.3 9.45l-7.72 7.72c-.78.78-.78 2.05 0 2.83L4 21.41c.39.39.9.59 1.41.59.51 0 1.02-.2 1.41-.59l7.78-7.78 2.81-2.81c.8-.78.8-2.07 0-2.86zM5.41 20L4 18.59l7.72-7.72 1.47 1.35L5.41 20z\"/>\n",
              "  </svg>\n",
              "      </button>\n",
              "      \n",
              "  <style>\n",
              "    .colab-df-container {\n",
              "      display:flex;\n",
              "      flex-wrap:wrap;\n",
              "      gap: 12px;\n",
              "    }\n",
              "\n",
              "    .colab-df-convert {\n",
              "      background-color: #E8F0FE;\n",
              "      border: none;\n",
              "      border-radius: 50%;\n",
              "      cursor: pointer;\n",
              "      display: none;\n",
              "      fill: #1967D2;\n",
              "      height: 32px;\n",
              "      padding: 0 0 0 0;\n",
              "      width: 32px;\n",
              "    }\n",
              "\n",
              "    .colab-df-convert:hover {\n",
              "      background-color: #E2EBFA;\n",
              "      box-shadow: 0px 1px 2px rgba(60, 64, 67, 0.3), 0px 1px 3px 1px rgba(60, 64, 67, 0.15);\n",
              "      fill: #174EA6;\n",
              "    }\n",
              "\n",
              "    [theme=dark] .colab-df-convert {\n",
              "      background-color: #3B4455;\n",
              "      fill: #D2E3FC;\n",
              "    }\n",
              "\n",
              "    [theme=dark] .colab-df-convert:hover {\n",
              "      background-color: #434B5C;\n",
              "      box-shadow: 0px 1px 3px 1px rgba(0, 0, 0, 0.15);\n",
              "      filter: drop-shadow(0px 1px 2px rgba(0, 0, 0, 0.3));\n",
              "      fill: #FFFFFF;\n",
              "    }\n",
              "  </style>\n",
              "\n",
              "      <script>\n",
              "        const buttonEl =\n",
              "          document.querySelector('#df-7fef06fc-3d0a-46d3-8d85-2f9df5caf572 button.colab-df-convert');\n",
              "        buttonEl.style.display =\n",
              "          google.colab.kernel.accessAllowed ? 'block' : 'none';\n",
              "\n",
              "        async function convertToInteractive(key) {\n",
              "          const element = document.querySelector('#df-7fef06fc-3d0a-46d3-8d85-2f9df5caf572');\n",
              "          const dataTable =\n",
              "            await google.colab.kernel.invokeFunction('convertToInteractive',\n",
              "                                                     [key], {});\n",
              "          if (!dataTable) return;\n",
              "\n",
              "          const docLinkHtml = 'Like what you see? Visit the ' +\n",
              "            '<a target=\"_blank\" href=https://colab.research.google.com/notebooks/data_table.ipynb>data table notebook</a>'\n",
              "            + ' to learn more about interactive tables.';\n",
              "          element.innerHTML = '';\n",
              "          dataTable['output_type'] = 'display_data';\n",
              "          await google.colab.output.renderOutput(dataTable, element);\n",
              "          const docLink = document.createElement('div');\n",
              "          docLink.innerHTML = docLinkHtml;\n",
              "          element.appendChild(docLink);\n",
              "        }\n",
              "      </script>\n",
              "    </div>\n",
              "  </div>\n",
              "  "
            ],
            "text/plain": [
              "                             given_name  surname  date_of_birth  suburb  \\\n",
              "rec_id_1      rec_id_2                                                    \n",
              "rec-122-dup-0 rec-122-org             1      1.0              1       1   \n",
              "rec-183-org   rec-183-dup-0           1      1.0              1       1   \n",
              "rec-248-dup-0 rec-248-org             1      1.0              1       1   \n",
              "rec-373-dup-0 rec-373-org             1      1.0              1       1   \n",
              "rec-10-org    rec-10-dup-0            1      1.0              1       1   \n",
              "rec-342-dup-0 rec-342-org             1      1.0              0       1   \n",
              "rec-397-org   rec-397-dup-0           1      1.0              1       1   \n",
              "rec-472-org   rec-472-dup-0           1      1.0              1       1   \n",
              "rec-330-org   rec-330-dup-0           1      0.0              1       1   \n",
              "rec-190-org   rec-190-dup-0           1      1.0              0       1   \n",
              "\n",
              "                             state  address_1  \n",
              "rec_id_1      rec_id_2                         \n",
              "rec-122-dup-0 rec-122-org        1        1.0  \n",
              "rec-183-org   rec-183-dup-0      1        1.0  \n",
              "rec-248-dup-0 rec-248-org        1        1.0  \n",
              "rec-373-dup-0 rec-373-org        1        1.0  \n",
              "rec-10-org    rec-10-dup-0       1        1.0  \n",
              "rec-342-dup-0 rec-342-org        1        1.0  \n",
              "rec-397-org   rec-397-dup-0      1        0.0  \n",
              "rec-472-org   rec-472-dup-0      1        0.0  \n",
              "rec-330-org   rec-330-dup-0      1        0.0  \n",
              "rec-190-org   rec-190-dup-0      1        1.0  "
            ]
          },
          "metadata": {},
          "execution_count": 23
        }
      ]
    },
    {
      "cell_type": "markdown",
      "metadata": {
        "id": "4T4Llz_h4kzT"
      },
      "source": [
        "### precision and recall\n",
        "Now we can evaluate how good our deduplication worked. We can do this by computing the precision and recall values. \n",
        "\n",
        "First we have to find the correct pairs among the matches we found. We can do this by exploiting the structure of record ids and by simple string splitting. \n",
        "\n",
        "The precision value is the number of correct matches found devided by the total number of matches found. Recall is equal to the number of correct matches found devided by the total number of matching pairs in the dataset which we know is 500."
      ]
    },
    {
      "cell_type": "code",
      "metadata": {
        "id": "E35iv9FO4kzT"
      },
      "source": [
        "matches_index = matches.reset_index()[\"rec_id_1\"].map(lambda x: x.split(\"-\")[1]) == \\\n",
        "                matches.reset_index()[\"rec_id_2\"].map(lambda x: x.split(\"-\")[1])"
      ],
      "execution_count": 24,
      "outputs": []
    },
    {
      "cell_type": "code",
      "metadata": {
        "colab": {
          "base_uri": "https://localhost:8080/"
        },
        "id": "VentPKIq4kzX",
        "outputId": "60cdfea4-6b62-4ef5-b150-eb21061d2929"
      },
      "source": [
        "precision = len(matches[list(matches_index)]) / len(matches)\n",
        "print(\"precision = \", precision)\n",
        "recall = len(matches[list(matches_index)]) / 500\n",
        "print(\"recall = \", recall)"
      ],
      "execution_count": 25,
      "outputs": [
        {
          "output_type": "stream",
          "name": "stdout",
          "text": [
            "precision =  1.0\n",
            "recall =  0.634\n"
          ]
        }
      ]
    },
    {
      "cell_type": "code",
      "metadata": {
        "id": "rqp-tlwR4kzb"
      },
      "source": [
        ""
      ],
      "execution_count": 25,
      "outputs": []
    }
  ]
}
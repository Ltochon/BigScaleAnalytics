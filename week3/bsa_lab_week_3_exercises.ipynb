{
  "nbformat": 4,
  "nbformat_minor": 0,
  "metadata": {
    "kernelspec": {
      "display_name": "Python 3",
      "language": "python",
      "name": "python3"
    },
    "language_info": {
      "codemirror_mode": {
        "name": "ipython",
        "version": 3
      },
      "file_extension": ".py",
      "mimetype": "text/x-python",
      "name": "python",
      "nbconvert_exporter": "python",
      "pygments_lexer": "ipython3",
      "version": "3.7.6"
    },
    "colab": {
      "name": "bsa_lab_week_3_solutions.ipynb",
      "provenance": [],
      "collapsed_sections": []
    }
  },
  "cells": [
    {
      "cell_type": "markdown",
      "metadata": {
        "id": "6WJ5C6ArRk5r"
      },
      "source": [
        "# Week 3: Google BigQuery"
      ]
    },
    {
      "cell_type": "markdown",
      "metadata": {
        "id": "pWOMedVoVgli"
      },
      "source": [
        "## Walkthrough"
      ]
    },
    {
      "cell_type": "markdown",
      "metadata": {
        "id": "vT788YhyRk6A"
      },
      "source": [
        "### For Colab users"
      ]
    },
    {
      "cell_type": "code",
      "metadata": {
        "id": "I5c_DgIgRk6B"
      },
      "source": [
        "from google.colab import auth\n",
        "\n",
        "auth.authenticate_user()\n",
        "print(\"Authenticated\")"
      ],
      "execution_count": null,
      "outputs": []
    },
    {
      "cell_type": "markdown",
      "metadata": {
        "id": "7vrVrJY4Rk6D"
      },
      "source": [
        "### For Jupyter users"
      ]
    },
    {
      "cell_type": "markdown",
      "metadata": {
        "id": "EUCzh8RdRk6E"
      },
      "source": [
        "Make sure to replace \"PATH_TO_CREDENTIALS_FILE\" with the *absolute* path to the JSON service account key (e.g., \"C:/Users/John/credentials.json\")."
      ]
    },
    {
      "cell_type": "code",
      "metadata": {
        "id": "1SVcCZqtRk6E"
      },
      "source": [
        "!pip install google-cloud-bigquery"
      ],
      "execution_count": null,
      "outputs": []
    },
    {
      "cell_type": "code",
      "metadata": {
        "id": "N4gJJv3hRk6F"
      },
      "source": [
        "import os\n",
        "\n",
        "os.environ[\"GOOGLE_APPLICATION_CREDENTIALS\"] = \"PATH_TO_CREDENTIALS_FILE\""
      ],
      "execution_count": null,
      "outputs": []
    },
    {
      "cell_type": "markdown",
      "metadata": {
        "id": "u_4iEQwJRk6F"
      },
      "source": [
        "### Connect to BigQuery"
      ]
    },
    {
      "cell_type": "code",
      "metadata": {
        "id": "y6MUVJ1URk6G"
      },
      "source": [
        "import pandas as pd\n",
        "from google.cloud import bigquery\n",
        "\n",
        "# Create a \"Client\" object\n",
        "client = bigquery.Client(project=\"bsa-2021-sandbox\")  # CHANGE WITH YOUR OWN PROJECT"
      ],
      "execution_count": null,
      "outputs": []
    },
    {
      "cell_type": "markdown",
      "metadata": {
        "id": "YPEYucCGT6Qg"
      },
      "source": [
        "To run the cells below, you must first create a new dataset in BigQuery and upload the data from week 2 (`Teams.csv` and `Players.csv`) as tables. Since the CSV files are well-formed, you can automatically infer the schema when loading the data."
      ]
    },
    {
      "cell_type": "code",
      "metadata": {
        "id": "IdAE_PhARk6I"
      },
      "source": [
        "# Create a reference to the World Cup dataset\n",
        "dataset_ref = client.dataset(\"bsa_lab_week_3_data\", project=\"bsa-2021-sandbox\")  # CHANGE WITH YOUR OWN DATASET AND PROJECT\n",
        "\n",
        "# API request - fetch the dataset\n",
        "dataset = client.get_dataset(dataset_ref)"
      ],
      "execution_count": null,
      "outputs": []
    },
    {
      "cell_type": "code",
      "metadata": {
        "id": "WHH2DGDkRk6I"
      },
      "source": [
        "# List the tables in the dataset\n",
        "tables = list(client.list_tables(dataset))\n",
        "for table in tables:  \n",
        "    print(table.table_id)"
      ],
      "execution_count": null,
      "outputs": []
    },
    {
      "cell_type": "code",
      "metadata": {
        "id": "UKzGks1YRk6J"
      },
      "source": [
        "# Create a reference to the \"Teams\" table\n",
        "table_ref = dataset_ref.table(\"Teams\")\n",
        "\n",
        "# API request - fetch the table\n",
        "teams_table = client.get_table(table_ref)\n",
        "\n",
        "# Same for the \"Players\" table\n",
        "table_ref = dataset_ref.table(\"Players\")\n",
        "players_table = client.get_table(table_ref)"
      ],
      "execution_count": null,
      "outputs": []
    },
    {
      "cell_type": "code",
      "metadata": {
        "id": "CF2Pu6FnRk6J"
      },
      "source": [
        "# Display the schema of the \"Teams\" table \n",
        "players_table.schema"
      ],
      "execution_count": null,
      "outputs": []
    },
    {
      "cell_type": "code",
      "metadata": {
        "id": "KlY3CHcRRk6K"
      },
      "source": [
        "# Show a preview of the \"Teams\" table using pandas\n",
        "client.list_rows(teams_table, max_results=5).to_dataframe()"
      ],
      "execution_count": null,
      "outputs": []
    },
    {
      "cell_type": "markdown",
      "metadata": {
        "id": "3woLn6TZVojo"
      },
      "source": [
        "### Example of queries"
      ]
    },
    {
      "cell_type": "code",
      "metadata": {
        "id": "bp9vS2MjRk6L"
      },
      "source": [
        "q1 = \"\"\"\n",
        "select *\n",
        "from bsa-2021-sandbox.bsa_lab_week_3_data.Teams\n",
        "where ranking < 20\n",
        "order by ranking\n",
        "\"\"\"\n",
        "\n",
        "query_job = client.query(q1)\n",
        "query_job.to_dataframe()"
      ],
      "execution_count": null,
      "outputs": []
    },
    {
      "cell_type": "code",
      "metadata": {
        "id": "9-I84KsDRk6L"
      },
      "source": [
        "# Join the two tables\n",
        "q2 = \"\"\"\n",
        "select teams.*, players.surname, players.position, players.shots,\n",
        "players.minutes, players.passes, players.tackles, players.saves\n",
        "from bsa-2021-sandbox.bsa_lab_week_3_data.Teams teams\n",
        "join bsa-2021-sandbox.bsa_lab_week_3_data.Players players\n",
        "on teams.team = players.team\n",
        "\"\"\"\n",
        "\n",
        "query_job = client.query(q2)\n",
        "query_job.to_dataframe().head(10)"
      ],
      "execution_count": null,
      "outputs": []
    },
    {
      "cell_type": "markdown",
      "metadata": {
        "id": "YUBLAfHTVPCV"
      },
      "source": [
        "You can try more queries on your own! (or re-use the queries you wrote in week 2)"
      ]
    },
    {
      "cell_type": "markdown",
      "metadata": {
        "id": "85dwOrsBVua_"
      },
      "source": [
        "## Exercises"
      ]
    },
    {
      "cell_type": "markdown",
      "metadata": {
        "id": "Re8nfyykRk6M"
      },
      "source": [
        "Let's build some queries for the `accidents_2016` data from the NHTSA traffic facilities dataset, which is publicly available on Google BigQuery."
      ]
    },
    {
      "cell_type": "markdown",
      "metadata": {
        "id": "b37ta8MpWZmS"
      },
      "source": [
        "### Setting up"
      ]
    },
    {
      "cell_type": "code",
      "metadata": {
        "id": "C-8-c1GtRk6N"
      },
      "source": [
        "# Create a reference to the traffic facilities dataset\n",
        "traffic_ref = client.dataset(\"nhtsa_traffic_fatalities\", project=\"bigquery-public-data\")\n",
        "\n",
        "# API request - fetch the dataset\n",
        "traffic_dataset = client.get_dataset(traffic_ref)"
      ],
      "execution_count": null,
      "outputs": []
    },
    {
      "cell_type": "code",
      "metadata": {
        "id": "_FHDdK9URk6N"
      },
      "source": [
        "# Construct a reference to the \"accident_2016\" table\n",
        "accidents_ref = traffic_ref.table(\"accident_2016\")\n",
        "\n",
        "# API request - fetch the table\n",
        "accidents_table = client.get_table(accidents_ref)"
      ],
      "execution_count": null,
      "outputs": []
    },
    {
      "cell_type": "code",
      "metadata": {
        "id": "AEVyKb8URk6O"
      },
      "source": [
        "# Display schema\r\n",
        "accidents_table.schema"
      ],
      "execution_count": null,
      "outputs": []
    },
    {
      "cell_type": "code",
      "metadata": {
        "id": "WnURKa4VRk6O"
      },
      "source": [
        "# Show a preview of the \"accident_2016\" table\n",
        "client.list_rows(accidents_table, max_results=5).to_dataframe()"
      ],
      "execution_count": null,
      "outputs": []
    },
    {
      "cell_type": "markdown",
      "metadata": {
        "id": "-A3zzWTBWbv1"
      },
      "source": [
        "### Questions"
      ]
    },
    {
      "cell_type": "markdown",
      "metadata": {
        "id": "gY2OVZPSXcAH"
      },
      "source": [
        "You can access the table using `from bigquery-public-data.nhtsa_traffic_fatalities.accident_2016`."
      ]
    },
    {
      "cell_type": "markdown",
      "metadata": {
        "id": "eQdusmzARk6P"
      },
      "source": [
        "1) How many crashes happened in each month of 2016?"
      ]
    },
    {
      "cell_type": "code",
      "metadata": {
        "id": "DHtKtONkRk6P"
      },
      "source": [
        "q3 = \"\"\"\n",
        "YOUR QUERY HERE\n",
        "\"\"\"\n",
        "\n",
        "query_job_3 = client.query(q3)\n",
        "query_job_3.to_dataframe()"
      ],
      "execution_count": null,
      "outputs": []
    },
    {
      "cell_type": "markdown",
      "metadata": {
        "id": "3v8No6OGRk6Q"
      },
      "source": [
        "2) Let's call the accidents involving more than 5 motor vehichles in transport involved as \"massive_crash\", and all others as \"small crash\". Return the number of each type of crash for each weather condition.\n",
        "\n",
        "**Hint**: Use columns `atmospheric_conditions_1_name` and `number_of_motor_vehicles_in_transport_mvit`."
      ]
    },
    {
      "cell_type": "code",
      "metadata": {
        "id": "vGPxb7GZRk6Q"
      },
      "source": [
        "q4 = \"\"\"\n",
        "YOUR QUERY HERE\n",
        "\"\"\"\n",
        "\n",
        "query_job_4 = client.query(q4)\n",
        "query_job_4.to_dataframe()"
      ],
      "execution_count": null,
      "outputs": []
    },
    {
      "cell_type": "markdown",
      "metadata": {
        "id": "7R3M8Lx_Rk6R"
      },
      "source": [
        "3) Find the top 5 states with the highest number of drunk drivers involved in accidents."
      ]
    },
    {
      "cell_type": "code",
      "metadata": {
        "id": "z33gX9C9Rk6R"
      },
      "source": [
        "q5 = \"\"\"\n",
        "YOUR QUERY HERE\n",
        "\"\"\"\n",
        "\n",
        "query_job_5 = client.query(q5)\n",
        "query_job_5.to_dataframe()"
      ],
      "execution_count": null,
      "outputs": []
    },
    {
      "cell_type": "markdown",
      "metadata": {
        "id": "cVk4DC8IRk6R"
      },
      "source": [
        "4) Let's find out the states where using a cell phone is a major cause of accidents. Return the first 5 state names along with the number of crashes where the driver was distracted \"while manipulating cellular phone\".\r\n",
        "\r\n",
        "**Hint**: You need to join the `distract_2016` and `accident_2016` tables."
      ]
    },
    {
      "cell_type": "code",
      "metadata": {
        "id": "8LgNNDeaRk6S"
      },
      "source": [
        "q6 = \"\"\"\n",
        "YOUR QUERY HERE\n",
        "\"\"\"\n",
        "\n",
        "query_job_6 = client.query(q6)\n",
        "query_job_6.to_dataframe()"
      ],
      "execution_count": null,
      "outputs": []
    },
    {
      "cell_type": "markdown",
      "metadata": {
        "id": "_Wp_DeViRk6T"
      },
      "source": [
        "5) Sometimes, a \"live animal\" is a reason that a driver maneuvers and causes an accident. In which months of the year do such accidents happen the most? Return the month and the number of accidents. \r\n",
        "\r\n",
        "**Hint**: You need to join the `maneuver_2016` and `accident_2016` tables. "
      ]
    },
    {
      "cell_type": "code",
      "metadata": {
        "id": "ShkYLPypRk6U"
      },
      "source": [
        "q7 = \"\"\"\n",
        "YOUR QUERY HERE\n",
        "\"\"\"\n",
        "\n",
        "query_job_7 = client.query(q7)\n",
        "query_job_7.to_dataframe()"
      ],
      "execution_count": null,
      "outputs": []
    },
    {
      "cell_type": "markdown",
      "metadata": {
        "id": "3q6lYuBuRk6V"
      },
      "source": [
        "6) In the state of Alaska, in which months do \"poor road conditions\" cause the most accidents? Return the month and the number of accidents. \r\n",
        "\r\n",
        "**Hint**: Again, you will need the `maneuver_2016` table. "
      ]
    },
    {
      "cell_type": "code",
      "metadata": {
        "id": "ZpK9T-gXRk6V"
      },
      "source": [
        "q8 = \"\"\"\n",
        "YOUR QUERY HERE\n",
        "\"\"\"\n",
        "\n",
        "query_job_8 = client.query(q8)\n",
        "query_job_8.to_dataframe()"
      ],
      "execution_count": null,
      "outputs": []
    },
    {
      "cell_type": "markdown",
      "metadata": {
        "id": "t2NACaDJRk6W"
      },
      "source": [
        "7) Sometimes, a factor of the accident is that the vehicle has a problem with the \"brake system\". Filter the accidents with this factor and return the `driver_maneuvered_to_avoid_name` column along with the related number of accidents.\r\n",
        " \r\n",
        "**Hint**: You need to join the `maneuver_2016` and `factor_2016` tables."
      ]
    },
    {
      "cell_type": "code",
      "metadata": {
        "id": "Gneo-KcdRk6W"
      },
      "source": [
        "q9 = \"\"\"\n",
        "YOUR QUERY HERE\n",
        "\"\"\"\n",
        "\n",
        "query_job_9 = client.query(q9)\n",
        "query_job_9.to_dataframe()"
      ],
      "execution_count": null,
      "outputs": []
    },
    {
      "cell_type": "markdown",
      "metadata": {
        "id": "RVlEscq_Rk6X"
      },
      "source": [
        "8) Sometimes, a non-motorist is involved in a crash. For each state, find the number of crashes in which an \"inattentive\" person was involved. Return the state name and number of crashes.\r\n",
        "\r\n",
        "**Hint**: You need to join the `nmcrash_2016` and `accident_2016` tables."
      ]
    },
    {
      "cell_type": "code",
      "metadata": {
        "id": "c2a9JEDwRk6X"
      },
      "source": [
        "q10 = \"\"\"\n",
        "YOUR QUERY HERE\n",
        "\"\"\"\n",
        "\n",
        "query_job_10 = client.query(q10)\n",
        "query_job_10.to_dataframe()"
      ],
      "execution_count": null,
      "outputs": []
    },
    {
      "cell_type": "code",
      "metadata": {
        "id": "QI3g2bBDRk6Y"
      },
      "source": [
        ""
      ],
      "execution_count": null,
      "outputs": []
    }
  ]
}
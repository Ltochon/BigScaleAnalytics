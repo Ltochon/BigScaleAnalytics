{
  "nbformat": 4,
  "nbformat_minor": 5,
  "metadata": {
    "kernelspec": {
      "display_name": "Python 3",
      "language": "python",
      "name": "python3"
    },
    "language_info": {
      "codemirror_mode": {
        "name": "ipython",
        "version": 3
      },
      "file_extension": ".py",
      "mimetype": "text/x-python",
      "name": "python",
      "nbconvert_exporter": "python",
      "pygments_lexer": "ipython3",
      "version": "3.7.3"
    },
    "colab": {
      "name": "Pytorch_regression.ipynb",
      "provenance": [],
      "include_colab_link": true
    }
  },
  "cells": [
    {
      "cell_type": "markdown",
      "metadata": {
        "id": "view-in-github",
        "colab_type": "text"
      },
      "source": [
        "<a href=\"https://colab.research.google.com/github/michalis0/BigScaleAnalytics/blob/master/week11/Pytorch_regression.ipynb\" target=\"_parent\"><img src=\"https://colab.research.google.com/assets/colab-badge.svg\" alt=\"Open In Colab\"/></a>"
      ]
    },
    {
      "cell_type": "markdown",
      "metadata": {
        "id": "fleet-potter"
      },
      "source": [
        "# Predicting house prices with neural networks"
      ],
      "id": "fleet-potter"
    },
    {
      "cell_type": "code",
      "metadata": {
        "id": "sunset-blast"
      },
      "source": [
        "import numpy as np\n",
        "import pandas as pd\n",
        "import matplotlib.pyplot as plt\n",
        "%matplotlib inline"
      ],
      "id": "sunset-blast",
      "execution_count": 1,
      "outputs": []
    },
    {
      "cell_type": "markdown",
      "metadata": {
        "id": "likely-interaction"
      },
      "source": [
        "## Data"
      ],
      "id": "likely-interaction"
    },
    {
      "cell_type": "markdown",
      "metadata": {
        "id": "ruled-spider"
      },
      "source": [
        "### loading the data"
      ],
      "id": "ruled-spider"
    },
    {
      "cell_type": "code",
      "metadata": {
        "colab": {
          "base_uri": "https://localhost:8080/",
          "height": 244
        },
        "id": "grave-snake",
        "outputId": "9b0b783a-75da-41d6-e23c-7e672dddb8a6"
      },
      "source": [
        "raw_data = pd.read_csv(\"https://raw.githubusercontent.com/michalis0/BigScaleAnalytics/master/week11/data/train.csv\")\n",
        "raw_data.head()"
      ],
      "id": "grave-snake",
      "execution_count": 2,
      "outputs": [
        {
          "output_type": "execute_result",
          "data": {
            "text/html": [
              "<div>\n",
              "<style scoped>\n",
              "    .dataframe tbody tr th:only-of-type {\n",
              "        vertical-align: middle;\n",
              "    }\n",
              "\n",
              "    .dataframe tbody tr th {\n",
              "        vertical-align: top;\n",
              "    }\n",
              "\n",
              "    .dataframe thead th {\n",
              "        text-align: right;\n",
              "    }\n",
              "</style>\n",
              "<table border=\"1\" class=\"dataframe\">\n",
              "  <thead>\n",
              "    <tr style=\"text-align: right;\">\n",
              "      <th></th>\n",
              "      <th>Id</th>\n",
              "      <th>MSSubClass</th>\n",
              "      <th>MSZoning</th>\n",
              "      <th>LotFrontage</th>\n",
              "      <th>LotArea</th>\n",
              "      <th>Street</th>\n",
              "      <th>Alley</th>\n",
              "      <th>LotShape</th>\n",
              "      <th>LandContour</th>\n",
              "      <th>Utilities</th>\n",
              "      <th>LotConfig</th>\n",
              "      <th>LandSlope</th>\n",
              "      <th>Neighborhood</th>\n",
              "      <th>Condition1</th>\n",
              "      <th>Condition2</th>\n",
              "      <th>BldgType</th>\n",
              "      <th>HouseStyle</th>\n",
              "      <th>OverallQual</th>\n",
              "      <th>OverallCond</th>\n",
              "      <th>YearBuilt</th>\n",
              "      <th>YearRemodAdd</th>\n",
              "      <th>RoofStyle</th>\n",
              "      <th>RoofMatl</th>\n",
              "      <th>Exterior1st</th>\n",
              "      <th>Exterior2nd</th>\n",
              "      <th>MasVnrType</th>\n",
              "      <th>MasVnrArea</th>\n",
              "      <th>ExterQual</th>\n",
              "      <th>ExterCond</th>\n",
              "      <th>Foundation</th>\n",
              "      <th>BsmtQual</th>\n",
              "      <th>BsmtCond</th>\n",
              "      <th>BsmtExposure</th>\n",
              "      <th>BsmtFinType1</th>\n",
              "      <th>BsmtFinSF1</th>\n",
              "      <th>BsmtFinType2</th>\n",
              "      <th>BsmtFinSF2</th>\n",
              "      <th>BsmtUnfSF</th>\n",
              "      <th>TotalBsmtSF</th>\n",
              "      <th>Heating</th>\n",
              "      <th>...</th>\n",
              "      <th>CentralAir</th>\n",
              "      <th>Electrical</th>\n",
              "      <th>1stFlrSF</th>\n",
              "      <th>2ndFlrSF</th>\n",
              "      <th>LowQualFinSF</th>\n",
              "      <th>GrLivArea</th>\n",
              "      <th>BsmtFullBath</th>\n",
              "      <th>BsmtHalfBath</th>\n",
              "      <th>FullBath</th>\n",
              "      <th>HalfBath</th>\n",
              "      <th>BedroomAbvGr</th>\n",
              "      <th>KitchenAbvGr</th>\n",
              "      <th>KitchenQual</th>\n",
              "      <th>TotRmsAbvGrd</th>\n",
              "      <th>Functional</th>\n",
              "      <th>Fireplaces</th>\n",
              "      <th>FireplaceQu</th>\n",
              "      <th>GarageType</th>\n",
              "      <th>GarageYrBlt</th>\n",
              "      <th>GarageFinish</th>\n",
              "      <th>GarageCars</th>\n",
              "      <th>GarageArea</th>\n",
              "      <th>GarageQual</th>\n",
              "      <th>GarageCond</th>\n",
              "      <th>PavedDrive</th>\n",
              "      <th>WoodDeckSF</th>\n",
              "      <th>OpenPorchSF</th>\n",
              "      <th>EnclosedPorch</th>\n",
              "      <th>3SsnPorch</th>\n",
              "      <th>ScreenPorch</th>\n",
              "      <th>PoolArea</th>\n",
              "      <th>PoolQC</th>\n",
              "      <th>Fence</th>\n",
              "      <th>MiscFeature</th>\n",
              "      <th>MiscVal</th>\n",
              "      <th>MoSold</th>\n",
              "      <th>YrSold</th>\n",
              "      <th>SaleType</th>\n",
              "      <th>SaleCondition</th>\n",
              "      <th>SalePrice</th>\n",
              "    </tr>\n",
              "  </thead>\n",
              "  <tbody>\n",
              "    <tr>\n",
              "      <th>0</th>\n",
              "      <td>1</td>\n",
              "      <td>60</td>\n",
              "      <td>RL</td>\n",
              "      <td>65.0</td>\n",
              "      <td>8450</td>\n",
              "      <td>Pave</td>\n",
              "      <td>NaN</td>\n",
              "      <td>Reg</td>\n",
              "      <td>Lvl</td>\n",
              "      <td>AllPub</td>\n",
              "      <td>Inside</td>\n",
              "      <td>Gtl</td>\n",
              "      <td>CollgCr</td>\n",
              "      <td>Norm</td>\n",
              "      <td>Norm</td>\n",
              "      <td>1Fam</td>\n",
              "      <td>2Story</td>\n",
              "      <td>7</td>\n",
              "      <td>5</td>\n",
              "      <td>2003</td>\n",
              "      <td>2003</td>\n",
              "      <td>Gable</td>\n",
              "      <td>CompShg</td>\n",
              "      <td>VinylSd</td>\n",
              "      <td>VinylSd</td>\n",
              "      <td>BrkFace</td>\n",
              "      <td>196.0</td>\n",
              "      <td>Gd</td>\n",
              "      <td>TA</td>\n",
              "      <td>PConc</td>\n",
              "      <td>Gd</td>\n",
              "      <td>TA</td>\n",
              "      <td>No</td>\n",
              "      <td>GLQ</td>\n",
              "      <td>706</td>\n",
              "      <td>Unf</td>\n",
              "      <td>0</td>\n",
              "      <td>150</td>\n",
              "      <td>856</td>\n",
              "      <td>GasA</td>\n",
              "      <td>...</td>\n",
              "      <td>Y</td>\n",
              "      <td>SBrkr</td>\n",
              "      <td>856</td>\n",
              "      <td>854</td>\n",
              "      <td>0</td>\n",
              "      <td>1710</td>\n",
              "      <td>1</td>\n",
              "      <td>0</td>\n",
              "      <td>2</td>\n",
              "      <td>1</td>\n",
              "      <td>3</td>\n",
              "      <td>1</td>\n",
              "      <td>Gd</td>\n",
              "      <td>8</td>\n",
              "      <td>Typ</td>\n",
              "      <td>0</td>\n",
              "      <td>NaN</td>\n",
              "      <td>Attchd</td>\n",
              "      <td>2003.0</td>\n",
              "      <td>RFn</td>\n",
              "      <td>2</td>\n",
              "      <td>548</td>\n",
              "      <td>TA</td>\n",
              "      <td>TA</td>\n",
              "      <td>Y</td>\n",
              "      <td>0</td>\n",
              "      <td>61</td>\n",
              "      <td>0</td>\n",
              "      <td>0</td>\n",
              "      <td>0</td>\n",
              "      <td>0</td>\n",
              "      <td>NaN</td>\n",
              "      <td>NaN</td>\n",
              "      <td>NaN</td>\n",
              "      <td>0</td>\n",
              "      <td>2</td>\n",
              "      <td>2008</td>\n",
              "      <td>WD</td>\n",
              "      <td>Normal</td>\n",
              "      <td>208500</td>\n",
              "    </tr>\n",
              "    <tr>\n",
              "      <th>1</th>\n",
              "      <td>2</td>\n",
              "      <td>20</td>\n",
              "      <td>RL</td>\n",
              "      <td>80.0</td>\n",
              "      <td>9600</td>\n",
              "      <td>Pave</td>\n",
              "      <td>NaN</td>\n",
              "      <td>Reg</td>\n",
              "      <td>Lvl</td>\n",
              "      <td>AllPub</td>\n",
              "      <td>FR2</td>\n",
              "      <td>Gtl</td>\n",
              "      <td>Veenker</td>\n",
              "      <td>Feedr</td>\n",
              "      <td>Norm</td>\n",
              "      <td>1Fam</td>\n",
              "      <td>1Story</td>\n",
              "      <td>6</td>\n",
              "      <td>8</td>\n",
              "      <td>1976</td>\n",
              "      <td>1976</td>\n",
              "      <td>Gable</td>\n",
              "      <td>CompShg</td>\n",
              "      <td>MetalSd</td>\n",
              "      <td>MetalSd</td>\n",
              "      <td>None</td>\n",
              "      <td>0.0</td>\n",
              "      <td>TA</td>\n",
              "      <td>TA</td>\n",
              "      <td>CBlock</td>\n",
              "      <td>Gd</td>\n",
              "      <td>TA</td>\n",
              "      <td>Gd</td>\n",
              "      <td>ALQ</td>\n",
              "      <td>978</td>\n",
              "      <td>Unf</td>\n",
              "      <td>0</td>\n",
              "      <td>284</td>\n",
              "      <td>1262</td>\n",
              "      <td>GasA</td>\n",
              "      <td>...</td>\n",
              "      <td>Y</td>\n",
              "      <td>SBrkr</td>\n",
              "      <td>1262</td>\n",
              "      <td>0</td>\n",
              "      <td>0</td>\n",
              "      <td>1262</td>\n",
              "      <td>0</td>\n",
              "      <td>1</td>\n",
              "      <td>2</td>\n",
              "      <td>0</td>\n",
              "      <td>3</td>\n",
              "      <td>1</td>\n",
              "      <td>TA</td>\n",
              "      <td>6</td>\n",
              "      <td>Typ</td>\n",
              "      <td>1</td>\n",
              "      <td>TA</td>\n",
              "      <td>Attchd</td>\n",
              "      <td>1976.0</td>\n",
              "      <td>RFn</td>\n",
              "      <td>2</td>\n",
              "      <td>460</td>\n",
              "      <td>TA</td>\n",
              "      <td>TA</td>\n",
              "      <td>Y</td>\n",
              "      <td>298</td>\n",
              "      <td>0</td>\n",
              "      <td>0</td>\n",
              "      <td>0</td>\n",
              "      <td>0</td>\n",
              "      <td>0</td>\n",
              "      <td>NaN</td>\n",
              "      <td>NaN</td>\n",
              "      <td>NaN</td>\n",
              "      <td>0</td>\n",
              "      <td>5</td>\n",
              "      <td>2007</td>\n",
              "      <td>WD</td>\n",
              "      <td>Normal</td>\n",
              "      <td>181500</td>\n",
              "    </tr>\n",
              "    <tr>\n",
              "      <th>2</th>\n",
              "      <td>3</td>\n",
              "      <td>60</td>\n",
              "      <td>RL</td>\n",
              "      <td>68.0</td>\n",
              "      <td>11250</td>\n",
              "      <td>Pave</td>\n",
              "      <td>NaN</td>\n",
              "      <td>IR1</td>\n",
              "      <td>Lvl</td>\n",
              "      <td>AllPub</td>\n",
              "      <td>Inside</td>\n",
              "      <td>Gtl</td>\n",
              "      <td>CollgCr</td>\n",
              "      <td>Norm</td>\n",
              "      <td>Norm</td>\n",
              "      <td>1Fam</td>\n",
              "      <td>2Story</td>\n",
              "      <td>7</td>\n",
              "      <td>5</td>\n",
              "      <td>2001</td>\n",
              "      <td>2002</td>\n",
              "      <td>Gable</td>\n",
              "      <td>CompShg</td>\n",
              "      <td>VinylSd</td>\n",
              "      <td>VinylSd</td>\n",
              "      <td>BrkFace</td>\n",
              "      <td>162.0</td>\n",
              "      <td>Gd</td>\n",
              "      <td>TA</td>\n",
              "      <td>PConc</td>\n",
              "      <td>Gd</td>\n",
              "      <td>TA</td>\n",
              "      <td>Mn</td>\n",
              "      <td>GLQ</td>\n",
              "      <td>486</td>\n",
              "      <td>Unf</td>\n",
              "      <td>0</td>\n",
              "      <td>434</td>\n",
              "      <td>920</td>\n",
              "      <td>GasA</td>\n",
              "      <td>...</td>\n",
              "      <td>Y</td>\n",
              "      <td>SBrkr</td>\n",
              "      <td>920</td>\n",
              "      <td>866</td>\n",
              "      <td>0</td>\n",
              "      <td>1786</td>\n",
              "      <td>1</td>\n",
              "      <td>0</td>\n",
              "      <td>2</td>\n",
              "      <td>1</td>\n",
              "      <td>3</td>\n",
              "      <td>1</td>\n",
              "      <td>Gd</td>\n",
              "      <td>6</td>\n",
              "      <td>Typ</td>\n",
              "      <td>1</td>\n",
              "      <td>TA</td>\n",
              "      <td>Attchd</td>\n",
              "      <td>2001.0</td>\n",
              "      <td>RFn</td>\n",
              "      <td>2</td>\n",
              "      <td>608</td>\n",
              "      <td>TA</td>\n",
              "      <td>TA</td>\n",
              "      <td>Y</td>\n",
              "      <td>0</td>\n",
              "      <td>42</td>\n",
              "      <td>0</td>\n",
              "      <td>0</td>\n",
              "      <td>0</td>\n",
              "      <td>0</td>\n",
              "      <td>NaN</td>\n",
              "      <td>NaN</td>\n",
              "      <td>NaN</td>\n",
              "      <td>0</td>\n",
              "      <td>9</td>\n",
              "      <td>2008</td>\n",
              "      <td>WD</td>\n",
              "      <td>Normal</td>\n",
              "      <td>223500</td>\n",
              "    </tr>\n",
              "    <tr>\n",
              "      <th>3</th>\n",
              "      <td>4</td>\n",
              "      <td>70</td>\n",
              "      <td>RL</td>\n",
              "      <td>60.0</td>\n",
              "      <td>9550</td>\n",
              "      <td>Pave</td>\n",
              "      <td>NaN</td>\n",
              "      <td>IR1</td>\n",
              "      <td>Lvl</td>\n",
              "      <td>AllPub</td>\n",
              "      <td>Corner</td>\n",
              "      <td>Gtl</td>\n",
              "      <td>Crawfor</td>\n",
              "      <td>Norm</td>\n",
              "      <td>Norm</td>\n",
              "      <td>1Fam</td>\n",
              "      <td>2Story</td>\n",
              "      <td>7</td>\n",
              "      <td>5</td>\n",
              "      <td>1915</td>\n",
              "      <td>1970</td>\n",
              "      <td>Gable</td>\n",
              "      <td>CompShg</td>\n",
              "      <td>Wd Sdng</td>\n",
              "      <td>Wd Shng</td>\n",
              "      <td>None</td>\n",
              "      <td>0.0</td>\n",
              "      <td>TA</td>\n",
              "      <td>TA</td>\n",
              "      <td>BrkTil</td>\n",
              "      <td>TA</td>\n",
              "      <td>Gd</td>\n",
              "      <td>No</td>\n",
              "      <td>ALQ</td>\n",
              "      <td>216</td>\n",
              "      <td>Unf</td>\n",
              "      <td>0</td>\n",
              "      <td>540</td>\n",
              "      <td>756</td>\n",
              "      <td>GasA</td>\n",
              "      <td>...</td>\n",
              "      <td>Y</td>\n",
              "      <td>SBrkr</td>\n",
              "      <td>961</td>\n",
              "      <td>756</td>\n",
              "      <td>0</td>\n",
              "      <td>1717</td>\n",
              "      <td>1</td>\n",
              "      <td>0</td>\n",
              "      <td>1</td>\n",
              "      <td>0</td>\n",
              "      <td>3</td>\n",
              "      <td>1</td>\n",
              "      <td>Gd</td>\n",
              "      <td>7</td>\n",
              "      <td>Typ</td>\n",
              "      <td>1</td>\n",
              "      <td>Gd</td>\n",
              "      <td>Detchd</td>\n",
              "      <td>1998.0</td>\n",
              "      <td>Unf</td>\n",
              "      <td>3</td>\n",
              "      <td>642</td>\n",
              "      <td>TA</td>\n",
              "      <td>TA</td>\n",
              "      <td>Y</td>\n",
              "      <td>0</td>\n",
              "      <td>35</td>\n",
              "      <td>272</td>\n",
              "      <td>0</td>\n",
              "      <td>0</td>\n",
              "      <td>0</td>\n",
              "      <td>NaN</td>\n",
              "      <td>NaN</td>\n",
              "      <td>NaN</td>\n",
              "      <td>0</td>\n",
              "      <td>2</td>\n",
              "      <td>2006</td>\n",
              "      <td>WD</td>\n",
              "      <td>Abnorml</td>\n",
              "      <td>140000</td>\n",
              "    </tr>\n",
              "    <tr>\n",
              "      <th>4</th>\n",
              "      <td>5</td>\n",
              "      <td>60</td>\n",
              "      <td>RL</td>\n",
              "      <td>84.0</td>\n",
              "      <td>14260</td>\n",
              "      <td>Pave</td>\n",
              "      <td>NaN</td>\n",
              "      <td>IR1</td>\n",
              "      <td>Lvl</td>\n",
              "      <td>AllPub</td>\n",
              "      <td>FR2</td>\n",
              "      <td>Gtl</td>\n",
              "      <td>NoRidge</td>\n",
              "      <td>Norm</td>\n",
              "      <td>Norm</td>\n",
              "      <td>1Fam</td>\n",
              "      <td>2Story</td>\n",
              "      <td>8</td>\n",
              "      <td>5</td>\n",
              "      <td>2000</td>\n",
              "      <td>2000</td>\n",
              "      <td>Gable</td>\n",
              "      <td>CompShg</td>\n",
              "      <td>VinylSd</td>\n",
              "      <td>VinylSd</td>\n",
              "      <td>BrkFace</td>\n",
              "      <td>350.0</td>\n",
              "      <td>Gd</td>\n",
              "      <td>TA</td>\n",
              "      <td>PConc</td>\n",
              "      <td>Gd</td>\n",
              "      <td>TA</td>\n",
              "      <td>Av</td>\n",
              "      <td>GLQ</td>\n",
              "      <td>655</td>\n",
              "      <td>Unf</td>\n",
              "      <td>0</td>\n",
              "      <td>490</td>\n",
              "      <td>1145</td>\n",
              "      <td>GasA</td>\n",
              "      <td>...</td>\n",
              "      <td>Y</td>\n",
              "      <td>SBrkr</td>\n",
              "      <td>1145</td>\n",
              "      <td>1053</td>\n",
              "      <td>0</td>\n",
              "      <td>2198</td>\n",
              "      <td>1</td>\n",
              "      <td>0</td>\n",
              "      <td>2</td>\n",
              "      <td>1</td>\n",
              "      <td>4</td>\n",
              "      <td>1</td>\n",
              "      <td>Gd</td>\n",
              "      <td>9</td>\n",
              "      <td>Typ</td>\n",
              "      <td>1</td>\n",
              "      <td>TA</td>\n",
              "      <td>Attchd</td>\n",
              "      <td>2000.0</td>\n",
              "      <td>RFn</td>\n",
              "      <td>3</td>\n",
              "      <td>836</td>\n",
              "      <td>TA</td>\n",
              "      <td>TA</td>\n",
              "      <td>Y</td>\n",
              "      <td>192</td>\n",
              "      <td>84</td>\n",
              "      <td>0</td>\n",
              "      <td>0</td>\n",
              "      <td>0</td>\n",
              "      <td>0</td>\n",
              "      <td>NaN</td>\n",
              "      <td>NaN</td>\n",
              "      <td>NaN</td>\n",
              "      <td>0</td>\n",
              "      <td>12</td>\n",
              "      <td>2008</td>\n",
              "      <td>WD</td>\n",
              "      <td>Normal</td>\n",
              "      <td>250000</td>\n",
              "    </tr>\n",
              "  </tbody>\n",
              "</table>\n",
              "<p>5 rows × 81 columns</p>\n",
              "</div>"
            ],
            "text/plain": [
              "   Id  MSSubClass MSZoning  ...  SaleType  SaleCondition SalePrice\n",
              "0   1          60       RL  ...        WD         Normal    208500\n",
              "1   2          20       RL  ...        WD         Normal    181500\n",
              "2   3          60       RL  ...        WD         Normal    223500\n",
              "3   4          70       RL  ...        WD        Abnorml    140000\n",
              "4   5          60       RL  ...        WD         Normal    250000\n",
              "\n",
              "[5 rows x 81 columns]"
            ]
          },
          "metadata": {
            "tags": []
          },
          "execution_count": 2
        }
      ]
    },
    {
      "cell_type": "code",
      "metadata": {
        "colab": {
          "base_uri": "https://localhost:8080/"
        },
        "id": "adjacent-substance",
        "outputId": "413e0514-ca9e-42db-cca1-93864ff41cbc"
      },
      "source": [
        "raw_data.shape"
      ],
      "id": "adjacent-substance",
      "execution_count": 3,
      "outputs": [
        {
          "output_type": "execute_result",
          "data": {
            "text/plain": [
              "(1460, 81)"
            ]
          },
          "metadata": {
            "tags": []
          },
          "execution_count": 3
        }
      ]
    },
    {
      "cell_type": "markdown",
      "metadata": {
        "id": "annual-officer"
      },
      "source": [
        "### Extracting the numeric columns"
      ],
      "id": "annual-officer"
    },
    {
      "cell_type": "code",
      "metadata": {
        "colab": {
          "base_uri": "https://localhost:8080/"
        },
        "id": "identified-wildlife",
        "outputId": "72d9ce41-c098-479c-d132-0d2a8a353055"
      },
      "source": [
        "raw_data.dtypes"
      ],
      "id": "identified-wildlife",
      "execution_count": 4,
      "outputs": [
        {
          "output_type": "execute_result",
          "data": {
            "text/plain": [
              "Id                 int64\n",
              "MSSubClass         int64\n",
              "MSZoning          object\n",
              "LotFrontage      float64\n",
              "LotArea            int64\n",
              "                  ...   \n",
              "MoSold             int64\n",
              "YrSold             int64\n",
              "SaleType          object\n",
              "SaleCondition     object\n",
              "SalePrice          int64\n",
              "Length: 81, dtype: object"
            ]
          },
          "metadata": {
            "tags": []
          },
          "execution_count": 4
        }
      ]
    },
    {
      "cell_type": "code",
      "metadata": {
        "colab": {
          "base_uri": "https://localhost:8080/"
        },
        "id": "rubber-corrections",
        "outputId": "380b2002-c773-4853-b605-ca1a672eb0b2"
      },
      "source": [
        "numeric_columns = list(raw_data.columns[(raw_data.dtypes==np.int64) |\n",
        "                 (raw_data.dtypes==np.float64)])\n",
        "print(numeric_columns, \"\\n\", len(numeric_columns))"
      ],
      "id": "rubber-corrections",
      "execution_count": 5,
      "outputs": [
        {
          "output_type": "stream",
          "text": [
            "['Id', 'MSSubClass', 'LotFrontage', 'LotArea', 'OverallQual', 'OverallCond', 'YearBuilt', 'YearRemodAdd', 'MasVnrArea', 'BsmtFinSF1', 'BsmtFinSF2', 'BsmtUnfSF', 'TotalBsmtSF', '1stFlrSF', '2ndFlrSF', 'LowQualFinSF', 'GrLivArea', 'BsmtFullBath', 'BsmtHalfBath', 'FullBath', 'HalfBath', 'BedroomAbvGr', 'KitchenAbvGr', 'TotRmsAbvGrd', 'Fireplaces', 'GarageYrBlt', 'GarageCars', 'GarageArea', 'WoodDeckSF', 'OpenPorchSF', 'EnclosedPorch', '3SsnPorch', 'ScreenPorch', 'PoolArea', 'MiscVal', 'MoSold', 'YrSold', 'SalePrice'] \n",
            " 38\n"
          ],
          "name": "stdout"
        }
      ]
    },
    {
      "cell_type": "markdown",
      "metadata": {
        "id": "announced-incidence"
      },
      "source": [
        "Set `SalesPrice` as the last index, since it is the value we want to predict."
      ],
      "id": "announced-incidence"
    },
    {
      "cell_type": "code",
      "metadata": {
        "id": "intermediate-cable"
      },
      "source": [
        "numeric_columns.remove('SalePrice')\n",
        "numeric_columns.append('SalePrice')"
      ],
      "id": "intermediate-cable",
      "execution_count": 6,
      "outputs": []
    },
    {
      "cell_type": "markdown",
      "metadata": {
        "id": "extended-attribute"
      },
      "source": [
        "We do not need the `Id` column."
      ],
      "id": "extended-attribute"
    },
    {
      "cell_type": "code",
      "metadata": {
        "id": "marked-cancellation"
      },
      "source": [
        "numeric_columns.remove('Id')"
      ],
      "id": "marked-cancellation",
      "execution_count": 7,
      "outputs": []
    },
    {
      "cell_type": "markdown",
      "metadata": {
        "id": "returning-vertex"
      },
      "source": [
        "Now we extract the numeric data."
      ],
      "id": "returning-vertex"
    },
    {
      "cell_type": "code",
      "metadata": {
        "colab": {
          "base_uri": "https://localhost:8080/",
          "height": 215
        },
        "id": "irish-probe",
        "outputId": "c62a46ce-1641-4ff2-a661-e92904461cee"
      },
      "source": [
        "numeric_data = raw_data[numeric_columns]\n",
        "numeric_data.head()"
      ],
      "id": "irish-probe",
      "execution_count": 8,
      "outputs": [
        {
          "output_type": "execute_result",
          "data": {
            "text/html": [
              "<div>\n",
              "<style scoped>\n",
              "    .dataframe tbody tr th:only-of-type {\n",
              "        vertical-align: middle;\n",
              "    }\n",
              "\n",
              "    .dataframe tbody tr th {\n",
              "        vertical-align: top;\n",
              "    }\n",
              "\n",
              "    .dataframe thead th {\n",
              "        text-align: right;\n",
              "    }\n",
              "</style>\n",
              "<table border=\"1\" class=\"dataframe\">\n",
              "  <thead>\n",
              "    <tr style=\"text-align: right;\">\n",
              "      <th></th>\n",
              "      <th>MSSubClass</th>\n",
              "      <th>LotFrontage</th>\n",
              "      <th>LotArea</th>\n",
              "      <th>OverallQual</th>\n",
              "      <th>OverallCond</th>\n",
              "      <th>YearBuilt</th>\n",
              "      <th>YearRemodAdd</th>\n",
              "      <th>MasVnrArea</th>\n",
              "      <th>BsmtFinSF1</th>\n",
              "      <th>BsmtFinSF2</th>\n",
              "      <th>BsmtUnfSF</th>\n",
              "      <th>TotalBsmtSF</th>\n",
              "      <th>1stFlrSF</th>\n",
              "      <th>2ndFlrSF</th>\n",
              "      <th>LowQualFinSF</th>\n",
              "      <th>GrLivArea</th>\n",
              "      <th>BsmtFullBath</th>\n",
              "      <th>BsmtHalfBath</th>\n",
              "      <th>FullBath</th>\n",
              "      <th>HalfBath</th>\n",
              "      <th>BedroomAbvGr</th>\n",
              "      <th>KitchenAbvGr</th>\n",
              "      <th>TotRmsAbvGrd</th>\n",
              "      <th>Fireplaces</th>\n",
              "      <th>GarageYrBlt</th>\n",
              "      <th>GarageCars</th>\n",
              "      <th>GarageArea</th>\n",
              "      <th>WoodDeckSF</th>\n",
              "      <th>OpenPorchSF</th>\n",
              "      <th>EnclosedPorch</th>\n",
              "      <th>3SsnPorch</th>\n",
              "      <th>ScreenPorch</th>\n",
              "      <th>PoolArea</th>\n",
              "      <th>MiscVal</th>\n",
              "      <th>MoSold</th>\n",
              "      <th>YrSold</th>\n",
              "      <th>SalePrice</th>\n",
              "    </tr>\n",
              "  </thead>\n",
              "  <tbody>\n",
              "    <tr>\n",
              "      <th>0</th>\n",
              "      <td>60</td>\n",
              "      <td>65.0</td>\n",
              "      <td>8450</td>\n",
              "      <td>7</td>\n",
              "      <td>5</td>\n",
              "      <td>2003</td>\n",
              "      <td>2003</td>\n",
              "      <td>196.0</td>\n",
              "      <td>706</td>\n",
              "      <td>0</td>\n",
              "      <td>150</td>\n",
              "      <td>856</td>\n",
              "      <td>856</td>\n",
              "      <td>854</td>\n",
              "      <td>0</td>\n",
              "      <td>1710</td>\n",
              "      <td>1</td>\n",
              "      <td>0</td>\n",
              "      <td>2</td>\n",
              "      <td>1</td>\n",
              "      <td>3</td>\n",
              "      <td>1</td>\n",
              "      <td>8</td>\n",
              "      <td>0</td>\n",
              "      <td>2003.0</td>\n",
              "      <td>2</td>\n",
              "      <td>548</td>\n",
              "      <td>0</td>\n",
              "      <td>61</td>\n",
              "      <td>0</td>\n",
              "      <td>0</td>\n",
              "      <td>0</td>\n",
              "      <td>0</td>\n",
              "      <td>0</td>\n",
              "      <td>2</td>\n",
              "      <td>2008</td>\n",
              "      <td>208500</td>\n",
              "    </tr>\n",
              "    <tr>\n",
              "      <th>1</th>\n",
              "      <td>20</td>\n",
              "      <td>80.0</td>\n",
              "      <td>9600</td>\n",
              "      <td>6</td>\n",
              "      <td>8</td>\n",
              "      <td>1976</td>\n",
              "      <td>1976</td>\n",
              "      <td>0.0</td>\n",
              "      <td>978</td>\n",
              "      <td>0</td>\n",
              "      <td>284</td>\n",
              "      <td>1262</td>\n",
              "      <td>1262</td>\n",
              "      <td>0</td>\n",
              "      <td>0</td>\n",
              "      <td>1262</td>\n",
              "      <td>0</td>\n",
              "      <td>1</td>\n",
              "      <td>2</td>\n",
              "      <td>0</td>\n",
              "      <td>3</td>\n",
              "      <td>1</td>\n",
              "      <td>6</td>\n",
              "      <td>1</td>\n",
              "      <td>1976.0</td>\n",
              "      <td>2</td>\n",
              "      <td>460</td>\n",
              "      <td>298</td>\n",
              "      <td>0</td>\n",
              "      <td>0</td>\n",
              "      <td>0</td>\n",
              "      <td>0</td>\n",
              "      <td>0</td>\n",
              "      <td>0</td>\n",
              "      <td>5</td>\n",
              "      <td>2007</td>\n",
              "      <td>181500</td>\n",
              "    </tr>\n",
              "    <tr>\n",
              "      <th>2</th>\n",
              "      <td>60</td>\n",
              "      <td>68.0</td>\n",
              "      <td>11250</td>\n",
              "      <td>7</td>\n",
              "      <td>5</td>\n",
              "      <td>2001</td>\n",
              "      <td>2002</td>\n",
              "      <td>162.0</td>\n",
              "      <td>486</td>\n",
              "      <td>0</td>\n",
              "      <td>434</td>\n",
              "      <td>920</td>\n",
              "      <td>920</td>\n",
              "      <td>866</td>\n",
              "      <td>0</td>\n",
              "      <td>1786</td>\n",
              "      <td>1</td>\n",
              "      <td>0</td>\n",
              "      <td>2</td>\n",
              "      <td>1</td>\n",
              "      <td>3</td>\n",
              "      <td>1</td>\n",
              "      <td>6</td>\n",
              "      <td>1</td>\n",
              "      <td>2001.0</td>\n",
              "      <td>2</td>\n",
              "      <td>608</td>\n",
              "      <td>0</td>\n",
              "      <td>42</td>\n",
              "      <td>0</td>\n",
              "      <td>0</td>\n",
              "      <td>0</td>\n",
              "      <td>0</td>\n",
              "      <td>0</td>\n",
              "      <td>9</td>\n",
              "      <td>2008</td>\n",
              "      <td>223500</td>\n",
              "    </tr>\n",
              "    <tr>\n",
              "      <th>3</th>\n",
              "      <td>70</td>\n",
              "      <td>60.0</td>\n",
              "      <td>9550</td>\n",
              "      <td>7</td>\n",
              "      <td>5</td>\n",
              "      <td>1915</td>\n",
              "      <td>1970</td>\n",
              "      <td>0.0</td>\n",
              "      <td>216</td>\n",
              "      <td>0</td>\n",
              "      <td>540</td>\n",
              "      <td>756</td>\n",
              "      <td>961</td>\n",
              "      <td>756</td>\n",
              "      <td>0</td>\n",
              "      <td>1717</td>\n",
              "      <td>1</td>\n",
              "      <td>0</td>\n",
              "      <td>1</td>\n",
              "      <td>0</td>\n",
              "      <td>3</td>\n",
              "      <td>1</td>\n",
              "      <td>7</td>\n",
              "      <td>1</td>\n",
              "      <td>1998.0</td>\n",
              "      <td>3</td>\n",
              "      <td>642</td>\n",
              "      <td>0</td>\n",
              "      <td>35</td>\n",
              "      <td>272</td>\n",
              "      <td>0</td>\n",
              "      <td>0</td>\n",
              "      <td>0</td>\n",
              "      <td>0</td>\n",
              "      <td>2</td>\n",
              "      <td>2006</td>\n",
              "      <td>140000</td>\n",
              "    </tr>\n",
              "    <tr>\n",
              "      <th>4</th>\n",
              "      <td>60</td>\n",
              "      <td>84.0</td>\n",
              "      <td>14260</td>\n",
              "      <td>8</td>\n",
              "      <td>5</td>\n",
              "      <td>2000</td>\n",
              "      <td>2000</td>\n",
              "      <td>350.0</td>\n",
              "      <td>655</td>\n",
              "      <td>0</td>\n",
              "      <td>490</td>\n",
              "      <td>1145</td>\n",
              "      <td>1145</td>\n",
              "      <td>1053</td>\n",
              "      <td>0</td>\n",
              "      <td>2198</td>\n",
              "      <td>1</td>\n",
              "      <td>0</td>\n",
              "      <td>2</td>\n",
              "      <td>1</td>\n",
              "      <td>4</td>\n",
              "      <td>1</td>\n",
              "      <td>9</td>\n",
              "      <td>1</td>\n",
              "      <td>2000.0</td>\n",
              "      <td>3</td>\n",
              "      <td>836</td>\n",
              "      <td>192</td>\n",
              "      <td>84</td>\n",
              "      <td>0</td>\n",
              "      <td>0</td>\n",
              "      <td>0</td>\n",
              "      <td>0</td>\n",
              "      <td>0</td>\n",
              "      <td>12</td>\n",
              "      <td>2008</td>\n",
              "      <td>250000</td>\n",
              "    </tr>\n",
              "  </tbody>\n",
              "</table>\n",
              "</div>"
            ],
            "text/plain": [
              "   MSSubClass  LotFrontage  LotArea  ...  MoSold  YrSold  SalePrice\n",
              "0          60         65.0     8450  ...       2    2008     208500\n",
              "1          20         80.0     9600  ...       5    2007     181500\n",
              "2          60         68.0    11250  ...       9    2008     223500\n",
              "3          70         60.0     9550  ...       2    2006     140000\n",
              "4          60         84.0    14260  ...      12    2008     250000\n",
              "\n",
              "[5 rows x 37 columns]"
            ]
          },
          "metadata": {
            "tags": []
          },
          "execution_count": 8
        }
      ]
    },
    {
      "cell_type": "markdown",
      "metadata": {
        "id": "warming-cartoon"
      },
      "source": [
        "Now let's deal with the missing values in the data."
      ],
      "id": "warming-cartoon"
    },
    {
      "cell_type": "code",
      "metadata": {
        "colab": {
          "base_uri": "https://localhost:8080/"
        },
        "id": "obvious-rider",
        "outputId": "5977a64c-7b76-49a5-b8d1-8cb7c35b0d5b"
      },
      "source": [
        "nan_columns = np.any(pd.isna(numeric_data), axis = 0)\n",
        "nan_columns = list(nan_columns[nan_columns == True].index)\n",
        "nan_columns"
      ],
      "id": "obvious-rider",
      "execution_count": 9,
      "outputs": [
        {
          "output_type": "execute_result",
          "data": {
            "text/plain": [
              "['LotFrontage', 'MasVnrArea', 'GarageYrBlt']"
            ]
          },
          "metadata": {
            "tags": []
          },
          "execution_count": 9
        }
      ]
    },
    {
      "cell_type": "markdown",
      "metadata": {
        "id": "activated-center"
      },
      "source": [
        "We simply replace them with zero."
      ],
      "id": "activated-center"
    },
    {
      "cell_type": "code",
      "metadata": {
        "colab": {
          "base_uri": "https://localhost:8080/"
        },
        "id": "quarterly-murray",
        "outputId": "01d84027-c1e5-4cec-e3cb-84292eddb7a3"
      },
      "source": [
        "numeric_data['LotFrontage'] = numeric_data['LotFrontage'].fillna(0)\n",
        "numeric_data['MasVnrArea'] = numeric_data['MasVnrArea'].fillna(0)\n",
        "numeric_data['GarageYrBlt'] = numeric_data['GarageYrBlt'].fillna(0)"
      ],
      "id": "quarterly-murray",
      "execution_count": 10,
      "outputs": [
        {
          "output_type": "stream",
          "text": [
            "/usr/local/lib/python3.7/dist-packages/ipykernel_launcher.py:1: SettingWithCopyWarning: \n",
            "A value is trying to be set on a copy of a slice from a DataFrame.\n",
            "Try using .loc[row_indexer,col_indexer] = value instead\n",
            "\n",
            "See the caveats in the documentation: https://pandas.pydata.org/pandas-docs/stable/user_guide/indexing.html#returning-a-view-versus-a-copy\n",
            "  \"\"\"Entry point for launching an IPython kernel.\n",
            "/usr/local/lib/python3.7/dist-packages/ipykernel_launcher.py:2: SettingWithCopyWarning: \n",
            "A value is trying to be set on a copy of a slice from a DataFrame.\n",
            "Try using .loc[row_indexer,col_indexer] = value instead\n",
            "\n",
            "See the caveats in the documentation: https://pandas.pydata.org/pandas-docs/stable/user_guide/indexing.html#returning-a-view-versus-a-copy\n",
            "  \n",
            "/usr/local/lib/python3.7/dist-packages/ipykernel_launcher.py:3: SettingWithCopyWarning: \n",
            "A value is trying to be set on a copy of a slice from a DataFrame.\n",
            "Try using .loc[row_indexer,col_indexer] = value instead\n",
            "\n",
            "See the caveats in the documentation: https://pandas.pydata.org/pandas-docs/stable/user_guide/indexing.html#returning-a-view-versus-a-copy\n",
            "  This is separate from the ipykernel package so we can avoid doing imports until\n"
          ],
          "name": "stderr"
        }
      ]
    },
    {
      "cell_type": "markdown",
      "metadata": {
        "id": "joined-grade"
      },
      "source": [
        "let's split the data for training and test!"
      ],
      "id": "joined-grade"
    },
    {
      "cell_type": "code",
      "metadata": {
        "id": "northern-welsh"
      },
      "source": [
        "from sklearn.model_selection import train_test_split\n",
        "numeric_data_train, numeric_data_test = train_test_split(numeric_data, test_size=0.1)"
      ],
      "id": "northern-welsh",
      "execution_count": 11,
      "outputs": []
    },
    {
      "cell_type": "markdown",
      "metadata": {
        "id": "automatic-candy"
      },
      "source": [
        "### Normalizing the data\n",
        "Before training our linear regression model, we have to normalize the data. We do this by subtracting each column from its minimum value and then dividing it by the difference between maximum and minimum."
      ],
      "id": "automatic-candy"
    },
    {
      "cell_type": "code",
      "metadata": {
        "id": "dominant-thanksgiving"
      },
      "source": [
        "# saving max, min for each column\n",
        "maxs, mins = dict(), dict()"
      ],
      "id": "dominant-thanksgiving",
      "execution_count": 12,
      "outputs": []
    },
    {
      "cell_type": "code",
      "metadata": {
        "id": "pursuant-class"
      },
      "source": [
        "for col in numeric_data:\n",
        "    maxs[col] = numeric_data_train[col].max()\n",
        "    mins[col] = numeric_data_train[col].min()"
      ],
      "id": "pursuant-class",
      "execution_count": 13,
      "outputs": []
    },
    {
      "cell_type": "code",
      "metadata": {
        "id": "resistant-bathroom"
      },
      "source": [
        "numeric_data_train = (numeric_data_train - numeric_data_train.min()) / (numeric_data_train.max() - numeric_data_train.min())"
      ],
      "id": "resistant-bathroom",
      "execution_count": 14,
      "outputs": []
    },
    {
      "cell_type": "markdown",
      "metadata": {
        "id": "sensitive-notion"
      },
      "source": [
        "## Building a Linear Regression model"
      ],
      "id": "sensitive-notion"
    },
    {
      "cell_type": "code",
      "metadata": {
        "id": "insured-reviewer"
      },
      "source": [
        "import torch\n",
        "import torch.nn as nn"
      ],
      "id": "insured-reviewer",
      "execution_count": 15,
      "outputs": []
    },
    {
      "cell_type": "code",
      "metadata": {
        "id": "perfect-promise"
      },
      "source": [
        "numeric_x_columns = list(numeric_data_train.columns)\n",
        "numeric_x_columns.remove(\"SalePrice\")\n",
        "X_train_df = numeric_data_train[numeric_x_columns]\n",
        "y_train_df = pd.DataFrame(numeric_data_train[\"SalePrice\"])"
      ],
      "id": "perfect-promise",
      "execution_count": 16,
      "outputs": []
    },
    {
      "cell_type": "markdown",
      "metadata": {
        "id": "wanted-surge"
      },
      "source": [
        "Now we have to convert the data into torch tensors. A `torch.Tensor` is a multi-dimensional matrix containing elements of a single data type. It's very similar to arrays in `NumPy`."
      ],
      "id": "wanted-surge"
    },
    {
      "cell_type": "code",
      "metadata": {
        "id": "ranging-hudson"
      },
      "source": [
        "X_train = torch.tensor(X_train_df.values, dtype=torch.float)\n",
        "y_train = torch.tensor(y_train_df.values, dtype=torch.float)"
      ],
      "id": "ranging-hudson",
      "execution_count": 17,
      "outputs": []
    },
    {
      "cell_type": "code",
      "metadata": {
        "colab": {
          "base_uri": "https://localhost:8080/"
        },
        "id": "prescribed-reason",
        "outputId": "e5040a62-e5cf-4c7b-c792-08d07b1505b9"
      },
      "source": [
        "print(X_train.size(), y_train.size())"
      ],
      "id": "prescribed-reason",
      "execution_count": 18,
      "outputs": [
        {
          "output_type": "stream",
          "text": [
            "torch.Size([1314, 36]) torch.Size([1314, 1])\n"
          ],
          "name": "stdout"
        }
      ]
    },
    {
      "cell_type": "markdown",
      "metadata": {
        "id": "baking-jamaica"
      },
      "source": [
        "### Defining a model with pytorch\n",
        "A model is always defined as a class in pytorch. It should have a `__init__` function in which you define the layers of your network. It also should have a `forward` function (method) that basically defines the forward pass on the network.\n",
        "\n",
        "For the beggining, let's start with a single layer network."
      ],
      "id": "baking-jamaica"
    },
    {
      "cell_type": "code",
      "metadata": {
        "id": "written-motel"
      },
      "source": [
        "class Net(nn.Module):\n",
        "    def __init__(self, D_in, H1, D_out):\n",
        "        super(Net, self).__init__()\n",
        "        \n",
        "        self.linear1 = nn.Linear(D_in, H1)\n",
        "        self.linear2 = nn.Linear(H1, D_out)\n",
        "        self.activation = nn.ReLU()\n",
        "        \n",
        "    def forward(self, x):\n",
        "        y_pred = self.activation(self.linear1(x))\n",
        "        y_pred = self.linear2(y_pred)\n",
        "        return y_pred"
      ],
      "id": "written-motel",
      "execution_count": 19,
      "outputs": []
    },
    {
      "cell_type": "code",
      "metadata": {
        "id": "sustainable-blade"
      },
      "source": [
        "D_in, D_out = X_train.shape[1], y_train.shape[1]"
      ],
      "id": "sustainable-blade",
      "execution_count": 20,
      "outputs": []
    },
    {
      "cell_type": "code",
      "metadata": {
        "id": "subjective-camcorder"
      },
      "source": [
        "# defining the first model: an instance of the class \"Net\"\n",
        "model1 = Net(D_in, 500, D_out)"
      ],
      "id": "subjective-camcorder",
      "execution_count": 21,
      "outputs": []
    },
    {
      "cell_type": "markdown",
      "metadata": {
        "id": "sticky-flash"
      },
      "source": [
        "The next steps is to define the __loss criterion__ and the __optimizer__ for the network. That is, we have to define the loss function we want to optimize during training and also the optimization method we are going to use, e.g, SGD, etc."
      ],
      "id": "sticky-flash"
    },
    {
      "cell_type": "code",
      "metadata": {
        "id": "permanent-fancy"
      },
      "source": [
        "# MSE loss\n",
        "criterion = nn.MSELoss(reduction='sum')\n",
        "# SGD optimizer for finding the weights of the network\n",
        "optimizer = torch.optim.SGD(model1.parameters(), lr=1e-4)"
      ],
      "id": "permanent-fancy",
      "execution_count": 22,
      "outputs": []
    },
    {
      "cell_type": "markdown",
      "metadata": {
        "id": "individual-gentleman"
      },
      "source": [
        "Now, we are ready to do the training. We can simply do this by a for loop over the number of iterations. The training has 3 main steps:\n",
        "- A forward pass to compute the prediction for the current data point (batch).\n",
        "- computing the loss for the current prediction.\n",
        "- A backward pass to compute the gradient of the loss with respect to the weight of the network.\n",
        "- Finaly, updating the weights of the network (`optimizer.step()`).\n",
        "\n",
        "Note that in each backward pass pytorch saves the gradient for all of the parameters. Therefore it is important to replace the old gradient values with zero in the beggining of each iteration, otherwise the gradients will be accumulated during the iterations!"
      ],
      "id": "individual-gentleman"
    },
    {
      "cell_type": "code",
      "metadata": {
        "id": "JT_JOfiXhz6W",
        "outputId": "938b1b25-c6a8-4ce2-d717-38fdcb2852db",
        "colab": {
          "base_uri": "https://localhost:8080/"
        }
      },
      "source": [
        "# we need to normalize the test data with the min and max value\n",
        "# from the training data\n",
        "for col in numeric_data_test.columns:\n",
        "    numeric_data_test[col] = (numeric_data_test[col] - mins[col]) / (maxs[col] - mins[col])"
      ],
      "id": "JT_JOfiXhz6W",
      "execution_count": 23,
      "outputs": [
        {
          "output_type": "stream",
          "text": [
            "/usr/local/lib/python3.7/dist-packages/ipykernel_launcher.py:4: SettingWithCopyWarning: \n",
            "A value is trying to be set on a copy of a slice from a DataFrame.\n",
            "Try using .loc[row_indexer,col_indexer] = value instead\n",
            "\n",
            "See the caveats in the documentation: https://pandas.pydata.org/pandas-docs/stable/user_guide/indexing.html#returning-a-view-versus-a-copy\n",
            "  after removing the cwd from sys.path.\n"
          ],
          "name": "stderr"
        }
      ]
    },
    {
      "cell_type": "code",
      "metadata": {
        "id": "ISuJYYwkgsbI"
      },
      "source": [
        "# normalize the test data \n",
        "y_test_df = pd.DataFrame(numeric_data_test[\"SalePrice\"])\n",
        "y_test = torch.tensor(y_test_df.values, dtype=torch.float)\n",
        "x_test_df = numeric_data_test[numeric_x_columns]\n",
        "x_test = torch.tensor(x_test_df.values, dtype=torch.float)"
      ],
      "id": "ISuJYYwkgsbI",
      "execution_count": 24,
      "outputs": []
    },
    {
      "cell_type": "code",
      "metadata": {
        "colab": {
          "base_uri": "https://localhost:8080/"
        },
        "id": "earlier-maximum",
        "outputId": "39b505c1-8fc1-4840-c6d0-5b7e93471de5"
      },
      "source": [
        "losses1 = []\n",
        "losses1_test = []\n",
        "for t in range(500):\n",
        "    y_pred = model1(X_train)\n",
        "    \n",
        "    loss = criterion(y_pred, y_train)\n",
        "    print(t, loss.item())\n",
        "    losses1.append(loss.item())\n",
        "    \n",
        "    if torch.isnan(loss):\n",
        "        break\n",
        "    \n",
        "    optimizer.zero_grad()\n",
        "    loss.backward()\n",
        "    optimizer.step()\n",
        "    # test loss\n",
        "    losses1_test.append(criterion(model1(x_test), y_test))"
      ],
      "id": "earlier-maximum",
      "execution_count": 25,
      "outputs": [
        {
          "output_type": "stream",
          "text": [
            "0 45.627017974853516\n",
            "1 272.6987609863281\n",
            "2 1813.8668212890625\n",
            "3 8754.470703125\n",
            "4 2633.547119140625\n",
            "5 191.1907958984375\n",
            "6 95.56298828125\n",
            "7 52.66852569580078\n",
            "8 32.664024353027344\n",
            "9 23.116954803466797\n",
            "10 18.466585159301758\n",
            "11 16.143177032470703\n",
            "12 14.933988571166992\n",
            "13 14.262332916259766\n",
            "14 13.851799011230469\n",
            "15 13.569364547729492\n",
            "16 13.351045608520508\n",
            "17 13.165398597717285\n",
            "18 12.997135162353516\n",
            "19 12.838946342468262\n",
            "20 12.687018394470215\n",
            "21 12.539701461791992\n",
            "22 12.396571159362793\n",
            "23 12.25662899017334\n",
            "24 12.119561195373535\n",
            "25 11.985395431518555\n",
            "26 11.853692054748535\n",
            "27 11.72434139251709\n",
            "28 11.597519874572754\n",
            "29 11.473002433776855\n",
            "30 11.35064697265625\n",
            "31 11.230264663696289\n",
            "32 11.112014770507812\n",
            "33 10.995656967163086\n",
            "34 10.881378173828125\n",
            "35 10.76931381225586\n",
            "36 10.659307479858398\n",
            "37 10.550995826721191\n",
            "38 10.444422721862793\n",
            "39 10.339569091796875\n",
            "40 10.236227035522461\n",
            "41 10.134410858154297\n",
            "42 10.034138679504395\n",
            "43 9.935256004333496\n",
            "44 9.837868690490723\n",
            "45 9.74200439453125\n",
            "46 9.647565841674805\n",
            "47 9.554631233215332\n",
            "48 9.463094711303711\n",
            "49 9.372905731201172\n",
            "50 9.28399658203125\n",
            "51 9.196281433105469\n",
            "52 9.10980224609375\n",
            "53 9.02457046508789\n",
            "54 8.940464973449707\n",
            "55 8.857504844665527\n",
            "56 8.775713920593262\n",
            "57 8.69511890411377\n",
            "58 8.615670204162598\n",
            "59 8.537445068359375\n",
            "60 8.460368156433105\n",
            "61 8.384394645690918\n",
            "62 8.309520721435547\n",
            "63 8.235919952392578\n",
            "64 8.163582801818848\n",
            "65 8.092389106750488\n",
            "66 8.022353172302246\n",
            "67 7.953446388244629\n",
            "68 7.885622978210449\n",
            "69 7.818842887878418\n",
            "70 7.7531208992004395\n",
            "71 7.6884002685546875\n",
            "72 7.624634742736816\n",
            "73 7.5619587898254395\n",
            "74 7.5003767013549805\n",
            "75 7.439879894256592\n",
            "76 7.380417823791504\n",
            "77 7.321894645690918\n",
            "78 7.264362812042236\n",
            "79 7.207748889923096\n",
            "80 7.15208625793457\n",
            "81 7.097410678863525\n",
            "82 7.0436506271362305\n",
            "83 6.990924835205078\n",
            "84 6.939177513122559\n",
            "85 6.888332366943359\n",
            "86 6.838437080383301\n",
            "87 6.789407730102539\n",
            "88 6.7412590980529785\n",
            "89 6.694083213806152\n",
            "90 6.647758960723877\n",
            "91 6.6023335456848145\n",
            "92 6.557839393615723\n",
            "93 6.514233112335205\n",
            "94 6.471468448638916\n",
            "95 6.429447650909424\n",
            "96 6.388174533843994\n",
            "97 6.347663879394531\n",
            "98 6.307936191558838\n",
            "99 6.268940448760986\n",
            "100 6.230690956115723\n",
            "101 6.193193435668945\n",
            "102 6.15641975402832\n",
            "103 6.12041711807251\n",
            "104 6.085109710693359\n",
            "105 6.050468444824219\n",
            "106 6.016490936279297\n",
            "107 5.983134746551514\n",
            "108 5.95045280456543\n",
            "109 5.91839599609375\n",
            "110 5.8869805335998535\n",
            "111 5.856203556060791\n",
            "112 5.8260040283203125\n",
            "113 5.796375751495361\n",
            "114 5.767284393310547\n",
            "115 5.738728046417236\n",
            "116 5.710715293884277\n",
            "117 5.683211326599121\n",
            "118 5.6562323570251465\n",
            "119 5.629741191864014\n",
            "120 5.603662490844727\n",
            "121 5.578057289123535\n",
            "122 5.552926540374756\n",
            "123 5.528229236602783\n",
            "124 5.503944396972656\n",
            "125 5.4800705909729\n",
            "126 5.456595420837402\n",
            "127 5.433497905731201\n",
            "128 5.410799026489258\n",
            "129 5.38848876953125\n",
            "130 5.366506576538086\n",
            "131 5.344878673553467\n",
            "132 5.323608875274658\n",
            "133 5.302679538726807\n",
            "134 5.28209114074707\n",
            "135 5.261809349060059\n",
            "136 5.241848468780518\n",
            "137 5.222208499908447\n",
            "138 5.202865123748779\n",
            "139 5.183844089508057\n",
            "140 5.165146827697754\n",
            "141 5.146745681762695\n",
            "142 5.1286301612854\n",
            "143 5.110808372497559\n",
            "144 5.093249320983887\n",
            "145 5.075950622558594\n",
            "146 5.058883190155029\n",
            "147 5.042056560516357\n",
            "148 5.025432586669922\n",
            "149 5.009040832519531\n",
            "150 4.992875099182129\n",
            "151 4.976907253265381\n",
            "152 4.961153030395508\n",
            "153 4.945578575134277\n",
            "154 4.9301862716674805\n",
            "155 4.914989948272705\n",
            "156 4.899977684020996\n",
            "157 4.885158061981201\n",
            "158 4.870513916015625\n",
            "159 4.856034278869629\n",
            "160 4.8417277336120605\n",
            "161 4.827609539031982\n",
            "162 4.813663482666016\n",
            "163 4.7998809814453125\n",
            "164 4.786257743835449\n",
            "165 4.772800445556641\n",
            "166 4.759492874145508\n",
            "167 4.7463250160217285\n",
            "168 4.733306407928467\n",
            "169 4.720425605773926\n",
            "170 4.707674026489258\n",
            "171 4.695056915283203\n",
            "172 4.682554244995117\n",
            "173 4.670168399810791\n",
            "174 4.6579084396362305\n",
            "175 4.645775318145752\n",
            "176 4.633755683898926\n",
            "177 4.621859073638916\n",
            "178 4.610082626342773\n",
            "179 4.598420143127441\n",
            "180 4.586878299713135\n",
            "181 4.5754499435424805\n",
            "182 4.564115047454834\n",
            "183 4.552887439727783\n",
            "184 4.54177188873291\n",
            "185 4.53076171875\n",
            "186 4.519848346710205\n",
            "187 4.509037017822266\n",
            "188 4.498325824737549\n",
            "189 4.487720489501953\n",
            "190 4.477217197418213\n",
            "191 4.4668049812316895\n",
            "192 4.456482887268066\n",
            "193 4.446255683898926\n",
            "194 4.436097145080566\n",
            "195 4.426009654998779\n",
            "196 4.415994167327881\n",
            "197 4.406066417694092\n",
            "198 4.396235466003418\n",
            "199 4.386477470397949\n",
            "200 4.376798152923584\n",
            "201 4.367203235626221\n",
            "202 4.357706069946289\n",
            "203 4.348301410675049\n",
            "204 4.3389811515808105\n",
            "205 4.3297319412231445\n",
            "206 4.320552349090576\n",
            "207 4.311424732208252\n",
            "208 4.302347660064697\n",
            "209 4.293330192565918\n",
            "210 4.284372329711914\n",
            "211 4.275486946105957\n",
            "212 4.266674995422363\n",
            "213 4.257930755615234\n",
            "214 4.249246597290039\n",
            "215 4.240609169006348\n",
            "216 4.232033729553223\n",
            "217 4.223517417907715\n",
            "218 4.215054988861084\n",
            "219 4.206647872924805\n",
            "220 4.198304176330566\n",
            "221 4.190026760101318\n",
            "222 4.181817054748535\n",
            "223 4.173660755157471\n",
            "224 4.165559768676758\n",
            "225 4.157512664794922\n",
            "226 4.149527549743652\n",
            "227 4.1415815353393555\n",
            "228 4.1336822509765625\n",
            "229 4.1258368492126465\n",
            "230 4.118053913116455\n",
            "231 4.110321044921875\n",
            "232 4.102636337280273\n",
            "233 4.094992637634277\n",
            "234 4.087404727935791\n",
            "235 4.0798540115356445\n",
            "236 4.072343349456787\n",
            "237 4.064884185791016\n",
            "238 4.05747652053833\n",
            "239 4.05010986328125\n",
            "240 4.042783737182617\n",
            "241 4.035497665405273\n",
            "242 4.028262615203857\n",
            "243 4.0210652351379395\n",
            "244 4.013907432556152\n",
            "245 4.006795406341553\n",
            "246 3.999728202819824\n",
            "247 3.992701530456543\n",
            "248 3.985717296600342\n",
            "249 3.97878360748291\n",
            "250 3.9718875885009766\n",
            "251 3.965028762817383\n",
            "252 3.95821475982666\n",
            "253 3.951444625854492\n",
            "254 3.944699287414551\n",
            "255 3.937994956970215\n",
            "256 3.931328296661377\n",
            "257 3.9247000217437744\n",
            "258 3.918128252029419\n",
            "259 3.9115986824035645\n",
            "260 3.905111789703369\n",
            "261 3.8986639976501465\n",
            "262 3.8922388553619385\n",
            "263 3.8858463764190674\n",
            "264 3.8794946670532227\n",
            "265 3.8731725215911865\n",
            "266 3.866891860961914\n",
            "267 3.860642671585083\n",
            "268 3.8544394969940186\n",
            "269 3.848259449005127\n",
            "270 3.8421099185943604\n",
            "271 3.835991859436035\n",
            "272 3.8299098014831543\n",
            "273 3.8238515853881836\n",
            "274 3.8178205490112305\n",
            "275 3.811816930770874\n",
            "276 3.8058385848999023\n",
            "277 3.799891948699951\n",
            "278 3.7939813137054443\n",
            "279 3.788095474243164\n",
            "280 3.7822418212890625\n",
            "281 3.776407480239868\n",
            "282 3.7706077098846436\n",
            "283 3.764845609664917\n",
            "284 3.7591190338134766\n",
            "285 3.7534372806549072\n",
            "286 3.747784376144409\n",
            "287 3.74216890335083\n",
            "288 3.736581802368164\n",
            "289 3.731022596359253\n",
            "290 3.725491523742676\n",
            "291 3.719991445541382\n",
            "292 3.7145278453826904\n",
            "293 3.709084987640381\n",
            "294 3.7036640644073486\n",
            "295 3.698267936706543\n",
            "296 3.69289231300354\n",
            "297 3.687530755996704\n",
            "298 3.6821980476379395\n",
            "299 3.676882028579712\n",
            "300 3.6715924739837646\n",
            "301 3.666313648223877\n",
            "302 3.661057949066162\n",
            "303 3.655822992324829\n",
            "304 3.650621175765991\n",
            "305 3.645439624786377\n",
            "306 3.640286684036255\n",
            "307 3.635159492492676\n",
            "308 3.630051851272583\n",
            "309 3.6249661445617676\n",
            "310 3.6198906898498535\n",
            "311 3.6148242950439453\n",
            "312 3.609785795211792\n",
            "313 3.6047730445861816\n",
            "314 3.599777936935425\n",
            "315 3.5948102474212646\n",
            "316 3.5898685455322266\n",
            "317 3.584951877593994\n",
            "318 3.580054521560669\n",
            "319 3.5751793384552\n",
            "320 3.570326566696167\n",
            "321 3.5654947757720947\n",
            "322 3.5606846809387207\n",
            "323 3.5558934211730957\n",
            "324 3.5511317253112793\n",
            "325 3.5464043617248535\n",
            "326 3.5416958332061768\n",
            "327 3.5370147228240967\n",
            "328 3.5323567390441895\n",
            "329 3.5277187824249268\n",
            "330 3.5230960845947266\n",
            "331 3.5184900760650635\n",
            "332 3.513892650604248\n",
            "333 3.509303092956543\n",
            "334 3.5047357082366943\n",
            "335 3.5001907348632812\n",
            "336 3.495662212371826\n",
            "337 3.4911460876464844\n",
            "338 3.4866466522216797\n",
            "339 3.4821720123291016\n",
            "340 3.477708339691162\n",
            "341 3.473252296447754\n",
            "342 3.4688143730163574\n",
            "343 3.4643917083740234\n",
            "344 3.4599976539611816\n",
            "345 3.4556214809417725\n",
            "346 3.4512553215026855\n",
            "347 3.4469146728515625\n",
            "348 3.4425926208496094\n",
            "349 3.4382925033569336\n",
            "350 3.4340121746063232\n",
            "351 3.4297475814819336\n",
            "352 3.425499439239502\n",
            "353 3.4212710857391357\n",
            "354 3.4170570373535156\n",
            "355 3.4128623008728027\n",
            "356 3.408670425415039\n",
            "357 3.404489040374756\n",
            "358 3.400322198867798\n",
            "359 3.396169424057007\n",
            "360 3.3920412063598633\n",
            "361 3.3879261016845703\n",
            "362 3.3838250637054443\n",
            "363 3.379744529724121\n",
            "364 3.375669240951538\n",
            "365 3.371619701385498\n",
            "366 3.3675808906555176\n",
            "367 3.363558530807495\n",
            "368 3.3595569133758545\n",
            "369 3.3555712699890137\n",
            "370 3.351597785949707\n",
            "371 3.3476405143737793\n",
            "372 3.343695640563965\n",
            "373 3.3397676944732666\n",
            "374 3.3358497619628906\n",
            "375 3.3319497108459473\n",
            "376 3.3280670642852783\n",
            "377 3.3242015838623047\n",
            "378 3.320357322692871\n",
            "379 3.3165268898010254\n",
            "380 3.312706708908081\n",
            "381 3.308891534805298\n",
            "382 3.305088996887207\n",
            "383 3.301302909851074\n",
            "384 3.2975339889526367\n",
            "385 3.2937803268432617\n",
            "386 3.2900357246398926\n",
            "387 3.2863056659698486\n",
            "388 3.2825958728790283\n",
            "389 3.278895378112793\n",
            "390 3.2752084732055664\n",
            "391 3.2715373039245605\n",
            "392 3.267873764038086\n",
            "393 3.264221668243408\n",
            "394 3.260584831237793\n",
            "395 3.2569704055786133\n",
            "396 3.2533679008483887\n",
            "397 3.249781370162964\n",
            "398 3.246213674545288\n",
            "399 3.2426557540893555\n",
            "400 3.2391133308410645\n",
            "401 3.2355802059173584\n",
            "402 3.2320590019226074\n",
            "403 3.2285444736480713\n",
            "404 3.2250399589538574\n",
            "405 3.2215497493743896\n",
            "406 3.2180657386779785\n",
            "407 3.2145957946777344\n",
            "408 3.2111332416534424\n",
            "409 3.2076878547668457\n",
            "410 3.204256057739258\n",
            "411 3.2008306980133057\n",
            "412 3.197417736053467\n",
            "413 3.19403076171875\n",
            "414 3.1906514167785645\n",
            "415 3.1872925758361816\n",
            "416 3.1839537620544434\n",
            "417 3.1806344985961914\n",
            "418 3.177342414855957\n",
            "419 3.1740856170654297\n",
            "420 3.1708521842956543\n",
            "421 3.167618751525879\n",
            "422 3.1643946170806885\n",
            "423 3.1611857414245605\n",
            "424 3.157992362976074\n",
            "425 3.154815196990967\n",
            "426 3.1516504287719727\n",
            "427 3.1484947204589844\n",
            "428 3.1453492641448975\n",
            "429 3.142216205596924\n",
            "430 3.1390910148620605\n",
            "431 3.1359753608703613\n",
            "432 3.1328675746917725\n",
            "433 3.1297757625579834\n",
            "434 3.1267035007476807\n",
            "435 3.1236414909362793\n",
            "436 3.120590925216675\n",
            "437 3.1175477504730225\n",
            "438 3.1145191192626953\n",
            "439 3.1114985942840576\n",
            "440 3.1084892749786377\n",
            "441 3.1054890155792236\n",
            "442 3.102501630783081\n",
            "443 3.0995242595672607\n",
            "444 3.0965514183044434\n",
            "445 3.0935847759246826\n",
            "446 3.0906271934509277\n",
            "447 3.087683916091919\n",
            "448 3.0847537517547607\n",
            "449 3.0818307399749756\n",
            "450 3.078911542892456\n",
            "451 3.075998306274414\n",
            "452 3.073084592819214\n",
            "453 3.070178747177124\n",
            "454 3.0672783851623535\n",
            "455 3.064389944076538\n",
            "456 3.0615153312683105\n",
            "457 3.058654546737671\n",
            "458 3.0558040142059326\n",
            "459 3.0529584884643555\n",
            "460 3.0501182079315186\n",
            "461 3.047288179397583\n",
            "462 3.0444717407226562\n",
            "463 3.0416758060455322\n",
            "464 3.0388996601104736\n",
            "465 3.036125659942627\n",
            "466 3.0333549976348877\n",
            "467 3.03059458732605\n",
            "468 3.0278398990631104\n",
            "469 3.0250978469848633\n",
            "470 3.0223636627197266\n",
            "471 3.019646167755127\n",
            "472 3.016940116882324\n",
            "473 3.014244794845581\n",
            "474 3.0115609169006348\n",
            "475 3.0088908672332764\n",
            "476 3.0062344074249268\n",
            "477 3.0035877227783203\n",
            "478 3.0009498596191406\n",
            "479 2.9983201026916504\n",
            "480 2.9957034587860107\n",
            "481 2.9930973052978516\n",
            "482 2.9904959201812744\n",
            "483 2.987896680831909\n",
            "484 2.98530912399292\n",
            "485 2.9827301502227783\n",
            "486 2.980166435241699\n",
            "487 2.9776129722595215\n",
            "488 2.975059986114502\n",
            "489 2.97251033782959\n",
            "490 2.969972610473633\n",
            "491 2.9674439430236816\n",
            "492 2.9649224281311035\n",
            "493 2.9624125957489014\n",
            "494 2.959907054901123\n",
            "495 2.9573869705200195\n",
            "496 2.954874038696289\n",
            "497 2.9523746967315674\n",
            "498 2.9498867988586426\n",
            "499 2.947406768798828\n"
          ],
          "name": "stdout"
        }
      ]
    },
    {
      "cell_type": "code",
      "metadata": {
        "id": "KG4HrZFfhXZs",
        "outputId": "aecfffbe-2072-42c7-e1e3-303ab8e7ed49",
        "colab": {
          "base_uri": "https://localhost:8080/",
          "height": 286
        }
      },
      "source": [
        "plt.plot(losses1, label=\"training loss\")\n",
        "plt.plot(losses1_test, label=\"test_loss\")\n",
        "plt.ylim(top=70, bottom=0.0)\n",
        "plt.legend()"
      ],
      "id": "KG4HrZFfhXZs",
      "execution_count": 27,
      "outputs": [
        {
          "output_type": "execute_result",
          "data": {
            "text/plain": [
              "<matplotlib.legend.Legend at 0x7f55a8ea51d0>"
            ]
          },
          "metadata": {
            "tags": []
          },
          "execution_count": 27
        },
        {
          "output_type": "display_data",
          "data": {
            "image/png": "[encoded data removed]",
            "text/plain": [
              "<Figure size 432x288 with 1 Axes>"
            ]
          },
          "metadata": {
            "tags": [],
            "needs_background": "light"
          }
        }
      ]
    },
    {
      "cell_type": "markdown",
      "metadata": {
        "id": "coordinated-mexican"
      },
      "source": [
        "Now let's try a new model with more neurons in the hidden layer."
      ],
      "id": "coordinated-mexican"
    },
    {
      "cell_type": "code",
      "metadata": {
        "id": "cathedral-exercise"
      },
      "source": [
        "model2 = Net(D_in, 1000, D_out)"
      ],
      "id": "cathedral-exercise",
      "execution_count": 28,
      "outputs": []
    },
    {
      "cell_type": "code",
      "metadata": {
        "id": "exposed-league"
      },
      "source": [
        "# MSE loss\n",
        "criterion = nn.MSELoss(reduction='sum')\n",
        "# SGD optimizer for finding the weights of the network\n",
        "optimizer = torch.optim.SGD(model2.parameters(), lr=1e-4)"
      ],
      "id": "exposed-league",
      "execution_count": 29,
      "outputs": []
    },
    {
      "cell_type": "code",
      "metadata": {
        "id": "operational-paper"
      },
      "source": [
        "losses2 = []\n",
        "\n",
        "for t in range(500):\n",
        "    y_pred = model2(X_train)\n",
        "    \n",
        "    loss = criterion(y_pred, y_train)\n",
        "    # print(t, loss.item())\n",
        "    losses2.append(loss.item())\n",
        "    \n",
        "    if torch.isnan(loss):\n",
        "        break\n",
        "    \n",
        "    optimizer.zero_grad()\n",
        "    loss.backward()\n",
        "    optimizer.step()"
      ],
      "id": "operational-paper",
      "execution_count": 30,
      "outputs": []
    },
    {
      "cell_type": "code",
      "metadata": {
        "colab": {
          "base_uri": "https://localhost:8080/",
          "height": 286
        },
        "id": "extra-consortium",
        "outputId": "5cb9b41e-9738-474d-f995-92b5a2e2e68b"
      },
      "source": [
        "plt.plot(losses1, label=\"model1\")\n",
        "plt.plot(losses2, label=\"model2\")\n",
        "plt.ylim([0, 70])\n",
        "plt.legend()"
      ],
      "id": "extra-consortium",
      "execution_count": 31,
      "outputs": [
        {
          "output_type": "execute_result",
          "data": {
            "text/plain": [
              "<matplotlib.legend.Legend at 0x7f55a8e2c810>"
            ]
          },
          "metadata": {
            "tags": []
          },
          "execution_count": 31
        },
        {
          "output_type": "display_data",
          "data": {
            "image/png": "[encoded data removed]",
            "text/plain": [
              "<Figure size 432x288 with 1 Axes>"
            ]
          },
          "metadata": {
            "tags": [],
            "needs_background": "light"
          }
        }
      ]
    },
    {
      "cell_type": "markdown",
      "metadata": {
        "id": "banned-honolulu"
      },
      "source": [
        "Let's compare the MSE loss on the test data"
      ],
      "id": "banned-honolulu"
    },
    {
      "cell_type": "code",
      "metadata": {
        "colab": {
          "base_uri": "https://localhost:8080/"
        },
        "id": "parallel-following",
        "outputId": "1b925d04-6c03-4dd6-ff62-4a2f347fa1aa"
      },
      "source": [
        "# prediction for model 1\n",
        "model1_pred = model1(x_test)\n",
        "print(\"MSE loss for model1: \", criterion(model1_pred, y_test))\n",
        "# prediction for model 2\n",
        "model2_pred = model2(x_test)\n",
        "print(\"MSE loss for model2: \", criterion(model2_pred, y_test))\n"
      ],
      "id": "parallel-following",
      "execution_count": 34,
      "outputs": [
        {
          "output_type": "stream",
          "text": [
            "MSE loss for model1:  tensor(0.7216, grad_fn=<MseLossBackward>)\n",
            "MSE loss for model2:  tensor(0.7066, grad_fn=<MseLossBackward>)\n"
          ],
          "name": "stdout"
        }
      ]
    },
    {
      "cell_type": "markdown",
      "metadata": {
        "id": "wrong-corporation"
      },
      "source": [
        "## Now it is your turn!\n",
        "### Exercises\n",
        "\n",
        "1- Let's get back to model1. This time try to train it with a new optimizer. Try the Adam optimizer (which has shown to be faster than SGD for non-convex functions) and compare the trainig loss curve with SGD. Plot the training loss for the model trained with SGD and Adam optimizer.\n",
        "\n",
        "Note1: Use `torch.optim.Adam(model1.parameters(), lr=...)`\n",
        "\n",
        "Note2: If you are interested, check [this nice post](https://ruder.io/optimizing-gradient-descent/index.html) on differen gradient descent optimization algorithms.\n",
        "\n",
        "2- This time we want to build a new model with a new architecture. Specifically, we want to train a network with 3 hidden layers on the data. You can use the following code to build the architecture. Use the values 500, 1000, 200 for H1, H2, and H3 respectively. Train this new network on the same training data and compare it with the model1 we built above.\n",
        "\n",
        "```\n",
        "class Net_new(nn.Module):\n",
        "    def __init__(self, D_in, H1, H2, H3, D_out):\n",
        "        super(Net_new, self).__init__()\n",
        "\n",
        "        self.linear1 = nn.Linear(D_in, H1)\n",
        "        self.linear2 = nn.Linear(H1, H2)\n",
        "        self.linear3 = nn.Linear(H2, H3)\n",
        "        self.linear4 = nn.Linear(H3, D_out)\n",
        "        self.activation = nn.ReLU()\n",
        "\n",
        "    def forward(self, x):\n",
        "        y_pred = self.activation(self.linear1(x))\n",
        "        y_pred = self.activation(self.linear2(y_pred))\n",
        "        y_pred = self.activation(self.linear3(y_pred))\n",
        "        y_pred = self.linear4(y_pred)\n",
        "        return y_pred\n",
        "```"
      ],
      "id": "wrong-corporation"
    },
    {
      "cell_type": "code",
      "metadata": {
        "id": "respiratory-drink"
      },
      "source": [
        ""
      ],
      "id": "respiratory-drink",
      "execution_count": null,
      "outputs": []
    }
  ]
}
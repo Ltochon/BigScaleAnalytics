{
  "cells": [
    {
      "cell_type": "markdown",
      "metadata": {
        "id": "view-in-github",
        "colab_type": "text"
      },
      "source": [
        "<a href=\"https://colab.research.google.com/github/michalis0/BigScaleAnalytics/blob/master/week11/Pytorch_regression.ipynb\" target=\"_parent\"><img src=\"https://colab.research.google.com/assets/colab-badge.svg\" alt=\"Open In Colab\"/></a>"
      ]
    },
    {
      "cell_type": "markdown",
      "metadata": {
        "id": "fleet-potter"
      },
      "source": [
        "# Predicting house prices with neural networks"
      ],
      "id": "fleet-potter"
    },
    {
      "cell_type": "code",
      "execution_count": null,
      "metadata": {
        "id": "sunset-blast"
      },
      "outputs": [],
      "source": [
        "import numpy as np\n",
        "import pandas as pd\n",
        "import matplotlib.pyplot as plt\n",
        "%matplotlib inline"
      ],
      "id": "sunset-blast"
    },
    {
      "cell_type": "markdown",
      "metadata": {
        "id": "likely-interaction"
      },
      "source": [
        "## Data"
      ],
      "id": "likely-interaction"
    },
    {
      "cell_type": "markdown",
      "metadata": {
        "id": "ruled-spider"
      },
      "source": [
        "### loading the data"
      ],
      "id": "ruled-spider"
    },
    {
      "cell_type": "code",
      "execution_count": null,
      "metadata": {
        "id": "grave-snake"
      },
      "outputs": [],
      "source": [
        "raw_data = pd.read_csv(\"https://raw.githubusercontent.com/michalis0/BigScaleAnalytics/master/week11/data/train.csv\")\n",
        "raw_data.head()"
      ],
      "id": "grave-snake"
    },
    {
      "cell_type": "code",
      "execution_count": null,
      "metadata": {
        "id": "adjacent-substance"
      },
      "outputs": [],
      "source": [
        "raw_data.shape"
      ],
      "id": "adjacent-substance"
    },
    {
      "cell_type": "markdown",
      "metadata": {
        "id": "annual-officer"
      },
      "source": [
        "### Extracting the numeric columns"
      ],
      "id": "annual-officer"
    },
    {
      "cell_type": "code",
      "execution_count": null,
      "metadata": {
        "id": "identified-wildlife"
      },
      "outputs": [],
      "source": [
        "raw_data.dtypes"
      ],
      "id": "identified-wildlife"
    },
    {
      "cell_type": "code",
      "execution_count": null,
      "metadata": {
        "id": "rubber-corrections"
      },
      "outputs": [],
      "source": [
        "numeric_columns = list(raw_data.columns[(raw_data.dtypes==np.int64) |\n",
        "                 (raw_data.dtypes==np.float64)])\n",
        "print(numeric_columns, \"\\n\", len(numeric_columns))"
      ],
      "id": "rubber-corrections"
    },
    {
      "cell_type": "markdown",
      "metadata": {
        "id": "announced-incidence"
      },
      "source": [
        "Set `SalesPrice` as the last index, since it is the value we want to predict."
      ],
      "id": "announced-incidence"
    },
    {
      "cell_type": "code",
      "execution_count": null,
      "metadata": {
        "id": "intermediate-cable"
      },
      "outputs": [],
      "source": [
        "numeric_columns.remove('SalePrice')\n",
        "numeric_columns.append('SalePrice')"
      ],
      "id": "intermediate-cable"
    },
    {
      "cell_type": "markdown",
      "metadata": {
        "id": "extended-attribute"
      },
      "source": [
        "We do not need the `Id` column."
      ],
      "id": "extended-attribute"
    },
    {
      "cell_type": "code",
      "execution_count": null,
      "metadata": {
        "id": "marked-cancellation"
      },
      "outputs": [],
      "source": [
        "numeric_columns.remove('Id')"
      ],
      "id": "marked-cancellation"
    },
    {
      "cell_type": "markdown",
      "metadata": {
        "id": "returning-vertex"
      },
      "source": [
        "Now we extract the numeric data."
      ],
      "id": "returning-vertex"
    },
    {
      "cell_type": "code",
      "execution_count": null,
      "metadata": {
        "id": "irish-probe"
      },
      "outputs": [],
      "source": [
        "numeric_data = raw_data[numeric_columns]\n",
        "numeric_data.head()"
      ],
      "id": "irish-probe"
    },
    {
      "cell_type": "markdown",
      "metadata": {
        "id": "warming-cartoon"
      },
      "source": [
        "Now let's deal with the missing values in the data."
      ],
      "id": "warming-cartoon"
    },
    {
      "cell_type": "code",
      "execution_count": null,
      "metadata": {
        "id": "obvious-rider"
      },
      "outputs": [],
      "source": [
        "nan_columns = np.any(pd.isna(numeric_data), axis = 0)\n",
        "nan_columns = list(nan_columns[nan_columns == True].index)\n",
        "nan_columns"
      ],
      "id": "obvious-rider"
    },
    {
      "cell_type": "markdown",
      "metadata": {
        "id": "activated-center"
      },
      "source": [
        "We simply replace them with zero."
      ],
      "id": "activated-center"
    },
    {
      "cell_type": "code",
      "execution_count": null,
      "metadata": {
        "id": "quarterly-murray"
      },
      "outputs": [],
      "source": [
        "numeric_data['LotFrontage'] = numeric_data['LotFrontage'].fillna(0)\n",
        "numeric_data['MasVnrArea'] = numeric_data['MasVnrArea'].fillna(0)\n",
        "numeric_data['GarageYrBlt'] = numeric_data['GarageYrBlt'].fillna(0)"
      ],
      "id": "quarterly-murray"
    },
    {
      "cell_type": "markdown",
      "metadata": {
        "id": "joined-grade"
      },
      "source": [
        "let's split the data for training and test!"
      ],
      "id": "joined-grade"
    },
    {
      "cell_type": "code",
      "execution_count": null,
      "metadata": {
        "id": "northern-welsh"
      },
      "outputs": [],
      "source": [
        "from sklearn.model_selection import train_test_split\n",
        "numeric_data_train, numeric_data_test = train_test_split(numeric_data, test_size=0.1)"
      ],
      "id": "northern-welsh"
    },
    {
      "cell_type": "markdown",
      "metadata": {
        "id": "automatic-candy"
      },
      "source": [
        "### Normalizing the data\n",
        "Before training our linear regression model, we have to normalize the data. We do this by subtracting each column from its minimum value and then dividing it by the difference between maximum and minimum."
      ],
      "id": "automatic-candy"
    },
    {
      "cell_type": "code",
      "execution_count": null,
      "metadata": {
        "id": "dominant-thanksgiving"
      },
      "outputs": [],
      "source": [
        "# saving max, min for each column\n",
        "maxs, mins = dict(), dict()"
      ],
      "id": "dominant-thanksgiving"
    },
    {
      "cell_type": "code",
      "execution_count": null,
      "metadata": {
        "id": "pursuant-class"
      },
      "outputs": [],
      "source": [
        "for col in numeric_data:\n",
        "    maxs[col] = numeric_data_train[col].max()\n",
        "    mins[col] = numeric_data_train[col].min()"
      ],
      "id": "pursuant-class"
    },
    {
      "cell_type": "code",
      "execution_count": null,
      "metadata": {
        "id": "resistant-bathroom"
      },
      "outputs": [],
      "source": [
        "numeric_data_train = (numeric_data_train - numeric_data_train.min()) / (numeric_data_train.max() - numeric_data_train.min())"
      ],
      "id": "resistant-bathroom"
    },
    {
      "cell_type": "markdown",
      "metadata": {
        "id": "sensitive-notion"
      },
      "source": [
        "## Building a Linear Regression model"
      ],
      "id": "sensitive-notion"
    },
    {
      "cell_type": "code",
      "execution_count": null,
      "metadata": {
        "id": "insured-reviewer"
      },
      "outputs": [],
      "source": [
        "import torch\n",
        "import torch.nn as nn"
      ],
      "id": "insured-reviewer"
    },
    {
      "cell_type": "code",
      "execution_count": null,
      "metadata": {
        "id": "perfect-promise"
      },
      "outputs": [],
      "source": [
        "numeric_x_columns = list(numeric_data_train.columns)\n",
        "numeric_x_columns.remove(\"SalePrice\")\n",
        "X_train_df = numeric_data_train[numeric_x_columns]\n",
        "y_train_df = pd.DataFrame(numeric_data_train[\"SalePrice\"])"
      ],
      "id": "perfect-promise"
    },
    {
      "cell_type": "markdown",
      "metadata": {
        "id": "wanted-surge"
      },
      "source": [
        "Now we have to convert the data into torch tensors. A `torch.Tensor` is a multi-dimensional matrix containing elements of a single data type. It's very similar to arrays in `NumPy`."
      ],
      "id": "wanted-surge"
    },
    {
      "cell_type": "code",
      "execution_count": null,
      "metadata": {
        "id": "ranging-hudson"
      },
      "outputs": [],
      "source": [
        "X_train = torch.tensor(X_train_df.values, dtype=torch.float)\n",
        "y_train = torch.tensor(y_train_df.values, dtype=torch.float)"
      ],
      "id": "ranging-hudson"
    },
    {
      "cell_type": "code",
      "execution_count": null,
      "metadata": {
        "id": "prescribed-reason"
      },
      "outputs": [],
      "source": [
        "print(X_train.size(), y_train.size())"
      ],
      "id": "prescribed-reason"
    },
    {
      "cell_type": "markdown",
      "metadata": {
        "id": "baking-jamaica"
      },
      "source": [
        "### Defining a model with pytorch\n",
        "A model is always defined as a class in pytorch. It should have a `__init__` function in which you define the layers of your network. It also should have a `forward` function (method) that basically defines the forward pass on the network.\n",
        "\n",
        "For the beggining, let's start with a single layer network."
      ],
      "id": "baking-jamaica"
    },
    {
      "cell_type": "code",
      "execution_count": null,
      "metadata": {
        "id": "written-motel"
      },
      "outputs": [],
      "source": [
        "class Net(nn.Module):\n",
        "    def __init__(self, D_in, H1, D_out):\n",
        "        super(Net, self).__init__()\n",
        "        \n",
        "        self.linear1 = nn.Linear(D_in, H1)\n",
        "        self.linear2 = nn.Linear(H1, D_out)\n",
        "        self.activation = nn.ReLU()\n",
        "        \n",
        "    def forward(self, x):\n",
        "        y_pred = self.activation(self.linear1(x))\n",
        "        y_pred = self.linear2(y_pred)\n",
        "        return y_pred"
      ],
      "id": "written-motel"
    },
    {
      "cell_type": "code",
      "execution_count": null,
      "metadata": {
        "id": "sustainable-blade"
      },
      "outputs": [],
      "source": [
        "D_in, D_out = X_train.shape[1], y_train.shape[1]"
      ],
      "id": "sustainable-blade"
    },
    {
      "cell_type": "code",
      "execution_count": null,
      "metadata": {
        "id": "subjective-camcorder"
      },
      "outputs": [],
      "source": [
        "# defining the first model: an instance of the class \"Net\"\n",
        "model1 = Net(D_in, 500, D_out)"
      ],
      "id": "subjective-camcorder"
    },
    {
      "cell_type": "markdown",
      "metadata": {
        "id": "sticky-flash"
      },
      "source": [
        "The next steps is to define the __loss criterion__ and the __optimizer__ for the network. That is, we have to define the loss function we want to optimize during training and also the optimization method we are going to use, e.g, SGD, etc."
      ],
      "id": "sticky-flash"
    },
    {
      "cell_type": "code",
      "execution_count": null,
      "metadata": {
        "id": "permanent-fancy"
      },
      "outputs": [],
      "source": [
        "# MSE loss\n",
        "criterion = nn.MSELoss(reduction='sum')\n",
        "# SGD optimizer for finding the weights of the network\n",
        "optimizer = torch.optim.SGD(model1.parameters(), lr=1e-4)"
      ],
      "id": "permanent-fancy"
    },
    {
      "cell_type": "markdown",
      "metadata": {
        "id": "individual-gentleman"
      },
      "source": [
        "Now, we are ready to do the training. We can simply do this by a for loop over the number of iterations. The training has 3 main steps:\n",
        "- A forward pass to compute the prediction for the current data point (batch).\n",
        "- computing the loss for the current prediction.\n",
        "- A backward pass to compute the gradient of the loss with respect to the weight of the network.\n",
        "- Finaly, updating the weights of the network (`optimizer.step()`).\n",
        "\n",
        "Note that in each backward pass pytorch saves the gradient for all of the parameters. Therefore it is important to replace the old gradient values with zero in the beggining of each iteration, otherwise the gradients will be accumulated during the iterations!"
      ],
      "id": "individual-gentleman"
    },
    {
      "cell_type": "code",
      "execution_count": null,
      "metadata": {
        "id": "JT_JOfiXhz6W"
      },
      "outputs": [],
      "source": [
        "# we need to normalize the test data with the min and max value\n",
        "# from the training data\n",
        "for col in numeric_data_test.columns:\n",
        "    numeric_data_test[col] = (numeric_data_test[col] - mins[col]) / (maxs[col] - mins[col])"
      ],
      "id": "JT_JOfiXhz6W"
    },
    {
      "cell_type": "code",
      "execution_count": null,
      "metadata": {
        "id": "ISuJYYwkgsbI"
      },
      "outputs": [],
      "source": [
        "# normalize the test data \n",
        "y_test_df = pd.DataFrame(numeric_data_test[\"SalePrice\"])\n",
        "y_test = torch.tensor(y_test_df.values, dtype=torch.float)\n",
        "x_test_df = numeric_data_test[numeric_x_columns]\n",
        "x_test = torch.tensor(x_test_df.values, dtype=torch.float)"
      ],
      "id": "ISuJYYwkgsbI"
    },
    {
      "cell_type": "code",
      "execution_count": null,
      "metadata": {
        "id": "earlier-maximum"
      },
      "outputs": [],
      "source": [
        "losses1 = []\n",
        "losses1_test = []\n",
        "for t in range(500):\n",
        "    y_pred = model1(X_train)\n",
        "    \n",
        "    loss = criterion(y_pred, y_train)\n",
        "    print(t, loss.item())\n",
        "    losses1.append(loss.item())\n",
        "    \n",
        "    if torch.isnan(loss):\n",
        "        break\n",
        "    \n",
        "    optimizer.zero_grad()\n",
        "    loss.backward()\n",
        "    optimizer.step()\n",
        "    # test loss\n",
        "    losses1_test.append(criterion(model1(x_test), y_test).item())"
      ],
      "id": "earlier-maximum"
    },
    {
      "cell_type": "code",
      "execution_count": null,
      "metadata": {
        "id": "KG4HrZFfhXZs"
      },
      "outputs": [],
      "source": [
        "plt.plot(losses1, label=\"training loss\")\n",
        "plt.plot(losses1_test, label=\"test_loss\")\n",
        "plt.ylim(top=70, bottom=0.0)\n",
        "plt.legend()"
      ],
      "id": "KG4HrZFfhXZs"
    },
    {
      "cell_type": "markdown",
      "metadata": {
        "id": "coordinated-mexican"
      },
      "source": [
        "Now let's try a new model with more neurons in the hidden layer."
      ],
      "id": "coordinated-mexican"
    },
    {
      "cell_type": "code",
      "execution_count": null,
      "metadata": {
        "id": "cathedral-exercise"
      },
      "outputs": [],
      "source": [
        "model2 = Net(D_in, 1000, D_out)"
      ],
      "id": "cathedral-exercise"
    },
    {
      "cell_type": "code",
      "execution_count": null,
      "metadata": {
        "id": "exposed-league"
      },
      "outputs": [],
      "source": [
        "# MSE loss\n",
        "criterion = nn.MSELoss(reduction='sum')\n",
        "# SGD optimizer for finding the weights of the network\n",
        "optimizer = torch.optim.SGD(model2.parameters(), lr=1e-4)"
      ],
      "id": "exposed-league"
    },
    {
      "cell_type": "code",
      "execution_count": null,
      "metadata": {
        "id": "operational-paper"
      },
      "outputs": [],
      "source": [
        "losses2 = []\n",
        "\n",
        "for t in range(500):\n",
        "    y_pred = model2(X_train)\n",
        "    \n",
        "    loss = criterion(y_pred, y_train)\n",
        "    # print(t, loss.item())\n",
        "    losses2.append(loss.item())\n",
        "    \n",
        "    if torch.isnan(loss):\n",
        "        break\n",
        "    \n",
        "    optimizer.zero_grad()\n",
        "    loss.backward()\n",
        "    optimizer.step()"
      ],
      "id": "operational-paper"
    },
    {
      "cell_type": "code",
      "execution_count": null,
      "metadata": {
        "id": "extra-consortium"
      },
      "outputs": [],
      "source": [
        "plt.plot(losses1, label=\"model1\")\n",
        "plt.plot(losses2, label=\"model2\")\n",
        "plt.ylim([0, 70])\n",
        "plt.legend()"
      ],
      "id": "extra-consortium"
    },
    {
      "cell_type": "markdown",
      "metadata": {
        "id": "banned-honolulu"
      },
      "source": [
        "Let's compare the MSE loss on the test data"
      ],
      "id": "banned-honolulu"
    },
    {
      "cell_type": "code",
      "execution_count": null,
      "metadata": {
        "id": "parallel-following"
      },
      "outputs": [],
      "source": [
        "# prediction for model 1\n",
        "model1_pred = model1(x_test)\n",
        "print(\"MSE loss for model1: \", criterion(model1_pred, y_test))\n",
        "# prediction for model 2\n",
        "model2_pred = model2(x_test)\n",
        "print(\"MSE loss for model2: \", criterion(model2_pred, y_test))\n"
      ],
      "id": "parallel-following"
    },
    {
      "cell_type": "markdown",
      "metadata": {
        "id": "wrong-corporation"
      },
      "source": [
        "## Now it is your turn!\n",
        "### Exercises\n",
        "\n",
        "1- Let's get back to model1. This time try to train it with a new optimizer. Try the Adam optimizer (which has shown to be faster than SGD for non-convex functions) and compare the trainig loss curve with SGD. Plot the training loss for the model trained with SGD and Adam optimizer.\n",
        "\n",
        "Note1: Use `torch.optim.Adam(model1.parameters(), lr=...)`\n",
        "\n",
        "Note2: If you are interested, check [this nice post](https://ruder.io/optimizing-gradient-descent/index.html) on differen gradient descent optimization algorithms.\n",
        "\n",
        "2- This time we want to build a new model with a new architecture. Specifically, we want to train a network with 3 hidden layers on the data. You can use the following code to build the architecture. Use the values 500, 1000, 200 for H1, H2, and H3 respectively. Train this new network on the same training data and compare it with the model1 we built above.\n",
        "\n",
        "```\n",
        "class Net_new(nn.Module):\n",
        "    def __init__(self, D_in, H1, H2, H3, D_out):\n",
        "        super(Net_new, self).__init__()\n",
        "\n",
        "        self.linear1 = nn.Linear(D_in, H1)\n",
        "        self.linear2 = nn.Linear(H1, H2)\n",
        "        self.linear3 = nn.Linear(H2, H3)\n",
        "        self.linear4 = nn.Linear(H3, D_out)\n",
        "        self.activation = nn.ReLU()\n",
        "\n",
        "    def forward(self, x):\n",
        "        y_pred = self.activation(self.linear1(x))\n",
        "        y_pred = self.activation(self.linear2(y_pred))\n",
        "        y_pred = self.activation(self.linear3(y_pred))\n",
        "        y_pred = self.linear4(y_pred)\n",
        "        return y_pred\n",
        "```"
      ],
      "id": "wrong-corporation"
    },
    {
      "cell_type": "code",
      "execution_count": null,
      "metadata": {
        "id": "respiratory-drink"
      },
      "outputs": [],
      "source": [
        ""
      ],
      "id": "respiratory-drink"
    }
  ],
  "metadata": {
    "colab": {
      "name": "Pytorch_regression.ipynb",
      "provenance": [],
      "include_colab_link": true
    },
    "kernelspec": {
      "display_name": "Python 3",
      "language": "python",
      "name": "python3"
    },
    "language_info": {
      "codemirror_mode": {
        "name": "ipython",
        "version": 3
      },
      "file_extension": ".py",
      "mimetype": "text/x-python",
      "name": "python",
      "nbconvert_exporter": "python",
      "pygments_lexer": "ipython3",
      "version": "3.8.5"
    }
  },
  "nbformat": 4,
  "nbformat_minor": 5
}